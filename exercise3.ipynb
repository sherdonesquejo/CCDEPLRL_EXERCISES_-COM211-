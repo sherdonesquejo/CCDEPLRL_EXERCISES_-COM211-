{
  "nbformat": 4,
  "nbformat_minor": 0,
  "metadata": {
    "colab": {
      "provenance": [],
      "machine_shape": "hm",
      "gpuType": "A100",
      "include_colab_link": true
    },
    "kernelspec": {
      "name": "python3",
      "display_name": "Python 3"
    },
    "language_info": {
      "name": "python"
    },
    "accelerator": "GPU"
  },
  "cells": [
    {
      "cell_type": "markdown",
      "metadata": {
        "id": "view-in-github",
        "colab_type": "text"
      },
      "source": [
        "<a href=\"https://colab.research.google.com/github/sherdonesquejo/CCDEPLRL_EXERCISES_-COM211-/blob/main/exercise3.ipynb\" target=\"_parent\"><img src=\"https://colab.research.google.com/assets/colab-badge.svg\" alt=\"Open In Colab\"/></a>"
      ]
    },
    {
      "cell_type": "markdown",
      "source": [
        "# Exercise 3"
      ],
      "metadata": {
        "id": "NxU0ygcwaZUj"
      }
    },
    {
      "cell_type": "markdown",
      "source": [
        "## Group Members\n",
        "\n",
        "|  Fruit | Members  |   \n",
        "|---|---|\n",
        "| Calamansi | EJ Guevara, Eliezer Cruz |   \n",
        "| Lemon | Shiela Mendoza, Clarence Robedillo, Alliyah Gomez, James Concepcion |   \n",
        "| Grapes | Stephen Lee, Seth Mercado, Alexander Enriquez, Sherdon Esquejo |  \n",
        "| Mango | Celestine Villanueva, Mariel Ollage, Clarence Conde, Marchuzs Cortez |  \n",
        "| Carrot | Russel Castillo |  \n",
        "| Strawberry | Christian Bongao, Stephen Jovillar, Ali Mohamedberhan |  "
      ],
      "metadata": {
        "id": "vb1WadfodYwd"
      }
    },
    {
      "cell_type": "markdown",
      "source": [
        "\n",
        "## Instructions\n",
        "\n",
        "\n",
        "1. Each group will need to collect **100-200 images** of the fruit\n",
        "2. Split the collected images for train, test and validation. Please make sure that there are no duplicate images. Images that are used in train should not appear in test, validation and vice versa.\n",
        "3. Combine the collected images together with the images of apple, orange and banana. They  are already available in the link below: https://github.com/robitussin/tensorflow_lite_projects/tree/main/images/fruits\n",
        "4. Create and train a Convolutional Neural Network (CNN).\n",
        "5. Save the model as **\"model.tflite\"**\n",
        "6. Create a folder named **exercise_3** in your **CCDEPLRL_EXERCISES_COM211_ML** repository.\n",
        "7. Upload the **python notebook (.ipynb)** and the **model (.tflite)** in the exercise_3 folder\n",
        "\n",
        "Note: Each member should upload the notebook and model in their own exercise repository.\n",
        "\n",
        "Deadline of submission is on **May 9, 2024**"
      ],
      "metadata": {
        "id": "VRQ59rhrc8G8"
      }
    },
    {
      "cell_type": "markdown",
      "source": [
        "## Model"
      ],
      "metadata": {
        "id": "h0HEkgqUeBA4"
      }
    },
    {
      "cell_type": "code",
      "execution_count": null,
      "metadata": {
        "id": "8lCi3O2Otp9D"
      },
      "outputs": [],
      "source": [
        "!wget https://bitbucket.org/ishaanjav/code-and-deploy-custom-tensorflow-lite-model/raw/a4febbfee178324b2083e322cdead7465d6fdf95/fruits.zip"
      ]
    },
    {
      "cell_type": "code",
      "source": [
        "!unzip fruits.zip"
      ],
      "metadata": {
        "id": "rsAyVrj8uirw"
      },
      "execution_count": null,
      "outputs": []
    },
    {
      "cell_type": "markdown",
      "source": [
        "Import the libraries"
      ],
      "metadata": {
        "id": "4OlBhkCbb-w6"
      }
    },
    {
      "cell_type": "code",
      "source": [
        "import tensorflow as tf\n",
        "import matplotlib.pyplot as plt"
      ],
      "metadata": {
        "id": "yYCcRf6jumBp"
      },
      "execution_count": null,
      "outputs": []
    },
    {
      "cell_type": "markdown",
      "source": [
        "Hyperparameters: Set the image size and batch size"
      ],
      "metadata": {
        "id": "Jqv5XHN8cBSP"
      }
    },
    {
      "cell_type": "code",
      "source": [
        "img_height, img_width = 32, 32\n",
        "batch_size = 20"
      ],
      "metadata": {
        "id": "aQFCylV5cHWc"
      },
      "execution_count": null,
      "outputs": []
    },
    {
      "cell_type": "markdown",
      "source": [
        "Split the images into train, validation and test"
      ],
      "metadata": {
        "id": "fgjqEvbccOdh"
      }
    },
    {
      "cell_type": "code",
      "source": [
        "train_ds = tf.keras.utils.image_dataset_from_directory(\n",
        "    \"fruits/train\",\n",
        "    image_size = (img_height, img_width),\n",
        "    batch_size = batch_size\n",
        ")\n",
        "val_ds = tf.keras.utils.image_dataset_from_directory(\n",
        "    \"fruits/validation\",\n",
        "    image_size = (img_height, img_width),\n",
        "    batch_size = batch_size\n",
        ")\n",
        "test_ds = tf.keras.utils.image_dataset_from_directory(\n",
        "    \"fruits/test\",\n",
        "    image_size = (img_height, img_width),\n",
        "    batch_size = batch_size\n",
        ")"
      ],
      "metadata": {
        "id": "qHX_Fi2cu7y3"
      },
      "execution_count": null,
      "outputs": []
    },
    {
      "cell_type": "markdown",
      "source": [
        "Display sample images from the dataset"
      ],
      "metadata": {
        "id": "Sjn3c-oAcVsE"
      }
    },
    {
      "cell_type": "code",
      "source": [
        "class_names = [\"apple\", \"banana\", \"orange\"]\n",
        "plt.figure(figsize=(10,10))\n",
        "for images, labels in train_ds.take(1):\n",
        "  for i in range(9):\n",
        "    ax = plt.subplot(3, 3, i + 1)\n",
        "    plt.imshow(images[i].numpy().astype(\"uint8\"))\n",
        "    plt.title(class_names[labels[i]])\n",
        "    plt.axis(\"off\")"
      ],
      "metadata": {
        "id": "oDzXZ6AwvX5f"
      },
      "execution_count": null,
      "outputs": []
    },
    {
      "cell_type": "markdown",
      "source": [
        "Create the Convolutional Neural Network Model (CNN)"
      ],
      "metadata": {
        "id": "cB13kmfecaSb"
      }
    },
    {
      "cell_type": "code",
      "source": [
        "model = tf.keras.Sequential(\n",
        "    [\n",
        "     tf.keras.layers.Rescaling(1./255),\n",
        "     tf.keras.layers.Conv2D(32, 3, activation=\"relu\"),\n",
        "     tf.keras.layers.MaxPooling2D(),\n",
        "     tf.keras.layers.Conv2D(32, 3, activation=\"relu\"),\n",
        "     tf.keras.layers.MaxPooling2D(),\n",
        "     tf.keras.layers.Conv2D(32, 3, activation=\"relu\"),\n",
        "     tf.keras.layers.MaxPooling2D(),\n",
        "     tf.keras.layers.Flatten(),\n",
        "     tf.keras.layers.Dense(128, activation=\"relu\"),\n",
        "     tf.keras.layers.Dense(3)\n",
        "    ]\n",
        ")\n"
      ],
      "metadata": {
        "id": "sKiERvTtwRmf"
      },
      "execution_count": null,
      "outputs": []
    },
    {
      "cell_type": "markdown",
      "source": [
        "Define the optimizer and loss function"
      ],
      "metadata": {
        "id": "WI9iRo88cgHj"
      }
    },
    {
      "cell_type": "code",
      "source": [
        "model.compile(\n",
        "    optimizer=\"adam\",\n",
        "    loss=tf.losses.SparseCategoricalCrossentropy(from_logits = True),\n",
        "    metrics=['accuracy']\n",
        ")"
      ],
      "metadata": {
        "id": "_2qTP0hk3OqK"
      },
      "execution_count": null,
      "outputs": []
    },
    {
      "cell_type": "markdown",
      "source": [
        "Train the model"
      ],
      "metadata": {
        "id": "2YG53Mglckzg"
      }
    },
    {
      "cell_type": "code",
      "source": [
        "model.fit(\n",
        "    train_ds,\n",
        "    validation_data = val_ds,\n",
        "    epochs = 10\n",
        ")"
      ],
      "metadata": {
        "id": "ILi1YyWf3fob"
      },
      "execution_count": null,
      "outputs": []
    },
    {
      "cell_type": "markdown",
      "source": [
        "Test the model"
      ],
      "metadata": {
        "id": "2QnLAR6ocmPQ"
      }
    },
    {
      "cell_type": "code",
      "source": [
        "model.evaluate(test_ds)"
      ],
      "metadata": {
        "id": "AJalZYGa3tKG"
      },
      "execution_count": null,
      "outputs": []
    },
    {
      "cell_type": "code",
      "source": [
        "import numpy\n",
        "\n",
        "plt.figure(figsize=(10,10))\n",
        "for images, labels in test_ds.take(1):\n",
        "  classifications = model(images)\n",
        "  # print(classifications)\n",
        "\n",
        "  for i in range(9):\n",
        "    ax = plt.subplot(3, 3, i + 1)\n",
        "    plt.imshow(images[i].numpy().astype(\"uint8\"))\n",
        "    index = numpy.argmax(classifications[i])\n",
        "    plt.title(\"Pred: \" + class_names[index] + \" | Real: \" + class_names[labels[i]])"
      ],
      "metadata": {
        "id": "AZXzzvArbrR7"
      },
      "execution_count": null,
      "outputs": []
    },
    {
      "cell_type": "markdown",
      "source": [
        "Save the model"
      ],
      "metadata": {
        "id": "H4KuT6kwcpuA"
      }
    },
    {
      "cell_type": "code",
      "source": [
        "converter = tf.lite.TFLiteConverter.from_keras_model(model)\n",
        "tflite_model = converter.convert()\n",
        "\n",
        "with open(\"model.tflite\", 'wb') as f:\n",
        "  f.write(tflite_model)"
      ],
      "metadata": {
        "id": "P8ySxVJubs7Q"
      },
      "execution_count": null,
      "outputs": []
    }
  ]
}