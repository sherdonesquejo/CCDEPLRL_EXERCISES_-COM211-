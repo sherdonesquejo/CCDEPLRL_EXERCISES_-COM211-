{
  "cells": [
    {
      "cell_type": "markdown",
      "metadata": {
        "id": "view-in-github",
        "colab_type": "text"
      },
      "source": [
        "<a href=\"https://colab.research.google.com/github/sherdonesquejo/CCDEPLRL_EXERCISES_-COM211-/blob/main/SQLAdvanced.ipynb\" target=\"_parent\"><img src=\"https://colab.research.google.com/assets/colab-badge.svg\" alt=\"Open In Colab\"/></a>"
      ]
    },
    {
      "cell_type": "markdown",
      "metadata": {
        "id": "5eZHIB7Bjquk"
      },
      "source": [
        "### **Advanced SQL**"
      ]
    },
    {
      "cell_type": "markdown",
      "source": [
        "<font color=\"red\">File access required:</font> In Colab this notebook requires first uploading files **Cities.csv**, **Countries.csv**, **Players.csv**, and **Teams.csv** using the *Files* feature in the left toolbar. If running the notebook on a local computer, simply ensure these files are in the same workspace as the notebook."
      ],
      "metadata": {
        "id": "qfdS5K3uzZ6v"
      }
    },
    {
      "cell_type": "code",
      "source": [
        "!pip install prettytable==0.7.2\n",
        "!pip install ipython-sql"
      ],
      "metadata": {
        "id": "TF06DxYlPQ8e",
        "outputId": "9f0d9c14-dc64-40ea-9b09-a18ac5fb12cc",
        "colab": {
          "base_uri": "https://localhost:8080/",
          "height": 0
        }
      },
      "execution_count": 105,
      "outputs": [
        {
          "output_type": "stream",
          "name": "stdout",
          "text": [
            "Requirement already satisfied: prettytable==0.7.2 in /usr/local/lib/python3.10/dist-packages (0.7.2)\n",
            "Requirement already satisfied: ipython-sql in /usr/local/lib/python3.10/dist-packages (0.5.0)\n",
            "Requirement already satisfied: prettytable in /usr/local/lib/python3.10/dist-packages (from ipython-sql) (0.7.2)\n",
            "Requirement already satisfied: ipython in /usr/local/lib/python3.10/dist-packages (from ipython-sql) (7.34.0)\n",
            "Requirement already satisfied: sqlalchemy>=2.0 in /usr/local/lib/python3.10/dist-packages (from ipython-sql) (2.0.36)\n",
            "Requirement already satisfied: sqlparse in /usr/local/lib/python3.10/dist-packages (from ipython-sql) (0.5.3)\n",
            "Requirement already satisfied: six in /usr/local/lib/python3.10/dist-packages (from ipython-sql) (1.17.0)\n",
            "Requirement already satisfied: ipython-genutils in /usr/local/lib/python3.10/dist-packages (from ipython-sql) (0.2.0)\n",
            "Requirement already satisfied: typing-extensions>=4.6.0 in /usr/local/lib/python3.10/dist-packages (from sqlalchemy>=2.0->ipython-sql) (4.12.2)\n",
            "Requirement already satisfied: greenlet!=0.4.17 in /usr/local/lib/python3.10/dist-packages (from sqlalchemy>=2.0->ipython-sql) (3.1.1)\n",
            "Requirement already satisfied: setuptools>=18.5 in /usr/local/lib/python3.10/dist-packages (from ipython->ipython-sql) (75.1.0)\n",
            "Requirement already satisfied: jedi>=0.16 in /usr/local/lib/python3.10/dist-packages (from ipython->ipython-sql) (0.19.2)\n",
            "Requirement already satisfied: decorator in /usr/local/lib/python3.10/dist-packages (from ipython->ipython-sql) (4.4.2)\n",
            "Requirement already satisfied: pickleshare in /usr/local/lib/python3.10/dist-packages (from ipython->ipython-sql) (0.7.5)\n",
            "Requirement already satisfied: traitlets>=4.2 in /usr/local/lib/python3.10/dist-packages (from ipython->ipython-sql) (5.7.1)\n",
            "Requirement already satisfied: prompt-toolkit!=3.0.0,!=3.0.1,<3.1.0,>=2.0.0 in /usr/local/lib/python3.10/dist-packages (from ipython->ipython-sql) (3.0.48)\n",
            "Requirement already satisfied: pygments in /usr/local/lib/python3.10/dist-packages (from ipython->ipython-sql) (2.18.0)\n",
            "Requirement already satisfied: backcall in /usr/local/lib/python3.10/dist-packages (from ipython->ipython-sql) (0.2.0)\n",
            "Requirement already satisfied: matplotlib-inline in /usr/local/lib/python3.10/dist-packages (from ipython->ipython-sql) (0.1.7)\n",
            "Requirement already satisfied: pexpect>4.3 in /usr/local/lib/python3.10/dist-packages (from ipython->ipython-sql) (4.9.0)\n",
            "Requirement already satisfied: parso<0.9.0,>=0.8.4 in /usr/local/lib/python3.10/dist-packages (from jedi>=0.16->ipython->ipython-sql) (0.8.4)\n",
            "Requirement already satisfied: ptyprocess>=0.5 in /usr/local/lib/python3.10/dist-packages (from pexpect>4.3->ipython->ipython-sql) (0.7.0)\n",
            "Requirement already satisfied: wcwidth in /usr/local/lib/python3.10/dist-packages (from prompt-toolkit!=3.0.0,!=3.0.1,<3.1.0,>=2.0.0->ipython->ipython-sql) (0.2.13)\n"
          ]
        }
      ]
    },
    {
      "cell_type": "code",
      "execution_count": 106,
      "metadata": {
        "id": "koogxEdSjqup",
        "colab": {
          "base_uri": "https://localhost:8080/",
          "height": 0
        },
        "outputId": "3297f0d5-c343-4e17-d9a3-bda891fe03e6"
      },
      "outputs": [
        {
          "output_type": "stream",
          "name": "stdout",
          "text": [
            "The sql extension is already loaded. To reload it, use:\n",
            "  %reload_ext sql\n"
          ]
        }
      ],
      "source": [
        "# Set-up\n",
        "%load_ext sql\n",
        "%sql sqlite://\n",
        "import pandas as pd"
      ]
    },
    {
      "cell_type": "code",
      "execution_count": 107,
      "metadata": {
        "id": "qcK11E4ijquq",
        "colab": {
          "base_uri": "https://localhost:8080/",
          "height": 140
        },
        "outputId": "96be624b-8862-46a9-decb-e885125d875d"
      },
      "outputs": [
        {
          "output_type": "stream",
          "name": "stdout",
          "text": [
            " * sqlite://\n",
            "Done.\n",
            " * sqlite://\n",
            " * sqlite://\n",
            "Done.\n",
            " * sqlite://\n"
          ]
        },
        {
          "output_type": "execute_result",
          "data": {
            "text/plain": [
              "'Persisted countries'"
            ],
            "application/vnd.google.colaboratory.intrinsic+json": {
              "type": "string"
            }
          },
          "metadata": {},
          "execution_count": 107
        }
      ],
      "source": [
        "# Create database tables from CSV files\n",
        "with open('Cities.csv') as f: Cities = pd.read_csv(f, index_col=0)\n",
        "%sql drop table if exists Cities;\n",
        "%sql --persist Cities\n",
        "with open('Countries.csv') as f: Countries = pd.read_csv(f, index_col=0)\n",
        "%sql drop table if exists Countries;\n",
        "%sql --persist Countries"
      ]
    },
    {
      "cell_type": "markdown",
      "metadata": {
        "id": "A4tmZ1Nzjqur"
      },
      "source": [
        "#### Look at sample of Cities and Countries tables"
      ]
    },
    {
      "cell_type": "code",
      "execution_count": 108,
      "metadata": {
        "id": "AWZ1SkEqjqur",
        "colab": {
          "base_uri": "https://localhost:8080/",
          "height": 182
        },
        "outputId": "f467eac8-707d-4e1a-b77c-ce42061b7984"
      },
      "outputs": [
        {
          "output_type": "stream",
          "name": "stdout",
          "text": [
            " * sqlite://\n",
            "Done.\n"
          ]
        },
        {
          "output_type": "execute_result",
          "data": {
            "text/plain": [
              "[('Aalborg', 'Denmark', 57.03, 9.92, 7.52),\n",
              " ('Aberdeen', 'United Kingdom', 57.17, -2.08, 8.1),\n",
              " ('Abisko', 'Sweden', 63.35, 18.83, 0.2),\n",
              " ('Adana', 'Turkey', 36.99, 35.32, 18.67),\n",
              " ('Albacete', 'Spain', 39.0, -1.87, 12.62)]"
            ],
            "text/html": [
              "<table>\n",
              "    <tr>\n",
              "        <th>city</th>\n",
              "        <th>country</th>\n",
              "        <th>latitude</th>\n",
              "        <th>longitude</th>\n",
              "        <th>temperature</th>\n",
              "    </tr>\n",
              "    <tr>\n",
              "        <td>Aalborg</td>\n",
              "        <td>Denmark</td>\n",
              "        <td>57.03</td>\n",
              "        <td>9.92</td>\n",
              "        <td>7.52</td>\n",
              "    </tr>\n",
              "    <tr>\n",
              "        <td>Aberdeen</td>\n",
              "        <td>United Kingdom</td>\n",
              "        <td>57.17</td>\n",
              "        <td>-2.08</td>\n",
              "        <td>8.1</td>\n",
              "    </tr>\n",
              "    <tr>\n",
              "        <td>Abisko</td>\n",
              "        <td>Sweden</td>\n",
              "        <td>63.35</td>\n",
              "        <td>18.83</td>\n",
              "        <td>0.2</td>\n",
              "    </tr>\n",
              "    <tr>\n",
              "        <td>Adana</td>\n",
              "        <td>Turkey</td>\n",
              "        <td>36.99</td>\n",
              "        <td>35.32</td>\n",
              "        <td>18.67</td>\n",
              "    </tr>\n",
              "    <tr>\n",
              "        <td>Albacete</td>\n",
              "        <td>Spain</td>\n",
              "        <td>39.0</td>\n",
              "        <td>-1.87</td>\n",
              "        <td>12.62</td>\n",
              "    </tr>\n",
              "</table>"
            ]
          },
          "metadata": {},
          "execution_count": 108
        }
      ],
      "source": [
        "%%sql\n",
        "select * from Cities limit 5"
      ]
    },
    {
      "cell_type": "code",
      "execution_count": 109,
      "metadata": {
        "id": "tjr1nLb0jqur",
        "colab": {
          "base_uri": "https://localhost:8080/",
          "height": 182
        },
        "outputId": "8861e9db-b702-466d-c167-f371a17608a0"
      },
      "outputs": [
        {
          "output_type": "stream",
          "name": "stdout",
          "text": [
            " * sqlite://\n",
            "Done.\n"
          ]
        },
        {
          "output_type": "execute_result",
          "data": {
            "text/plain": [
              "[('Albania', 2.9, 'no', 'yes'),\n",
              " ('Andorra', 0.07, 'no', 'no'),\n",
              " ('Austria', 8.57, 'yes', 'no'),\n",
              " ('Belarus', 9.48, 'no', 'no'),\n",
              " ('Belgium', 11.37, 'yes', 'yes')]"
            ],
            "text/html": [
              "<table>\n",
              "    <tr>\n",
              "        <th>country</th>\n",
              "        <th>population</th>\n",
              "        <th>EU</th>\n",
              "        <th>coastline</th>\n",
              "    </tr>\n",
              "    <tr>\n",
              "        <td>Albania</td>\n",
              "        <td>2.9</td>\n",
              "        <td>no</td>\n",
              "        <td>yes</td>\n",
              "    </tr>\n",
              "    <tr>\n",
              "        <td>Andorra</td>\n",
              "        <td>0.07</td>\n",
              "        <td>no</td>\n",
              "        <td>no</td>\n",
              "    </tr>\n",
              "    <tr>\n",
              "        <td>Austria</td>\n",
              "        <td>8.57</td>\n",
              "        <td>yes</td>\n",
              "        <td>no</td>\n",
              "    </tr>\n",
              "    <tr>\n",
              "        <td>Belarus</td>\n",
              "        <td>9.48</td>\n",
              "        <td>no</td>\n",
              "        <td>no</td>\n",
              "    </tr>\n",
              "    <tr>\n",
              "        <td>Belgium</td>\n",
              "        <td>11.37</td>\n",
              "        <td>yes</td>\n",
              "        <td>yes</td>\n",
              "    </tr>\n",
              "</table>"
            ]
          },
          "metadata": {},
          "execution_count": 109
        }
      ],
      "source": [
        "%%sql\n",
        "select * from Countries limit 5"
      ]
    },
    {
      "cell_type": "markdown",
      "metadata": {
        "id": "BRqK5W8Zjqus"
      },
      "source": [
        "### Duplicates, table variables"
      ]
    },
    {
      "cell_type": "markdown",
      "metadata": {
        "id": "KKLlcI7hjqut"
      },
      "source": [
        "*Warm-up: Find all cities in the EU with temperature > 15*"
      ]
    },
    {
      "cell_type": "code",
      "execution_count": 110,
      "metadata": {
        "id": "VZ0cZPm1jqut",
        "colab": {
          "base_uri": "https://localhost:8080/",
          "height": 502
        },
        "outputId": "58e3a5c4-1b0e-4c1b-9ab6-ffa6bac7d449"
      },
      "outputs": [
        {
          "output_type": "stream",
          "name": "stdout",
          "text": [
            " * sqlite://\n",
            "Done.\n"
          ]
        },
        {
          "output_type": "execute_result",
          "data": {
            "text/plain": [
              "[('Algeciras',),\n",
              " ('Athens',),\n",
              " ('Badajoz',),\n",
              " ('Barcelona',),\n",
              " ('Bari',),\n",
              " ('Cartagena',),\n",
              " ('Catania',),\n",
              " ('Cosenza',),\n",
              " ('Granada',),\n",
              " ('Huelva',),\n",
              " ('Kalamata',),\n",
              " ('Lisbon',),\n",
              " ('Marbella',),\n",
              " ('Messina',),\n",
              " ('Palermo',),\n",
              " ('Patras',),\n",
              " ('Pescara',),\n",
              " ('Rome',),\n",
              " ('Trikala',),\n",
              " ('Valencia',)]"
            ],
            "text/html": [
              "<table>\n",
              "    <tr>\n",
              "        <th>city</th>\n",
              "    </tr>\n",
              "    <tr>\n",
              "        <td>Algeciras</td>\n",
              "    </tr>\n",
              "    <tr>\n",
              "        <td>Athens</td>\n",
              "    </tr>\n",
              "    <tr>\n",
              "        <td>Badajoz</td>\n",
              "    </tr>\n",
              "    <tr>\n",
              "        <td>Barcelona</td>\n",
              "    </tr>\n",
              "    <tr>\n",
              "        <td>Bari</td>\n",
              "    </tr>\n",
              "    <tr>\n",
              "        <td>Cartagena</td>\n",
              "    </tr>\n",
              "    <tr>\n",
              "        <td>Catania</td>\n",
              "    </tr>\n",
              "    <tr>\n",
              "        <td>Cosenza</td>\n",
              "    </tr>\n",
              "    <tr>\n",
              "        <td>Granada</td>\n",
              "    </tr>\n",
              "    <tr>\n",
              "        <td>Huelva</td>\n",
              "    </tr>\n",
              "    <tr>\n",
              "        <td>Kalamata</td>\n",
              "    </tr>\n",
              "    <tr>\n",
              "        <td>Lisbon</td>\n",
              "    </tr>\n",
              "    <tr>\n",
              "        <td>Marbella</td>\n",
              "    </tr>\n",
              "    <tr>\n",
              "        <td>Messina</td>\n",
              "    </tr>\n",
              "    <tr>\n",
              "        <td>Palermo</td>\n",
              "    </tr>\n",
              "    <tr>\n",
              "        <td>Patras</td>\n",
              "    </tr>\n",
              "    <tr>\n",
              "        <td>Pescara</td>\n",
              "    </tr>\n",
              "    <tr>\n",
              "        <td>Rome</td>\n",
              "    </tr>\n",
              "    <tr>\n",
              "        <td>Trikala</td>\n",
              "    </tr>\n",
              "    <tr>\n",
              "        <td>Valencia</td>\n",
              "    </tr>\n",
              "</table>"
            ]
          },
          "metadata": {},
          "execution_count": 110
        }
      ],
      "source": [
        "%%sql\n",
        "select city\n",
        "from Cities, Countries\n",
        "where Cities.country = Countries.country\n",
        "and EU = 'yes' and temperature > 15"
      ]
    },
    {
      "cell_type": "markdown",
      "metadata": {
        "id": "_tm31oeRjqut"
      },
      "source": [
        "*Modify previous query to return EU countries that have a city with temperature > 15, remove duplicates*"
      ]
    },
    {
      "cell_type": "code",
      "source": [
        "%%sql\n",
        "SELECT DISTINCT Countries.country\n",
        "FROM Cities\n",
        "JOIN Countries ON Cities.country = Countries.country\n",
        "WHERE Countries.EU = 'yes'\n",
        "  AND Cities.temperature > 15;\n"
      ],
      "metadata": {
        "colab": {
          "base_uri": "https://localhost:8080/",
          "height": 161
        },
        "id": "aQgX5PoxRbdq",
        "outputId": "bb468851-57b5-4e9a-a218-ee0b1eb7ae87"
      },
      "execution_count": 111,
      "outputs": [
        {
          "output_type": "stream",
          "name": "stdout",
          "text": [
            " * sqlite://\n",
            "Done.\n"
          ]
        },
        {
          "output_type": "execute_result",
          "data": {
            "text/plain": [
              "[('Greece',), ('Italy',), ('Portugal',), ('Spain',)]"
            ],
            "text/html": [
              "<table>\n",
              "    <tr>\n",
              "        <th>country</th>\n",
              "    </tr>\n",
              "    <tr>\n",
              "        <td>Greece</td>\n",
              "    </tr>\n",
              "    <tr>\n",
              "        <td>Italy</td>\n",
              "    </tr>\n",
              "    <tr>\n",
              "        <td>Portugal</td>\n",
              "    </tr>\n",
              "    <tr>\n",
              "        <td>Spain</td>\n",
              "    </tr>\n",
              "</table>"
            ]
          },
          "metadata": {},
          "execution_count": 111
        }
      ]
    },
    {
      "cell_type": "markdown",
      "metadata": {
        "id": "lC2V2lr4jquu"
      },
      "source": [
        "*Find number of countries that have a city with latitude > 60 (start with country list then fix)*"
      ]
    },
    {
      "cell_type": "code",
      "execution_count": 112,
      "metadata": {
        "id": "zRnnhSRqjquu",
        "colab": {
          "base_uri": "https://localhost:8080/",
          "height": 267
        },
        "outputId": "f7d35375-73c7-40d0-c6bb-da04bd877a5e"
      },
      "outputs": [
        {
          "output_type": "stream",
          "name": "stdout",
          "text": [
            " * sqlite://\n",
            "Done.\n"
          ]
        },
        {
          "output_type": "execute_result",
          "data": {
            "text/plain": [
              "[('Sweden',),\n",
              " ('Norway',),\n",
              " ('Norway',),\n",
              " ('Finland',),\n",
              " ('Sweden',),\n",
              " ('Finland',),\n",
              " ('Finland',),\n",
              " ('Norway',),\n",
              " ('Finland',)]"
            ],
            "text/html": [
              "<table>\n",
              "    <tr>\n",
              "        <th>country</th>\n",
              "    </tr>\n",
              "    <tr>\n",
              "        <td>Sweden</td>\n",
              "    </tr>\n",
              "    <tr>\n",
              "        <td>Norway</td>\n",
              "    </tr>\n",
              "    <tr>\n",
              "        <td>Norway</td>\n",
              "    </tr>\n",
              "    <tr>\n",
              "        <td>Finland</td>\n",
              "    </tr>\n",
              "    <tr>\n",
              "        <td>Sweden</td>\n",
              "    </tr>\n",
              "    <tr>\n",
              "        <td>Finland</td>\n",
              "    </tr>\n",
              "    <tr>\n",
              "        <td>Finland</td>\n",
              "    </tr>\n",
              "    <tr>\n",
              "        <td>Norway</td>\n",
              "    </tr>\n",
              "    <tr>\n",
              "        <td>Finland</td>\n",
              "    </tr>\n",
              "</table>"
            ]
          },
          "metadata": {},
          "execution_count": 112
        }
      ],
      "source": [
        "%%sql\n",
        "select country\n",
        "from Cities\n",
        "where latitude > 60"
      ]
    },
    {
      "cell_type": "markdown",
      "metadata": {
        "id": "had7VC5njquu"
      },
      "source": [
        "*Modify first query to use table variables*"
      ]
    },
    {
      "cell_type": "code",
      "source": [
        "%%sql\n",
        "SELECT COUNT(DISTINCT ctry.country) AS num_countries\n",
        "FROM Cities cty\n",
        "JOIN Countries ctry ON cty.country = ctry.country\n",
        "WHERE cty.latitude > 60;"
      ],
      "metadata": {
        "colab": {
          "base_uri": "https://localhost:8080/",
          "height": 96
        },
        "id": "1wVLkwppSmLu",
        "outputId": "f0b51486-7e0f-46f0-abf7-307efeeffffb"
      },
      "execution_count": 113,
      "outputs": [
        {
          "output_type": "stream",
          "name": "stdout",
          "text": [
            " * sqlite://\n",
            "Done.\n"
          ]
        },
        {
          "output_type": "execute_result",
          "data": {
            "text/plain": [
              "[(3,)]"
            ],
            "text/html": [
              "<table>\n",
              "    <tr>\n",
              "        <th>num_countries</th>\n",
              "    </tr>\n",
              "    <tr>\n",
              "        <td>3</td>\n",
              "    </tr>\n",
              "</table>"
            ]
          },
          "metadata": {},
          "execution_count": 113
        }
      ]
    },
    {
      "cell_type": "code",
      "execution_count": 114,
      "metadata": {
        "id": "xsa-rlY3jquv",
        "colab": {
          "base_uri": "https://localhost:8080/",
          "height": 502
        },
        "outputId": "f7cfe352-ba12-47c5-bc5f-eeaf4f852945"
      },
      "outputs": [
        {
          "output_type": "stream",
          "name": "stdout",
          "text": [
            " * sqlite://\n",
            "Done.\n"
          ]
        },
        {
          "output_type": "execute_result",
          "data": {
            "text/plain": [
              "[('Algeciras',),\n",
              " ('Athens',),\n",
              " ('Badajoz',),\n",
              " ('Barcelona',),\n",
              " ('Bari',),\n",
              " ('Cartagena',),\n",
              " ('Catania',),\n",
              " ('Cosenza',),\n",
              " ('Granada',),\n",
              " ('Huelva',),\n",
              " ('Kalamata',),\n",
              " ('Lisbon',),\n",
              " ('Marbella',),\n",
              " ('Messina',),\n",
              " ('Palermo',),\n",
              " ('Patras',),\n",
              " ('Pescara',),\n",
              " ('Rome',),\n",
              " ('Trikala',),\n",
              " ('Valencia',)]"
            ],
            "text/html": [
              "<table>\n",
              "    <tr>\n",
              "        <th>city</th>\n",
              "    </tr>\n",
              "    <tr>\n",
              "        <td>Algeciras</td>\n",
              "    </tr>\n",
              "    <tr>\n",
              "        <td>Athens</td>\n",
              "    </tr>\n",
              "    <tr>\n",
              "        <td>Badajoz</td>\n",
              "    </tr>\n",
              "    <tr>\n",
              "        <td>Barcelona</td>\n",
              "    </tr>\n",
              "    <tr>\n",
              "        <td>Bari</td>\n",
              "    </tr>\n",
              "    <tr>\n",
              "        <td>Cartagena</td>\n",
              "    </tr>\n",
              "    <tr>\n",
              "        <td>Catania</td>\n",
              "    </tr>\n",
              "    <tr>\n",
              "        <td>Cosenza</td>\n",
              "    </tr>\n",
              "    <tr>\n",
              "        <td>Granada</td>\n",
              "    </tr>\n",
              "    <tr>\n",
              "        <td>Huelva</td>\n",
              "    </tr>\n",
              "    <tr>\n",
              "        <td>Kalamata</td>\n",
              "    </tr>\n",
              "    <tr>\n",
              "        <td>Lisbon</td>\n",
              "    </tr>\n",
              "    <tr>\n",
              "        <td>Marbella</td>\n",
              "    </tr>\n",
              "    <tr>\n",
              "        <td>Messina</td>\n",
              "    </tr>\n",
              "    <tr>\n",
              "        <td>Palermo</td>\n",
              "    </tr>\n",
              "    <tr>\n",
              "        <td>Patras</td>\n",
              "    </tr>\n",
              "    <tr>\n",
              "        <td>Pescara</td>\n",
              "    </tr>\n",
              "    <tr>\n",
              "        <td>Rome</td>\n",
              "    </tr>\n",
              "    <tr>\n",
              "        <td>Trikala</td>\n",
              "    </tr>\n",
              "    <tr>\n",
              "        <td>Valencia</td>\n",
              "    </tr>\n",
              "</table>"
            ]
          },
          "metadata": {},
          "execution_count": 114
        }
      ],
      "source": [
        "%%sql\n",
        "select city\n",
        "from Cities, Countries\n",
        "where Cities.country = Countries.country\n",
        "and EU = 'yes' and temperature > 15"
      ]
    },
    {
      "cell_type": "markdown",
      "metadata": {
        "id": "PUJo_O7pjquv"
      },
      "source": [
        "*Find all pairs of cities with the same longitude; return the city pairs and their (shared) longitude - notice what's wrong and fix it*"
      ]
    },
    {
      "cell_type": "code",
      "execution_count": 115,
      "metadata": {
        "id": "tUp3_F7tjquv",
        "colab": {
          "base_uri": "https://localhost:8080/",
          "height": 203
        },
        "collapsed": true,
        "outputId": "1babb4ef-474f-472f-d7c3-f3478cd93ef6"
      },
      "outputs": [
        {
          "output_type": "stream",
          "name": "stdout",
          "text": [
            " * sqlite://\n",
            "Done.\n"
          ]
        },
        {
          "output_type": "execute_result",
          "data": {
            "text/plain": [
              "[('Burgos', 'Madrid', -3.68),\n",
              " ('Craiova', 'Hrodna', 23.83),\n",
              " ('Hrodna', 'Craiova', 23.83),\n",
              " ('Maastricht', 'Stavanger', 5.68),\n",
              " ('Madrid', 'Burgos', -3.68),\n",
              " ('Stavanger', 'Maastricht', 5.68)]"
            ],
            "text/html": [
              "<table>\n",
              "    <tr>\n",
              "        <th>city</th>\n",
              "        <th>city_1</th>\n",
              "        <th>longitude</th>\n",
              "    </tr>\n",
              "    <tr>\n",
              "        <td>Burgos</td>\n",
              "        <td>Madrid</td>\n",
              "        <td>-3.68</td>\n",
              "    </tr>\n",
              "    <tr>\n",
              "        <td>Craiova</td>\n",
              "        <td>Hrodna</td>\n",
              "        <td>23.83</td>\n",
              "    </tr>\n",
              "    <tr>\n",
              "        <td>Hrodna</td>\n",
              "        <td>Craiova</td>\n",
              "        <td>23.83</td>\n",
              "    </tr>\n",
              "    <tr>\n",
              "        <td>Maastricht</td>\n",
              "        <td>Stavanger</td>\n",
              "        <td>5.68</td>\n",
              "    </tr>\n",
              "    <tr>\n",
              "        <td>Madrid</td>\n",
              "        <td>Burgos</td>\n",
              "        <td>-3.68</td>\n",
              "    </tr>\n",
              "    <tr>\n",
              "        <td>Stavanger</td>\n",
              "        <td>Maastricht</td>\n",
              "        <td>5.68</td>\n",
              "    </tr>\n",
              "</table>"
            ]
          },
          "metadata": {},
          "execution_count": 115
        }
      ],
      "source": [
        "%%sql\n",
        "SELECT C1.city, C2.city, C1.longitude\n",
        "FROM Cities C1, Cities C2\n",
        "WHERE C1.longitude = C2.longitude\n",
        "  AND C1.city != C2.city;\n"
      ]
    },
    {
      "cell_type": "markdown",
      "metadata": {
        "id": "-OvEq0MRjquv"
      },
      "source": [
        "*Find all pairs of cities that are near each other, i.e., longitude and latitude are both less than 0.5 apart; return city pairs*"
      ]
    },
    {
      "cell_type": "code",
      "execution_count": 116,
      "metadata": {
        "id": "WrUON7nyjquw",
        "colab": {
          "base_uri": "https://localhost:8080/",
          "height": 246
        },
        "outputId": "36a4ba7b-e78c-452d-a4c9-1d5e3a4a3fd3"
      },
      "outputs": [
        {
          "output_type": "stream",
          "name": "stdout",
          "text": [
            " * sqlite://\n",
            "Done.\n"
          ]
        },
        {
          "output_type": "execute_result",
          "data": {
            "text/plain": [
              "[('Adana', 'Tarsus'),\n",
              " ('Ancona', 'Sarajevo'),\n",
              " ('Basel', 'Freiburg'),\n",
              " ('Basel', 'Mulhouse'),\n",
              " ('Bergamo', 'Milan'),\n",
              " ('Cartagena', 'Murcia'),\n",
              " ('Heidelberg', 'Karlsruhe'),\n",
              " ('Horlivka', 'Makiyivka')]"
            ],
            "text/html": [
              "<table>\n",
              "    <tr>\n",
              "        <th>city</th>\n",
              "        <th>city_1</th>\n",
              "    </tr>\n",
              "    <tr>\n",
              "        <td>Adana</td>\n",
              "        <td>Tarsus</td>\n",
              "    </tr>\n",
              "    <tr>\n",
              "        <td>Ancona</td>\n",
              "        <td>Sarajevo</td>\n",
              "    </tr>\n",
              "    <tr>\n",
              "        <td>Basel</td>\n",
              "        <td>Freiburg</td>\n",
              "    </tr>\n",
              "    <tr>\n",
              "        <td>Basel</td>\n",
              "        <td>Mulhouse</td>\n",
              "    </tr>\n",
              "    <tr>\n",
              "        <td>Bergamo</td>\n",
              "        <td>Milan</td>\n",
              "    </tr>\n",
              "    <tr>\n",
              "        <td>Cartagena</td>\n",
              "        <td>Murcia</td>\n",
              "    </tr>\n",
              "    <tr>\n",
              "        <td>Heidelberg</td>\n",
              "        <td>Karlsruhe</td>\n",
              "    </tr>\n",
              "    <tr>\n",
              "        <td>Horlivka</td>\n",
              "        <td>Makiyivka</td>\n",
              "    </tr>\n",
              "</table>"
            ]
          },
          "metadata": {},
          "execution_count": 116
        }
      ],
      "source": [
        "%%sql\n",
        "select C1.city, C2.city\n",
        "from Cities C1, Cities C2\n",
        "where abs(C1.longitude - C2.longitude) < .5\n",
        "and abs(C1.latitude - C2.latitude) < .5\n",
        "and C1.city < C2.city"
      ]
    },
    {
      "cell_type": "markdown",
      "metadata": {
        "id": "fRSjt5iPjquw"
      },
      "source": [
        "### <font color = 'green'>**Your Turn**</font>"
      ]
    },
    {
      "cell_type": "markdown",
      "metadata": {
        "collapsed": true,
        "id": "b1xuaM5Jjquw"
      },
      "source": [
        "*Find all pairs of cities with the same temperature. Return the city pairs along with their shared temperature. What do you think about the data after seeing the answer?*"
      ]
    },
    {
      "cell_type": "code",
      "execution_count": 117,
      "metadata": {
        "id": "nnAU0sTsjquw",
        "colab": {
          "base_uri": "https://localhost:8080/",
          "height": 1955
        },
        "collapsed": true,
        "outputId": "4189818d-77a2-4d1d-d108-49f28a3b9121"
      },
      "outputs": [
        {
          "output_type": "stream",
          "name": "stdout",
          "text": [
            " * sqlite://\n",
            "Done.\n"
          ]
        },
        {
          "output_type": "execute_result",
          "data": {
            "text/plain": [
              "[('Andorra', 'Sarajevo', 9.6),\n",
              " ('Augsburg', 'Innsbruck', 4.54),\n",
              " ('Baia Mare', 'Debrecen', 8.87),\n",
              " ('Balti', 'Botosani', 8.23),\n",
              " ('Basel', 'Elblag', 6.68),\n",
              " ('Basel', 'Freiburg', 6.68),\n",
              " ('Basel', 'Mulhouse', 6.68),\n",
              " ('Basel', 'Zurich', 6.68),\n",
              " ('Bialystok', 'Hrodna', 6.07),\n",
              " ('Bonn', 'Maastricht', 8.63),\n",
              " ('Botosani', 'Balti', 8.23),\n",
              " ('Bratislava', 'Brugge', 9.65),\n",
              " ('Bratislava', 'Gyor', 9.65),\n",
              " ('Bratislava', 'Lille', 9.65),\n",
              " ('Brno', 'Vienna', 7.86),\n",
              " ('Brugge', 'Bratislava', 9.65),\n",
              " ('Brugge', 'Gyor', 9.65),\n",
              " ('Brugge', 'Lille', 9.65),\n",
              " ('Bucharest', 'Le Mans', 10.59),\n",
              " ('Bucharest', 'Ruse', 10.59),\n",
              " ('Bytom', 'Ostrava', 7.66),\n",
              " ('Chemnitz', 'Prague', 8.05),\n",
              " ('Chemnitz', 'Sivas', 8.05),\n",
              " ('Chisinau', 'Glasgow', 8.6),\n",
              " ('Craiova', 'Pleven', 10.51),\n",
              " ('Daugavpils', 'Vilnius', 5.38),\n",
              " ('Debrecen', 'Baia Mare', 8.87),\n",
              " ('Edinburgh', 'Kremenchuk', 7.43),\n",
              " ('Edirne', 'Stara Zagora', 10.9),\n",
              " ('Elblag', 'Basel', 6.68),\n",
              " ('Elblag', 'Freiburg', 6.68),\n",
              " ('Elblag', 'Mulhouse', 6.68),\n",
              " ('Elblag', 'Zurich', 6.68),\n",
              " ('Eskisehir', 'Montpellier', 11.11),\n",
              " ('Freiburg', 'Basel', 6.68),\n",
              " ('Freiburg', 'Elblag', 6.68),\n",
              " ('Freiburg', 'Mulhouse', 6.68),\n",
              " ('Freiburg', 'Zurich', 6.68),\n",
              " ('Geneva', 'Grenoble', 8.4),\n",
              " ('Glasgow', 'Chisinau', 8.6),\n",
              " ('Grenoble', 'Geneva', 8.4),\n",
              " ('Gyor', 'Bratislava', 9.65),\n",
              " ('Gyor', 'Brugge', 9.65),\n",
              " ('Gyor', 'Lille', 9.65),\n",
              " ('Hrodna', 'Bialystok', 6.07),\n",
              " ('Innsbruck', 'Augsburg', 4.54),\n",
              " ('Karlsruhe', 'Metz', 8.88),\n",
              " ('Koszalin', 'Odense', 7.73),\n",
              " ('Kremenchuk', 'Edinburgh', 7.43),\n",
              " ('Le Mans', 'Bucharest', 10.59),\n",
              " ('Le Mans', 'Ruse', 10.59),\n",
              " ('Lille', 'Bratislava', 9.65),\n",
              " ('Lille', 'Brugge', 9.65),\n",
              " ('Lille', 'Gyor', 9.65),\n",
              " ('Ljubljana', 'Rijeka', 9.27),\n",
              " ('Maastricht', 'Bonn', 8.63),\n",
              " ('Manisa', 'Rome', 15.1),\n",
              " ('Metz', 'Karlsruhe', 8.88),\n",
              " ('Montpellier', 'Eskisehir', 11.11),\n",
              " ('Mulhouse', 'Basel', 6.68),\n",
              " ('Mulhouse', 'Elblag', 6.68),\n",
              " ('Mulhouse', 'Freiburg', 6.68),\n",
              " ('Mulhouse', 'Zurich', 6.68),\n",
              " ('Nis', 'Skopje', 9.36),\n",
              " ('Novi Sad', 'Szeged', 10.34),\n",
              " ('Odense', 'Koszalin', 7.73),\n",
              " ('Ostrava', 'Bytom', 7.66),\n",
              " ('Pleven', 'Craiova', 10.51),\n",
              " ('Prague', 'Chemnitz', 8.05),\n",
              " ('Prague', 'Sivas', 8.05),\n",
              " ('Rijeka', 'Ljubljana', 9.27),\n",
              " ('Rome', 'Manisa', 15.1),\n",
              " ('Ruse', 'Bucharest', 10.59),\n",
              " ('Ruse', 'Le Mans', 10.59),\n",
              " ('Sarajevo', 'Andorra', 9.6),\n",
              " ('Sivas', 'Chemnitz', 8.05),\n",
              " ('Sivas', 'Prague', 8.05),\n",
              " ('Skopje', 'Nis', 9.36),\n",
              " ('Stara Zagora', 'Edirne', 10.9),\n",
              " ('Szeged', 'Novi Sad', 10.34),\n",
              " ('Tarsus', 'Trieste', 11.21),\n",
              " ('Trieste', 'Tarsus', 11.21),\n",
              " ('Vienna', 'Brno', 7.86),\n",
              " ('Vilnius', 'Daugavpils', 5.38),\n",
              " ('Zurich', 'Basel', 6.68),\n",
              " ('Zurich', 'Elblag', 6.68),\n",
              " ('Zurich', 'Freiburg', 6.68),\n",
              " ('Zurich', 'Mulhouse', 6.68)]"
            ],
            "text/html": [
              "<table>\n",
              "    <tr>\n",
              "        <th>city</th>\n",
              "        <th>city_1</th>\n",
              "        <th>temperature</th>\n",
              "    </tr>\n",
              "    <tr>\n",
              "        <td>Andorra</td>\n",
              "        <td>Sarajevo</td>\n",
              "        <td>9.6</td>\n",
              "    </tr>\n",
              "    <tr>\n",
              "        <td>Augsburg</td>\n",
              "        <td>Innsbruck</td>\n",
              "        <td>4.54</td>\n",
              "    </tr>\n",
              "    <tr>\n",
              "        <td>Baia Mare</td>\n",
              "        <td>Debrecen</td>\n",
              "        <td>8.87</td>\n",
              "    </tr>\n",
              "    <tr>\n",
              "        <td>Balti</td>\n",
              "        <td>Botosani</td>\n",
              "        <td>8.23</td>\n",
              "    </tr>\n",
              "    <tr>\n",
              "        <td>Basel</td>\n",
              "        <td>Elblag</td>\n",
              "        <td>6.68</td>\n",
              "    </tr>\n",
              "    <tr>\n",
              "        <td>Basel</td>\n",
              "        <td>Freiburg</td>\n",
              "        <td>6.68</td>\n",
              "    </tr>\n",
              "    <tr>\n",
              "        <td>Basel</td>\n",
              "        <td>Mulhouse</td>\n",
              "        <td>6.68</td>\n",
              "    </tr>\n",
              "    <tr>\n",
              "        <td>Basel</td>\n",
              "        <td>Zurich</td>\n",
              "        <td>6.68</td>\n",
              "    </tr>\n",
              "    <tr>\n",
              "        <td>Bialystok</td>\n",
              "        <td>Hrodna</td>\n",
              "        <td>6.07</td>\n",
              "    </tr>\n",
              "    <tr>\n",
              "        <td>Bonn</td>\n",
              "        <td>Maastricht</td>\n",
              "        <td>8.63</td>\n",
              "    </tr>\n",
              "    <tr>\n",
              "        <td>Botosani</td>\n",
              "        <td>Balti</td>\n",
              "        <td>8.23</td>\n",
              "    </tr>\n",
              "    <tr>\n",
              "        <td>Bratislava</td>\n",
              "        <td>Brugge</td>\n",
              "        <td>9.65</td>\n",
              "    </tr>\n",
              "    <tr>\n",
              "        <td>Bratislava</td>\n",
              "        <td>Gyor</td>\n",
              "        <td>9.65</td>\n",
              "    </tr>\n",
              "    <tr>\n",
              "        <td>Bratislava</td>\n",
              "        <td>Lille</td>\n",
              "        <td>9.65</td>\n",
              "    </tr>\n",
              "    <tr>\n",
              "        <td>Brno</td>\n",
              "        <td>Vienna</td>\n",
              "        <td>7.86</td>\n",
              "    </tr>\n",
              "    <tr>\n",
              "        <td>Brugge</td>\n",
              "        <td>Bratislava</td>\n",
              "        <td>9.65</td>\n",
              "    </tr>\n",
              "    <tr>\n",
              "        <td>Brugge</td>\n",
              "        <td>Gyor</td>\n",
              "        <td>9.65</td>\n",
              "    </tr>\n",
              "    <tr>\n",
              "        <td>Brugge</td>\n",
              "        <td>Lille</td>\n",
              "        <td>9.65</td>\n",
              "    </tr>\n",
              "    <tr>\n",
              "        <td>Bucharest</td>\n",
              "        <td>Le Mans</td>\n",
              "        <td>10.59</td>\n",
              "    </tr>\n",
              "    <tr>\n",
              "        <td>Bucharest</td>\n",
              "        <td>Ruse</td>\n",
              "        <td>10.59</td>\n",
              "    </tr>\n",
              "    <tr>\n",
              "        <td>Bytom</td>\n",
              "        <td>Ostrava</td>\n",
              "        <td>7.66</td>\n",
              "    </tr>\n",
              "    <tr>\n",
              "        <td>Chemnitz</td>\n",
              "        <td>Prague</td>\n",
              "        <td>8.05</td>\n",
              "    </tr>\n",
              "    <tr>\n",
              "        <td>Chemnitz</td>\n",
              "        <td>Sivas</td>\n",
              "        <td>8.05</td>\n",
              "    </tr>\n",
              "    <tr>\n",
              "        <td>Chisinau</td>\n",
              "        <td>Glasgow</td>\n",
              "        <td>8.6</td>\n",
              "    </tr>\n",
              "    <tr>\n",
              "        <td>Craiova</td>\n",
              "        <td>Pleven</td>\n",
              "        <td>10.51</td>\n",
              "    </tr>\n",
              "    <tr>\n",
              "        <td>Daugavpils</td>\n",
              "        <td>Vilnius</td>\n",
              "        <td>5.38</td>\n",
              "    </tr>\n",
              "    <tr>\n",
              "        <td>Debrecen</td>\n",
              "        <td>Baia Mare</td>\n",
              "        <td>8.87</td>\n",
              "    </tr>\n",
              "    <tr>\n",
              "        <td>Edinburgh</td>\n",
              "        <td>Kremenchuk</td>\n",
              "        <td>7.43</td>\n",
              "    </tr>\n",
              "    <tr>\n",
              "        <td>Edirne</td>\n",
              "        <td>Stara Zagora</td>\n",
              "        <td>10.9</td>\n",
              "    </tr>\n",
              "    <tr>\n",
              "        <td>Elblag</td>\n",
              "        <td>Basel</td>\n",
              "        <td>6.68</td>\n",
              "    </tr>\n",
              "    <tr>\n",
              "        <td>Elblag</td>\n",
              "        <td>Freiburg</td>\n",
              "        <td>6.68</td>\n",
              "    </tr>\n",
              "    <tr>\n",
              "        <td>Elblag</td>\n",
              "        <td>Mulhouse</td>\n",
              "        <td>6.68</td>\n",
              "    </tr>\n",
              "    <tr>\n",
              "        <td>Elblag</td>\n",
              "        <td>Zurich</td>\n",
              "        <td>6.68</td>\n",
              "    </tr>\n",
              "    <tr>\n",
              "        <td>Eskisehir</td>\n",
              "        <td>Montpellier</td>\n",
              "        <td>11.11</td>\n",
              "    </tr>\n",
              "    <tr>\n",
              "        <td>Freiburg</td>\n",
              "        <td>Basel</td>\n",
              "        <td>6.68</td>\n",
              "    </tr>\n",
              "    <tr>\n",
              "        <td>Freiburg</td>\n",
              "        <td>Elblag</td>\n",
              "        <td>6.68</td>\n",
              "    </tr>\n",
              "    <tr>\n",
              "        <td>Freiburg</td>\n",
              "        <td>Mulhouse</td>\n",
              "        <td>6.68</td>\n",
              "    </tr>\n",
              "    <tr>\n",
              "        <td>Freiburg</td>\n",
              "        <td>Zurich</td>\n",
              "        <td>6.68</td>\n",
              "    </tr>\n",
              "    <tr>\n",
              "        <td>Geneva</td>\n",
              "        <td>Grenoble</td>\n",
              "        <td>8.4</td>\n",
              "    </tr>\n",
              "    <tr>\n",
              "        <td>Glasgow</td>\n",
              "        <td>Chisinau</td>\n",
              "        <td>8.6</td>\n",
              "    </tr>\n",
              "    <tr>\n",
              "        <td>Grenoble</td>\n",
              "        <td>Geneva</td>\n",
              "        <td>8.4</td>\n",
              "    </tr>\n",
              "    <tr>\n",
              "        <td>Gyor</td>\n",
              "        <td>Bratislava</td>\n",
              "        <td>9.65</td>\n",
              "    </tr>\n",
              "    <tr>\n",
              "        <td>Gyor</td>\n",
              "        <td>Brugge</td>\n",
              "        <td>9.65</td>\n",
              "    </tr>\n",
              "    <tr>\n",
              "        <td>Gyor</td>\n",
              "        <td>Lille</td>\n",
              "        <td>9.65</td>\n",
              "    </tr>\n",
              "    <tr>\n",
              "        <td>Hrodna</td>\n",
              "        <td>Bialystok</td>\n",
              "        <td>6.07</td>\n",
              "    </tr>\n",
              "    <tr>\n",
              "        <td>Innsbruck</td>\n",
              "        <td>Augsburg</td>\n",
              "        <td>4.54</td>\n",
              "    </tr>\n",
              "    <tr>\n",
              "        <td>Karlsruhe</td>\n",
              "        <td>Metz</td>\n",
              "        <td>8.88</td>\n",
              "    </tr>\n",
              "    <tr>\n",
              "        <td>Koszalin</td>\n",
              "        <td>Odense</td>\n",
              "        <td>7.73</td>\n",
              "    </tr>\n",
              "    <tr>\n",
              "        <td>Kremenchuk</td>\n",
              "        <td>Edinburgh</td>\n",
              "        <td>7.43</td>\n",
              "    </tr>\n",
              "    <tr>\n",
              "        <td>Le Mans</td>\n",
              "        <td>Bucharest</td>\n",
              "        <td>10.59</td>\n",
              "    </tr>\n",
              "    <tr>\n",
              "        <td>Le Mans</td>\n",
              "        <td>Ruse</td>\n",
              "        <td>10.59</td>\n",
              "    </tr>\n",
              "    <tr>\n",
              "        <td>Lille</td>\n",
              "        <td>Bratislava</td>\n",
              "        <td>9.65</td>\n",
              "    </tr>\n",
              "    <tr>\n",
              "        <td>Lille</td>\n",
              "        <td>Brugge</td>\n",
              "        <td>9.65</td>\n",
              "    </tr>\n",
              "    <tr>\n",
              "        <td>Lille</td>\n",
              "        <td>Gyor</td>\n",
              "        <td>9.65</td>\n",
              "    </tr>\n",
              "    <tr>\n",
              "        <td>Ljubljana</td>\n",
              "        <td>Rijeka</td>\n",
              "        <td>9.27</td>\n",
              "    </tr>\n",
              "    <tr>\n",
              "        <td>Maastricht</td>\n",
              "        <td>Bonn</td>\n",
              "        <td>8.63</td>\n",
              "    </tr>\n",
              "    <tr>\n",
              "        <td>Manisa</td>\n",
              "        <td>Rome</td>\n",
              "        <td>15.1</td>\n",
              "    </tr>\n",
              "    <tr>\n",
              "        <td>Metz</td>\n",
              "        <td>Karlsruhe</td>\n",
              "        <td>8.88</td>\n",
              "    </tr>\n",
              "    <tr>\n",
              "        <td>Montpellier</td>\n",
              "        <td>Eskisehir</td>\n",
              "        <td>11.11</td>\n",
              "    </tr>\n",
              "    <tr>\n",
              "        <td>Mulhouse</td>\n",
              "        <td>Basel</td>\n",
              "        <td>6.68</td>\n",
              "    </tr>\n",
              "    <tr>\n",
              "        <td>Mulhouse</td>\n",
              "        <td>Elblag</td>\n",
              "        <td>6.68</td>\n",
              "    </tr>\n",
              "    <tr>\n",
              "        <td>Mulhouse</td>\n",
              "        <td>Freiburg</td>\n",
              "        <td>6.68</td>\n",
              "    </tr>\n",
              "    <tr>\n",
              "        <td>Mulhouse</td>\n",
              "        <td>Zurich</td>\n",
              "        <td>6.68</td>\n",
              "    </tr>\n",
              "    <tr>\n",
              "        <td>Nis</td>\n",
              "        <td>Skopje</td>\n",
              "        <td>9.36</td>\n",
              "    </tr>\n",
              "    <tr>\n",
              "        <td>Novi Sad</td>\n",
              "        <td>Szeged</td>\n",
              "        <td>10.34</td>\n",
              "    </tr>\n",
              "    <tr>\n",
              "        <td>Odense</td>\n",
              "        <td>Koszalin</td>\n",
              "        <td>7.73</td>\n",
              "    </tr>\n",
              "    <tr>\n",
              "        <td>Ostrava</td>\n",
              "        <td>Bytom</td>\n",
              "        <td>7.66</td>\n",
              "    </tr>\n",
              "    <tr>\n",
              "        <td>Pleven</td>\n",
              "        <td>Craiova</td>\n",
              "        <td>10.51</td>\n",
              "    </tr>\n",
              "    <tr>\n",
              "        <td>Prague</td>\n",
              "        <td>Chemnitz</td>\n",
              "        <td>8.05</td>\n",
              "    </tr>\n",
              "    <tr>\n",
              "        <td>Prague</td>\n",
              "        <td>Sivas</td>\n",
              "        <td>8.05</td>\n",
              "    </tr>\n",
              "    <tr>\n",
              "        <td>Rijeka</td>\n",
              "        <td>Ljubljana</td>\n",
              "        <td>9.27</td>\n",
              "    </tr>\n",
              "    <tr>\n",
              "        <td>Rome</td>\n",
              "        <td>Manisa</td>\n",
              "        <td>15.1</td>\n",
              "    </tr>\n",
              "    <tr>\n",
              "        <td>Ruse</td>\n",
              "        <td>Bucharest</td>\n",
              "        <td>10.59</td>\n",
              "    </tr>\n",
              "    <tr>\n",
              "        <td>Ruse</td>\n",
              "        <td>Le Mans</td>\n",
              "        <td>10.59</td>\n",
              "    </tr>\n",
              "    <tr>\n",
              "        <td>Sarajevo</td>\n",
              "        <td>Andorra</td>\n",
              "        <td>9.6</td>\n",
              "    </tr>\n",
              "    <tr>\n",
              "        <td>Sivas</td>\n",
              "        <td>Chemnitz</td>\n",
              "        <td>8.05</td>\n",
              "    </tr>\n",
              "    <tr>\n",
              "        <td>Sivas</td>\n",
              "        <td>Prague</td>\n",
              "        <td>8.05</td>\n",
              "    </tr>\n",
              "    <tr>\n",
              "        <td>Skopje</td>\n",
              "        <td>Nis</td>\n",
              "        <td>9.36</td>\n",
              "    </tr>\n",
              "    <tr>\n",
              "        <td>Stara Zagora</td>\n",
              "        <td>Edirne</td>\n",
              "        <td>10.9</td>\n",
              "    </tr>\n",
              "    <tr>\n",
              "        <td>Szeged</td>\n",
              "        <td>Novi Sad</td>\n",
              "        <td>10.34</td>\n",
              "    </tr>\n",
              "    <tr>\n",
              "        <td>Tarsus</td>\n",
              "        <td>Trieste</td>\n",
              "        <td>11.21</td>\n",
              "    </tr>\n",
              "    <tr>\n",
              "        <td>Trieste</td>\n",
              "        <td>Tarsus</td>\n",
              "        <td>11.21</td>\n",
              "    </tr>\n",
              "    <tr>\n",
              "        <td>Vienna</td>\n",
              "        <td>Brno</td>\n",
              "        <td>7.86</td>\n",
              "    </tr>\n",
              "    <tr>\n",
              "        <td>Vilnius</td>\n",
              "        <td>Daugavpils</td>\n",
              "        <td>5.38</td>\n",
              "    </tr>\n",
              "    <tr>\n",
              "        <td>Zurich</td>\n",
              "        <td>Basel</td>\n",
              "        <td>6.68</td>\n",
              "    </tr>\n",
              "    <tr>\n",
              "        <td>Zurich</td>\n",
              "        <td>Elblag</td>\n",
              "        <td>6.68</td>\n",
              "    </tr>\n",
              "    <tr>\n",
              "        <td>Zurich</td>\n",
              "        <td>Freiburg</td>\n",
              "        <td>6.68</td>\n",
              "    </tr>\n",
              "    <tr>\n",
              "        <td>Zurich</td>\n",
              "        <td>Mulhouse</td>\n",
              "        <td>6.68</td>\n",
              "    </tr>\n",
              "</table>"
            ]
          },
          "metadata": {},
          "execution_count": 117
        }
      ],
      "source": [
        "%%sql\n",
        "SELECT C1.city, C2.city, C1.temperature\n",
        "FROM Cities C1, Cities C2\n",
        "WHERE C1.temperature = C2.temperature\n",
        "  AND C1.city != C2.city;\n"
      ]
    },
    {
      "cell_type": "markdown",
      "metadata": {
        "id": "2wHgKsCmjqux"
      },
      "source": [
        "### Subqueries in Where clause"
      ]
    },
    {
      "cell_type": "markdown",
      "metadata": {
        "id": "3TNbJmdZjqux"
      },
      "source": [
        "*Find all countries in the Countries table with no city in the Cities table*"
      ]
    },
    {
      "cell_type": "code",
      "execution_count": 118,
      "metadata": {
        "id": "t-J4dBcGjqux",
        "colab": {
          "base_uri": "https://localhost:8080/",
          "height": 182
        },
        "outputId": "5a927990-8b4b-42bb-d5b9-2ffdf122ce34"
      },
      "outputs": [
        {
          "output_type": "stream",
          "name": "stdout",
          "text": [
            " * sqlite://\n",
            "Done.\n"
          ]
        },
        {
          "output_type": "execute_result",
          "data": {
            "text/plain": [
              "[('Cyprus',), ('Iceland',), ('Kosovo',), ('Liechtenstein',), ('Luxembourg',)]"
            ],
            "text/html": [
              "<table>\n",
              "    <tr>\n",
              "        <th>country</th>\n",
              "    </tr>\n",
              "    <tr>\n",
              "        <td>Cyprus</td>\n",
              "    </tr>\n",
              "    <tr>\n",
              "        <td>Iceland</td>\n",
              "    </tr>\n",
              "    <tr>\n",
              "        <td>Kosovo</td>\n",
              "    </tr>\n",
              "    <tr>\n",
              "        <td>Liechtenstein</td>\n",
              "    </tr>\n",
              "    <tr>\n",
              "        <td>Luxembourg</td>\n",
              "    </tr>\n",
              "</table>"
            ]
          },
          "metadata": {},
          "execution_count": 118
        }
      ],
      "source": [
        "%%sql\n",
        "select country\n",
        "from Countries\n",
        "where not exists (select * from Cities\n",
        "                  where Cities.country = Countries.country)"
      ]
    },
    {
      "cell_type": "markdown",
      "metadata": {
        "id": "7RSfkrEbjqux"
      },
      "source": [
        "*Find countries in the EU that have a city with temperature > 15*"
      ]
    },
    {
      "cell_type": "code",
      "execution_count": 119,
      "metadata": {
        "id": "bAbMVdYtjqux",
        "colab": {
          "base_uri": "https://localhost:8080/",
          "height": 161
        },
        "outputId": "7f47e705-a293-49b6-9e94-3c220bf9ae89"
      },
      "outputs": [
        {
          "output_type": "stream",
          "name": "stdout",
          "text": [
            " * sqlite://\n",
            "Done.\n"
          ]
        },
        {
          "output_type": "execute_result",
          "data": {
            "text/plain": [
              "[('Greece',), ('Italy',), ('Portugal',), ('Spain',)]"
            ],
            "text/html": [
              "<table>\n",
              "    <tr>\n",
              "        <th>country</th>\n",
              "    </tr>\n",
              "    <tr>\n",
              "        <td>Greece</td>\n",
              "    </tr>\n",
              "    <tr>\n",
              "        <td>Italy</td>\n",
              "    </tr>\n",
              "    <tr>\n",
              "        <td>Portugal</td>\n",
              "    </tr>\n",
              "    <tr>\n",
              "        <td>Spain</td>\n",
              "    </tr>\n",
              "</table>"
            ]
          },
          "metadata": {},
          "execution_count": 119
        }
      ],
      "source": [
        "%%sql\n",
        "select country\n",
        "from Countries\n",
        "where EU = 'yes'\n",
        "and exists (select * from Cities\n",
        "            where Cities.country = Countries.country\n",
        "            and temperature > 15)"
      ]
    },
    {
      "cell_type": "markdown",
      "metadata": {
        "id": "0ro3Abocjqux"
      },
      "source": [
        "*Find number of countries that have a city with latitude > 60 (start with country list)*"
      ]
    },
    {
      "cell_type": "code",
      "execution_count": 120,
      "metadata": {
        "id": "ic5KrrJGjquy",
        "colab": {
          "base_uri": "https://localhost:8080/",
          "height": 139
        },
        "outputId": "acf1570a-c741-496d-f806-dd4694cd041e"
      },
      "outputs": [
        {
          "output_type": "stream",
          "name": "stdout",
          "text": [
            " * sqlite://\n",
            "Done.\n"
          ]
        },
        {
          "output_type": "execute_result",
          "data": {
            "text/plain": [
              "[('Finland',), ('Norway',), ('Sweden',)]"
            ],
            "text/html": [
              "<table>\n",
              "    <tr>\n",
              "        <th>country</th>\n",
              "    </tr>\n",
              "    <tr>\n",
              "        <td>Finland</td>\n",
              "    </tr>\n",
              "    <tr>\n",
              "        <td>Norway</td>\n",
              "    </tr>\n",
              "    <tr>\n",
              "        <td>Sweden</td>\n",
              "    </tr>\n",
              "</table>"
            ]
          },
          "metadata": {},
          "execution_count": 120
        }
      ],
      "source": [
        "%%sql\n",
        "select country\n",
        "from Countries\n",
        "where exists (select * from Cities\n",
        "              where Cities.country = Countries.country\n",
        "              and latitude > 60)"
      ]
    },
    {
      "cell_type": "markdown",
      "metadata": {
        "id": "KjEoyP9Hjquy"
      },
      "source": [
        "*Find the westernmost city; return the city and longitude*"
      ]
    },
    {
      "cell_type": "code",
      "execution_count": 121,
      "metadata": {
        "id": "ck8OYhiIjquy",
        "colab": {
          "base_uri": "https://localhost:8080/",
          "height": 96
        },
        "outputId": "afde649e-8af0-4771-a9d7-77e24885fb0d"
      },
      "outputs": [
        {
          "output_type": "stream",
          "name": "stdout",
          "text": [
            " * sqlite://\n",
            "Done.\n"
          ]
        },
        {
          "output_type": "execute_result",
          "data": {
            "text/plain": [
              "[('Lisbon', -9.14)]"
            ],
            "text/html": [
              "<table>\n",
              "    <tr>\n",
              "        <th>city</th>\n",
              "        <th>longitude</th>\n",
              "    </tr>\n",
              "    <tr>\n",
              "        <td>Lisbon</td>\n",
              "        <td>-9.14</td>\n",
              "    </tr>\n",
              "</table>"
            ]
          },
          "metadata": {},
          "execution_count": 121
        }
      ],
      "source": [
        "%%sql\n",
        "select city, longitude\n",
        "from Cities C1\n",
        "where not exists (select * from Cities C2\n",
        "                  where C2.longitude < C1.longitude)"
      ]
    },
    {
      "cell_type": "markdown",
      "metadata": {
        "id": "do1hOdfCjquy"
      },
      "source": [
        "*Add easternmost to previous query*"
      ]
    },
    {
      "cell_type": "code",
      "source": [
        "%%sql\n",
        "SELECT city, longitude,\n",
        "       CASE\n",
        "           WHEN NOT EXISTS (\n",
        "               SELECT 1\n",
        "               FROM Cities C2\n",
        "               WHERE C2.longitude > C1.longitude\n",
        "           ) THEN 'Easternmost'\n",
        "           ELSE 'Not Easternmost'\n",
        "       END AS position\n",
        "FROM Cities C1;\n"
      ],
      "metadata": {
        "colab": {
          "base_uri": "https://localhost:8080/",
          "height": 4625
        },
        "id": "ZtfuCjT7U2BB",
        "outputId": "2a36f610-58f6-4c0b-80d9-e0658a9d89c4"
      },
      "execution_count": 122,
      "outputs": [
        {
          "output_type": "stream",
          "name": "stdout",
          "text": [
            " * sqlite://\n",
            "Done.\n"
          ]
        },
        {
          "output_type": "execute_result",
          "data": {
            "text/plain": [
              "[('Aalborg', 9.92, 'Not Easternmost'),\n",
              " ('Aberdeen', -2.08, 'Not Easternmost'),\n",
              " ('Abisko', 18.83, 'Not Easternmost'),\n",
              " ('Adana', 35.32, 'Not Easternmost'),\n",
              " ('Albacete', -1.87, 'Not Easternmost'),\n",
              " ('Algeciras', -5.47, 'Not Easternmost'),\n",
              " ('Amiens', 2.3, 'Not Easternmost'),\n",
              " ('Amsterdam', 4.92, 'Not Easternmost'),\n",
              " ('Ancona', 13.5, 'Not Easternmost'),\n",
              " ('Andorra', 1.52, 'Not Easternmost'),\n",
              " ('Angers', -0.53, 'Not Easternmost'),\n",
              " ('Ankara', 32.86, 'Not Easternmost'),\n",
              " ('Antalya', 30.7, 'Not Easternmost'),\n",
              " ('Arad', 21.32, 'Not Easternmost'),\n",
              " ('Athens', 23.73, 'Not Easternmost'),\n",
              " ('Augsburg', 10.9, 'Not Easternmost'),\n",
              " ('Bacau', 26.92, 'Not Easternmost'),\n",
              " ('Badajoz', -6.97, 'Not Easternmost'),\n",
              " ('Baia Mare', 23.58, 'Not Easternmost'),\n",
              " ('Balti', 27.91, 'Not Easternmost'),\n",
              " ('Barcelona', 2.18, 'Not Easternmost'),\n",
              " ('Bari', 16.87, 'Not Easternmost'),\n",
              " ('Basel', 7.59, 'Not Easternmost'),\n",
              " ('Batman', 41.14, 'Not Easternmost'),\n",
              " ('Belfast', -5.96, 'Not Easternmost'),\n",
              " ('Belgrade', 20.47, 'Not Easternmost'),\n",
              " ('Bergamo', 9.67, 'Not Easternmost'),\n",
              " ('Bergen', 5.32, 'Not Easternmost'),\n",
              " ('Berlin', 13.4, 'Not Easternmost'),\n",
              " ('Bialystok', 23.17, 'Not Easternmost'),\n",
              " ('Bielefeld', 8.53, 'Not Easternmost'),\n",
              " ('Bila Tserkva', 30.13, 'Not Easternmost'),\n",
              " ('Bilbao', -2.93, 'Not Easternmost'),\n",
              " ('Birmingham', -1.92, 'Not Easternmost'),\n",
              " ('Blackpool', -3.05, 'Not Easternmost'),\n",
              " ('Bodo', 14.4, 'Not Easternmost'),\n",
              " ('Bologna', 11.34, 'Not Easternmost'),\n",
              " ('Bonn', 7.08, 'Not Easternmost'),\n",
              " ('Bordeaux', -0.6, 'Not Easternmost'),\n",
              " ('Botosani', 26.66, 'Not Easternmost'),\n",
              " ('Bournemouth', -1.9, 'Not Easternmost'),\n",
              " ('Bradford', -1.75, 'Not Easternmost'),\n",
              " ('Braga', -8.42, 'Not Easternmost'),\n",
              " ('Braila', 27.97, 'Not Easternmost'),\n",
              " ('Bratislava', 17.12, 'Not Easternmost'),\n",
              " ('Bremen', 8.8, 'Not Easternmost'),\n",
              " ('Brest', -4.5, 'Not Easternmost'),\n",
              " ('Brest', 23.7, 'Not Easternmost'),\n",
              " ('Brno', 16.61, 'Not Easternmost'),\n",
              " ('Brugge', 3.23, 'Not Easternmost'),\n",
              " ('Bucharest', 26.1, 'Not Easternmost'),\n",
              " ('Budapest', 19.08, 'Not Easternmost'),\n",
              " ('Burgas', 27.47, 'Not Easternmost'),\n",
              " ('Burgos', -3.68, 'Not Easternmost'),\n",
              " ('Bursa', 29.07, 'Not Easternmost'),\n",
              " ('Bydgoszcz', 18.01, 'Not Easternmost'),\n",
              " ('Bytom', 18.91, 'Not Easternmost'),\n",
              " ('Caen', -0.35, 'Not Easternmost'),\n",
              " ('Cambridge', 0.12, 'Not Easternmost'),\n",
              " ('Cartagena', -0.98, 'Not Easternmost'),\n",
              " ('Catania', 15.08, 'Not Easternmost'),\n",
              " ('Chemnitz', 12.92, 'Not Easternmost'),\n",
              " ('Cherkasy', 32.07, 'Not Easternmost'),\n",
              " ('Chernihiv', 31.3, 'Not Easternmost'),\n",
              " ('Chernivtsi', 25.92, 'Not Easternmost'),\n",
              " ('Chisinau', 28.86, 'Not Easternmost'),\n",
              " ('Constanta', 28.61, 'Not Easternmost'),\n",
              " ('Cork', -8.5, 'Not Easternmost'),\n",
              " ('Cosenza', 16.29, 'Not Easternmost'),\n",
              " ('Craiova', 23.83, 'Not Easternmost'),\n",
              " ('Daugavpils', 26.51, 'Not Easternmost'),\n",
              " ('Debrecen', 21.63, 'Not Easternmost'),\n",
              " ('Denizli', 29.08, 'Not Easternmost'),\n",
              " ('Dijon', 5.03, 'Not Easternmost'),\n",
              " ('Dublin', -6.25, 'Not Easternmost'),\n",
              " ('Dundee', -3.0, 'Not Easternmost'),\n",
              " ('Edinburgh', -3.22, 'Not Easternmost'),\n",
              " ('Edirne', 26.57, 'Not Easternmost'),\n",
              " ('Elbasan', 20.08, 'Not Easternmost'),\n",
              " ('Elblag', 19.4, 'Not Easternmost'),\n",
              " ('Erfurt', 11.03, 'Not Easternmost'),\n",
              " ('Erzincan', 39.49, 'Not Easternmost'),\n",
              " ('Erzurum', 41.29, 'Not Easternmost'),\n",
              " ('Eskisehir', 30.53, 'Not Easternmost'),\n",
              " ('Exeter', -3.53, 'Not Easternmost'),\n",
              " ('Foggia', 15.56, 'Not Easternmost'),\n",
              " ('Frankfurt', 8.68, 'Not Easternmost'),\n",
              " ('Freiburg', 7.87, 'Not Easternmost'),\n",
              " ('Galway', -9.05, 'Not Easternmost'),\n",
              " ('Gaziantep', 37.38, 'Not Easternmost'),\n",
              " ('Geneva', 6.14, 'Not Easternmost'),\n",
              " ('Genoa', 8.93, 'Not Easternmost'),\n",
              " ('Glasgow', -4.25, 'Not Easternmost'),\n",
              " ('Göteborg', 12.0, 'Not Easternmost'),\n",
              " ('Granada', -3.59, 'Not Easternmost'),\n",
              " ('Graz', 15.41, 'Not Easternmost'),\n",
              " ('Grenoble', 5.72, 'Not Easternmost'),\n",
              " ('Groningen', 6.58, 'Not Easternmost'),\n",
              " ('Gyor', 17.63, 'Not Easternmost'),\n",
              " ('Heidelberg', 8.7, 'Not Easternmost'),\n",
              " ('Helsinki', 24.93, 'Not Easternmost'),\n",
              " ('Horlivka', 38.05, 'Not Easternmost'),\n",
              " ('Hrodna', 23.83, 'Not Easternmost'),\n",
              " ('Huelva', -6.93, 'Not Easternmost'),\n",
              " ('Ingolstadt', 11.45, 'Not Easternmost'),\n",
              " ('Innsbruck', 11.41, 'Not Easternmost'),\n",
              " ('Inverness', -4.23, 'Not Easternmost'),\n",
              " ('Istanbul', 29.01, 'Not Easternmost'),\n",
              " ('Kalamata', 22.11, 'Not Easternmost'),\n",
              " ('Karaman', 33.22, 'Not Easternmost'),\n",
              " ('Karlsruhe', 8.4, 'Not Easternmost'),\n",
              " ('Kaunas', 23.88, 'Not Easternmost'),\n",
              " ('Kayseri', 35.49, 'Not Easternmost'),\n",
              " ('Kherson', 32.6, 'Not Easternmost'),\n",
              " ('Kielce', 20.66, 'Not Easternmost'),\n",
              " ('Kiev', 30.52, 'Not Easternmost'),\n",
              " ('Kiruna', 20.22, 'Not Easternmost'),\n",
              " ('Klaipeda', 21.12, 'Not Easternmost'),\n",
              " ('Kosice', 21.25, 'Not Easternmost'),\n",
              " ('Koszalin', 16.18, 'Not Easternmost'),\n",
              " ('Kremenchuk', 33.43, 'Not Easternmost'),\n",
              " ('Kryvyy Rih', 33.34, 'Not Easternmost'),\n",
              " ('Le Mans', 0.1, 'Not Easternmost'),\n",
              " ('Lille', 3.08, 'Not Easternmost'),\n",
              " ('Limoges', 1.25, 'Not Easternmost'),\n",
              " ('Linz', 14.29, 'Not Easternmost'),\n",
              " ('Lisbon', -9.14, 'Not Easternmost'),\n",
              " ('Ljubljana', 14.51, 'Not Easternmost'),\n",
              " ('Lvov', 24.03, 'Not Easternmost'),\n",
              " ('Maastricht', 5.68, 'Not Easternmost'),\n",
              " ('Madrid', -3.68, 'Not Easternmost'),\n",
              " ('Magdeburg', 11.62, 'Not Easternmost'),\n",
              " ('Makiyivka', 37.97, 'Not Easternmost'),\n",
              " ('Malatya', 38.3, 'Not Easternmost'),\n",
              " ('Malmö', 13.03, 'Not Easternmost'),\n",
              " ('Manisa', 27.44, 'Not Easternmost'),\n",
              " ('Marbella', -4.88, 'Not Easternmost'),\n",
              " ('Marseille', 5.38, 'Not Easternmost'),\n",
              " ('Mazyr', 29.27, 'Not Easternmost'),\n",
              " ('Messina', 15.55, 'Not Easternmost'),\n",
              " ('Metz', 6.18, 'Not Easternmost'),\n",
              " ('Milan', 9.21, 'Not Easternmost'),\n",
              " ('Minsk', 27.57, 'Not Easternmost'),\n",
              " ('Montpellier', 3.87, 'Not Easternmost'),\n",
              " ('Mulhouse', 7.35, 'Not Easternmost'),\n",
              " ('Murcia', -1.13, 'Not Easternmost'),\n",
              " ('Nice', 7.27, 'Not Easternmost'),\n",
              " ('Nis', 21.9, 'Not Easternmost'),\n",
              " ('Novi Sad', 19.85, 'Not Easternmost'),\n",
              " ('Odense', 10.38, 'Not Easternmost'),\n",
              " ('Ordu', 37.87, 'Not Easternmost'),\n",
              " ('Orsha', 30.42, 'Not Easternmost'),\n",
              " ('Oslo', 10.75, 'Not Easternmost'),\n",
              " ('Ostrava', 18.25, 'Not Easternmost'),\n",
              " ('Oulu', 25.47, 'Not Easternmost'),\n",
              " ('Oviedo', -5.83, 'Not Easternmost'),\n",
              " ('Palermo', 13.35, 'Not Easternmost'),\n",
              " ('Patras', 21.73, 'Not Easternmost'),\n",
              " ('Perpignan', 2.9, 'Not Easternmost'),\n",
              " ('Perugia', 12.39, 'Not Easternmost'),\n",
              " ('Pescara', 14.22, 'Not Easternmost'),\n",
              " ('Pinsk', 26.09, 'Not Easternmost'),\n",
              " ('Pleven', 24.61, 'Not Easternmost'),\n",
              " ('Plovdiv', 24.75, 'Not Easternmost'),\n",
              " ('Podgorica', 19.27, 'Not Easternmost'),\n",
              " ('Poznan', 16.9, 'Not Easternmost'),\n",
              " ('Prague', 14.47, 'Not Easternmost'),\n",
              " ('Reims', 4.03, 'Not Easternmost'),\n",
              " ('Riga', 24.1, 'Not Easternmost'),\n",
              " ('Rijeka', 14.45, 'Not Easternmost'),\n",
              " ('Rivne', 26.25, 'Not Easternmost'),\n",
              " ('Rome', 12.48, 'Not Easternmost'),\n",
              " ('Rostock', 12.15, 'Not Easternmost'),\n",
              " ('Ruse', 25.97, 'Not Easternmost'),\n",
              " ('Salamanca', -5.67, 'Not Easternmost'),\n",
              " ('Salzburg', 13.04, 'Not Easternmost'),\n",
              " ('Samsun', 36.34, 'Not Easternmost'),\n",
              " ('Santander', -3.8, 'Not Easternmost'),\n",
              " ('Sarajevo', 13.38, 'Not Easternmost'),\n",
              " ('Sibiu', 24.14, 'Not Easternmost'),\n",
              " ('Siirt', 41.93, 'Easternmost'),\n",
              " ('Sivas', 37.03, 'Not Easternmost'),\n",
              " ('Skopje', 21.43, 'Not Easternmost'),\n",
              " ('Split', 16.47, 'Not Easternmost'),\n",
              " ('Stara Zagora', 25.62, 'Not Easternmost'),\n",
              " ('Stavanger', 5.68, 'Not Easternmost'),\n",
              " ('Stockholm', 18.1, 'Not Easternmost'),\n",
              " ('Sumy', 34.78, 'Not Easternmost'),\n",
              " ('Swansea', -3.95, 'Not Easternmost'),\n",
              " ('Szeged', 20.15, 'Not Easternmost'),\n",
              " ('Tallinn', 24.73, 'Not Easternmost'),\n",
              " ('Tampere', 23.75, 'Not Easternmost'),\n",
              " ('Tarsus', 34.88, 'Not Easternmost'),\n",
              " ('Tartu', 26.71, 'Not Easternmost'),\n",
              " ('Tekirdag', 27.51, 'Not Easternmost'),\n",
              " ('Toulouse', 1.45, 'Not Easternmost'),\n",
              " ('Trabzon', 39.72, 'Not Easternmost'),\n",
              " ('Trieste', 13.8, 'Not Easternmost'),\n",
              " ('Trikala', 21.77, 'Not Easternmost'),\n",
              " ('Trondheim', 10.42, 'Not Easternmost'),\n",
              " ('Turku', 22.25, 'Not Easternmost'),\n",
              " ('Uppsala', 17.64, 'Not Easternmost'),\n",
              " ('Valencia', -0.4, 'Not Easternmost'),\n",
              " ('Vienna', 16.37, 'Not Easternmost'),\n",
              " ('Vigo', -8.73, 'Not Easternmost'),\n",
              " ('Vilnius', 25.32, 'Not Easternmost'),\n",
              " ('Warsaw', 21.0, 'Not Easternmost'),\n",
              " ('Wroclaw', 17.03, 'Not Easternmost'),\n",
              " ('Yevpatoriya', 33.36, 'Not Easternmost'),\n",
              " ('Zaragoza', -0.89, 'Not Easternmost'),\n",
              " ('Zhytomyr', 28.66, 'Not Easternmost'),\n",
              " ('Zonguldak', 31.78, 'Not Easternmost'),\n",
              " ('Zurich', 8.56, 'Not Easternmost')]"
            ],
            "text/html": [
              "<table>\n",
              "    <tr>\n",
              "        <th>city</th>\n",
              "        <th>longitude</th>\n",
              "        <th>position</th>\n",
              "    </tr>\n",
              "    <tr>\n",
              "        <td>Aalborg</td>\n",
              "        <td>9.92</td>\n",
              "        <td>Not Easternmost</td>\n",
              "    </tr>\n",
              "    <tr>\n",
              "        <td>Aberdeen</td>\n",
              "        <td>-2.08</td>\n",
              "        <td>Not Easternmost</td>\n",
              "    </tr>\n",
              "    <tr>\n",
              "        <td>Abisko</td>\n",
              "        <td>18.83</td>\n",
              "        <td>Not Easternmost</td>\n",
              "    </tr>\n",
              "    <tr>\n",
              "        <td>Adana</td>\n",
              "        <td>35.32</td>\n",
              "        <td>Not Easternmost</td>\n",
              "    </tr>\n",
              "    <tr>\n",
              "        <td>Albacete</td>\n",
              "        <td>-1.87</td>\n",
              "        <td>Not Easternmost</td>\n",
              "    </tr>\n",
              "    <tr>\n",
              "        <td>Algeciras</td>\n",
              "        <td>-5.47</td>\n",
              "        <td>Not Easternmost</td>\n",
              "    </tr>\n",
              "    <tr>\n",
              "        <td>Amiens</td>\n",
              "        <td>2.3</td>\n",
              "        <td>Not Easternmost</td>\n",
              "    </tr>\n",
              "    <tr>\n",
              "        <td>Amsterdam</td>\n",
              "        <td>4.92</td>\n",
              "        <td>Not Easternmost</td>\n",
              "    </tr>\n",
              "    <tr>\n",
              "        <td>Ancona</td>\n",
              "        <td>13.5</td>\n",
              "        <td>Not Easternmost</td>\n",
              "    </tr>\n",
              "    <tr>\n",
              "        <td>Andorra</td>\n",
              "        <td>1.52</td>\n",
              "        <td>Not Easternmost</td>\n",
              "    </tr>\n",
              "    <tr>\n",
              "        <td>Angers</td>\n",
              "        <td>-0.53</td>\n",
              "        <td>Not Easternmost</td>\n",
              "    </tr>\n",
              "    <tr>\n",
              "        <td>Ankara</td>\n",
              "        <td>32.86</td>\n",
              "        <td>Not Easternmost</td>\n",
              "    </tr>\n",
              "    <tr>\n",
              "        <td>Antalya</td>\n",
              "        <td>30.7</td>\n",
              "        <td>Not Easternmost</td>\n",
              "    </tr>\n",
              "    <tr>\n",
              "        <td>Arad</td>\n",
              "        <td>21.32</td>\n",
              "        <td>Not Easternmost</td>\n",
              "    </tr>\n",
              "    <tr>\n",
              "        <td>Athens</td>\n",
              "        <td>23.73</td>\n",
              "        <td>Not Easternmost</td>\n",
              "    </tr>\n",
              "    <tr>\n",
              "        <td>Augsburg</td>\n",
              "        <td>10.9</td>\n",
              "        <td>Not Easternmost</td>\n",
              "    </tr>\n",
              "    <tr>\n",
              "        <td>Bacau</td>\n",
              "        <td>26.92</td>\n",
              "        <td>Not Easternmost</td>\n",
              "    </tr>\n",
              "    <tr>\n",
              "        <td>Badajoz</td>\n",
              "        <td>-6.97</td>\n",
              "        <td>Not Easternmost</td>\n",
              "    </tr>\n",
              "    <tr>\n",
              "        <td>Baia Mare</td>\n",
              "        <td>23.58</td>\n",
              "        <td>Not Easternmost</td>\n",
              "    </tr>\n",
              "    <tr>\n",
              "        <td>Balti</td>\n",
              "        <td>27.91</td>\n",
              "        <td>Not Easternmost</td>\n",
              "    </tr>\n",
              "    <tr>\n",
              "        <td>Barcelona</td>\n",
              "        <td>2.18</td>\n",
              "        <td>Not Easternmost</td>\n",
              "    </tr>\n",
              "    <tr>\n",
              "        <td>Bari</td>\n",
              "        <td>16.87</td>\n",
              "        <td>Not Easternmost</td>\n",
              "    </tr>\n",
              "    <tr>\n",
              "        <td>Basel</td>\n",
              "        <td>7.59</td>\n",
              "        <td>Not Easternmost</td>\n",
              "    </tr>\n",
              "    <tr>\n",
              "        <td>Batman</td>\n",
              "        <td>41.14</td>\n",
              "        <td>Not Easternmost</td>\n",
              "    </tr>\n",
              "    <tr>\n",
              "        <td>Belfast</td>\n",
              "        <td>-5.96</td>\n",
              "        <td>Not Easternmost</td>\n",
              "    </tr>\n",
              "    <tr>\n",
              "        <td>Belgrade</td>\n",
              "        <td>20.47</td>\n",
              "        <td>Not Easternmost</td>\n",
              "    </tr>\n",
              "    <tr>\n",
              "        <td>Bergamo</td>\n",
              "        <td>9.67</td>\n",
              "        <td>Not Easternmost</td>\n",
              "    </tr>\n",
              "    <tr>\n",
              "        <td>Bergen</td>\n",
              "        <td>5.32</td>\n",
              "        <td>Not Easternmost</td>\n",
              "    </tr>\n",
              "    <tr>\n",
              "        <td>Berlin</td>\n",
              "        <td>13.4</td>\n",
              "        <td>Not Easternmost</td>\n",
              "    </tr>\n",
              "    <tr>\n",
              "        <td>Bialystok</td>\n",
              "        <td>23.17</td>\n",
              "        <td>Not Easternmost</td>\n",
              "    </tr>\n",
              "    <tr>\n",
              "        <td>Bielefeld</td>\n",
              "        <td>8.53</td>\n",
              "        <td>Not Easternmost</td>\n",
              "    </tr>\n",
              "    <tr>\n",
              "        <td>Bila Tserkva</td>\n",
              "        <td>30.13</td>\n",
              "        <td>Not Easternmost</td>\n",
              "    </tr>\n",
              "    <tr>\n",
              "        <td>Bilbao</td>\n",
              "        <td>-2.93</td>\n",
              "        <td>Not Easternmost</td>\n",
              "    </tr>\n",
              "    <tr>\n",
              "        <td>Birmingham</td>\n",
              "        <td>-1.92</td>\n",
              "        <td>Not Easternmost</td>\n",
              "    </tr>\n",
              "    <tr>\n",
              "        <td>Blackpool</td>\n",
              "        <td>-3.05</td>\n",
              "        <td>Not Easternmost</td>\n",
              "    </tr>\n",
              "    <tr>\n",
              "        <td>Bodo</td>\n",
              "        <td>14.4</td>\n",
              "        <td>Not Easternmost</td>\n",
              "    </tr>\n",
              "    <tr>\n",
              "        <td>Bologna</td>\n",
              "        <td>11.34</td>\n",
              "        <td>Not Easternmost</td>\n",
              "    </tr>\n",
              "    <tr>\n",
              "        <td>Bonn</td>\n",
              "        <td>7.08</td>\n",
              "        <td>Not Easternmost</td>\n",
              "    </tr>\n",
              "    <tr>\n",
              "        <td>Bordeaux</td>\n",
              "        <td>-0.6</td>\n",
              "        <td>Not Easternmost</td>\n",
              "    </tr>\n",
              "    <tr>\n",
              "        <td>Botosani</td>\n",
              "        <td>26.66</td>\n",
              "        <td>Not Easternmost</td>\n",
              "    </tr>\n",
              "    <tr>\n",
              "        <td>Bournemouth</td>\n",
              "        <td>-1.9</td>\n",
              "        <td>Not Easternmost</td>\n",
              "    </tr>\n",
              "    <tr>\n",
              "        <td>Bradford</td>\n",
              "        <td>-1.75</td>\n",
              "        <td>Not Easternmost</td>\n",
              "    </tr>\n",
              "    <tr>\n",
              "        <td>Braga</td>\n",
              "        <td>-8.42</td>\n",
              "        <td>Not Easternmost</td>\n",
              "    </tr>\n",
              "    <tr>\n",
              "        <td>Braila</td>\n",
              "        <td>27.97</td>\n",
              "        <td>Not Easternmost</td>\n",
              "    </tr>\n",
              "    <tr>\n",
              "        <td>Bratislava</td>\n",
              "        <td>17.12</td>\n",
              "        <td>Not Easternmost</td>\n",
              "    </tr>\n",
              "    <tr>\n",
              "        <td>Bremen</td>\n",
              "        <td>8.8</td>\n",
              "        <td>Not Easternmost</td>\n",
              "    </tr>\n",
              "    <tr>\n",
              "        <td>Brest</td>\n",
              "        <td>-4.5</td>\n",
              "        <td>Not Easternmost</td>\n",
              "    </tr>\n",
              "    <tr>\n",
              "        <td>Brest</td>\n",
              "        <td>23.7</td>\n",
              "        <td>Not Easternmost</td>\n",
              "    </tr>\n",
              "    <tr>\n",
              "        <td>Brno</td>\n",
              "        <td>16.61</td>\n",
              "        <td>Not Easternmost</td>\n",
              "    </tr>\n",
              "    <tr>\n",
              "        <td>Brugge</td>\n",
              "        <td>3.23</td>\n",
              "        <td>Not Easternmost</td>\n",
              "    </tr>\n",
              "    <tr>\n",
              "        <td>Bucharest</td>\n",
              "        <td>26.1</td>\n",
              "        <td>Not Easternmost</td>\n",
              "    </tr>\n",
              "    <tr>\n",
              "        <td>Budapest</td>\n",
              "        <td>19.08</td>\n",
              "        <td>Not Easternmost</td>\n",
              "    </tr>\n",
              "    <tr>\n",
              "        <td>Burgas</td>\n",
              "        <td>27.47</td>\n",
              "        <td>Not Easternmost</td>\n",
              "    </tr>\n",
              "    <tr>\n",
              "        <td>Burgos</td>\n",
              "        <td>-3.68</td>\n",
              "        <td>Not Easternmost</td>\n",
              "    </tr>\n",
              "    <tr>\n",
              "        <td>Bursa</td>\n",
              "        <td>29.07</td>\n",
              "        <td>Not Easternmost</td>\n",
              "    </tr>\n",
              "    <tr>\n",
              "        <td>Bydgoszcz</td>\n",
              "        <td>18.01</td>\n",
              "        <td>Not Easternmost</td>\n",
              "    </tr>\n",
              "    <tr>\n",
              "        <td>Bytom</td>\n",
              "        <td>18.91</td>\n",
              "        <td>Not Easternmost</td>\n",
              "    </tr>\n",
              "    <tr>\n",
              "        <td>Caen</td>\n",
              "        <td>-0.35</td>\n",
              "        <td>Not Easternmost</td>\n",
              "    </tr>\n",
              "    <tr>\n",
              "        <td>Cambridge</td>\n",
              "        <td>0.12</td>\n",
              "        <td>Not Easternmost</td>\n",
              "    </tr>\n",
              "    <tr>\n",
              "        <td>Cartagena</td>\n",
              "        <td>-0.98</td>\n",
              "        <td>Not Easternmost</td>\n",
              "    </tr>\n",
              "    <tr>\n",
              "        <td>Catania</td>\n",
              "        <td>15.08</td>\n",
              "        <td>Not Easternmost</td>\n",
              "    </tr>\n",
              "    <tr>\n",
              "        <td>Chemnitz</td>\n",
              "        <td>12.92</td>\n",
              "        <td>Not Easternmost</td>\n",
              "    </tr>\n",
              "    <tr>\n",
              "        <td>Cherkasy</td>\n",
              "        <td>32.07</td>\n",
              "        <td>Not Easternmost</td>\n",
              "    </tr>\n",
              "    <tr>\n",
              "        <td>Chernihiv</td>\n",
              "        <td>31.3</td>\n",
              "        <td>Not Easternmost</td>\n",
              "    </tr>\n",
              "    <tr>\n",
              "        <td>Chernivtsi</td>\n",
              "        <td>25.92</td>\n",
              "        <td>Not Easternmost</td>\n",
              "    </tr>\n",
              "    <tr>\n",
              "        <td>Chisinau</td>\n",
              "        <td>28.86</td>\n",
              "        <td>Not Easternmost</td>\n",
              "    </tr>\n",
              "    <tr>\n",
              "        <td>Constanta</td>\n",
              "        <td>28.61</td>\n",
              "        <td>Not Easternmost</td>\n",
              "    </tr>\n",
              "    <tr>\n",
              "        <td>Cork</td>\n",
              "        <td>-8.5</td>\n",
              "        <td>Not Easternmost</td>\n",
              "    </tr>\n",
              "    <tr>\n",
              "        <td>Cosenza</td>\n",
              "        <td>16.29</td>\n",
              "        <td>Not Easternmost</td>\n",
              "    </tr>\n",
              "    <tr>\n",
              "        <td>Craiova</td>\n",
              "        <td>23.83</td>\n",
              "        <td>Not Easternmost</td>\n",
              "    </tr>\n",
              "    <tr>\n",
              "        <td>Daugavpils</td>\n",
              "        <td>26.51</td>\n",
              "        <td>Not Easternmost</td>\n",
              "    </tr>\n",
              "    <tr>\n",
              "        <td>Debrecen</td>\n",
              "        <td>21.63</td>\n",
              "        <td>Not Easternmost</td>\n",
              "    </tr>\n",
              "    <tr>\n",
              "        <td>Denizli</td>\n",
              "        <td>29.08</td>\n",
              "        <td>Not Easternmost</td>\n",
              "    </tr>\n",
              "    <tr>\n",
              "        <td>Dijon</td>\n",
              "        <td>5.03</td>\n",
              "        <td>Not Easternmost</td>\n",
              "    </tr>\n",
              "    <tr>\n",
              "        <td>Dublin</td>\n",
              "        <td>-6.25</td>\n",
              "        <td>Not Easternmost</td>\n",
              "    </tr>\n",
              "    <tr>\n",
              "        <td>Dundee</td>\n",
              "        <td>-3.0</td>\n",
              "        <td>Not Easternmost</td>\n",
              "    </tr>\n",
              "    <tr>\n",
              "        <td>Edinburgh</td>\n",
              "        <td>-3.22</td>\n",
              "        <td>Not Easternmost</td>\n",
              "    </tr>\n",
              "    <tr>\n",
              "        <td>Edirne</td>\n",
              "        <td>26.57</td>\n",
              "        <td>Not Easternmost</td>\n",
              "    </tr>\n",
              "    <tr>\n",
              "        <td>Elbasan</td>\n",
              "        <td>20.08</td>\n",
              "        <td>Not Easternmost</td>\n",
              "    </tr>\n",
              "    <tr>\n",
              "        <td>Elblag</td>\n",
              "        <td>19.4</td>\n",
              "        <td>Not Easternmost</td>\n",
              "    </tr>\n",
              "    <tr>\n",
              "        <td>Erfurt</td>\n",
              "        <td>11.03</td>\n",
              "        <td>Not Easternmost</td>\n",
              "    </tr>\n",
              "    <tr>\n",
              "        <td>Erzincan</td>\n",
              "        <td>39.49</td>\n",
              "        <td>Not Easternmost</td>\n",
              "    </tr>\n",
              "    <tr>\n",
              "        <td>Erzurum</td>\n",
              "        <td>41.29</td>\n",
              "        <td>Not Easternmost</td>\n",
              "    </tr>\n",
              "    <tr>\n",
              "        <td>Eskisehir</td>\n",
              "        <td>30.53</td>\n",
              "        <td>Not Easternmost</td>\n",
              "    </tr>\n",
              "    <tr>\n",
              "        <td>Exeter</td>\n",
              "        <td>-3.53</td>\n",
              "        <td>Not Easternmost</td>\n",
              "    </tr>\n",
              "    <tr>\n",
              "        <td>Foggia</td>\n",
              "        <td>15.56</td>\n",
              "        <td>Not Easternmost</td>\n",
              "    </tr>\n",
              "    <tr>\n",
              "        <td>Frankfurt</td>\n",
              "        <td>8.68</td>\n",
              "        <td>Not Easternmost</td>\n",
              "    </tr>\n",
              "    <tr>\n",
              "        <td>Freiburg</td>\n",
              "        <td>7.87</td>\n",
              "        <td>Not Easternmost</td>\n",
              "    </tr>\n",
              "    <tr>\n",
              "        <td>Galway</td>\n",
              "        <td>-9.05</td>\n",
              "        <td>Not Easternmost</td>\n",
              "    </tr>\n",
              "    <tr>\n",
              "        <td>Gaziantep</td>\n",
              "        <td>37.38</td>\n",
              "        <td>Not Easternmost</td>\n",
              "    </tr>\n",
              "    <tr>\n",
              "        <td>Geneva</td>\n",
              "        <td>6.14</td>\n",
              "        <td>Not Easternmost</td>\n",
              "    </tr>\n",
              "    <tr>\n",
              "        <td>Genoa</td>\n",
              "        <td>8.93</td>\n",
              "        <td>Not Easternmost</td>\n",
              "    </tr>\n",
              "    <tr>\n",
              "        <td>Glasgow</td>\n",
              "        <td>-4.25</td>\n",
              "        <td>Not Easternmost</td>\n",
              "    </tr>\n",
              "    <tr>\n",
              "        <td>Göteborg</td>\n",
              "        <td>12.0</td>\n",
              "        <td>Not Easternmost</td>\n",
              "    </tr>\n",
              "    <tr>\n",
              "        <td>Granada</td>\n",
              "        <td>-3.59</td>\n",
              "        <td>Not Easternmost</td>\n",
              "    </tr>\n",
              "    <tr>\n",
              "        <td>Graz</td>\n",
              "        <td>15.41</td>\n",
              "        <td>Not Easternmost</td>\n",
              "    </tr>\n",
              "    <tr>\n",
              "        <td>Grenoble</td>\n",
              "        <td>5.72</td>\n",
              "        <td>Not Easternmost</td>\n",
              "    </tr>\n",
              "    <tr>\n",
              "        <td>Groningen</td>\n",
              "        <td>6.58</td>\n",
              "        <td>Not Easternmost</td>\n",
              "    </tr>\n",
              "    <tr>\n",
              "        <td>Gyor</td>\n",
              "        <td>17.63</td>\n",
              "        <td>Not Easternmost</td>\n",
              "    </tr>\n",
              "    <tr>\n",
              "        <td>Heidelberg</td>\n",
              "        <td>8.7</td>\n",
              "        <td>Not Easternmost</td>\n",
              "    </tr>\n",
              "    <tr>\n",
              "        <td>Helsinki</td>\n",
              "        <td>24.93</td>\n",
              "        <td>Not Easternmost</td>\n",
              "    </tr>\n",
              "    <tr>\n",
              "        <td>Horlivka</td>\n",
              "        <td>38.05</td>\n",
              "        <td>Not Easternmost</td>\n",
              "    </tr>\n",
              "    <tr>\n",
              "        <td>Hrodna</td>\n",
              "        <td>23.83</td>\n",
              "        <td>Not Easternmost</td>\n",
              "    </tr>\n",
              "    <tr>\n",
              "        <td>Huelva</td>\n",
              "        <td>-6.93</td>\n",
              "        <td>Not Easternmost</td>\n",
              "    </tr>\n",
              "    <tr>\n",
              "        <td>Ingolstadt</td>\n",
              "        <td>11.45</td>\n",
              "        <td>Not Easternmost</td>\n",
              "    </tr>\n",
              "    <tr>\n",
              "        <td>Innsbruck</td>\n",
              "        <td>11.41</td>\n",
              "        <td>Not Easternmost</td>\n",
              "    </tr>\n",
              "    <tr>\n",
              "        <td>Inverness</td>\n",
              "        <td>-4.23</td>\n",
              "        <td>Not Easternmost</td>\n",
              "    </tr>\n",
              "    <tr>\n",
              "        <td>Istanbul</td>\n",
              "        <td>29.01</td>\n",
              "        <td>Not Easternmost</td>\n",
              "    </tr>\n",
              "    <tr>\n",
              "        <td>Kalamata</td>\n",
              "        <td>22.11</td>\n",
              "        <td>Not Easternmost</td>\n",
              "    </tr>\n",
              "    <tr>\n",
              "        <td>Karaman</td>\n",
              "        <td>33.22</td>\n",
              "        <td>Not Easternmost</td>\n",
              "    </tr>\n",
              "    <tr>\n",
              "        <td>Karlsruhe</td>\n",
              "        <td>8.4</td>\n",
              "        <td>Not Easternmost</td>\n",
              "    </tr>\n",
              "    <tr>\n",
              "        <td>Kaunas</td>\n",
              "        <td>23.88</td>\n",
              "        <td>Not Easternmost</td>\n",
              "    </tr>\n",
              "    <tr>\n",
              "        <td>Kayseri</td>\n",
              "        <td>35.49</td>\n",
              "        <td>Not Easternmost</td>\n",
              "    </tr>\n",
              "    <tr>\n",
              "        <td>Kherson</td>\n",
              "        <td>32.6</td>\n",
              "        <td>Not Easternmost</td>\n",
              "    </tr>\n",
              "    <tr>\n",
              "        <td>Kielce</td>\n",
              "        <td>20.66</td>\n",
              "        <td>Not Easternmost</td>\n",
              "    </tr>\n",
              "    <tr>\n",
              "        <td>Kiev</td>\n",
              "        <td>30.52</td>\n",
              "        <td>Not Easternmost</td>\n",
              "    </tr>\n",
              "    <tr>\n",
              "        <td>Kiruna</td>\n",
              "        <td>20.22</td>\n",
              "        <td>Not Easternmost</td>\n",
              "    </tr>\n",
              "    <tr>\n",
              "        <td>Klaipeda</td>\n",
              "        <td>21.12</td>\n",
              "        <td>Not Easternmost</td>\n",
              "    </tr>\n",
              "    <tr>\n",
              "        <td>Kosice</td>\n",
              "        <td>21.25</td>\n",
              "        <td>Not Easternmost</td>\n",
              "    </tr>\n",
              "    <tr>\n",
              "        <td>Koszalin</td>\n",
              "        <td>16.18</td>\n",
              "        <td>Not Easternmost</td>\n",
              "    </tr>\n",
              "    <tr>\n",
              "        <td>Kremenchuk</td>\n",
              "        <td>33.43</td>\n",
              "        <td>Not Easternmost</td>\n",
              "    </tr>\n",
              "    <tr>\n",
              "        <td>Kryvyy Rih</td>\n",
              "        <td>33.34</td>\n",
              "        <td>Not Easternmost</td>\n",
              "    </tr>\n",
              "    <tr>\n",
              "        <td>Le Mans</td>\n",
              "        <td>0.1</td>\n",
              "        <td>Not Easternmost</td>\n",
              "    </tr>\n",
              "    <tr>\n",
              "        <td>Lille</td>\n",
              "        <td>3.08</td>\n",
              "        <td>Not Easternmost</td>\n",
              "    </tr>\n",
              "    <tr>\n",
              "        <td>Limoges</td>\n",
              "        <td>1.25</td>\n",
              "        <td>Not Easternmost</td>\n",
              "    </tr>\n",
              "    <tr>\n",
              "        <td>Linz</td>\n",
              "        <td>14.29</td>\n",
              "        <td>Not Easternmost</td>\n",
              "    </tr>\n",
              "    <tr>\n",
              "        <td>Lisbon</td>\n",
              "        <td>-9.14</td>\n",
              "        <td>Not Easternmost</td>\n",
              "    </tr>\n",
              "    <tr>\n",
              "        <td>Ljubljana</td>\n",
              "        <td>14.51</td>\n",
              "        <td>Not Easternmost</td>\n",
              "    </tr>\n",
              "    <tr>\n",
              "        <td>Lvov</td>\n",
              "        <td>24.03</td>\n",
              "        <td>Not Easternmost</td>\n",
              "    </tr>\n",
              "    <tr>\n",
              "        <td>Maastricht</td>\n",
              "        <td>5.68</td>\n",
              "        <td>Not Easternmost</td>\n",
              "    </tr>\n",
              "    <tr>\n",
              "        <td>Madrid</td>\n",
              "        <td>-3.68</td>\n",
              "        <td>Not Easternmost</td>\n",
              "    </tr>\n",
              "    <tr>\n",
              "        <td>Magdeburg</td>\n",
              "        <td>11.62</td>\n",
              "        <td>Not Easternmost</td>\n",
              "    </tr>\n",
              "    <tr>\n",
              "        <td>Makiyivka</td>\n",
              "        <td>37.97</td>\n",
              "        <td>Not Easternmost</td>\n",
              "    </tr>\n",
              "    <tr>\n",
              "        <td>Malatya</td>\n",
              "        <td>38.3</td>\n",
              "        <td>Not Easternmost</td>\n",
              "    </tr>\n",
              "    <tr>\n",
              "        <td>Malmö</td>\n",
              "        <td>13.03</td>\n",
              "        <td>Not Easternmost</td>\n",
              "    </tr>\n",
              "    <tr>\n",
              "        <td>Manisa</td>\n",
              "        <td>27.44</td>\n",
              "        <td>Not Easternmost</td>\n",
              "    </tr>\n",
              "    <tr>\n",
              "        <td>Marbella</td>\n",
              "        <td>-4.88</td>\n",
              "        <td>Not Easternmost</td>\n",
              "    </tr>\n",
              "    <tr>\n",
              "        <td>Marseille</td>\n",
              "        <td>5.38</td>\n",
              "        <td>Not Easternmost</td>\n",
              "    </tr>\n",
              "    <tr>\n",
              "        <td>Mazyr</td>\n",
              "        <td>29.27</td>\n",
              "        <td>Not Easternmost</td>\n",
              "    </tr>\n",
              "    <tr>\n",
              "        <td>Messina</td>\n",
              "        <td>15.55</td>\n",
              "        <td>Not Easternmost</td>\n",
              "    </tr>\n",
              "    <tr>\n",
              "        <td>Metz</td>\n",
              "        <td>6.18</td>\n",
              "        <td>Not Easternmost</td>\n",
              "    </tr>\n",
              "    <tr>\n",
              "        <td>Milan</td>\n",
              "        <td>9.21</td>\n",
              "        <td>Not Easternmost</td>\n",
              "    </tr>\n",
              "    <tr>\n",
              "        <td>Minsk</td>\n",
              "        <td>27.57</td>\n",
              "        <td>Not Easternmost</td>\n",
              "    </tr>\n",
              "    <tr>\n",
              "        <td>Montpellier</td>\n",
              "        <td>3.87</td>\n",
              "        <td>Not Easternmost</td>\n",
              "    </tr>\n",
              "    <tr>\n",
              "        <td>Mulhouse</td>\n",
              "        <td>7.35</td>\n",
              "        <td>Not Easternmost</td>\n",
              "    </tr>\n",
              "    <tr>\n",
              "        <td>Murcia</td>\n",
              "        <td>-1.13</td>\n",
              "        <td>Not Easternmost</td>\n",
              "    </tr>\n",
              "    <tr>\n",
              "        <td>Nice</td>\n",
              "        <td>7.27</td>\n",
              "        <td>Not Easternmost</td>\n",
              "    </tr>\n",
              "    <tr>\n",
              "        <td>Nis</td>\n",
              "        <td>21.9</td>\n",
              "        <td>Not Easternmost</td>\n",
              "    </tr>\n",
              "    <tr>\n",
              "        <td>Novi Sad</td>\n",
              "        <td>19.85</td>\n",
              "        <td>Not Easternmost</td>\n",
              "    </tr>\n",
              "    <tr>\n",
              "        <td>Odense</td>\n",
              "        <td>10.38</td>\n",
              "        <td>Not Easternmost</td>\n",
              "    </tr>\n",
              "    <tr>\n",
              "        <td>Ordu</td>\n",
              "        <td>37.87</td>\n",
              "        <td>Not Easternmost</td>\n",
              "    </tr>\n",
              "    <tr>\n",
              "        <td>Orsha</td>\n",
              "        <td>30.42</td>\n",
              "        <td>Not Easternmost</td>\n",
              "    </tr>\n",
              "    <tr>\n",
              "        <td>Oslo</td>\n",
              "        <td>10.75</td>\n",
              "        <td>Not Easternmost</td>\n",
              "    </tr>\n",
              "    <tr>\n",
              "        <td>Ostrava</td>\n",
              "        <td>18.25</td>\n",
              "        <td>Not Easternmost</td>\n",
              "    </tr>\n",
              "    <tr>\n",
              "        <td>Oulu</td>\n",
              "        <td>25.47</td>\n",
              "        <td>Not Easternmost</td>\n",
              "    </tr>\n",
              "    <tr>\n",
              "        <td>Oviedo</td>\n",
              "        <td>-5.83</td>\n",
              "        <td>Not Easternmost</td>\n",
              "    </tr>\n",
              "    <tr>\n",
              "        <td>Palermo</td>\n",
              "        <td>13.35</td>\n",
              "        <td>Not Easternmost</td>\n",
              "    </tr>\n",
              "    <tr>\n",
              "        <td>Patras</td>\n",
              "        <td>21.73</td>\n",
              "        <td>Not Easternmost</td>\n",
              "    </tr>\n",
              "    <tr>\n",
              "        <td>Perpignan</td>\n",
              "        <td>2.9</td>\n",
              "        <td>Not Easternmost</td>\n",
              "    </tr>\n",
              "    <tr>\n",
              "        <td>Perugia</td>\n",
              "        <td>12.39</td>\n",
              "        <td>Not Easternmost</td>\n",
              "    </tr>\n",
              "    <tr>\n",
              "        <td>Pescara</td>\n",
              "        <td>14.22</td>\n",
              "        <td>Not Easternmost</td>\n",
              "    </tr>\n",
              "    <tr>\n",
              "        <td>Pinsk</td>\n",
              "        <td>26.09</td>\n",
              "        <td>Not Easternmost</td>\n",
              "    </tr>\n",
              "    <tr>\n",
              "        <td>Pleven</td>\n",
              "        <td>24.61</td>\n",
              "        <td>Not Easternmost</td>\n",
              "    </tr>\n",
              "    <tr>\n",
              "        <td>Plovdiv</td>\n",
              "        <td>24.75</td>\n",
              "        <td>Not Easternmost</td>\n",
              "    </tr>\n",
              "    <tr>\n",
              "        <td>Podgorica</td>\n",
              "        <td>19.27</td>\n",
              "        <td>Not Easternmost</td>\n",
              "    </tr>\n",
              "    <tr>\n",
              "        <td>Poznan</td>\n",
              "        <td>16.9</td>\n",
              "        <td>Not Easternmost</td>\n",
              "    </tr>\n",
              "    <tr>\n",
              "        <td>Prague</td>\n",
              "        <td>14.47</td>\n",
              "        <td>Not Easternmost</td>\n",
              "    </tr>\n",
              "    <tr>\n",
              "        <td>Reims</td>\n",
              "        <td>4.03</td>\n",
              "        <td>Not Easternmost</td>\n",
              "    </tr>\n",
              "    <tr>\n",
              "        <td>Riga</td>\n",
              "        <td>24.1</td>\n",
              "        <td>Not Easternmost</td>\n",
              "    </tr>\n",
              "    <tr>\n",
              "        <td>Rijeka</td>\n",
              "        <td>14.45</td>\n",
              "        <td>Not Easternmost</td>\n",
              "    </tr>\n",
              "    <tr>\n",
              "        <td>Rivne</td>\n",
              "        <td>26.25</td>\n",
              "        <td>Not Easternmost</td>\n",
              "    </tr>\n",
              "    <tr>\n",
              "        <td>Rome</td>\n",
              "        <td>12.48</td>\n",
              "        <td>Not Easternmost</td>\n",
              "    </tr>\n",
              "    <tr>\n",
              "        <td>Rostock</td>\n",
              "        <td>12.15</td>\n",
              "        <td>Not Easternmost</td>\n",
              "    </tr>\n",
              "    <tr>\n",
              "        <td>Ruse</td>\n",
              "        <td>25.97</td>\n",
              "        <td>Not Easternmost</td>\n",
              "    </tr>\n",
              "    <tr>\n",
              "        <td>Salamanca</td>\n",
              "        <td>-5.67</td>\n",
              "        <td>Not Easternmost</td>\n",
              "    </tr>\n",
              "    <tr>\n",
              "        <td>Salzburg</td>\n",
              "        <td>13.04</td>\n",
              "        <td>Not Easternmost</td>\n",
              "    </tr>\n",
              "    <tr>\n",
              "        <td>Samsun</td>\n",
              "        <td>36.34</td>\n",
              "        <td>Not Easternmost</td>\n",
              "    </tr>\n",
              "    <tr>\n",
              "        <td>Santander</td>\n",
              "        <td>-3.8</td>\n",
              "        <td>Not Easternmost</td>\n",
              "    </tr>\n",
              "    <tr>\n",
              "        <td>Sarajevo</td>\n",
              "        <td>13.38</td>\n",
              "        <td>Not Easternmost</td>\n",
              "    </tr>\n",
              "    <tr>\n",
              "        <td>Sibiu</td>\n",
              "        <td>24.14</td>\n",
              "        <td>Not Easternmost</td>\n",
              "    </tr>\n",
              "    <tr>\n",
              "        <td>Siirt</td>\n",
              "        <td>41.93</td>\n",
              "        <td>Easternmost</td>\n",
              "    </tr>\n",
              "    <tr>\n",
              "        <td>Sivas</td>\n",
              "        <td>37.03</td>\n",
              "        <td>Not Easternmost</td>\n",
              "    </tr>\n",
              "    <tr>\n",
              "        <td>Skopje</td>\n",
              "        <td>21.43</td>\n",
              "        <td>Not Easternmost</td>\n",
              "    </tr>\n",
              "    <tr>\n",
              "        <td>Split</td>\n",
              "        <td>16.47</td>\n",
              "        <td>Not Easternmost</td>\n",
              "    </tr>\n",
              "    <tr>\n",
              "        <td>Stara Zagora</td>\n",
              "        <td>25.62</td>\n",
              "        <td>Not Easternmost</td>\n",
              "    </tr>\n",
              "    <tr>\n",
              "        <td>Stavanger</td>\n",
              "        <td>5.68</td>\n",
              "        <td>Not Easternmost</td>\n",
              "    </tr>\n",
              "    <tr>\n",
              "        <td>Stockholm</td>\n",
              "        <td>18.1</td>\n",
              "        <td>Not Easternmost</td>\n",
              "    </tr>\n",
              "    <tr>\n",
              "        <td>Sumy</td>\n",
              "        <td>34.78</td>\n",
              "        <td>Not Easternmost</td>\n",
              "    </tr>\n",
              "    <tr>\n",
              "        <td>Swansea</td>\n",
              "        <td>-3.95</td>\n",
              "        <td>Not Easternmost</td>\n",
              "    </tr>\n",
              "    <tr>\n",
              "        <td>Szeged</td>\n",
              "        <td>20.15</td>\n",
              "        <td>Not Easternmost</td>\n",
              "    </tr>\n",
              "    <tr>\n",
              "        <td>Tallinn</td>\n",
              "        <td>24.73</td>\n",
              "        <td>Not Easternmost</td>\n",
              "    </tr>\n",
              "    <tr>\n",
              "        <td>Tampere</td>\n",
              "        <td>23.75</td>\n",
              "        <td>Not Easternmost</td>\n",
              "    </tr>\n",
              "    <tr>\n",
              "        <td>Tarsus</td>\n",
              "        <td>34.88</td>\n",
              "        <td>Not Easternmost</td>\n",
              "    </tr>\n",
              "    <tr>\n",
              "        <td>Tartu</td>\n",
              "        <td>26.71</td>\n",
              "        <td>Not Easternmost</td>\n",
              "    </tr>\n",
              "    <tr>\n",
              "        <td>Tekirdag</td>\n",
              "        <td>27.51</td>\n",
              "        <td>Not Easternmost</td>\n",
              "    </tr>\n",
              "    <tr>\n",
              "        <td>Toulouse</td>\n",
              "        <td>1.45</td>\n",
              "        <td>Not Easternmost</td>\n",
              "    </tr>\n",
              "    <tr>\n",
              "        <td>Trabzon</td>\n",
              "        <td>39.72</td>\n",
              "        <td>Not Easternmost</td>\n",
              "    </tr>\n",
              "    <tr>\n",
              "        <td>Trieste</td>\n",
              "        <td>13.8</td>\n",
              "        <td>Not Easternmost</td>\n",
              "    </tr>\n",
              "    <tr>\n",
              "        <td>Trikala</td>\n",
              "        <td>21.77</td>\n",
              "        <td>Not Easternmost</td>\n",
              "    </tr>\n",
              "    <tr>\n",
              "        <td>Trondheim</td>\n",
              "        <td>10.42</td>\n",
              "        <td>Not Easternmost</td>\n",
              "    </tr>\n",
              "    <tr>\n",
              "        <td>Turku</td>\n",
              "        <td>22.25</td>\n",
              "        <td>Not Easternmost</td>\n",
              "    </tr>\n",
              "    <tr>\n",
              "        <td>Uppsala</td>\n",
              "        <td>17.64</td>\n",
              "        <td>Not Easternmost</td>\n",
              "    </tr>\n",
              "    <tr>\n",
              "        <td>Valencia</td>\n",
              "        <td>-0.4</td>\n",
              "        <td>Not Easternmost</td>\n",
              "    </tr>\n",
              "    <tr>\n",
              "        <td>Vienna</td>\n",
              "        <td>16.37</td>\n",
              "        <td>Not Easternmost</td>\n",
              "    </tr>\n",
              "    <tr>\n",
              "        <td>Vigo</td>\n",
              "        <td>-8.73</td>\n",
              "        <td>Not Easternmost</td>\n",
              "    </tr>\n",
              "    <tr>\n",
              "        <td>Vilnius</td>\n",
              "        <td>25.32</td>\n",
              "        <td>Not Easternmost</td>\n",
              "    </tr>\n",
              "    <tr>\n",
              "        <td>Warsaw</td>\n",
              "        <td>21.0</td>\n",
              "        <td>Not Easternmost</td>\n",
              "    </tr>\n",
              "    <tr>\n",
              "        <td>Wroclaw</td>\n",
              "        <td>17.03</td>\n",
              "        <td>Not Easternmost</td>\n",
              "    </tr>\n",
              "    <tr>\n",
              "        <td>Yevpatoriya</td>\n",
              "        <td>33.36</td>\n",
              "        <td>Not Easternmost</td>\n",
              "    </tr>\n",
              "    <tr>\n",
              "        <td>Zaragoza</td>\n",
              "        <td>-0.89</td>\n",
              "        <td>Not Easternmost</td>\n",
              "    </tr>\n",
              "    <tr>\n",
              "        <td>Zhytomyr</td>\n",
              "        <td>28.66</td>\n",
              "        <td>Not Easternmost</td>\n",
              "    </tr>\n",
              "    <tr>\n",
              "        <td>Zonguldak</td>\n",
              "        <td>31.78</td>\n",
              "        <td>Not Easternmost</td>\n",
              "    </tr>\n",
              "    <tr>\n",
              "        <td>Zurich</td>\n",
              "        <td>8.56</td>\n",
              "        <td>Not Easternmost</td>\n",
              "    </tr>\n",
              "</table>"
            ]
          },
          "metadata": {},
          "execution_count": 122
        }
      ]
    },
    {
      "cell_type": "markdown",
      "metadata": {
        "id": "UqYFH27rjquy"
      },
      "source": [
        "*Westernmost city query using = and min*"
      ]
    },
    {
      "cell_type": "code",
      "execution_count": 123,
      "metadata": {
        "id": "7Sb4Veopjquy",
        "colab": {
          "base_uri": "https://localhost:8080/",
          "height": 96
        },
        "outputId": "6202d1a7-8527-4652-cf05-d5311649ac88"
      },
      "outputs": [
        {
          "output_type": "stream",
          "name": "stdout",
          "text": [
            " * sqlite://\n",
            "Done.\n"
          ]
        },
        {
          "output_type": "execute_result",
          "data": {
            "text/plain": [
              "[('Lisbon', -9.14)]"
            ],
            "text/html": [
              "<table>\n",
              "    <tr>\n",
              "        <th>city</th>\n",
              "        <th>longitude</th>\n",
              "    </tr>\n",
              "    <tr>\n",
              "        <td>Lisbon</td>\n",
              "        <td>-9.14</td>\n",
              "    </tr>\n",
              "</table>"
            ]
          },
          "metadata": {},
          "execution_count": 123
        }
      ],
      "source": [
        "%%sql\n",
        "select city, longitude\n",
        "from Cities\n",
        "where longitude = (select min(longitude) from Cities)"
      ]
    },
    {
      "cell_type": "markdown",
      "metadata": {
        "id": "Krt2TVHvjquy"
      },
      "source": [
        "*Find all cities whose temperature is more than 50% higher than the average; return the city, country, and temperature, ordered by descending temperature*"
      ]
    },
    {
      "cell_type": "code",
      "execution_count": 124,
      "metadata": {
        "id": "qit4xxFRjquz",
        "colab": {
          "base_uri": "https://localhost:8080/",
          "height": 630
        },
        "outputId": "8b801380-3f1d-48b8-a1b8-65c3ec89fdb9"
      },
      "outputs": [
        {
          "output_type": "stream",
          "name": "stdout",
          "text": [
            " * sqlite://\n",
            "Done.\n"
          ]
        },
        {
          "output_type": "execute_result",
          "data": {
            "text/plain": [
              "[('Adana', 'Turkey', 18.67),\n",
              " ('Palermo', 'Italy', 17.9),\n",
              " ('Athens', 'Greece', 17.41),\n",
              " ('Algeciras', 'Spain', 17.38),\n",
              " ('Cartagena', 'Spain', 17.32),\n",
              " ('Kalamata', 'Greece', 17.3),\n",
              " ('Marbella', 'Spain', 17.19),\n",
              " ('Huelva', 'Spain', 17.09),\n",
              " ('Patras', 'Greece', 16.9),\n",
              " ('Cosenza', 'Italy', 16.6),\n",
              " ('Messina', 'Italy', 16.54),\n",
              " ('Granada', 'Spain', 16.33),\n",
              " ('Valencia', 'Spain', 16.02),\n",
              " ('Trikala', 'Greece', 16.0),\n",
              " ('Barcelona', 'Spain', 15.78),\n",
              " ('Badajoz', 'Spain', 15.61),\n",
              " ('Lisbon', 'Portugal', 15.52),\n",
              " ('Elbasan', 'Albania', 15.18),\n",
              " ('Bari', 'Italy', 15.15),\n",
              " ('Pescara', 'Italy', 15.13),\n",
              " ('Manisa', 'Turkey', 15.1),\n",
              " ('Rome', 'Italy', 15.1),\n",
              " ('Catania', 'Italy', 15.04),\n",
              " ('Denizli', 'Turkey', 15.02),\n",
              " ('Murcia', 'Spain', 15.0),\n",
              " ('Marseille', 'France', 14.98)]"
            ],
            "text/html": [
              "<table>\n",
              "    <tr>\n",
              "        <th>city</th>\n",
              "        <th>country</th>\n",
              "        <th>temperature</th>\n",
              "    </tr>\n",
              "    <tr>\n",
              "        <td>Adana</td>\n",
              "        <td>Turkey</td>\n",
              "        <td>18.67</td>\n",
              "    </tr>\n",
              "    <tr>\n",
              "        <td>Palermo</td>\n",
              "        <td>Italy</td>\n",
              "        <td>17.9</td>\n",
              "    </tr>\n",
              "    <tr>\n",
              "        <td>Athens</td>\n",
              "        <td>Greece</td>\n",
              "        <td>17.41</td>\n",
              "    </tr>\n",
              "    <tr>\n",
              "        <td>Algeciras</td>\n",
              "        <td>Spain</td>\n",
              "        <td>17.38</td>\n",
              "    </tr>\n",
              "    <tr>\n",
              "        <td>Cartagena</td>\n",
              "        <td>Spain</td>\n",
              "        <td>17.32</td>\n",
              "    </tr>\n",
              "    <tr>\n",
              "        <td>Kalamata</td>\n",
              "        <td>Greece</td>\n",
              "        <td>17.3</td>\n",
              "    </tr>\n",
              "    <tr>\n",
              "        <td>Marbella</td>\n",
              "        <td>Spain</td>\n",
              "        <td>17.19</td>\n",
              "    </tr>\n",
              "    <tr>\n",
              "        <td>Huelva</td>\n",
              "        <td>Spain</td>\n",
              "        <td>17.09</td>\n",
              "    </tr>\n",
              "    <tr>\n",
              "        <td>Patras</td>\n",
              "        <td>Greece</td>\n",
              "        <td>16.9</td>\n",
              "    </tr>\n",
              "    <tr>\n",
              "        <td>Cosenza</td>\n",
              "        <td>Italy</td>\n",
              "        <td>16.6</td>\n",
              "    </tr>\n",
              "    <tr>\n",
              "        <td>Messina</td>\n",
              "        <td>Italy</td>\n",
              "        <td>16.54</td>\n",
              "    </tr>\n",
              "    <tr>\n",
              "        <td>Granada</td>\n",
              "        <td>Spain</td>\n",
              "        <td>16.33</td>\n",
              "    </tr>\n",
              "    <tr>\n",
              "        <td>Valencia</td>\n",
              "        <td>Spain</td>\n",
              "        <td>16.02</td>\n",
              "    </tr>\n",
              "    <tr>\n",
              "        <td>Trikala</td>\n",
              "        <td>Greece</td>\n",
              "        <td>16.0</td>\n",
              "    </tr>\n",
              "    <tr>\n",
              "        <td>Barcelona</td>\n",
              "        <td>Spain</td>\n",
              "        <td>15.78</td>\n",
              "    </tr>\n",
              "    <tr>\n",
              "        <td>Badajoz</td>\n",
              "        <td>Spain</td>\n",
              "        <td>15.61</td>\n",
              "    </tr>\n",
              "    <tr>\n",
              "        <td>Lisbon</td>\n",
              "        <td>Portugal</td>\n",
              "        <td>15.52</td>\n",
              "    </tr>\n",
              "    <tr>\n",
              "        <td>Elbasan</td>\n",
              "        <td>Albania</td>\n",
              "        <td>15.18</td>\n",
              "    </tr>\n",
              "    <tr>\n",
              "        <td>Bari</td>\n",
              "        <td>Italy</td>\n",
              "        <td>15.15</td>\n",
              "    </tr>\n",
              "    <tr>\n",
              "        <td>Pescara</td>\n",
              "        <td>Italy</td>\n",
              "        <td>15.13</td>\n",
              "    </tr>\n",
              "    <tr>\n",
              "        <td>Manisa</td>\n",
              "        <td>Turkey</td>\n",
              "        <td>15.1</td>\n",
              "    </tr>\n",
              "    <tr>\n",
              "        <td>Rome</td>\n",
              "        <td>Italy</td>\n",
              "        <td>15.1</td>\n",
              "    </tr>\n",
              "    <tr>\n",
              "        <td>Catania</td>\n",
              "        <td>Italy</td>\n",
              "        <td>15.04</td>\n",
              "    </tr>\n",
              "    <tr>\n",
              "        <td>Denizli</td>\n",
              "        <td>Turkey</td>\n",
              "        <td>15.02</td>\n",
              "    </tr>\n",
              "    <tr>\n",
              "        <td>Murcia</td>\n",
              "        <td>Spain</td>\n",
              "        <td>15.0</td>\n",
              "    </tr>\n",
              "    <tr>\n",
              "        <td>Marseille</td>\n",
              "        <td>France</td>\n",
              "        <td>14.98</td>\n",
              "    </tr>\n",
              "</table>"
            ]
          },
          "metadata": {},
          "execution_count": 124
        }
      ],
      "source": [
        "%%sql\n",
        "select city, country, temperature\n",
        "from Cities\n",
        "where temperature > (select avg(temperature) * 1.5 from Cities)\n",
        "order by temperature desc"
      ]
    },
    {
      "cell_type": "markdown",
      "metadata": {
        "id": "KmyCO8ovjquz"
      },
      "source": [
        "*Number of cities in the EU*"
      ]
    },
    {
      "cell_type": "code",
      "execution_count": 125,
      "metadata": {
        "id": "yg7XtKC6jquz",
        "colab": {
          "base_uri": "https://localhost:8080/",
          "height": 96
        },
        "outputId": "1c04bda4-cd02-4509-e0ea-d39c10abb777"
      },
      "outputs": [
        {
          "output_type": "stream",
          "name": "stdout",
          "text": [
            " * sqlite://\n",
            "Done.\n"
          ]
        },
        {
          "output_type": "execute_result",
          "data": {
            "text/plain": [
              "[(150,)]"
            ],
            "text/html": [
              "<table>\n",
              "    <tr>\n",
              "        <th>count()</th>\n",
              "    </tr>\n",
              "    <tr>\n",
              "        <td>150</td>\n",
              "    </tr>\n",
              "</table>"
            ]
          },
          "metadata": {},
          "execution_count": 125
        }
      ],
      "source": [
        "%%sql\n",
        "select count()\n",
        "from Cities\n",
        "where country in (select country from Countries where EU = 'yes')"
      ]
    },
    {
      "cell_type": "markdown",
      "metadata": {
        "id": "yDz4yRdajquz"
      },
      "source": [
        "*Modify previous query to use \"not in\"*"
      ]
    },
    {
      "cell_type": "code",
      "source": [
        "%%sql\n",
        "SELECT COUNT(*)\n",
        "FROM Cities\n",
        "WHERE country NOT IN (SELECT country FROM Countries WHERE EU = 'yes');\n"
      ],
      "metadata": {
        "colab": {
          "base_uri": "https://localhost:8080/",
          "height": 96
        },
        "id": "SqayfJZMV4uH",
        "outputId": "70425678-4b7e-4792-8a9a-3c70b884f039"
      },
      "execution_count": 126,
      "outputs": [
        {
          "output_type": "stream",
          "name": "stdout",
          "text": [
            " * sqlite://\n",
            "Done.\n"
          ]
        },
        {
          "output_type": "execute_result",
          "data": {
            "text/plain": [
              "[(63,)]"
            ],
            "text/html": [
              "<table>\n",
              "    <tr>\n",
              "        <th>COUNT(*)</th>\n",
              "    </tr>\n",
              "    <tr>\n",
              "        <td>63</td>\n",
              "    </tr>\n",
              "</table>"
            ]
          },
          "metadata": {},
          "execution_count": 126
        }
      ]
    },
    {
      "cell_type": "markdown",
      "metadata": {
        "id": "zgI5gGBajquz"
      },
      "source": [
        "*Same query using join instead of subquery*"
      ]
    },
    {
      "cell_type": "code",
      "execution_count": 127,
      "metadata": {
        "id": "vPFyEAEjjquz",
        "colab": {
          "base_uri": "https://localhost:8080/",
          "height": 96
        },
        "outputId": "c831113c-7200-4fda-dfb6-c9dc8331f61e"
      },
      "outputs": [
        {
          "output_type": "stream",
          "name": "stdout",
          "text": [
            " * sqlite://\n",
            "Done.\n"
          ]
        },
        {
          "output_type": "execute_result",
          "data": {
            "text/plain": [
              "[(150,)]"
            ],
            "text/html": [
              "<table>\n",
              "    <tr>\n",
              "        <th>count()</th>\n",
              "    </tr>\n",
              "    <tr>\n",
              "        <td>150</td>\n",
              "    </tr>\n",
              "</table>"
            ]
          },
          "metadata": {},
          "execution_count": 127
        }
      ],
      "source": [
        "%%sql\n",
        "select count()\n",
        "from Cities, Countries\n",
        "where Cities.country = Countries.country\n",
        "and EU = 'yes'"
      ]
    },
    {
      "cell_type": "markdown",
      "metadata": {
        "id": "XMV05Ojkjqu0"
      },
      "source": [
        "*Number of countries with no coastline and a city with longitude < 20*"
      ]
    },
    {
      "cell_type": "code",
      "execution_count": 128,
      "metadata": {
        "id": "5JU1k1yYjqu0",
        "colab": {
          "base_uri": "https://localhost:8080/",
          "height": 96
        },
        "outputId": "d1d8c34e-3ecb-4fdb-e413-2df6cab6f252"
      },
      "outputs": [
        {
          "output_type": "stream",
          "name": "stdout",
          "text": [
            " * sqlite://\n",
            "Done.\n"
          ]
        },
        {
          "output_type": "execute_result",
          "data": {
            "text/plain": [
              "[(7,)]"
            ],
            "text/html": [
              "<table>\n",
              "    <tr>\n",
              "        <th>count()</th>\n",
              "    </tr>\n",
              "    <tr>\n",
              "        <td>7</td>\n",
              "    </tr>\n",
              "</table>"
            ]
          },
          "metadata": {},
          "execution_count": 128
        }
      ],
      "source": [
        "%%sql\n",
        "select count()\n",
        "from Countries\n",
        "where coastline = 'no'\n",
        "and exists (select * from Cities where country = Countries.country\n",
        "            and longitude < 20)"
      ]
    },
    {
      "cell_type": "markdown",
      "metadata": {
        "id": "BHZjQqTcjqu0"
      },
      "source": [
        "*Same query using join instead of subquery (see what's wrong and fix it)*"
      ]
    },
    {
      "cell_type": "code",
      "execution_count": 129,
      "metadata": {
        "id": "ErYvUnkPjqu0",
        "colab": {
          "base_uri": "https://localhost:8080/",
          "height": 96
        },
        "outputId": "a0c56866-5193-4f28-c4ad-a66e565ab6e4"
      },
      "outputs": [
        {
          "output_type": "stream",
          "name": "stdout",
          "text": [
            " * sqlite://\n",
            "Done.\n"
          ]
        },
        {
          "output_type": "execute_result",
          "data": {
            "text/plain": [
              "[(16,)]"
            ],
            "text/html": [
              "<table>\n",
              "    <tr>\n",
              "        <th>COUNT(*)</th>\n",
              "    </tr>\n",
              "    <tr>\n",
              "        <td>16</td>\n",
              "    </tr>\n",
              "</table>"
            ]
          },
          "metadata": {},
          "execution_count": 129
        }
      ],
      "source": [
        "%%sql\n",
        "SELECT COUNT(*)\n",
        "FROM Countries\n",
        "JOIN Cities ON Countries.country = Cities.country\n",
        "WHERE Countries.coastline = 'no'\n",
        "  AND Cities.longitude < 20;\n",
        "\n"
      ]
    },
    {
      "cell_type": "markdown",
      "metadata": {
        "id": "XBY1qR5ejqu0"
      },
      "source": [
        "*Find countries in Countries table with no city in Cities table using join instead of subquery (subquery version repeated first)*"
      ]
    },
    {
      "cell_type": "code",
      "execution_count": 130,
      "metadata": {
        "id": "h73wofGWjqu0",
        "colab": {
          "base_uri": "https://localhost:8080/",
          "height": 182
        },
        "outputId": "3ddbc1ae-5b2c-4c2c-fb51-d6083924b634"
      },
      "outputs": [
        {
          "output_type": "stream",
          "name": "stdout",
          "text": [
            " * sqlite://\n",
            "Done.\n"
          ]
        },
        {
          "output_type": "execute_result",
          "data": {
            "text/plain": [
              "[('Cyprus',), ('Iceland',), ('Kosovo',), ('Liechtenstein',), ('Luxembourg',)]"
            ],
            "text/html": [
              "<table>\n",
              "    <tr>\n",
              "        <th>country</th>\n",
              "    </tr>\n",
              "    <tr>\n",
              "        <td>Cyprus</td>\n",
              "    </tr>\n",
              "    <tr>\n",
              "        <td>Iceland</td>\n",
              "    </tr>\n",
              "    <tr>\n",
              "        <td>Kosovo</td>\n",
              "    </tr>\n",
              "    <tr>\n",
              "        <td>Liechtenstein</td>\n",
              "    </tr>\n",
              "    <tr>\n",
              "        <td>Luxembourg</td>\n",
              "    </tr>\n",
              "</table>"
            ]
          },
          "metadata": {},
          "execution_count": 130
        }
      ],
      "source": [
        "%%sql\n",
        "select country\n",
        "from Countries\n",
        "where not exists (select * from Cities\n",
        "                  where Cities.country = Countries.country)"
      ]
    },
    {
      "cell_type": "markdown",
      "metadata": {
        "id": "o5cx6ikrjqu0"
      },
      "source": [
        "### <font color = 'green'>**Your Turn**</font>"
      ]
    },
    {
      "cell_type": "markdown",
      "metadata": {
        "collapsed": true,
        "id": "p_bcmQW9jqu0"
      },
      "source": [
        "*Find all cities in a country whose population is < 2; return the city and country. First write the query without a subquery.*"
      ]
    },
    {
      "cell_type": "code",
      "execution_count": 131,
      "metadata": {
        "id": "vT56ndrXjqu1",
        "colab": {
          "base_uri": "https://localhost:8080/",
          "height": 203
        },
        "outputId": "e30e8d7a-ed6a-4fed-b86e-4476427df34a"
      },
      "outputs": [
        {
          "output_type": "stream",
          "name": "stdout",
          "text": [
            " * sqlite://\n",
            "Done.\n"
          ]
        },
        {
          "output_type": "execute_result",
          "data": {
            "text/plain": [
              "[('Andorra', 'Andorra'),\n",
              " ('Daugavpils', 'Latvia'),\n",
              " ('Podgorica', 'Montenegro'),\n",
              " ('Riga', 'Latvia'),\n",
              " ('Tallinn', 'Estonia'),\n",
              " ('Tartu', 'Estonia')]"
            ],
            "text/html": [
              "<table>\n",
              "    <tr>\n",
              "        <th>city</th>\n",
              "        <th>country</th>\n",
              "    </tr>\n",
              "    <tr>\n",
              "        <td>Andorra</td>\n",
              "        <td>Andorra</td>\n",
              "    </tr>\n",
              "    <tr>\n",
              "        <td>Daugavpils</td>\n",
              "        <td>Latvia</td>\n",
              "    </tr>\n",
              "    <tr>\n",
              "        <td>Podgorica</td>\n",
              "        <td>Montenegro</td>\n",
              "    </tr>\n",
              "    <tr>\n",
              "        <td>Riga</td>\n",
              "        <td>Latvia</td>\n",
              "    </tr>\n",
              "    <tr>\n",
              "        <td>Tallinn</td>\n",
              "        <td>Estonia</td>\n",
              "    </tr>\n",
              "    <tr>\n",
              "        <td>Tartu</td>\n",
              "        <td>Estonia</td>\n",
              "    </tr>\n",
              "</table>"
            ]
          },
          "metadata": {},
          "execution_count": 131
        }
      ],
      "source": [
        "%%sql\n",
        "SELECT Cities.city, Countries.country\n",
        "FROM Cities\n",
        "JOIN Countries ON Cities.country = Countries.country\n",
        "WHERE Countries.population < 2;\n"
      ]
    },
    {
      "cell_type": "markdown",
      "metadata": {
        "collapsed": true,
        "id": "FdTxCrlRjqu1"
      },
      "source": [
        "*Now write the same query using a subquery instead of a join.*"
      ]
    },
    {
      "cell_type": "code",
      "execution_count": 132,
      "metadata": {
        "id": "qrkfUVxQjqu1",
        "colab": {
          "base_uri": "https://localhost:8080/",
          "height": 203
        },
        "outputId": "bdc286d6-2c1c-46ae-b87d-aa7239dab185"
      },
      "outputs": [
        {
          "output_type": "stream",
          "name": "stdout",
          "text": [
            " * sqlite://\n",
            "Done.\n"
          ]
        },
        {
          "output_type": "execute_result",
          "data": {
            "text/plain": [
              "[('Andorra', 'Andorra'),\n",
              " ('Daugavpils', 'Latvia'),\n",
              " ('Podgorica', 'Montenegro'),\n",
              " ('Riga', 'Latvia'),\n",
              " ('Tallinn', 'Estonia'),\n",
              " ('Tartu', 'Estonia')]"
            ],
            "text/html": [
              "<table>\n",
              "    <tr>\n",
              "        <th>city</th>\n",
              "        <th>country</th>\n",
              "    </tr>\n",
              "    <tr>\n",
              "        <td>Andorra</td>\n",
              "        <td>Andorra</td>\n",
              "    </tr>\n",
              "    <tr>\n",
              "        <td>Daugavpils</td>\n",
              "        <td>Latvia</td>\n",
              "    </tr>\n",
              "    <tr>\n",
              "        <td>Podgorica</td>\n",
              "        <td>Montenegro</td>\n",
              "    </tr>\n",
              "    <tr>\n",
              "        <td>Riga</td>\n",
              "        <td>Latvia</td>\n",
              "    </tr>\n",
              "    <tr>\n",
              "        <td>Tallinn</td>\n",
              "        <td>Estonia</td>\n",
              "    </tr>\n",
              "    <tr>\n",
              "        <td>Tartu</td>\n",
              "        <td>Estonia</td>\n",
              "    </tr>\n",
              "</table>"
            ]
          },
          "metadata": {},
          "execution_count": 132
        }
      ],
      "source": [
        "%%sql\n",
        "SELECT city, country\n",
        "FROM Cities\n",
        "WHERE country IN (SELECT country FROM Countries WHERE population < 2);\n"
      ]
    },
    {
      "cell_type": "markdown",
      "metadata": {
        "collapsed": true,
        "id": "TNovWh5Qjqu1"
      },
      "source": [
        "*Find all countries with no city having a temperature > 6*"
      ]
    },
    {
      "cell_type": "code",
      "execution_count": 133,
      "metadata": {
        "id": "C-NkjEqPjqu1",
        "colab": {
          "base_uri": "https://localhost:8080/",
          "height": 267
        },
        "outputId": "2e073227-712a-4c62-aad2-addf1a16995a"
      },
      "outputs": [
        {
          "output_type": "stream",
          "name": "stdout",
          "text": [
            " * sqlite://\n",
            "Done.\n"
          ]
        },
        {
          "output_type": "execute_result",
          "data": {
            "text/plain": [
              "[('Cyprus',),\n",
              " ('Estonia',),\n",
              " ('Finland',),\n",
              " ('Iceland',),\n",
              " ('Kosovo',),\n",
              " ('Latvia',),\n",
              " ('Liechtenstein',),\n",
              " ('Luxembourg',),\n",
              " ('Norway',)]"
            ],
            "text/html": [
              "<table>\n",
              "    <tr>\n",
              "        <th>country</th>\n",
              "    </tr>\n",
              "    <tr>\n",
              "        <td>Cyprus</td>\n",
              "    </tr>\n",
              "    <tr>\n",
              "        <td>Estonia</td>\n",
              "    </tr>\n",
              "    <tr>\n",
              "        <td>Finland</td>\n",
              "    </tr>\n",
              "    <tr>\n",
              "        <td>Iceland</td>\n",
              "    </tr>\n",
              "    <tr>\n",
              "        <td>Kosovo</td>\n",
              "    </tr>\n",
              "    <tr>\n",
              "        <td>Latvia</td>\n",
              "    </tr>\n",
              "    <tr>\n",
              "        <td>Liechtenstein</td>\n",
              "    </tr>\n",
              "    <tr>\n",
              "        <td>Luxembourg</td>\n",
              "    </tr>\n",
              "    <tr>\n",
              "        <td>Norway</td>\n",
              "    </tr>\n",
              "</table>"
            ]
          },
          "metadata": {},
          "execution_count": 133
        }
      ],
      "source": [
        "%%sql\n",
        "SELECT country\n",
        "FROM Countries\n",
        "WHERE country NOT IN (\n",
        "    SELECT DISTINCT Cities.country\n",
        "    FROM Cities\n",
        "    WHERE Cities.temperature > 6\n",
        ");\n"
      ]
    },
    {
      "cell_type": "markdown",
      "metadata": {
        "collapsed": true,
        "id": "Ou4jykG_jqu1"
      },
      "source": [
        "*Now try to write the same query without a subquery; can you?*"
      ]
    },
    {
      "cell_type": "code",
      "source": [
        "%%sql\n",
        "SELECT country\n",
        "FROM Countries\n",
        "WHERE country NOT IN (\n",
        "    SELECT DISTINCT Cities.country\n",
        "    FROM Cities\n",
        "    WHERE Cities.temperature > 6\n",
        ");\n"
      ],
      "metadata": {
        "colab": {
          "base_uri": "https://localhost:8080/",
          "height": 267
        },
        "id": "VQF-axAxaLt6",
        "outputId": "46c81cef-bac3-4c63-de09-ac898ff237b4"
      },
      "execution_count": 134,
      "outputs": [
        {
          "output_type": "stream",
          "name": "stdout",
          "text": [
            " * sqlite://\n",
            "Done.\n"
          ]
        },
        {
          "output_type": "execute_result",
          "data": {
            "text/plain": [
              "[('Cyprus',),\n",
              " ('Estonia',),\n",
              " ('Finland',),\n",
              " ('Iceland',),\n",
              " ('Kosovo',),\n",
              " ('Latvia',),\n",
              " ('Liechtenstein',),\n",
              " ('Luxembourg',),\n",
              " ('Norway',)]"
            ],
            "text/html": [
              "<table>\n",
              "    <tr>\n",
              "        <th>country</th>\n",
              "    </tr>\n",
              "    <tr>\n",
              "        <td>Cyprus</td>\n",
              "    </tr>\n",
              "    <tr>\n",
              "        <td>Estonia</td>\n",
              "    </tr>\n",
              "    <tr>\n",
              "        <td>Finland</td>\n",
              "    </tr>\n",
              "    <tr>\n",
              "        <td>Iceland</td>\n",
              "    </tr>\n",
              "    <tr>\n",
              "        <td>Kosovo</td>\n",
              "    </tr>\n",
              "    <tr>\n",
              "        <td>Latvia</td>\n",
              "    </tr>\n",
              "    <tr>\n",
              "        <td>Liechtenstein</td>\n",
              "    </tr>\n",
              "    <tr>\n",
              "        <td>Luxembourg</td>\n",
              "    </tr>\n",
              "    <tr>\n",
              "        <td>Norway</td>\n",
              "    </tr>\n",
              "</table>"
            ]
          },
          "metadata": {},
          "execution_count": 134
        }
      ]
    },
    {
      "cell_type": "markdown",
      "metadata": {
        "id": "B0_jFJXVjqu2"
      },
      "source": [
        "### Aggregation with Having clause"
      ]
    },
    {
      "cell_type": "markdown",
      "metadata": {
        "id": "hLoPbUi3jqu2"
      },
      "source": [
        "*Find all countries with average city temperature > 10; return country and average temperature*"
      ]
    },
    {
      "cell_type": "code",
      "execution_count": 135,
      "metadata": {
        "id": "MPalPDUXjqu2",
        "colab": {
          "base_uri": "https://localhost:8080/",
          "height": 267
        },
        "outputId": "d7526d02-72f6-48cf-be73-a5b697a139ae"
      },
      "outputs": [
        {
          "output_type": "stream",
          "name": "stdout",
          "text": [
            " * sqlite://\n",
            "Done.\n"
          ]
        },
        {
          "output_type": "execute_result",
          "data": {
            "text/plain": [
              "[('Albania', 15.18),\n",
              " ('Bulgaria', 10.44),\n",
              " ('Croatia', 10.865),\n",
              " ('France', 10.151111111111112),\n",
              " ('Greece', 16.9025),\n",
              " ('Italy', 13.474666666666668),\n",
              " ('Portugal', 14.469999999999999),\n",
              " ('Spain', 14.238333333333332),\n",
              " ('Turkey', 11.726666666666665)]"
            ],
            "text/html": [
              "<table>\n",
              "    <tr>\n",
              "        <th>country</th>\n",
              "        <th>avg(temperature)</th>\n",
              "    </tr>\n",
              "    <tr>\n",
              "        <td>Albania</td>\n",
              "        <td>15.18</td>\n",
              "    </tr>\n",
              "    <tr>\n",
              "        <td>Bulgaria</td>\n",
              "        <td>10.44</td>\n",
              "    </tr>\n",
              "    <tr>\n",
              "        <td>Croatia</td>\n",
              "        <td>10.865</td>\n",
              "    </tr>\n",
              "    <tr>\n",
              "        <td>France</td>\n",
              "        <td>10.151111111111112</td>\n",
              "    </tr>\n",
              "    <tr>\n",
              "        <td>Greece</td>\n",
              "        <td>16.9025</td>\n",
              "    </tr>\n",
              "    <tr>\n",
              "        <td>Italy</td>\n",
              "        <td>13.474666666666668</td>\n",
              "    </tr>\n",
              "    <tr>\n",
              "        <td>Portugal</td>\n",
              "        <td>14.469999999999999</td>\n",
              "    </tr>\n",
              "    <tr>\n",
              "        <td>Spain</td>\n",
              "        <td>14.238333333333332</td>\n",
              "    </tr>\n",
              "    <tr>\n",
              "        <td>Turkey</td>\n",
              "        <td>11.726666666666665</td>\n",
              "    </tr>\n",
              "</table>"
            ]
          },
          "metadata": {},
          "execution_count": 135
        }
      ],
      "source": [
        "%%sql\n",
        "select country, avg(temperature)\n",
        "from Cities\n",
        "group by country\n",
        "having avg(temperature) > 10"
      ]
    },
    {
      "cell_type": "markdown",
      "metadata": {
        "id": "eIRmbgnTjqu2"
      },
      "source": [
        "*Find all countries with more than 5 cities above latitude 50*"
      ]
    },
    {
      "cell_type": "code",
      "execution_count": 136,
      "metadata": {
        "id": "hYeRiaPOjqu2",
        "colab": {
          "base_uri": "https://localhost:8080/",
          "height": 182
        },
        "outputId": "61e48685-9160-4cde-c12e-c0ead2fb913b"
      },
      "outputs": [
        {
          "output_type": "stream",
          "name": "stdout",
          "text": [
            " * sqlite://\n",
            "Done.\n"
          ]
        },
        {
          "output_type": "execute_result",
          "data": {
            "text/plain": [
              "[('Belarus',), ('Germany',), ('Poland',), ('Sweden',), ('United Kingdom',)]"
            ],
            "text/html": [
              "<table>\n",
              "    <tr>\n",
              "        <th>country</th>\n",
              "    </tr>\n",
              "    <tr>\n",
              "        <td>Belarus</td>\n",
              "    </tr>\n",
              "    <tr>\n",
              "        <td>Germany</td>\n",
              "    </tr>\n",
              "    <tr>\n",
              "        <td>Poland</td>\n",
              "    </tr>\n",
              "    <tr>\n",
              "        <td>Sweden</td>\n",
              "    </tr>\n",
              "    <tr>\n",
              "        <td>United Kingdom</td>\n",
              "    </tr>\n",
              "</table>"
            ]
          },
          "metadata": {},
          "execution_count": 136
        }
      ],
      "source": [
        "%%sql\n",
        "select country\n",
        "from Cities\n",
        "where latitude > 50\n",
        "group by country\n",
        "having count() > 5"
      ]
    },
    {
      "cell_type": "markdown",
      "metadata": {
        "id": "cG8aJkgQjqu2"
      },
      "source": [
        "*Same query without Having clause*"
      ]
    },
    {
      "cell_type": "code",
      "execution_count": 137,
      "metadata": {
        "id": "PEvw-2wSjqu2",
        "colab": {
          "base_uri": "https://localhost:8080/",
          "height": 182
        },
        "outputId": "3d4ef74b-f747-41ec-9952-6337e2858deb"
      },
      "outputs": [
        {
          "output_type": "stream",
          "name": "stdout",
          "text": [
            " * sqlite://\n",
            "Done.\n"
          ]
        },
        {
          "output_type": "execute_result",
          "data": {
            "text/plain": [
              "[('United Kingdom',), ('Sweden',), ('Germany',), ('Poland',), ('Belarus',)]"
            ],
            "text/html": [
              "<table>\n",
              "    <tr>\n",
              "        <th>country</th>\n",
              "    </tr>\n",
              "    <tr>\n",
              "        <td>United Kingdom</td>\n",
              "    </tr>\n",
              "    <tr>\n",
              "        <td>Sweden</td>\n",
              "    </tr>\n",
              "    <tr>\n",
              "        <td>Germany</td>\n",
              "    </tr>\n",
              "    <tr>\n",
              "        <td>Poland</td>\n",
              "    </tr>\n",
              "    <tr>\n",
              "        <td>Belarus</td>\n",
              "    </tr>\n",
              "</table>"
            ]
          },
          "metadata": {},
          "execution_count": 137
        }
      ],
      "source": [
        "%%sql\n",
        "select distinct country\n",
        "from Cities C1\n",
        "where 5 < (select count() from Cities C2\n",
        "           where C1.country=C2.country\n",
        "           and latitude > 50)"
      ]
    },
    {
      "cell_type": "markdown",
      "metadata": {
        "id": "DfU4TVhBjqu2"
      },
      "source": [
        "*Which combinations of EU versus non-EU and coastline versus no-coastline have a minimum population greater than 0.5?*"
      ]
    },
    {
      "cell_type": "code",
      "execution_count": 138,
      "metadata": {
        "id": "_xe8MlUAjqu3",
        "colab": {
          "base_uri": "https://localhost:8080/",
          "height": 118
        },
        "outputId": "d77ab673-2e5e-42f8-9f14-79f9f7a7c9cf"
      },
      "outputs": [
        {
          "output_type": "stream",
          "name": "stdout",
          "text": [
            " * sqlite://\n",
            "Done.\n"
          ]
        },
        {
          "output_type": "execute_result",
          "data": {
            "text/plain": [
              "[('yes', 'no', 0.58), ('yes', 'yes', 1.18)]"
            ],
            "text/html": [
              "<table>\n",
              "    <tr>\n",
              "        <th>EU</th>\n",
              "        <th>coastline</th>\n",
              "        <th>min(population)</th>\n",
              "    </tr>\n",
              "    <tr>\n",
              "        <td>yes</td>\n",
              "        <td>no</td>\n",
              "        <td>0.58</td>\n",
              "    </tr>\n",
              "    <tr>\n",
              "        <td>yes</td>\n",
              "        <td>yes</td>\n",
              "        <td>1.18</td>\n",
              "    </tr>\n",
              "</table>"
            ]
          },
          "metadata": {},
          "execution_count": 138
        }
      ],
      "source": [
        "%%sql\n",
        "select EU, coastline, min(population)\n",
        "from Countries\n",
        "group by EU, coastline\n",
        "having min(population) > 0.5"
      ]
    },
    {
      "cell_type": "markdown",
      "metadata": {
        "id": "OM62WPbtjqu3"
      },
      "source": [
        "*Find all countries with average city temperature more than 50% higher than the overall average; return country and average temperature*"
      ]
    },
    {
      "cell_type": "code",
      "execution_count": 139,
      "metadata": {
        "id": "6Rv3dEK9jqu3",
        "colab": {
          "base_uri": "https://localhost:8080/",
          "height": 139
        },
        "outputId": "4eda51b8-e790-49fa-f6a9-7a51c25eb119"
      },
      "outputs": [
        {
          "output_type": "stream",
          "name": "stdout",
          "text": [
            " * sqlite://\n",
            "Done.\n"
          ]
        },
        {
          "output_type": "execute_result",
          "data": {
            "text/plain": [
              "[('Albania', 15.18), ('Greece', 16.9025), ('Portugal', 14.469999999999999)]"
            ],
            "text/html": [
              "<table>\n",
              "    <tr>\n",
              "        <th>country</th>\n",
              "        <th>avg(temperature)</th>\n",
              "    </tr>\n",
              "    <tr>\n",
              "        <td>Albania</td>\n",
              "        <td>15.18</td>\n",
              "    </tr>\n",
              "    <tr>\n",
              "        <td>Greece</td>\n",
              "        <td>16.9025</td>\n",
              "    </tr>\n",
              "    <tr>\n",
              "        <td>Portugal</td>\n",
              "        <td>14.469999999999999</td>\n",
              "    </tr>\n",
              "</table>"
            ]
          },
          "metadata": {},
          "execution_count": 139
        }
      ],
      "source": [
        "%%sql\n",
        "select country, avg(temperature)\n",
        "from Cities\n",
        "group by country\n",
        "having avg(temperature) > (select 1.5 * avg(temperature) from Cities)"
      ]
    },
    {
      "cell_type": "markdown",
      "metadata": {
        "id": "b6tSTeCFjqu3"
      },
      "source": [
        "### <font color = 'green'>**Your Turn**</font>"
      ]
    },
    {
      "cell_type": "markdown",
      "metadata": {
        "collapsed": true,
        "id": "dGXjukddjqu3"
      },
      "source": [
        "*Find all countries whose average city longitude is lower than the overall average longitude, and whose average city latitude is higher than the overall average latitude. Return the countries. Note: Yes, you can use \"and\" in Having clauses!*"
      ]
    },
    {
      "cell_type": "code",
      "execution_count": 140,
      "metadata": {
        "id": "CqzpMFZCjqu3",
        "colab": {
          "base_uri": "https://localhost:8080/",
          "height": 246
        },
        "outputId": "b4fcd4de-a66b-4e2b-a316-5afb716b2937"
      },
      "outputs": [
        {
          "output_type": "stream",
          "name": "stdout",
          "text": [
            " * sqlite://\n",
            "Done.\n"
          ]
        },
        {
          "output_type": "execute_result",
          "data": {
            "text/plain": [
              "[('Austria',),\n",
              " ('Belgium',),\n",
              " ('Denmark',),\n",
              " ('Germany',),\n",
              " ('Ireland',),\n",
              " ('Netherlands',),\n",
              " ('Norway',),\n",
              " ('United Kingdom',)]"
            ],
            "text/html": [
              "<table>\n",
              "    <tr>\n",
              "        <th>country</th>\n",
              "    </tr>\n",
              "    <tr>\n",
              "        <td>Austria</td>\n",
              "    </tr>\n",
              "    <tr>\n",
              "        <td>Belgium</td>\n",
              "    </tr>\n",
              "    <tr>\n",
              "        <td>Denmark</td>\n",
              "    </tr>\n",
              "    <tr>\n",
              "        <td>Germany</td>\n",
              "    </tr>\n",
              "    <tr>\n",
              "        <td>Ireland</td>\n",
              "    </tr>\n",
              "    <tr>\n",
              "        <td>Netherlands</td>\n",
              "    </tr>\n",
              "    <tr>\n",
              "        <td>Norway</td>\n",
              "    </tr>\n",
              "    <tr>\n",
              "        <td>United Kingdom</td>\n",
              "    </tr>\n",
              "</table>"
            ]
          },
          "metadata": {},
          "execution_count": 140
        }
      ],
      "source": [
        "%%sql\n",
        "SELECT country\n",
        "FROM Cities\n",
        "GROUP BY country\n",
        "HAVING AVG(longitude) < (SELECT AVG(longitude) FROM Cities)\n",
        "   AND AVG(latitude) > (SELECT AVG(latitude) FROM Cities);\n"
      ]
    },
    {
      "cell_type": "markdown",
      "metadata": {
        "id": "6OzH-b-Pjqu3"
      },
      "source": [
        "### Subqueries in From and Select clauses"
      ]
    },
    {
      "cell_type": "markdown",
      "metadata": {
        "id": "_ycg95usjqu3"
      },
      "source": [
        "*Find all countries with both cold and warm cities -- at least one city with temperature < 9 and one city with temperature > 14*"
      ]
    },
    {
      "cell_type": "code",
      "execution_count": 141,
      "metadata": {
        "id": "tooB3VFnjqu4",
        "colab": {
          "base_uri": "https://localhost:8080/",
          "height": 139
        },
        "outputId": "253a795a-384c-46cb-d5af-96b3b4dcb5ea"
      },
      "outputs": [
        {
          "output_type": "stream",
          "name": "stdout",
          "text": [
            " * sqlite://\n",
            "Done.\n"
          ]
        },
        {
          "output_type": "execute_result",
          "data": {
            "text/plain": [
              "[('France',), ('Turkey',), ('Italy',)]"
            ],
            "text/html": [
              "<table>\n",
              "    <tr>\n",
              "        <th>country</th>\n",
              "    </tr>\n",
              "    <tr>\n",
              "        <td>France</td>\n",
              "    </tr>\n",
              "    <tr>\n",
              "        <td>Turkey</td>\n",
              "    </tr>\n",
              "    <tr>\n",
              "        <td>Italy</td>\n",
              "    </tr>\n",
              "</table>"
            ]
          },
          "metadata": {},
          "execution_count": 141
        }
      ],
      "source": [
        "%%sql\n",
        "select distinct C1.country\n",
        "from Cities C1, Cities C2\n",
        "where C1.country = C2.country\n",
        "and C1.temperature < 9 and C2.temperature > 14"
      ]
    },
    {
      "cell_type": "markdown",
      "metadata": {
        "id": "i7JcYZ1rjqu4"
      },
      "source": [
        "*Modify query to also return count of cold and warm cities (then show without column renaming)*"
      ]
    },
    {
      "cell_type": "code",
      "execution_count": 142,
      "metadata": {
        "id": "FvrWZ3Yqjqu4",
        "colab": {
          "base_uri": "https://localhost:8080/",
          "height": 1007
        },
        "outputId": "d47ae1b9-eccc-406d-ba85-9d6e62cd0f24"
      },
      "outputs": [
        {
          "output_type": "stream",
          "name": "stdout",
          "text": [
            " * sqlite://\n",
            "Done.\n"
          ]
        },
        {
          "output_type": "execute_result",
          "data": {
            "text/plain": [
              "[('Albania', 0, 1),\n",
              " ('Andorra', 0, 0),\n",
              " ('Austria', 5, 0),\n",
              " ('Belarus', 6, 0),\n",
              " ('Belgium', 0, 0),\n",
              " ('Bosnia and Herzegovina', 0, 0),\n",
              " ('Bulgaria', 1, 0),\n",
              " ('Croatia', 0, 0),\n",
              " ('Cyprus', 0, 0),\n",
              " ('Czech Republic', 3, 0),\n",
              " ('Denmark', 2, 0),\n",
              " ('Estonia', 2, 0),\n",
              " ('Finland', 4, 0),\n",
              " ('France', 5, 1),\n",
              " ('Germany', 14, 0),\n",
              " ('Greece', 0, 4),\n",
              " ('Hungary', 1, 0),\n",
              " ('Iceland', 0, 0),\n",
              " ('Ireland', 1, 0),\n",
              " ('Italy', 1, 7),\n",
              " ('Kosovo', 0, 0),\n",
              " ('Latvia', 2, 0),\n",
              " ('Liechtenstein', 0, 0),\n",
              " ('Lithuania', 3, 0),\n",
              " ('Luxembourg', 0, 0),\n",
              " ('Macedonia', 0, 0),\n",
              " ('Moldova', 2, 0),\n",
              " ('Montenegro', 0, 0),\n",
              " ('Netherlands', 3, 0),\n",
              " ('Norway', 5, 0),\n",
              " ('Poland', 9, 0),\n",
              " ('Portugal', 0, 1),\n",
              " ('Romania', 4, 0),\n",
              " ('Serbia', 0, 0),\n",
              " ('Slovakia', 1, 0),\n",
              " ('Slovenia', 0, 0),\n",
              " ('Spain', 0, 10),\n",
              " ('Sweden', 6, 0),\n",
              " ('Switzerland', 3, 0),\n",
              " ('Turkey', 4, 5),\n",
              " ('Ukraine', 14, 0),\n",
              " ('United Kingdom', 8, 0)]"
            ],
            "text/html": [
              "<table>\n",
              "    <tr>\n",
              "        <th>country</th>\n",
              "        <th>(SELECT COUNT(*) FROM Cities WHERE country = C1.country AND temperature &lt; 9)</th>\n",
              "        <th>(SELECT COUNT(*) FROM Cities WHERE country = C1.country AND temperature &gt; 14)</th>\n",
              "    </tr>\n",
              "    <tr>\n",
              "        <td>Albania</td>\n",
              "        <td>0</td>\n",
              "        <td>1</td>\n",
              "    </tr>\n",
              "    <tr>\n",
              "        <td>Andorra</td>\n",
              "        <td>0</td>\n",
              "        <td>0</td>\n",
              "    </tr>\n",
              "    <tr>\n",
              "        <td>Austria</td>\n",
              "        <td>5</td>\n",
              "        <td>0</td>\n",
              "    </tr>\n",
              "    <tr>\n",
              "        <td>Belarus</td>\n",
              "        <td>6</td>\n",
              "        <td>0</td>\n",
              "    </tr>\n",
              "    <tr>\n",
              "        <td>Belgium</td>\n",
              "        <td>0</td>\n",
              "        <td>0</td>\n",
              "    </tr>\n",
              "    <tr>\n",
              "        <td>Bosnia and Herzegovina</td>\n",
              "        <td>0</td>\n",
              "        <td>0</td>\n",
              "    </tr>\n",
              "    <tr>\n",
              "        <td>Bulgaria</td>\n",
              "        <td>1</td>\n",
              "        <td>0</td>\n",
              "    </tr>\n",
              "    <tr>\n",
              "        <td>Croatia</td>\n",
              "        <td>0</td>\n",
              "        <td>0</td>\n",
              "    </tr>\n",
              "    <tr>\n",
              "        <td>Cyprus</td>\n",
              "        <td>0</td>\n",
              "        <td>0</td>\n",
              "    </tr>\n",
              "    <tr>\n",
              "        <td>Czech Republic</td>\n",
              "        <td>3</td>\n",
              "        <td>0</td>\n",
              "    </tr>\n",
              "    <tr>\n",
              "        <td>Denmark</td>\n",
              "        <td>2</td>\n",
              "        <td>0</td>\n",
              "    </tr>\n",
              "    <tr>\n",
              "        <td>Estonia</td>\n",
              "        <td>2</td>\n",
              "        <td>0</td>\n",
              "    </tr>\n",
              "    <tr>\n",
              "        <td>Finland</td>\n",
              "        <td>4</td>\n",
              "        <td>0</td>\n",
              "    </tr>\n",
              "    <tr>\n",
              "        <td>France</td>\n",
              "        <td>5</td>\n",
              "        <td>1</td>\n",
              "    </tr>\n",
              "    <tr>\n",
              "        <td>Germany</td>\n",
              "        <td>14</td>\n",
              "        <td>0</td>\n",
              "    </tr>\n",
              "    <tr>\n",
              "        <td>Greece</td>\n",
              "        <td>0</td>\n",
              "        <td>4</td>\n",
              "    </tr>\n",
              "    <tr>\n",
              "        <td>Hungary</td>\n",
              "        <td>1</td>\n",
              "        <td>0</td>\n",
              "    </tr>\n",
              "    <tr>\n",
              "        <td>Iceland</td>\n",
              "        <td>0</td>\n",
              "        <td>0</td>\n",
              "    </tr>\n",
              "    <tr>\n",
              "        <td>Ireland</td>\n",
              "        <td>1</td>\n",
              "        <td>0</td>\n",
              "    </tr>\n",
              "    <tr>\n",
              "        <td>Italy</td>\n",
              "        <td>1</td>\n",
              "        <td>7</td>\n",
              "    </tr>\n",
              "    <tr>\n",
              "        <td>Kosovo</td>\n",
              "        <td>0</td>\n",
              "        <td>0</td>\n",
              "    </tr>\n",
              "    <tr>\n",
              "        <td>Latvia</td>\n",
              "        <td>2</td>\n",
              "        <td>0</td>\n",
              "    </tr>\n",
              "    <tr>\n",
              "        <td>Liechtenstein</td>\n",
              "        <td>0</td>\n",
              "        <td>0</td>\n",
              "    </tr>\n",
              "    <tr>\n",
              "        <td>Lithuania</td>\n",
              "        <td>3</td>\n",
              "        <td>0</td>\n",
              "    </tr>\n",
              "    <tr>\n",
              "        <td>Luxembourg</td>\n",
              "        <td>0</td>\n",
              "        <td>0</td>\n",
              "    </tr>\n",
              "    <tr>\n",
              "        <td>Macedonia</td>\n",
              "        <td>0</td>\n",
              "        <td>0</td>\n",
              "    </tr>\n",
              "    <tr>\n",
              "        <td>Moldova</td>\n",
              "        <td>2</td>\n",
              "        <td>0</td>\n",
              "    </tr>\n",
              "    <tr>\n",
              "        <td>Montenegro</td>\n",
              "        <td>0</td>\n",
              "        <td>0</td>\n",
              "    </tr>\n",
              "    <tr>\n",
              "        <td>Netherlands</td>\n",
              "        <td>3</td>\n",
              "        <td>0</td>\n",
              "    </tr>\n",
              "    <tr>\n",
              "        <td>Norway</td>\n",
              "        <td>5</td>\n",
              "        <td>0</td>\n",
              "    </tr>\n",
              "    <tr>\n",
              "        <td>Poland</td>\n",
              "        <td>9</td>\n",
              "        <td>0</td>\n",
              "    </tr>\n",
              "    <tr>\n",
              "        <td>Portugal</td>\n",
              "        <td>0</td>\n",
              "        <td>1</td>\n",
              "    </tr>\n",
              "    <tr>\n",
              "        <td>Romania</td>\n",
              "        <td>4</td>\n",
              "        <td>0</td>\n",
              "    </tr>\n",
              "    <tr>\n",
              "        <td>Serbia</td>\n",
              "        <td>0</td>\n",
              "        <td>0</td>\n",
              "    </tr>\n",
              "    <tr>\n",
              "        <td>Slovakia</td>\n",
              "        <td>1</td>\n",
              "        <td>0</td>\n",
              "    </tr>\n",
              "    <tr>\n",
              "        <td>Slovenia</td>\n",
              "        <td>0</td>\n",
              "        <td>0</td>\n",
              "    </tr>\n",
              "    <tr>\n",
              "        <td>Spain</td>\n",
              "        <td>0</td>\n",
              "        <td>10</td>\n",
              "    </tr>\n",
              "    <tr>\n",
              "        <td>Sweden</td>\n",
              "        <td>6</td>\n",
              "        <td>0</td>\n",
              "    </tr>\n",
              "    <tr>\n",
              "        <td>Switzerland</td>\n",
              "        <td>3</td>\n",
              "        <td>0</td>\n",
              "    </tr>\n",
              "    <tr>\n",
              "        <td>Turkey</td>\n",
              "        <td>4</td>\n",
              "        <td>5</td>\n",
              "    </tr>\n",
              "    <tr>\n",
              "        <td>Ukraine</td>\n",
              "        <td>14</td>\n",
              "        <td>0</td>\n",
              "    </tr>\n",
              "    <tr>\n",
              "        <td>United Kingdom</td>\n",
              "        <td>8</td>\n",
              "        <td>0</td>\n",
              "    </tr>\n",
              "</table>"
            ]
          },
          "metadata": {},
          "execution_count": 142
        }
      ],
      "source": [
        "%%sql\n",
        "SELECT\n",
        "    C1.country,\n",
        "    (SELECT COUNT(*) FROM Cities WHERE country = C1.country AND temperature < 9),\n",
        "    (SELECT COUNT(*) FROM Cities WHERE country = C1.country AND temperature > 14)\n",
        "FROM Countries C1;\n"
      ]
    },
    {
      "cell_type": "markdown",
      "metadata": {
        "id": "Tz0dx8EXjqu4"
      },
      "source": [
        "*Same query using subquery in From clause instead of Select clause*"
      ]
    },
    {
      "cell_type": "code",
      "execution_count": 143,
      "metadata": {
        "id": "3CwHrn3hjqu4",
        "colab": {
          "base_uri": "https://localhost:8080/",
          "height": 139
        },
        "outputId": "0ea2052e-4749-4355-af9e-618030f6e1e1"
      },
      "outputs": [
        {
          "output_type": "stream",
          "name": "stdout",
          "text": [
            " * sqlite://\n",
            "Done.\n"
          ]
        },
        {
          "output_type": "execute_result",
          "data": {
            "text/plain": [
              "[('France', 5, 1), ('Italy', 1, 7), ('Turkey', 4, 5)]"
            ],
            "text/html": [
              "<table>\n",
              "    <tr>\n",
              "        <th>country</th>\n",
              "        <th>numcold</th>\n",
              "        <th>numwarm</th>\n",
              "    </tr>\n",
              "    <tr>\n",
              "        <td>France</td>\n",
              "        <td>5</td>\n",
              "        <td>1</td>\n",
              "    </tr>\n",
              "    <tr>\n",
              "        <td>Italy</td>\n",
              "        <td>1</td>\n",
              "        <td>7</td>\n",
              "    </tr>\n",
              "    <tr>\n",
              "        <td>Turkey</td>\n",
              "        <td>4</td>\n",
              "        <td>5</td>\n",
              "    </tr>\n",
              "</table>"
            ]
          },
          "metadata": {},
          "execution_count": 143
        }
      ],
      "source": [
        "%%sql\n",
        "select Cold.country, numcold, numwarm\n",
        "from (select country, count() as numcold from Cities\n",
        "      where temperature < 9 group by country) Cold,\n",
        "     (select country, count() as numwarm from Cities\n",
        "      where temperature > 14 group by country) Warm\n",
        "where Cold.country = Warm.country"
      ]
    },
    {
      "cell_type": "markdown",
      "metadata": {
        "id": "-Tzq24_Fjqu4"
      },
      "source": [
        "### Data modification"
      ]
    },
    {
      "cell_type": "markdown",
      "metadata": {
        "id": "h7CEpLdMjqu4"
      },
      "source": [
        "*Increase all city temperatures by 10%*"
      ]
    },
    {
      "cell_type": "code",
      "execution_count": 144,
      "metadata": {
        "id": "dBXWv4xRjqu4",
        "colab": {
          "base_uri": "https://localhost:8080/",
          "height": 0
        },
        "outputId": "08a15671-ba46-497e-8183-de261b8e2ab8"
      },
      "outputs": [
        {
          "output_type": "stream",
          "name": "stdout",
          "text": [
            " * sqlite://\n",
            "213 rows affected.\n"
          ]
        },
        {
          "output_type": "execute_result",
          "data": {
            "text/plain": [
              "[]"
            ]
          },
          "metadata": {},
          "execution_count": 144
        }
      ],
      "source": [
        "%%sql\n",
        "update Cities\n",
        "set temperature = 1.1 * temperature"
      ]
    },
    {
      "cell_type": "code",
      "execution_count": 145,
      "metadata": {
        "id": "lMdzqmqijqu4",
        "colab": {
          "base_uri": "https://localhost:8080/",
          "height": 96
        },
        "outputId": "9f865d20-853d-4648-c4c2-74e4be0b0de9"
      },
      "outputs": [
        {
          "output_type": "stream",
          "name": "stdout",
          "text": [
            " * sqlite://\n",
            "Done.\n"
          ]
        },
        {
          "output_type": "execute_result",
          "data": {
            "text/plain": [
              "[(10.447624413145537,)]"
            ],
            "text/html": [
              "<table>\n",
              "    <tr>\n",
              "        <th>avg(temperature)</th>\n",
              "    </tr>\n",
              "    <tr>\n",
              "        <td>10.447624413145537</td>\n",
              "    </tr>\n",
              "</table>"
            ]
          },
          "metadata": {},
          "execution_count": 145
        }
      ],
      "source": [
        "%%sql\n",
        "select avg(temperature) from Cities"
      ]
    },
    {
      "cell_type": "markdown",
      "metadata": {
        "id": "EJpWr7I-jqu5"
      },
      "source": [
        "*Increase temperatures another 10% for cities in countries with coastline*"
      ]
    },
    {
      "cell_type": "code",
      "execution_count": 146,
      "metadata": {
        "id": "pzASCiYLjqu5",
        "colab": {
          "base_uri": "https://localhost:8080/",
          "height": 0
        },
        "outputId": "90379bfd-77fb-4fd9-9529-0b0ab956ed3f"
      },
      "outputs": [
        {
          "output_type": "stream",
          "name": "stdout",
          "text": [
            " * sqlite://\n",
            "183 rows affected.\n"
          ]
        },
        {
          "output_type": "execute_result",
          "data": {
            "text/plain": [
              "[]"
            ]
          },
          "metadata": {},
          "execution_count": 146
        }
      ],
      "source": [
        "%%sql\n",
        "update Cities\n",
        "set temperature = 1.1 * temperature\n",
        "where country in (select country from Countries\n",
        "                  where coastline = 'yes')"
      ]
    },
    {
      "cell_type": "markdown",
      "metadata": {
        "id": "6_ub00h4jqu5"
      },
      "source": [
        "*Delete all cities in Turkey*"
      ]
    },
    {
      "cell_type": "code",
      "execution_count": 147,
      "metadata": {
        "id": "nTk8K9i2jqu5",
        "colab": {
          "base_uri": "https://localhost:8080/",
          "height": 0
        },
        "outputId": "392e461b-f371-4a09-bd3d-74b0618363b0"
      },
      "outputs": [
        {
          "output_type": "stream",
          "name": "stdout",
          "text": [
            " * sqlite://\n",
            "24 rows affected.\n"
          ]
        },
        {
          "output_type": "execute_result",
          "data": {
            "text/plain": [
              "[]"
            ]
          },
          "metadata": {},
          "execution_count": 147
        }
      ],
      "source": [
        "%%sql\n",
        "delete from Cities\n",
        "where country = 'Turkey'"
      ]
    },
    {
      "cell_type": "markdown",
      "metadata": {
        "id": "PnCUpYMzjqu5"
      },
      "source": [
        "*Create a new table NonEU containing list of cities (with country) not in the EU*"
      ]
    },
    {
      "cell_type": "code",
      "execution_count": 148,
      "metadata": {
        "id": "E0kD-KPojqu5",
        "colab": {
          "base_uri": "https://localhost:8080/",
          "height": 960
        },
        "outputId": "5f90472c-9080-4b98-9fb1-68a2f210d69b"
      },
      "outputs": [
        {
          "output_type": "stream",
          "name": "stdout",
          "text": [
            " * sqlite://\n",
            "Done.\n",
            "Done.\n",
            "39 rows affected.\n",
            "Done.\n"
          ]
        },
        {
          "output_type": "execute_result",
          "data": {
            "text/plain": [
              "[('Andorra', 'Andorra'),\n",
              " ('Balti', 'Moldova'),\n",
              " ('Basel', 'Switzerland'),\n",
              " ('Belgrade', 'Serbia'),\n",
              " ('Bergen', 'Norway'),\n",
              " ('Bila Tserkva', 'Ukraine'),\n",
              " ('Bodo', 'Norway'),\n",
              " ('Brest', 'Belarus'),\n",
              " ('Cherkasy', 'Ukraine'),\n",
              " ('Chernihiv', 'Ukraine'),\n",
              " ('Chernivtsi', 'Ukraine'),\n",
              " ('Chisinau', 'Moldova'),\n",
              " ('Elbasan', 'Albania'),\n",
              " ('Geneva', 'Switzerland'),\n",
              " ('Horlivka', 'Ukraine'),\n",
              " ('Hrodna', 'Belarus'),\n",
              " ('Kherson', 'Ukraine'),\n",
              " ('Kiev', 'Ukraine'),\n",
              " ('Kremenchuk', 'Ukraine'),\n",
              " ('Kryvyy Rih', 'Ukraine'),\n",
              " ('Lvov', 'Ukraine'),\n",
              " ('Makiyivka', 'Ukraine'),\n",
              " ('Mazyr', 'Belarus'),\n",
              " ('Minsk', 'Belarus'),\n",
              " ('Nis', 'Serbia'),\n",
              " ('Novi Sad', 'Serbia'),\n",
              " ('Orsha', 'Belarus'),\n",
              " ('Oslo', 'Norway'),\n",
              " ('Pinsk', 'Belarus'),\n",
              " ('Podgorica', 'Montenegro'),\n",
              " ('Rivne', 'Ukraine'),\n",
              " ('Sarajevo', 'Bosnia and Herzegovina'),\n",
              " ('Skopje', 'Macedonia'),\n",
              " ('Stavanger', 'Norway'),\n",
              " ('Sumy', 'Ukraine'),\n",
              " ('Trondheim', 'Norway'),\n",
              " ('Yevpatoriya', 'Ukraine'),\n",
              " ('Zhytomyr', 'Ukraine'),\n",
              " ('Zurich', 'Switzerland')]"
            ],
            "text/html": [
              "<table>\n",
              "    <tr>\n",
              "        <th>city</th>\n",
              "        <th>country</th>\n",
              "    </tr>\n",
              "    <tr>\n",
              "        <td>Andorra</td>\n",
              "        <td>Andorra</td>\n",
              "    </tr>\n",
              "    <tr>\n",
              "        <td>Balti</td>\n",
              "        <td>Moldova</td>\n",
              "    </tr>\n",
              "    <tr>\n",
              "        <td>Basel</td>\n",
              "        <td>Switzerland</td>\n",
              "    </tr>\n",
              "    <tr>\n",
              "        <td>Belgrade</td>\n",
              "        <td>Serbia</td>\n",
              "    </tr>\n",
              "    <tr>\n",
              "        <td>Bergen</td>\n",
              "        <td>Norway</td>\n",
              "    </tr>\n",
              "    <tr>\n",
              "        <td>Bila Tserkva</td>\n",
              "        <td>Ukraine</td>\n",
              "    </tr>\n",
              "    <tr>\n",
              "        <td>Bodo</td>\n",
              "        <td>Norway</td>\n",
              "    </tr>\n",
              "    <tr>\n",
              "        <td>Brest</td>\n",
              "        <td>Belarus</td>\n",
              "    </tr>\n",
              "    <tr>\n",
              "        <td>Cherkasy</td>\n",
              "        <td>Ukraine</td>\n",
              "    </tr>\n",
              "    <tr>\n",
              "        <td>Chernihiv</td>\n",
              "        <td>Ukraine</td>\n",
              "    </tr>\n",
              "    <tr>\n",
              "        <td>Chernivtsi</td>\n",
              "        <td>Ukraine</td>\n",
              "    </tr>\n",
              "    <tr>\n",
              "        <td>Chisinau</td>\n",
              "        <td>Moldova</td>\n",
              "    </tr>\n",
              "    <tr>\n",
              "        <td>Elbasan</td>\n",
              "        <td>Albania</td>\n",
              "    </tr>\n",
              "    <tr>\n",
              "        <td>Geneva</td>\n",
              "        <td>Switzerland</td>\n",
              "    </tr>\n",
              "    <tr>\n",
              "        <td>Horlivka</td>\n",
              "        <td>Ukraine</td>\n",
              "    </tr>\n",
              "    <tr>\n",
              "        <td>Hrodna</td>\n",
              "        <td>Belarus</td>\n",
              "    </tr>\n",
              "    <tr>\n",
              "        <td>Kherson</td>\n",
              "        <td>Ukraine</td>\n",
              "    </tr>\n",
              "    <tr>\n",
              "        <td>Kiev</td>\n",
              "        <td>Ukraine</td>\n",
              "    </tr>\n",
              "    <tr>\n",
              "        <td>Kremenchuk</td>\n",
              "        <td>Ukraine</td>\n",
              "    </tr>\n",
              "    <tr>\n",
              "        <td>Kryvyy Rih</td>\n",
              "        <td>Ukraine</td>\n",
              "    </tr>\n",
              "    <tr>\n",
              "        <td>Lvov</td>\n",
              "        <td>Ukraine</td>\n",
              "    </tr>\n",
              "    <tr>\n",
              "        <td>Makiyivka</td>\n",
              "        <td>Ukraine</td>\n",
              "    </tr>\n",
              "    <tr>\n",
              "        <td>Mazyr</td>\n",
              "        <td>Belarus</td>\n",
              "    </tr>\n",
              "    <tr>\n",
              "        <td>Minsk</td>\n",
              "        <td>Belarus</td>\n",
              "    </tr>\n",
              "    <tr>\n",
              "        <td>Nis</td>\n",
              "        <td>Serbia</td>\n",
              "    </tr>\n",
              "    <tr>\n",
              "        <td>Novi Sad</td>\n",
              "        <td>Serbia</td>\n",
              "    </tr>\n",
              "    <tr>\n",
              "        <td>Orsha</td>\n",
              "        <td>Belarus</td>\n",
              "    </tr>\n",
              "    <tr>\n",
              "        <td>Oslo</td>\n",
              "        <td>Norway</td>\n",
              "    </tr>\n",
              "    <tr>\n",
              "        <td>Pinsk</td>\n",
              "        <td>Belarus</td>\n",
              "    </tr>\n",
              "    <tr>\n",
              "        <td>Podgorica</td>\n",
              "        <td>Montenegro</td>\n",
              "    </tr>\n",
              "    <tr>\n",
              "        <td>Rivne</td>\n",
              "        <td>Ukraine</td>\n",
              "    </tr>\n",
              "    <tr>\n",
              "        <td>Sarajevo</td>\n",
              "        <td>Bosnia and Herzegovina</td>\n",
              "    </tr>\n",
              "    <tr>\n",
              "        <td>Skopje</td>\n",
              "        <td>Macedonia</td>\n",
              "    </tr>\n",
              "    <tr>\n",
              "        <td>Stavanger</td>\n",
              "        <td>Norway</td>\n",
              "    </tr>\n",
              "    <tr>\n",
              "        <td>Sumy</td>\n",
              "        <td>Ukraine</td>\n",
              "    </tr>\n",
              "    <tr>\n",
              "        <td>Trondheim</td>\n",
              "        <td>Norway</td>\n",
              "    </tr>\n",
              "    <tr>\n",
              "        <td>Yevpatoriya</td>\n",
              "        <td>Ukraine</td>\n",
              "    </tr>\n",
              "    <tr>\n",
              "        <td>Zhytomyr</td>\n",
              "        <td>Ukraine</td>\n",
              "    </tr>\n",
              "    <tr>\n",
              "        <td>Zurich</td>\n",
              "        <td>Switzerland</td>\n",
              "    </tr>\n",
              "</table>"
            ]
          },
          "metadata": {},
          "execution_count": 148
        }
      ],
      "source": [
        "%%sql\n",
        "drop table if exists NonEU;\n",
        "create table NonEU(city, country);\n",
        "insert into NonEU\n",
        "  select city, country from cities\n",
        "  where country in (select country from Countries\n",
        "                    where EU = 'no');\n",
        "select * from NonEU"
      ]
    },
    {
      "cell_type": "markdown",
      "metadata": {
        "id": "4D38Dy3Ojqu5"
      },
      "source": [
        "*Add your city*"
      ]
    },
    {
      "cell_type": "code",
      "execution_count": 149,
      "metadata": {
        "id": "55UtFAJtjqu5",
        "colab": {
          "base_uri": "https://localhost:8080/",
          "height": 947
        },
        "outputId": "6acab410-581f-4606-f317-b1d1efccbe9a"
      },
      "outputs": [
        {
          "output_type": "stream",
          "name": "stdout",
          "text": [
            " * sqlite://\n",
            "1 rows affected.\n",
            "Done.\n"
          ]
        },
        {
          "output_type": "execute_result",
          "data": {
            "text/plain": [
              "[('Andorra', 'Andorra'),\n",
              " ('Balti', 'Moldova'),\n",
              " ('Basel', 'Switzerland'),\n",
              " ('Belgrade', 'Serbia'),\n",
              " ('Bergen', 'Norway'),\n",
              " ('Bila Tserkva', 'Ukraine'),\n",
              " ('Bodo', 'Norway'),\n",
              " ('Brest', 'Belarus'),\n",
              " ('Cherkasy', 'Ukraine'),\n",
              " ('Chernihiv', 'Ukraine'),\n",
              " ('Chernivtsi', 'Ukraine'),\n",
              " ('Chisinau', 'Moldova'),\n",
              " ('Elbasan', 'Albania'),\n",
              " ('Geneva', 'Switzerland'),\n",
              " ('Horlivka', 'Ukraine'),\n",
              " ('Hrodna', 'Belarus'),\n",
              " ('Kherson', 'Ukraine'),\n",
              " ('Kiev', 'Ukraine'),\n",
              " ('Kremenchuk', 'Ukraine'),\n",
              " ('Kryvyy Rih', 'Ukraine'),\n",
              " ('Lvov', 'Ukraine'),\n",
              " ('Makiyivka', 'Ukraine'),\n",
              " ('Mazyr', 'Belarus'),\n",
              " ('Minsk', 'Belarus'),\n",
              " ('Nis', 'Serbia'),\n",
              " ('Novi Sad', 'Serbia'),\n",
              " ('Orsha', 'Belarus'),\n",
              " ('Oslo', 'Norway'),\n",
              " ('Pinsk', 'Belarus'),\n",
              " ('Podgorica', 'Montenegro'),\n",
              " ('Rivne', 'Ukraine'),\n",
              " ('Sarajevo', 'Bosnia and Herzegovina'),\n",
              " ('Skopje', 'Macedonia'),\n",
              " ('Stavanger', 'Norway'),\n",
              " ('Sumy', 'Ukraine'),\n",
              " ('Trondheim', 'Norway'),\n",
              " ('Yevpatoriya', 'Ukraine'),\n",
              " ('Zhytomyr', 'Ukraine'),\n",
              " ('Zurich', 'Switzerland'),\n",
              " ('Manila', 'Philippines')]"
            ],
            "text/html": [
              "<table>\n",
              "    <tr>\n",
              "        <th>city</th>\n",
              "        <th>country</th>\n",
              "    </tr>\n",
              "    <tr>\n",
              "        <td>Andorra</td>\n",
              "        <td>Andorra</td>\n",
              "    </tr>\n",
              "    <tr>\n",
              "        <td>Balti</td>\n",
              "        <td>Moldova</td>\n",
              "    </tr>\n",
              "    <tr>\n",
              "        <td>Basel</td>\n",
              "        <td>Switzerland</td>\n",
              "    </tr>\n",
              "    <tr>\n",
              "        <td>Belgrade</td>\n",
              "        <td>Serbia</td>\n",
              "    </tr>\n",
              "    <tr>\n",
              "        <td>Bergen</td>\n",
              "        <td>Norway</td>\n",
              "    </tr>\n",
              "    <tr>\n",
              "        <td>Bila Tserkva</td>\n",
              "        <td>Ukraine</td>\n",
              "    </tr>\n",
              "    <tr>\n",
              "        <td>Bodo</td>\n",
              "        <td>Norway</td>\n",
              "    </tr>\n",
              "    <tr>\n",
              "        <td>Brest</td>\n",
              "        <td>Belarus</td>\n",
              "    </tr>\n",
              "    <tr>\n",
              "        <td>Cherkasy</td>\n",
              "        <td>Ukraine</td>\n",
              "    </tr>\n",
              "    <tr>\n",
              "        <td>Chernihiv</td>\n",
              "        <td>Ukraine</td>\n",
              "    </tr>\n",
              "    <tr>\n",
              "        <td>Chernivtsi</td>\n",
              "        <td>Ukraine</td>\n",
              "    </tr>\n",
              "    <tr>\n",
              "        <td>Chisinau</td>\n",
              "        <td>Moldova</td>\n",
              "    </tr>\n",
              "    <tr>\n",
              "        <td>Elbasan</td>\n",
              "        <td>Albania</td>\n",
              "    </tr>\n",
              "    <tr>\n",
              "        <td>Geneva</td>\n",
              "        <td>Switzerland</td>\n",
              "    </tr>\n",
              "    <tr>\n",
              "        <td>Horlivka</td>\n",
              "        <td>Ukraine</td>\n",
              "    </tr>\n",
              "    <tr>\n",
              "        <td>Hrodna</td>\n",
              "        <td>Belarus</td>\n",
              "    </tr>\n",
              "    <tr>\n",
              "        <td>Kherson</td>\n",
              "        <td>Ukraine</td>\n",
              "    </tr>\n",
              "    <tr>\n",
              "        <td>Kiev</td>\n",
              "        <td>Ukraine</td>\n",
              "    </tr>\n",
              "    <tr>\n",
              "        <td>Kremenchuk</td>\n",
              "        <td>Ukraine</td>\n",
              "    </tr>\n",
              "    <tr>\n",
              "        <td>Kryvyy Rih</td>\n",
              "        <td>Ukraine</td>\n",
              "    </tr>\n",
              "    <tr>\n",
              "        <td>Lvov</td>\n",
              "        <td>Ukraine</td>\n",
              "    </tr>\n",
              "    <tr>\n",
              "        <td>Makiyivka</td>\n",
              "        <td>Ukraine</td>\n",
              "    </tr>\n",
              "    <tr>\n",
              "        <td>Mazyr</td>\n",
              "        <td>Belarus</td>\n",
              "    </tr>\n",
              "    <tr>\n",
              "        <td>Minsk</td>\n",
              "        <td>Belarus</td>\n",
              "    </tr>\n",
              "    <tr>\n",
              "        <td>Nis</td>\n",
              "        <td>Serbia</td>\n",
              "    </tr>\n",
              "    <tr>\n",
              "        <td>Novi Sad</td>\n",
              "        <td>Serbia</td>\n",
              "    </tr>\n",
              "    <tr>\n",
              "        <td>Orsha</td>\n",
              "        <td>Belarus</td>\n",
              "    </tr>\n",
              "    <tr>\n",
              "        <td>Oslo</td>\n",
              "        <td>Norway</td>\n",
              "    </tr>\n",
              "    <tr>\n",
              "        <td>Pinsk</td>\n",
              "        <td>Belarus</td>\n",
              "    </tr>\n",
              "    <tr>\n",
              "        <td>Podgorica</td>\n",
              "        <td>Montenegro</td>\n",
              "    </tr>\n",
              "    <tr>\n",
              "        <td>Rivne</td>\n",
              "        <td>Ukraine</td>\n",
              "    </tr>\n",
              "    <tr>\n",
              "        <td>Sarajevo</td>\n",
              "        <td>Bosnia and Herzegovina</td>\n",
              "    </tr>\n",
              "    <tr>\n",
              "        <td>Skopje</td>\n",
              "        <td>Macedonia</td>\n",
              "    </tr>\n",
              "    <tr>\n",
              "        <td>Stavanger</td>\n",
              "        <td>Norway</td>\n",
              "    </tr>\n",
              "    <tr>\n",
              "        <td>Sumy</td>\n",
              "        <td>Ukraine</td>\n",
              "    </tr>\n",
              "    <tr>\n",
              "        <td>Trondheim</td>\n",
              "        <td>Norway</td>\n",
              "    </tr>\n",
              "    <tr>\n",
              "        <td>Yevpatoriya</td>\n",
              "        <td>Ukraine</td>\n",
              "    </tr>\n",
              "    <tr>\n",
              "        <td>Zhytomyr</td>\n",
              "        <td>Ukraine</td>\n",
              "    </tr>\n",
              "    <tr>\n",
              "        <td>Zurich</td>\n",
              "        <td>Switzerland</td>\n",
              "    </tr>\n",
              "    <tr>\n",
              "        <td>Manila</td>\n",
              "        <td>Philippines</td>\n",
              "    </tr>\n",
              "</table>"
            ]
          },
          "metadata": {},
          "execution_count": 149
        }
      ],
      "source": [
        "%%sql\n",
        "insert into NonEU values ('Manila','Philippines');\n",
        "select * from NonEU"
      ]
    },
    {
      "cell_type": "markdown",
      "metadata": {
        "id": "6oJ_dwPYjqu6"
      },
      "source": [
        "### <font color = 'green'>**Your Turn - Advanced SQL on World Cup Data**</font>"
      ]
    },
    {
      "cell_type": "code",
      "execution_count": 150,
      "metadata": {
        "id": "8MZdGj2Ijqu6",
        "colab": {
          "base_uri": "https://localhost:8080/",
          "height": 140
        },
        "outputId": "876af380-7b12-41e5-9f81-29affa4fe6dc"
      },
      "outputs": [
        {
          "output_type": "stream",
          "name": "stdout",
          "text": [
            " * sqlite://\n",
            "Done.\n",
            " * sqlite://\n",
            " * sqlite://\n",
            "Done.\n",
            " * sqlite://\n"
          ]
        },
        {
          "output_type": "execute_result",
          "data": {
            "text/plain": [
              "'Persisted teams'"
            ],
            "application/vnd.google.colaboratory.intrinsic+json": {
              "type": "string"
            }
          },
          "metadata": {},
          "execution_count": 150
        }
      ],
      "source": [
        "# Create database tables from CSV files\n",
        "with open('Players.csv') as f: Players = pd.read_csv(f, index_col=0)\n",
        "%sql drop table if exists Players;\n",
        "%sql --persist Players\n",
        "with open('Teams.csv') as f: Teams = pd.read_csv(f, index_col=0)\n",
        "%sql drop table if exists Teams;\n",
        "%sql --persist Teams"
      ]
    },
    {
      "cell_type": "markdown",
      "metadata": {
        "id": "QhdrkHKbjqu6"
      },
      "source": [
        "#### Look at sample of Players and Teams tables"
      ]
    },
    {
      "cell_type": "code",
      "execution_count": 151,
      "metadata": {
        "scrolled": true,
        "id": "gOIW6px6jqu6",
        "colab": {
          "base_uri": "https://localhost:8080/",
          "height": 182
        },
        "outputId": "bcac0d6b-9f00-441b-f0e8-5b7b8312167c"
      },
      "outputs": [
        {
          "output_type": "stream",
          "name": "stdout",
          "text": [
            " * sqlite://\n",
            "Done.\n"
          ]
        },
        {
          "output_type": "execute_result",
          "data": {
            "text/plain": [
              "[('Abdoun', 'Algeria', 'midfielder', 16, 0, 6, 0, 0),\n",
              " ('Belhadj', 'Algeria', 'defender', 270, 1, 146, 8, 0),\n",
              " ('Boudebouz', 'Algeria', 'midfielder', 74, 3, 28, 1, 0),\n",
              " ('Bougherra', 'Algeria', 'defender', 270, 1, 89, 11, 0),\n",
              " ('Chaouchi', 'Algeria', 'goalkeeper', 90, 0, 17, 0, 2)]"
            ],
            "text/html": [
              "<table>\n",
              "    <tr>\n",
              "        <th>surname</th>\n",
              "        <th>team</th>\n",
              "        <th>position</th>\n",
              "        <th>minutes</th>\n",
              "        <th>shots</th>\n",
              "        <th>passes</th>\n",
              "        <th>tackles</th>\n",
              "        <th>saves</th>\n",
              "    </tr>\n",
              "    <tr>\n",
              "        <td>Abdoun</td>\n",
              "        <td>Algeria</td>\n",
              "        <td>midfielder</td>\n",
              "        <td>16</td>\n",
              "        <td>0</td>\n",
              "        <td>6</td>\n",
              "        <td>0</td>\n",
              "        <td>0</td>\n",
              "    </tr>\n",
              "    <tr>\n",
              "        <td>Belhadj</td>\n",
              "        <td>Algeria</td>\n",
              "        <td>defender</td>\n",
              "        <td>270</td>\n",
              "        <td>1</td>\n",
              "        <td>146</td>\n",
              "        <td>8</td>\n",
              "        <td>0</td>\n",
              "    </tr>\n",
              "    <tr>\n",
              "        <td>Boudebouz</td>\n",
              "        <td>Algeria</td>\n",
              "        <td>midfielder</td>\n",
              "        <td>74</td>\n",
              "        <td>3</td>\n",
              "        <td>28</td>\n",
              "        <td>1</td>\n",
              "        <td>0</td>\n",
              "    </tr>\n",
              "    <tr>\n",
              "        <td>Bougherra</td>\n",
              "        <td>Algeria</td>\n",
              "        <td>defender</td>\n",
              "        <td>270</td>\n",
              "        <td>1</td>\n",
              "        <td>89</td>\n",
              "        <td>11</td>\n",
              "        <td>0</td>\n",
              "    </tr>\n",
              "    <tr>\n",
              "        <td>Chaouchi</td>\n",
              "        <td>Algeria</td>\n",
              "        <td>goalkeeper</td>\n",
              "        <td>90</td>\n",
              "        <td>0</td>\n",
              "        <td>17</td>\n",
              "        <td>0</td>\n",
              "        <td>2</td>\n",
              "    </tr>\n",
              "</table>"
            ]
          },
          "metadata": {},
          "execution_count": 151
        }
      ],
      "source": [
        "%%sql\n",
        "select * from Players limit 5"
      ]
    },
    {
      "cell_type": "code",
      "execution_count": 152,
      "metadata": {
        "id": "agM-PMP5jqu6",
        "colab": {
          "base_uri": "https://localhost:8080/",
          "height": 182
        },
        "outputId": "1e38967d-5661-408a-e946-e1dd3140b517"
      },
      "outputs": [
        {
          "output_type": "stream",
          "name": "stdout",
          "text": [
            " * sqlite://\n",
            "Done.\n"
          ]
        },
        {
          "output_type": "execute_result",
          "data": {
            "text/plain": [
              "[('Brazil', 1, 5, 3, 1, 1, 9, 4, 7, 2),\n",
              " ('Spain', 2, 6, 5, 0, 1, 7, 2, 3, 0),\n",
              " ('Portugal', 3, 4, 1, 2, 1, 7, 1, 8, 1),\n",
              " ('Netherlands', 4, 6, 6, 0, 0, 12, 5, 15, 0),\n",
              " ('Italy', 5, 3, 0, 2, 1, 4, 5, 5, 0)]"
            ],
            "text/html": [
              "<table>\n",
              "    <tr>\n",
              "        <th>team</th>\n",
              "        <th>ranking</th>\n",
              "        <th>games</th>\n",
              "        <th>wins</th>\n",
              "        <th>draws</th>\n",
              "        <th>losses</th>\n",
              "        <th>goalsFor</th>\n",
              "        <th>goalsAgainst</th>\n",
              "        <th>yellowCards</th>\n",
              "        <th>redCards</th>\n",
              "    </tr>\n",
              "    <tr>\n",
              "        <td>Brazil</td>\n",
              "        <td>1</td>\n",
              "        <td>5</td>\n",
              "        <td>3</td>\n",
              "        <td>1</td>\n",
              "        <td>1</td>\n",
              "        <td>9</td>\n",
              "        <td>4</td>\n",
              "        <td>7</td>\n",
              "        <td>2</td>\n",
              "    </tr>\n",
              "    <tr>\n",
              "        <td>Spain</td>\n",
              "        <td>2</td>\n",
              "        <td>6</td>\n",
              "        <td>5</td>\n",
              "        <td>0</td>\n",
              "        <td>1</td>\n",
              "        <td>7</td>\n",
              "        <td>2</td>\n",
              "        <td>3</td>\n",
              "        <td>0</td>\n",
              "    </tr>\n",
              "    <tr>\n",
              "        <td>Portugal</td>\n",
              "        <td>3</td>\n",
              "        <td>4</td>\n",
              "        <td>1</td>\n",
              "        <td>2</td>\n",
              "        <td>1</td>\n",
              "        <td>7</td>\n",
              "        <td>1</td>\n",
              "        <td>8</td>\n",
              "        <td>1</td>\n",
              "    </tr>\n",
              "    <tr>\n",
              "        <td>Netherlands</td>\n",
              "        <td>4</td>\n",
              "        <td>6</td>\n",
              "        <td>6</td>\n",
              "        <td>0</td>\n",
              "        <td>0</td>\n",
              "        <td>12</td>\n",
              "        <td>5</td>\n",
              "        <td>15</td>\n",
              "        <td>0</td>\n",
              "    </tr>\n",
              "    <tr>\n",
              "        <td>Italy</td>\n",
              "        <td>5</td>\n",
              "        <td>3</td>\n",
              "        <td>0</td>\n",
              "        <td>2</td>\n",
              "        <td>1</td>\n",
              "        <td>4</td>\n",
              "        <td>5</td>\n",
              "        <td>5</td>\n",
              "        <td>0</td>\n",
              "    </tr>\n",
              "</table>"
            ]
          },
          "metadata": {},
          "execution_count": 152
        }
      ],
      "source": [
        "%%sql\n",
        "select * from Teams limit 5"
      ]
    },
    {
      "cell_type": "markdown",
      "metadata": {
        "collapsed": true,
        "id": "IjYethrdjqu6"
      },
      "source": [
        "*1) Find all pairs of teams who have the same number of goalsFor as\n",
        "each other and the same number of goalsAgainst as each other.\n",
        "Return the teams and numbers of goalsFor and goalsAgainst.\n",
        "Make sure to return each pair only once.*"
      ]
    },
    {
      "cell_type": "code",
      "execution_count": 153,
      "metadata": {
        "id": "Ofss7CHhjqu6",
        "colab": {
          "base_uri": "https://localhost:8080/",
          "height": 267
        },
        "outputId": "b3e3aab7-fac4-44b5-c64e-887013023940"
      },
      "outputs": [
        {
          "output_type": "stream",
          "name": "stdout",
          "text": [
            " * sqlite://\n",
            "Done.\n"
          ]
        },
        {
          "output_type": "execute_result",
          "data": {
            "text/plain": [
              "[('Italy', 'Mexico', 4, 5),\n",
              " ('England', 'Nigeria', 3, 5),\n",
              " ('England', 'South Africa', 3, 5),\n",
              " ('Chile', 'England', 3, 5),\n",
              " ('Chile', 'Nigeria', 3, 5),\n",
              " ('Chile', 'South Africa', 3, 5),\n",
              " ('Cameroon', 'Greece', 2, 5),\n",
              " ('Australia', 'Denmark', 3, 6),\n",
              " ('Nigeria', 'South Africa', 3, 5)]"
            ],
            "text/html": [
              "<table>\n",
              "    <tr>\n",
              "        <th>team1</th>\n",
              "        <th>team2</th>\n",
              "        <th>goalsFor</th>\n",
              "        <th>goalsAgainst</th>\n",
              "    </tr>\n",
              "    <tr>\n",
              "        <td>Italy</td>\n",
              "        <td>Mexico</td>\n",
              "        <td>4</td>\n",
              "        <td>5</td>\n",
              "    </tr>\n",
              "    <tr>\n",
              "        <td>England</td>\n",
              "        <td>Nigeria</td>\n",
              "        <td>3</td>\n",
              "        <td>5</td>\n",
              "    </tr>\n",
              "    <tr>\n",
              "        <td>England</td>\n",
              "        <td>South Africa</td>\n",
              "        <td>3</td>\n",
              "        <td>5</td>\n",
              "    </tr>\n",
              "    <tr>\n",
              "        <td>Chile</td>\n",
              "        <td>England</td>\n",
              "        <td>3</td>\n",
              "        <td>5</td>\n",
              "    </tr>\n",
              "    <tr>\n",
              "        <td>Chile</td>\n",
              "        <td>Nigeria</td>\n",
              "        <td>3</td>\n",
              "        <td>5</td>\n",
              "    </tr>\n",
              "    <tr>\n",
              "        <td>Chile</td>\n",
              "        <td>South Africa</td>\n",
              "        <td>3</td>\n",
              "        <td>5</td>\n",
              "    </tr>\n",
              "    <tr>\n",
              "        <td>Cameroon</td>\n",
              "        <td>Greece</td>\n",
              "        <td>2</td>\n",
              "        <td>5</td>\n",
              "    </tr>\n",
              "    <tr>\n",
              "        <td>Australia</td>\n",
              "        <td>Denmark</td>\n",
              "        <td>3</td>\n",
              "        <td>6</td>\n",
              "    </tr>\n",
              "    <tr>\n",
              "        <td>Nigeria</td>\n",
              "        <td>South Africa</td>\n",
              "        <td>3</td>\n",
              "        <td>5</td>\n",
              "    </tr>\n",
              "</table>"
            ]
          },
          "metadata": {},
          "execution_count": 153
        }
      ],
      "source": [
        "%%sql\n",
        "SELECT\n",
        "    T1.team AS team1,\n",
        "    T2.team AS team2,\n",
        "    T1.goalsFor,\n",
        "    T1.goalsAgainst\n",
        "FROM Teams T1\n",
        "JOIN Teams T2\n",
        "    ON T1.goalsFor = T2.goalsFor\n",
        "    AND T1.goalsAgainst = T2.goalsAgainst\n",
        "WHERE T1.team < T2.team;\n",
        "\n"
      ]
    },
    {
      "cell_type": "markdown",
      "metadata": {
        "collapsed": true,
        "id": "a3rFn5Fjjqu6"
      },
      "source": [
        "*2) Find all teams with ranking <30 where no player made more than 150 passes. Return the team and ranking.*"
      ]
    },
    {
      "cell_type": "code",
      "execution_count": 154,
      "metadata": {
        "id": "bzJL2R2Fjqu6",
        "colab": {
          "base_uri": "https://localhost:8080/",
          "height": 139
        },
        "outputId": "e412c324-f5c6-4554-a578-e907af90c4c7"
      },
      "outputs": [
        {
          "output_type": "stream",
          "name": "stdout",
          "text": [
            " * sqlite://\n",
            "Done.\n"
          ]
        },
        {
          "output_type": "execute_result",
          "data": {
            "text/plain": [
              "[('France', 9), ('Nigeria', 21), ('Switzerland', 24)]"
            ],
            "text/html": [
              "<table>\n",
              "    <tr>\n",
              "        <th>team</th>\n",
              "        <th>ranking</th>\n",
              "    </tr>\n",
              "    <tr>\n",
              "        <td>France</td>\n",
              "        <td>9</td>\n",
              "    </tr>\n",
              "    <tr>\n",
              "        <td>Nigeria</td>\n",
              "        <td>21</td>\n",
              "    </tr>\n",
              "    <tr>\n",
              "        <td>Switzerland</td>\n",
              "        <td>24</td>\n",
              "    </tr>\n",
              "</table>"
            ]
          },
          "metadata": {},
          "execution_count": 154
        }
      ],
      "source": [
        "%%sql\n",
        "SELECT T.team, T.ranking\n",
        "FROM Teams T\n",
        "WHERE T.ranking < 30\n",
        "AND NOT EXISTS (\n",
        "    SELECT 1\n",
        "    FROM Players P\n",
        "    WHERE P.team = T.team\n",
        "    AND P.passes > 150\n",
        ");\n"
      ]
    },
    {
      "cell_type": "markdown",
      "metadata": {
        "collapsed": true,
        "id": "fLQXMLgyjqu7"
      },
      "source": [
        "*3) Which players made more shots than 5x the overall average number of shots? Return the player surname, position, and team.*"
      ]
    },
    {
      "cell_type": "code",
      "execution_count": 155,
      "metadata": {
        "id": "A5HW79OOjqu7",
        "colab": {
          "base_uri": "https://localhost:8080/",
          "height": 374
        },
        "outputId": "2092a552-20b3-43a3-c9e5-1389d987a49a"
      },
      "outputs": [
        {
          "output_type": "stream",
          "name": "stdout",
          "text": [
            " * sqlite://\n",
            "Done.\n"
          ]
        },
        {
          "output_type": "execute_result",
          "data": {
            "text/plain": [
              "[('Higuain', 'forward', 'Argentina'),\n",
              " ('Messi', 'forward', 'Argentina'),\n",
              " ('Podolski', 'forward', 'Germany'),\n",
              " ('Boateng', 'midfielder', 'Ghana'),\n",
              " ('Gyan', 'forward', 'Ghana'),\n",
              " ('Sneijder', 'midfielder', 'Netherlands'),\n",
              " ('van Persie', 'forward', 'Netherlands'),\n",
              " ('Jong Tae-Se', 'forward', 'North Korea'),\n",
              " ('Ronaldo', 'forward', 'Portugal'),\n",
              " ('Park Chu-Young', 'forward', 'South Korea'),\n",
              " ('Villa', 'forward', 'Spain'),\n",
              " ('Forlan', 'forward', 'Uruguay'),\n",
              " ('Suarez', 'forward', 'Uruguay'),\n",
              " ('Dempsey', 'midfielder', 'USA')]"
            ],
            "text/html": [
              "<table>\n",
              "    <tr>\n",
              "        <th>surname</th>\n",
              "        <th>position</th>\n",
              "        <th>team</th>\n",
              "    </tr>\n",
              "    <tr>\n",
              "        <td>Higuain</td>\n",
              "        <td>forward</td>\n",
              "        <td>Argentina</td>\n",
              "    </tr>\n",
              "    <tr>\n",
              "        <td>Messi</td>\n",
              "        <td>forward</td>\n",
              "        <td>Argentina</td>\n",
              "    </tr>\n",
              "    <tr>\n",
              "        <td>Podolski</td>\n",
              "        <td>forward</td>\n",
              "        <td>Germany</td>\n",
              "    </tr>\n",
              "    <tr>\n",
              "        <td>Boateng</td>\n",
              "        <td>midfielder</td>\n",
              "        <td>Ghana</td>\n",
              "    </tr>\n",
              "    <tr>\n",
              "        <td>Gyan</td>\n",
              "        <td>forward</td>\n",
              "        <td>Ghana</td>\n",
              "    </tr>\n",
              "    <tr>\n",
              "        <td>Sneijder</td>\n",
              "        <td>midfielder</td>\n",
              "        <td>Netherlands</td>\n",
              "    </tr>\n",
              "    <tr>\n",
              "        <td>van Persie</td>\n",
              "        <td>forward</td>\n",
              "        <td>Netherlands</td>\n",
              "    </tr>\n",
              "    <tr>\n",
              "        <td>Jong Tae-Se</td>\n",
              "        <td>forward</td>\n",
              "        <td>North Korea</td>\n",
              "    </tr>\n",
              "    <tr>\n",
              "        <td>Ronaldo</td>\n",
              "        <td>forward</td>\n",
              "        <td>Portugal</td>\n",
              "    </tr>\n",
              "    <tr>\n",
              "        <td>Park Chu-Young</td>\n",
              "        <td>forward</td>\n",
              "        <td>South Korea</td>\n",
              "    </tr>\n",
              "    <tr>\n",
              "        <td>Villa</td>\n",
              "        <td>forward</td>\n",
              "        <td>Spain</td>\n",
              "    </tr>\n",
              "    <tr>\n",
              "        <td>Forlan</td>\n",
              "        <td>forward</td>\n",
              "        <td>Uruguay</td>\n",
              "    </tr>\n",
              "    <tr>\n",
              "        <td>Suarez</td>\n",
              "        <td>forward</td>\n",
              "        <td>Uruguay</td>\n",
              "    </tr>\n",
              "    <tr>\n",
              "        <td>Dempsey</td>\n",
              "        <td>midfielder</td>\n",
              "        <td>USA</td>\n",
              "    </tr>\n",
              "</table>"
            ]
          },
          "metadata": {},
          "execution_count": 155
        }
      ],
      "source": [
        "%%sql\n",
        "SELECT P.surname, P.position, P.team\n",
        "FROM Players P\n",
        "WHERE P.shots > 5 * (SELECT AVG(shots) FROM Players);\n"
      ]
    },
    {
      "cell_type": "markdown",
      "metadata": {
        "collapsed": true,
        "id": "vbQwgN76jqu7"
      },
      "source": [
        "*4) Find all team-position pairs where the average number of passes made by players in that position on that team is greater than 150. Return the team-position pairs.*"
      ]
    },
    {
      "cell_type": "code",
      "execution_count": 156,
      "metadata": {
        "id": "LNn17apijqu7",
        "colab": {
          "base_uri": "https://localhost:8080/",
          "height": 289
        },
        "outputId": "e3476dfd-5a1b-4a79-9844-8f84d0b6568f"
      },
      "outputs": [
        {
          "output_type": "stream",
          "name": "stdout",
          "text": [
            " * sqlite://\n",
            "Done.\n"
          ]
        },
        {
          "output_type": "execute_result",
          "data": {
            "text/plain": [
              "[('Argentina', 'midfielder'),\n",
              " ('Brazil', 'defender'),\n",
              " ('Germany', 'defender'),\n",
              " ('Germany', 'midfielder'),\n",
              " ('Ghana', 'midfielder'),\n",
              " ('Mexico', 'defender'),\n",
              " ('Netherlands', 'defender'),\n",
              " ('Netherlands', 'midfielder'),\n",
              " ('Spain', 'defender'),\n",
              " ('Spain', 'midfielder')]"
            ],
            "text/html": [
              "<table>\n",
              "    <tr>\n",
              "        <th>team</th>\n",
              "        <th>position</th>\n",
              "    </tr>\n",
              "    <tr>\n",
              "        <td>Argentina</td>\n",
              "        <td>midfielder</td>\n",
              "    </tr>\n",
              "    <tr>\n",
              "        <td>Brazil</td>\n",
              "        <td>defender</td>\n",
              "    </tr>\n",
              "    <tr>\n",
              "        <td>Germany</td>\n",
              "        <td>defender</td>\n",
              "    </tr>\n",
              "    <tr>\n",
              "        <td>Germany</td>\n",
              "        <td>midfielder</td>\n",
              "    </tr>\n",
              "    <tr>\n",
              "        <td>Ghana</td>\n",
              "        <td>midfielder</td>\n",
              "    </tr>\n",
              "    <tr>\n",
              "        <td>Mexico</td>\n",
              "        <td>defender</td>\n",
              "    </tr>\n",
              "    <tr>\n",
              "        <td>Netherlands</td>\n",
              "        <td>defender</td>\n",
              "    </tr>\n",
              "    <tr>\n",
              "        <td>Netherlands</td>\n",
              "        <td>midfielder</td>\n",
              "    </tr>\n",
              "    <tr>\n",
              "        <td>Spain</td>\n",
              "        <td>defender</td>\n",
              "    </tr>\n",
              "    <tr>\n",
              "        <td>Spain</td>\n",
              "        <td>midfielder</td>\n",
              "    </tr>\n",
              "</table>"
            ]
          },
          "metadata": {},
          "execution_count": 156
        }
      ],
      "source": [
        "%%sql\n",
        "SELECT P.team, P.position\n",
        "FROM Players P\n",
        "GROUP BY P.team, P.position\n",
        "HAVING AVG(P.passes) > 150;\n"
      ]
    },
    {
      "cell_type": "markdown",
      "metadata": {
        "collapsed": true,
        "id": "pfZzBu_ejqu7"
      },
      "source": [
        "*5) Find all teams whose defenders averaged more than 150 passes. Return the team and average number of passes by defenders, in descending order of average passes.*"
      ]
    },
    {
      "cell_type": "code",
      "execution_count": 157,
      "metadata": {
        "id": "lOoNaaWtjqu7",
        "colab": {
          "base_uri": "https://localhost:8080/",
          "height": 182
        },
        "outputId": "a2ae7bd2-076b-4e7d-807c-86a801adc061"
      },
      "outputs": [
        {
          "output_type": "stream",
          "name": "stdout",
          "text": [
            " * sqlite://\n",
            "Done.\n"
          ]
        },
        {
          "output_type": "execute_result",
          "data": {
            "text/plain": [
              "[('Spain', 213.0),\n",
              " ('Brazil', 190.0),\n",
              " ('Germany', 189.83333333333334),\n",
              " ('Netherlands', 182.5),\n",
              " ('Mexico', 152.14285714285714)]"
            ],
            "text/html": [
              "<table>\n",
              "    <tr>\n",
              "        <th>team</th>\n",
              "        <th>avg_passes</th>\n",
              "    </tr>\n",
              "    <tr>\n",
              "        <td>Spain</td>\n",
              "        <td>213.0</td>\n",
              "    </tr>\n",
              "    <tr>\n",
              "        <td>Brazil</td>\n",
              "        <td>190.0</td>\n",
              "    </tr>\n",
              "    <tr>\n",
              "        <td>Germany</td>\n",
              "        <td>189.83333333333334</td>\n",
              "    </tr>\n",
              "    <tr>\n",
              "        <td>Netherlands</td>\n",
              "        <td>182.5</td>\n",
              "    </tr>\n",
              "    <tr>\n",
              "        <td>Mexico</td>\n",
              "        <td>152.14285714285714</td>\n",
              "    </tr>\n",
              "</table>"
            ]
          },
          "metadata": {},
          "execution_count": 157
        }
      ],
      "source": [
        "%%sql\n",
        "SELECT P.team, AVG(P.passes) AS avg_passes\n",
        "FROM Players P\n",
        "WHERE P.position = 'defender'\n",
        "GROUP BY P.team\n",
        "HAVING AVG(P.passes) > 150\n",
        "ORDER BY avg_passes DESC;\n"
      ]
    },
    {
      "cell_type": "markdown",
      "metadata": {
        "id": "BbxhgDmRjqu7"
      },
      "source": [
        "### <font color = 'green'>**Your Turn Extra - Advanced SQL on Titanic Data**</font>"
      ]
    },
    {
      "cell_type": "markdown",
      "source": [
        "<font color=\"red\">File access required:</font> In Colab these extra problems require first uploading **Titanic.csv** using the *Files* feature in the left toolbar. If running the notebook on a local computer, simply ensure this file is in the same workspace as the notebook."
      ],
      "metadata": {
        "id": "dgNXR1HVz-ir"
      }
    },
    {
      "cell_type": "code",
      "execution_count": 158,
      "metadata": {
        "id": "5NFl7E2ujqu7",
        "colab": {
          "base_uri": "https://localhost:8080/",
          "height": 87
        },
        "outputId": "d74819b7-6372-4136-dc93-c4fcf5964106"
      },
      "outputs": [
        {
          "output_type": "stream",
          "name": "stdout",
          "text": [
            " * sqlite://\n",
            "Done.\n",
            " * sqlite://\n"
          ]
        },
        {
          "output_type": "execute_result",
          "data": {
            "text/plain": [
              "'Persisted titanic'"
            ],
            "application/vnd.google.colaboratory.intrinsic+json": {
              "type": "string"
            }
          },
          "metadata": {},
          "execution_count": 158
        }
      ],
      "source": [
        "# Load dataabase table from CSV file\n",
        "with open('Titanic.csv') as f: Titanic = pd.read_csv(f, index_col=0)\n",
        "%sql drop table if exists Titanic;\n",
        "%sql --persist Titanic"
      ]
    },
    {
      "cell_type": "markdown",
      "metadata": {
        "id": "jQtAZGO9jqu8"
      },
      "source": [
        "#### Look at sample of Titanic table"
      ]
    },
    {
      "cell_type": "code",
      "execution_count": 159,
      "metadata": {
        "id": "whPYgfxQjqu8",
        "colab": {
          "base_uri": "https://localhost:8080/",
          "height": 182
        },
        "outputId": "8a2e3900-5ccf-4273-b340-b33386180bab"
      },
      "outputs": [
        {
          "output_type": "stream",
          "name": "stdout",
          "text": [
            " * sqlite://\n",
            "Done.\n"
          ]
        },
        {
          "output_type": "execute_result",
          "data": {
            "text/plain": [
              "[('Abbing', 'Mr. Anthony', 'M', 42.0, 3, 7.55, 'Southampton', 'no'),\n",
              " ('Abbott', 'Mrs. Stanton (Rosa Hunt)', 'F', 35.0, 3, 20.25, 'Southampton', 'yes'),\n",
              " ('Abbott', 'Mr. Rossmore Edward', 'M', 16.0, 3, 20.25, 'Southampton', 'no'),\n",
              " ('Abelson', 'Mr. Samuel', 'M', 30.0, 2, 24.0, 'Cherbourg', 'no'),\n",
              " ('Abelson', 'Mrs. Samuel (Hannah Wizosky)', 'F', 28.0, 2, 24.0, 'Cherbourg', 'yes')]"
            ],
            "text/html": [
              "<table>\n",
              "    <tr>\n",
              "        <th>last</th>\n",
              "        <th>first</th>\n",
              "        <th>gender</th>\n",
              "        <th>age</th>\n",
              "        <th>class</th>\n",
              "        <th>fare</th>\n",
              "        <th>embarked</th>\n",
              "        <th>survived</th>\n",
              "    </tr>\n",
              "    <tr>\n",
              "        <td>Abbing</td>\n",
              "        <td>Mr. Anthony</td>\n",
              "        <td>M</td>\n",
              "        <td>42.0</td>\n",
              "        <td>3</td>\n",
              "        <td>7.55</td>\n",
              "        <td>Southampton</td>\n",
              "        <td>no</td>\n",
              "    </tr>\n",
              "    <tr>\n",
              "        <td>Abbott</td>\n",
              "        <td>Mrs. Stanton (Rosa Hunt)</td>\n",
              "        <td>F</td>\n",
              "        <td>35.0</td>\n",
              "        <td>3</td>\n",
              "        <td>20.25</td>\n",
              "        <td>Southampton</td>\n",
              "        <td>yes</td>\n",
              "    </tr>\n",
              "    <tr>\n",
              "        <td>Abbott</td>\n",
              "        <td>Mr. Rossmore Edward</td>\n",
              "        <td>M</td>\n",
              "        <td>16.0</td>\n",
              "        <td>3</td>\n",
              "        <td>20.25</td>\n",
              "        <td>Southampton</td>\n",
              "        <td>no</td>\n",
              "    </tr>\n",
              "    <tr>\n",
              "        <td>Abelson</td>\n",
              "        <td>Mr. Samuel</td>\n",
              "        <td>M</td>\n",
              "        <td>30.0</td>\n",
              "        <td>2</td>\n",
              "        <td>24.0</td>\n",
              "        <td>Cherbourg</td>\n",
              "        <td>no</td>\n",
              "    </tr>\n",
              "    <tr>\n",
              "        <td>Abelson</td>\n",
              "        <td>Mrs. Samuel (Hannah Wizosky)</td>\n",
              "        <td>F</td>\n",
              "        <td>28.0</td>\n",
              "        <td>2</td>\n",
              "        <td>24.0</td>\n",
              "        <td>Cherbourg</td>\n",
              "        <td>yes</td>\n",
              "    </tr>\n",
              "</table>"
            ]
          },
          "metadata": {},
          "execution_count": 159
        }
      ],
      "source": [
        "%%sql\n",
        "select * from Titanic limit 5"
      ]
    },
    {
      "cell_type": "markdown",
      "metadata": {
        "id": "2XeE9o-Rjqu8"
      },
      "source": [
        "*1) Find pairs of passengers who are likely to be twin children: same last name, same age, same embarkation, and age is under 18. Return each pair once, including their last name, first names, age, and embarkation city.*"
      ]
    },
    {
      "cell_type": "code",
      "execution_count": 160,
      "metadata": {
        "id": "XffVHAfHjqu8",
        "colab": {
          "base_uri": "https://localhost:8080/",
          "height": 161
        },
        "outputId": "40a155ca-7b88-4fbe-da34-e1706c0d64d8"
      },
      "outputs": [
        {
          "output_type": "stream",
          "name": "stdout",
          "text": [
            " * sqlite://\n",
            "Done.\n"
          ]
        },
        {
          "output_type": "execute_result",
          "data": {
            "text/plain": [
              "[('Baclini', 'Miss Helene Barbara', 0.75, 'Cherbourg', 'Miss Eugenie', 0.75, 'Cherbourg'),\n",
              " ('Baclini', 'Miss Eugenie', 0.75, 'Cherbourg', 'Miss Helene Barbara', 0.75, 'Cherbourg'),\n",
              " ('Calic', 'Mr. Jovo', 17.0, 'Southampton', 'Mr. Petar', 17.0, 'Southampton'),\n",
              " ('Calic', 'Mr. Petar', 17.0, 'Southampton', 'Mr. Jovo', 17.0, 'Southampton')]"
            ],
            "text/html": [
              "<table>\n",
              "    <tr>\n",
              "        <th>last</th>\n",
              "        <th>first_name_1</th>\n",
              "        <th>age_1</th>\n",
              "        <th>embarkation_1</th>\n",
              "        <th>first_name_2</th>\n",
              "        <th>age_2</th>\n",
              "        <th>embarkation_2</th>\n",
              "    </tr>\n",
              "    <tr>\n",
              "        <td>Baclini</td>\n",
              "        <td>Miss Helene Barbara</td>\n",
              "        <td>0.75</td>\n",
              "        <td>Cherbourg</td>\n",
              "        <td>Miss Eugenie</td>\n",
              "        <td>0.75</td>\n",
              "        <td>Cherbourg</td>\n",
              "    </tr>\n",
              "    <tr>\n",
              "        <td>Baclini</td>\n",
              "        <td>Miss Eugenie</td>\n",
              "        <td>0.75</td>\n",
              "        <td>Cherbourg</td>\n",
              "        <td>Miss Helene Barbara</td>\n",
              "        <td>0.75</td>\n",
              "        <td>Cherbourg</td>\n",
              "    </tr>\n",
              "    <tr>\n",
              "        <td>Calic</td>\n",
              "        <td>Mr. Jovo</td>\n",
              "        <td>17.0</td>\n",
              "        <td>Southampton</td>\n",
              "        <td>Mr. Petar</td>\n",
              "        <td>17.0</td>\n",
              "        <td>Southampton</td>\n",
              "    </tr>\n",
              "    <tr>\n",
              "        <td>Calic</td>\n",
              "        <td>Mr. Petar</td>\n",
              "        <td>17.0</td>\n",
              "        <td>Southampton</td>\n",
              "        <td>Mr. Jovo</td>\n",
              "        <td>17.0</td>\n",
              "        <td>Southampton</td>\n",
              "    </tr>\n",
              "</table>"
            ]
          },
          "metadata": {},
          "execution_count": 160
        }
      ],
      "source": [
        "%%sql\n",
        "SELECT P1.last, P1.first AS first_name_1, P1.age AS age_1, P1.embarked AS embarkation_1,\n",
        "       P2.first AS first_name_2, P2.age AS age_2, P2.embarked AS embarkation_2\n",
        "FROM Titanic P1\n",
        "JOIN Titanic P2\n",
        "  ON P1.last = P2.last\n",
        "  AND P1.age = P2.age\n",
        "  AND P1.embarked = P2.embarked\n",
        "  AND P1.age < 18\n",
        "  AND P2.age < 18\n",
        "  AND P1.first != P2.first\n",
        "ORDER BY P1.last, P1.age, P1.embarked;\n"
      ]
    },
    {
      "cell_type": "markdown",
      "metadata": {
        "id": "e0YUVnnBjqu8"
      },
      "source": [
        "*2) Which embarkation cities have more than 40 passengers whose age is missing? Reminder: Blanks in SQL tables are given a special value called 'null', and conditions 'A is null' and 'A is not null' can be used in Where clauses to check whether attribute A has the 'null' value.*"
      ]
    },
    {
      "cell_type": "code",
      "execution_count": 161,
      "metadata": {
        "id": "LtzdswX0jqu8",
        "colab": {
          "base_uri": "https://localhost:8080/",
          "height": 118
        },
        "outputId": "4f71adc6-8032-4c28-b0d7-31024be64ec6"
      },
      "outputs": [
        {
          "output_type": "stream",
          "name": "stdout",
          "text": [
            " * sqlite://\n",
            "Done.\n"
          ]
        },
        {
          "output_type": "execute_result",
          "data": {
            "text/plain": [
              "[('Queenstown', 49), ('Southampton', 90)]"
            ],
            "text/html": [
              "<table>\n",
              "    <tr>\n",
              "        <th>embarked</th>\n",
              "        <th>missing_age_count</th>\n",
              "    </tr>\n",
              "    <tr>\n",
              "        <td>Queenstown</td>\n",
              "        <td>49</td>\n",
              "    </tr>\n",
              "    <tr>\n",
              "        <td>Southampton</td>\n",
              "        <td>90</td>\n",
              "    </tr>\n",
              "</table>"
            ]
          },
          "metadata": {},
          "execution_count": 161
        }
      ],
      "source": [
        "%%sql\n",
        "SELECT embarked, COUNT(*) AS missing_age_count\n",
        "FROM Titanic\n",
        "WHERE age IS NULL\n",
        "GROUP BY embarked\n",
        "HAVING COUNT(*) > 40;\n"
      ]
    },
    {
      "cell_type": "markdown",
      "metadata": {
        "id": "GW8w7HPDjqu8"
      },
      "source": [
        "*3) Find all classes where the average fare paid by passengers in that class was more than twice the overall average or less than half the overall average.*"
      ]
    },
    {
      "cell_type": "code",
      "execution_count": 162,
      "metadata": {
        "id": "hSU5AArMjqu8",
        "colab": {
          "base_uri": "https://localhost:8080/",
          "height": 118
        },
        "outputId": "a9ac1ae8-e09c-4f39-e3a5-fd06ed98e973"
      },
      "outputs": [
        {
          "output_type": "stream",
          "name": "stdout",
          "text": [
            " * sqlite://\n",
            "Done.\n"
          ]
        },
        {
          "output_type": "execute_result",
          "data": {
            "text/plain": [
              "[(1, 84.15499999999999), (3, 13.676863543788176)]"
            ],
            "text/html": [
              "<table>\n",
              "    <tr>\n",
              "        <th>class</th>\n",
              "        <th>avg_fare</th>\n",
              "    </tr>\n",
              "    <tr>\n",
              "        <td>1</td>\n",
              "        <td>84.15499999999999</td>\n",
              "    </tr>\n",
              "    <tr>\n",
              "        <td>3</td>\n",
              "        <td>13.676863543788176</td>\n",
              "    </tr>\n",
              "</table>"
            ]
          },
          "metadata": {},
          "execution_count": 162
        }
      ],
      "source": [
        "%%sql\n",
        "SELECT class, AVG(fare) AS avg_fare\n",
        "FROM Titanic\n",
        "GROUP BY class\n",
        "HAVING AVG(fare) > 2 * (SELECT AVG(fare) FROM Titanic)\n",
        "   OR AVG(fare) < 0.5 * (SELECT AVG(fare) FROM Titanic);\n"
      ]
    },
    {
      "cell_type": "markdown",
      "metadata": {
        "id": "DaUZZBpUjqu9"
      },
      "source": [
        "*4) What is the average number of passengers per last name? Hint: Requires using a subquery in the From clause*"
      ]
    },
    {
      "cell_type": "code",
      "execution_count": 163,
      "metadata": {
        "id": "B74QQG4Cjqu9",
        "colab": {
          "base_uri": "https://localhost:8080/",
          "height": 96
        },
        "outputId": "175db9ee-c734-4333-fb88-b7d95cae6c8f"
      },
      "outputs": [
        {
          "output_type": "stream",
          "name": "stdout",
          "text": [
            " * sqlite://\n",
            "Done.\n"
          ]
        },
        {
          "output_type": "execute_result",
          "data": {
            "text/plain": [
              "[(1.3358320839580209,)]"
            ],
            "text/html": [
              "<table>\n",
              "    <tr>\n",
              "        <th>avg_passengers_per_lastname</th>\n",
              "    </tr>\n",
              "    <tr>\n",
              "        <td>1.3358320839580209</td>\n",
              "    </tr>\n",
              "</table>"
            ]
          },
          "metadata": {},
          "execution_count": 163
        }
      ],
      "source": [
        "%%sql\n",
        "SELECT AVG(passenger_count) AS avg_passengers_per_lastname\n",
        "FROM (\n",
        "    SELECT last, COUNT(*) AS passenger_count\n",
        "    FROM Titanic\n",
        "    GROUP BY last\n",
        ") AS last_name_counts;\n"
      ]
    },
    {
      "cell_type": "markdown",
      "metadata": {
        "id": "CZHjUC9Pjqu9"
      },
      "source": [
        "*5) List each class and its survival rate, i.e., the fraction of passengers in that class who survived. Hints: Use subqueries in the From clause to compute the number of survivers per class and total passengers per class, and force floating point division by multiplying one operand by 1.0*"
      ]
    },
    {
      "cell_type": "code",
      "execution_count": 164,
      "metadata": {
        "id": "SbjzLSTWjqu9",
        "colab": {
          "base_uri": "https://localhost:8080/",
          "height": 139
        },
        "outputId": "8be08a63-782d-4364-adae-5ce54beace3a"
      },
      "outputs": [
        {
          "output_type": "stream",
          "name": "stdout",
          "text": [
            " * sqlite://\n",
            "Done.\n"
          ]
        },
        {
          "output_type": "execute_result",
          "data": {
            "text/plain": [
              "[(1, 0.0), (2, 0.0), (3, 0.0)]"
            ],
            "text/html": [
              "<table>\n",
              "    <tr>\n",
              "        <th>class</th>\n",
              "        <th>survival_rate</th>\n",
              "    </tr>\n",
              "    <tr>\n",
              "        <td>1</td>\n",
              "        <td>0.0</td>\n",
              "    </tr>\n",
              "    <tr>\n",
              "        <td>2</td>\n",
              "        <td>0.0</td>\n",
              "    </tr>\n",
              "    <tr>\n",
              "        <td>3</td>\n",
              "        <td>0.0</td>\n",
              "    </tr>\n",
              "</table>"
            ]
          },
          "metadata": {},
          "execution_count": 164
        }
      ],
      "source": [
        "%%sql\n",
        "SELECT class,\n",
        "       survived_count * 1.0 / total_count AS survival_rate\n",
        "FROM (\n",
        "    SELECT class,\n",
        "           COUNT(CASE WHEN survived = 1 THEN 1 END) AS survived_count,\n",
        "           COUNT(*) AS total_count\n",
        "    FROM Titanic\n",
        "    GROUP BY class\n",
        ") AS class_survival_data;\n"
      ]
    },
    {
      "cell_type": "markdown",
      "metadata": {
        "id": "3D3WB5J6jqu9"
      },
      "source": [
        "*6) Modify your previous query to return the survival rate by gender, i.e., of females and of males.*"
      ]
    },
    {
      "cell_type": "code",
      "execution_count": 165,
      "metadata": {
        "id": "fqgApjcNjqu9",
        "colab": {
          "base_uri": "https://localhost:8080/",
          "height": 203
        },
        "outputId": "69edd1e7-03d4-4dad-e546-6f722591e9e7"
      },
      "outputs": [
        {
          "output_type": "stream",
          "name": "stdout",
          "text": [
            " * sqlite://\n",
            "Done.\n"
          ]
        },
        {
          "output_type": "execute_result",
          "data": {
            "text/plain": [
              "[(1, 'F', 0.0),\n",
              " (1, 'M', 0.0),\n",
              " (2, 'F', 0.0),\n",
              " (2, 'M', 0.0),\n",
              " (3, 'F', 0.0),\n",
              " (3, 'M', 0.0)]"
            ],
            "text/html": [
              "<table>\n",
              "    <tr>\n",
              "        <th>class</th>\n",
              "        <th>gender</th>\n",
              "        <th>survival_rate</th>\n",
              "    </tr>\n",
              "    <tr>\n",
              "        <td>1</td>\n",
              "        <td>F</td>\n",
              "        <td>0.0</td>\n",
              "    </tr>\n",
              "    <tr>\n",
              "        <td>1</td>\n",
              "        <td>M</td>\n",
              "        <td>0.0</td>\n",
              "    </tr>\n",
              "    <tr>\n",
              "        <td>2</td>\n",
              "        <td>F</td>\n",
              "        <td>0.0</td>\n",
              "    </tr>\n",
              "    <tr>\n",
              "        <td>2</td>\n",
              "        <td>M</td>\n",
              "        <td>0.0</td>\n",
              "    </tr>\n",
              "    <tr>\n",
              "        <td>3</td>\n",
              "        <td>F</td>\n",
              "        <td>0.0</td>\n",
              "    </tr>\n",
              "    <tr>\n",
              "        <td>3</td>\n",
              "        <td>M</td>\n",
              "        <td>0.0</td>\n",
              "    </tr>\n",
              "</table>"
            ]
          },
          "metadata": {},
          "execution_count": 165
        }
      ],
      "source": [
        "%%sql\n",
        "SELECT class, gender,\n",
        "       survived_count * 1.0 / total_count AS survival_rate\n",
        "FROM (\n",
        "    SELECT class, gender,\n",
        "           COUNT(CASE WHEN survived = 1 THEN 1 END) AS survived_count,\n",
        "           COUNT(*) AS total_count\n",
        "    FROM Titanic\n",
        "    GROUP BY class, gender\n",
        ") AS class_gender_survival_data;\n"
      ]
    },
    {
      "cell_type": "markdown",
      "metadata": {
        "id": "nJaEoy9ljqu9"
      },
      "source": [
        "*7) Now return the survival rate of children versus adults, i.e., of passengers under age 18 versus those 18 or over (ignoring passengers whose age is missing).*"
      ]
    },
    {
      "cell_type": "code",
      "execution_count": 166,
      "metadata": {
        "id": "EPRQfJUkjqu9",
        "colab": {
          "base_uri": "https://localhost:8080/",
          "height": 118
        },
        "outputId": "fc07d13a-3bdd-416e-944a-e6730d445d78"
      },
      "outputs": [
        {
          "output_type": "stream",
          "name": "stdout",
          "text": [
            " * sqlite://\n",
            "Done.\n"
          ]
        },
        {
          "output_type": "execute_result",
          "data": {
            "text/plain": [
              "[('Adult', 0.0), ('Child', 0.0)]"
            ],
            "text/html": [
              "<table>\n",
              "    <tr>\n",
              "        <th>age_group</th>\n",
              "        <th>survival_rate</th>\n",
              "    </tr>\n",
              "    <tr>\n",
              "        <td>Adult</td>\n",
              "        <td>0.0</td>\n",
              "    </tr>\n",
              "    <tr>\n",
              "        <td>Child</td>\n",
              "        <td>0.0</td>\n",
              "    </tr>\n",
              "</table>"
            ]
          },
          "metadata": {},
          "execution_count": 166
        }
      ],
      "source": [
        "%%sql\n",
        "SELECT age_group,\n",
        "       survived_count * 1.0 / total_count AS survival_rate\n",
        "FROM (\n",
        "    SELECT CASE\n",
        "               WHEN age < 18 THEN 'Child'\n",
        "               WHEN age >= 18 THEN 'Adult'\n",
        "               ELSE 'Unknown'\n",
        "           END AS age_group,\n",
        "           COUNT(CASE WHEN survived = 1 THEN 1 END) AS survived_count,\n",
        "           COUNT(*) AS total_count\n",
        "    FROM Titanic\n",
        "    WHERE age IS NOT NULL\n",
        "    GROUP BY age_group\n",
        ") AS age_group_survival_data;\n"
      ]
    },
    {
      "cell_type": "markdown",
      "metadata": {
        "id": "EyrHmIIijqu-"
      },
      "source": [
        "### <font color = 'green'>**Your Turn Extra - SQL Data Modification on Titanic Data**</font>"
      ]
    },
    {
      "cell_type": "code",
      "execution_count": 167,
      "metadata": {
        "id": "Ojvf6D7Ijqu-",
        "colab": {
          "base_uri": "https://localhost:8080/",
          "height": 0
        },
        "outputId": "cb109ef5-b980-43ca-f007-0fce35cb22cc"
      },
      "outputs": [
        {
          "output_type": "stream",
          "name": "stdout",
          "text": [
            " * sqlite://\n",
            "Done.\n",
            " * sqlite://\n",
            "(sqlite3.OperationalError) near \"persist\": syntax error\n",
            "[SQL: persist Titanic]\n",
            "(Background on this error at: https://sqlalche.me/e/20/e3q8)\n"
          ]
        }
      ],
      "source": [
        "# Reload table from CSV file\n",
        "# NOTE: You may want to reload frequently to reset the data as you\n",
        "# experiment with modifications\n",
        "with open('Titanic.csv') as f: Titanic = pd.read_csv(f, index_col=0)\n",
        "%sql drop table if exists Titanic;\n",
        "%sql persist Titanic"
      ]
    },
    {
      "cell_type": "markdown",
      "metadata": {
        "id": "1QhfBSbhjqu-"
      },
      "source": [
        "*1) Subtract 5 from the fare paid by any passenger under the age of 10. Then compute the new average fare. NOTE: You can put multiple SQL statements in one cell separated by a semicolon.*"
      ]
    },
    {
      "cell_type": "code",
      "execution_count": 168,
      "metadata": {
        "id": "PDEBNW4Ojqu-",
        "colab": {
          "base_uri": "https://localhost:8080/",
          "height": 0
        },
        "outputId": "c940dbc7-292f-4a03-f642-171af60ac0d1"
      },
      "outputs": [
        {
          "output_type": "stream",
          "name": "stdout",
          "text": [
            " * sqlite://\n",
            "(sqlite3.OperationalError) near \"YOUR\": syntax error\n",
            "[SQL: YOUR CODE HERE]\n",
            "(Background on this error at: https://sqlalche.me/e/20/e3q8)\n"
          ]
        }
      ],
      "source": [
        "%%sql\n",
        "YOUR CODE HERE"
      ]
    },
    {
      "cell_type": "markdown",
      "metadata": {
        "id": "SfkgJjifjqu-"
      },
      "source": [
        "*2) Create a new table called Survivors, containing the last and first names of all passengers who survived. Then count the number of tuples in the new table.*"
      ]
    },
    {
      "cell_type": "code",
      "execution_count": 169,
      "metadata": {
        "id": "Bd8_KkqVjqu-",
        "colab": {
          "base_uri": "https://localhost:8080/",
          "height": 0
        },
        "outputId": "547f1e17-d8ed-4bcf-e9d3-2e6467346f41"
      },
      "outputs": [
        {
          "output_type": "stream",
          "name": "stdout",
          "text": [
            " * sqlite://\n",
            "(sqlite3.OperationalError) near \"YOUR\": syntax error\n",
            "[SQL: YOUR CODE HERE]\n",
            "(Background on this error at: https://sqlalche.me/e/20/e3q8)\n"
          ]
        }
      ],
      "source": [
        "%%sql\n",
        "YOUR CODE HERE"
      ]
    },
    {
      "cell_type": "markdown",
      "metadata": {
        "id": "SR_h2uFmjqu-"
      },
      "source": [
        "*3) In the Titanic table delete all but the highest-paying passengers.*"
      ]
    },
    {
      "cell_type": "code",
      "execution_count": 170,
      "metadata": {
        "id": "XGPYDkzMjqu-",
        "colab": {
          "base_uri": "https://localhost:8080/",
          "height": 0
        },
        "outputId": "11958a37-e2e4-4864-a5ee-16f6b4f3022d"
      },
      "outputs": [
        {
          "output_type": "stream",
          "name": "stdout",
          "text": [
            " * sqlite://\n",
            "(sqlite3.OperationalError) near \"YOUR\": syntax error\n",
            "[SQL: YOUR CODE HERE]\n",
            "(Background on this error at: https://sqlalche.me/e/20/e3q8)\n"
          ]
        }
      ],
      "source": [
        "%%sql\n",
        "YOUR CODE HERE"
      ]
    },
    {
      "cell_type": "markdown",
      "metadata": {
        "id": "cdV1ORAijqu-"
      },
      "source": [
        "*4) In what's left of the table after (3), insert a new tuple for yourself. You can decide your class, fare, where you embarked, and whether you survived. Then show the whole table.*"
      ]
    },
    {
      "cell_type": "code",
      "execution_count": 171,
      "metadata": {
        "id": "ZHJEUzTQjqu_",
        "colab": {
          "base_uri": "https://localhost:8080/",
          "height": 0
        },
        "outputId": "0e61108b-0606-413e-d143-e773f7053bd3"
      },
      "outputs": [
        {
          "output_type": "stream",
          "name": "stdout",
          "text": [
            " * sqlite://\n",
            "(sqlite3.OperationalError) near \"YOUR\": syntax error\n",
            "[SQL: YOUR CODE HERE]\n",
            "(Background on this error at: https://sqlalche.me/e/20/e3q8)\n"
          ]
        }
      ],
      "source": [
        "%%sql\n",
        "YOUR CODE HERE"
      ]
    }
  ],
  "metadata": {
    "kernelspec": {
      "display_name": "Python 3",
      "language": "python",
      "name": "python3"
    },
    "language_info": {
      "codemirror_mode": {
        "name": "ipython",
        "version": 3
      },
      "file_extension": ".py",
      "mimetype": "text/x-python",
      "name": "python",
      "nbconvert_exporter": "python",
      "pygments_lexer": "ipython3",
      "version": "3.7.6"
    },
    "colab": {
      "provenance": [],
      "collapsed_sections": [
        "EyrHmIIijqu-"
      ],
      "include_colab_link": true
    }
  },
  "nbformat": 4,
  "nbformat_minor": 0
}