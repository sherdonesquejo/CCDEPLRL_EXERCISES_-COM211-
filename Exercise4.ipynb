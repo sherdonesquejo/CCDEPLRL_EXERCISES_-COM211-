{
  "cells": [
    {
      "cell_type": "markdown",
      "metadata": {
        "id": "view-in-github",
        "colab_type": "text"
      },
      "source": [
        "<a href=\"https://colab.research.google.com/github/sherdonesquejo/CCDEPLRL_EXERCISES_-COM211-/blob/main/Exercise4.ipynb\" target=\"_parent\"><img src=\"https://colab.research.google.com/assets/colab-badge.svg\" alt=\"Open In Colab\"/></a>"
      ]
    },
    {
      "cell_type": "markdown",
      "metadata": {
        "id": "hY-fjvwfy2P9"
      },
      "source": [
        "# Exercise 4"
      ]
    },
    {
      "cell_type": "code",
      "execution_count": 338,
      "metadata": {
        "id": "drsUfVVXyxJl"
      },
      "outputs": [],
      "source": [
        "import tensorflow as tf\n",
        "\n",
        "from tensorflow.keras.preprocessing.text import Tokenizer\n",
        "from tensorflow.keras.preprocessing.sequence import pad_sequences"
      ]
    },
    {
      "cell_type": "code",
      "execution_count": 339,
      "metadata": {
        "id": "y4e6GG2CzJUq",
        "colab": {
          "base_uri": "https://localhost:8080/"
        },
        "outputId": "25ac1916-0815-4b99-dfd0-2f400eb95cb3"
      },
      "outputs": [
        {
          "output_type": "stream",
          "name": "stdout",
          "text": [
            "After Replacing:\n",
            "                                                  review  rating\n",
            "0                       sir okay armygreen shorts nice        1\n",
            "1     di pareha yong mga size nila may sobrang liit ...       1\n",
            "2     super worth it ang ganda Sombra grabi order na...       1\n",
            "3                                      ganda po salamat       1\n",
            "4                   maayos pagkadeliver maganda den sya       1\n",
            "...                                                 ...     ...\n",
            "996   manipis siya masyado, tapos 9pcs lang yung isa...       0\n",
            "997   maluwang and sobrang nipis. maluwang and sobra...       0\n",
            "998   hope hindi tayo manloloko di ba???sa dami ng n...       0\n",
            "999   Nakaka disappointed lng ng sobra sa seller .. ...       0\n",
            "1000  salamat po sa courier pero Yung items po nakak...       0\n",
            "\n",
            "[1001 rows x 2 columns]\n"
          ]
        },
        {
          "output_type": "execute_result",
          "data": {
            "text/plain": [
              "list"
            ]
          },
          "metadata": {},
          "execution_count": 339
        }
      ],
      "source": [
        "import numpy as np\n",
        "import pandas as pd\n",
        "\n",
        "\n",
        "dataset = pd.read_json('reviews.json')\n",
        "dataset.replace({1: 0, 2:0, 3:1, 4:1, 5:1}, inplace=True)\n",
        "print(\"After Replacing:\\n\", dataset)\n",
        "\n",
        "sentences = dataset['review'].tolist()\n",
        "labels = dataset['rating'].tolist()\n",
        "type(labels)\n",
        "\n"
      ]
    },
    {
      "cell_type": "code",
      "source": [
        "# Separate out the sentences and labels into training and test sets\n",
        "training_size = int(len(sentences) * 0.8)\n",
        "\n",
        "training_sentences = sentences[0:training_size]\n",
        "testing_sentences = sentences[training_size:]\n",
        "training_labels = labels[0:training_size]\n",
        "testing_labels = labels[training_size:]\n",
        "\n",
        "# Make labels into numpy arrays for use with the network later\n",
        "training_labels_final = np.array(training_labels)\n",
        "testing_labels_final = np.array(testing_labels)\n"
      ],
      "metadata": {
        "id": "aYpqQ6zvmWBz"
      },
      "execution_count": 340,
      "outputs": []
    },
    {
      "cell_type": "code",
      "source": [
        "dataset.head()"
      ],
      "metadata": {
        "colab": {
          "base_uri": "https://localhost:8080/",
          "height": 206
        },
        "id": "lW6mgNsBLNcQ",
        "outputId": "f3e5f1e2-32ad-46d5-8f3f-e9c6b3cc909b"
      },
      "execution_count": 341,
      "outputs": [
        {
          "output_type": "execute_result",
          "data": {
            "text/plain": [
              "                                              review  rating\n",
              "0                    sir okay armygreen shorts nice        1\n",
              "1  di pareha yong mga size nila may sobrang liit ...       1\n",
              "2  super worth it ang ganda Sombra grabi order na...       1\n",
              "3                                   ganda po salamat       1\n",
              "4                maayos pagkadeliver maganda den sya       1"
            ],
            "text/html": [
              "\n",
              "  <div id=\"df-9a9a440e-0c97-4967-a365-b478faf1e4c2\" class=\"colab-df-container\">\n",
              "    <div>\n",
              "<style scoped>\n",
              "    .dataframe tbody tr th:only-of-type {\n",
              "        vertical-align: middle;\n",
              "    }\n",
              "\n",
              "    .dataframe tbody tr th {\n",
              "        vertical-align: top;\n",
              "    }\n",
              "\n",
              "    .dataframe thead th {\n",
              "        text-align: right;\n",
              "    }\n",
              "</style>\n",
              "<table border=\"1\" class=\"dataframe\">\n",
              "  <thead>\n",
              "    <tr style=\"text-align: right;\">\n",
              "      <th></th>\n",
              "      <th>review</th>\n",
              "      <th>rating</th>\n",
              "    </tr>\n",
              "  </thead>\n",
              "  <tbody>\n",
              "    <tr>\n",
              "      <th>0</th>\n",
              "      <td>sir okay armygreen shorts nice</td>\n",
              "      <td>1</td>\n",
              "    </tr>\n",
              "    <tr>\n",
              "      <th>1</th>\n",
              "      <td>di pareha yong mga size nila may sobrang liit ...</td>\n",
              "      <td>1</td>\n",
              "    </tr>\n",
              "    <tr>\n",
              "      <th>2</th>\n",
              "      <td>super worth it ang ganda Sombra grabi order na...</td>\n",
              "      <td>1</td>\n",
              "    </tr>\n",
              "    <tr>\n",
              "      <th>3</th>\n",
              "      <td>ganda po salamat</td>\n",
              "      <td>1</td>\n",
              "    </tr>\n",
              "    <tr>\n",
              "      <th>4</th>\n",
              "      <td>maayos pagkadeliver maganda den sya</td>\n",
              "      <td>1</td>\n",
              "    </tr>\n",
              "  </tbody>\n",
              "</table>\n",
              "</div>\n",
              "    <div class=\"colab-df-buttons\">\n",
              "\n",
              "  <div class=\"colab-df-container\">\n",
              "    <button class=\"colab-df-convert\" onclick=\"convertToInteractive('df-9a9a440e-0c97-4967-a365-b478faf1e4c2')\"\n",
              "            title=\"Convert this dataframe to an interactive table.\"\n",
              "            style=\"display:none;\">\n",
              "\n",
              "  <svg xmlns=\"http://www.w3.org/2000/svg\" height=\"24px\" viewBox=\"0 -960 960 960\">\n",
              "    <path d=\"M120-120v-720h720v720H120Zm60-500h600v-160H180v160Zm220 220h160v-160H400v160Zm0 220h160v-160H400v160ZM180-400h160v-160H180v160Zm440 0h160v-160H620v160ZM180-180h160v-160H180v160Zm440 0h160v-160H620v160Z\"/>\n",
              "  </svg>\n",
              "    </button>\n",
              "\n",
              "  <style>\n",
              "    .colab-df-container {\n",
              "      display:flex;\n",
              "      gap: 12px;\n",
              "    }\n",
              "\n",
              "    .colab-df-convert {\n",
              "      background-color: #E8F0FE;\n",
              "      border: none;\n",
              "      border-radius: 50%;\n",
              "      cursor: pointer;\n",
              "      display: none;\n",
              "      fill: #1967D2;\n",
              "      height: 32px;\n",
              "      padding: 0 0 0 0;\n",
              "      width: 32px;\n",
              "    }\n",
              "\n",
              "    .colab-df-convert:hover {\n",
              "      background-color: #E2EBFA;\n",
              "      box-shadow: 0px 1px 2px rgba(60, 64, 67, 0.3), 0px 1px 3px 1px rgba(60, 64, 67, 0.15);\n",
              "      fill: #174EA6;\n",
              "    }\n",
              "\n",
              "    .colab-df-buttons div {\n",
              "      margin-bottom: 4px;\n",
              "    }\n",
              "\n",
              "    [theme=dark] .colab-df-convert {\n",
              "      background-color: #3B4455;\n",
              "      fill: #D2E3FC;\n",
              "    }\n",
              "\n",
              "    [theme=dark] .colab-df-convert:hover {\n",
              "      background-color: #434B5C;\n",
              "      box-shadow: 0px 1px 3px 1px rgba(0, 0, 0, 0.15);\n",
              "      filter: drop-shadow(0px 1px 2px rgba(0, 0, 0, 0.3));\n",
              "      fill: #FFFFFF;\n",
              "    }\n",
              "  </style>\n",
              "\n",
              "    <script>\n",
              "      const buttonEl =\n",
              "        document.querySelector('#df-9a9a440e-0c97-4967-a365-b478faf1e4c2 button.colab-df-convert');\n",
              "      buttonEl.style.display =\n",
              "        google.colab.kernel.accessAllowed ? 'block' : 'none';\n",
              "\n",
              "      async function convertToInteractive(key) {\n",
              "        const element = document.querySelector('#df-9a9a440e-0c97-4967-a365-b478faf1e4c2');\n",
              "        const dataTable =\n",
              "          await google.colab.kernel.invokeFunction('convertToInteractive',\n",
              "                                                    [key], {});\n",
              "        if (!dataTable) return;\n",
              "\n",
              "        const docLinkHtml = 'Like what you see? Visit the ' +\n",
              "          '<a target=\"_blank\" href=https://colab.research.google.com/notebooks/data_table.ipynb>data table notebook</a>'\n",
              "          + ' to learn more about interactive tables.';\n",
              "        element.innerHTML = '';\n",
              "        dataTable['output_type'] = 'display_data';\n",
              "        await google.colab.output.renderOutput(dataTable, element);\n",
              "        const docLink = document.createElement('div');\n",
              "        docLink.innerHTML = docLinkHtml;\n",
              "        element.appendChild(docLink);\n",
              "      }\n",
              "    </script>\n",
              "  </div>\n",
              "\n",
              "\n",
              "<div id=\"df-3800b7e5-b5a7-43d0-bcf1-31c21d15716f\">\n",
              "  <button class=\"colab-df-quickchart\" onclick=\"quickchart('df-3800b7e5-b5a7-43d0-bcf1-31c21d15716f')\"\n",
              "            title=\"Suggest charts\"\n",
              "            style=\"display:none;\">\n",
              "\n",
              "<svg xmlns=\"http://www.w3.org/2000/svg\" height=\"24px\"viewBox=\"0 0 24 24\"\n",
              "     width=\"24px\">\n",
              "    <g>\n",
              "        <path d=\"M19 3H5c-1.1 0-2 .9-2 2v14c0 1.1.9 2 2 2h14c1.1 0 2-.9 2-2V5c0-1.1-.9-2-2-2zM9 17H7v-7h2v7zm4 0h-2V7h2v10zm4 0h-2v-4h2v4z\"/>\n",
              "    </g>\n",
              "</svg>\n",
              "  </button>\n",
              "\n",
              "<style>\n",
              "  .colab-df-quickchart {\n",
              "      --bg-color: #E8F0FE;\n",
              "      --fill-color: #1967D2;\n",
              "      --hover-bg-color: #E2EBFA;\n",
              "      --hover-fill-color: #174EA6;\n",
              "      --disabled-fill-color: #AAA;\n",
              "      --disabled-bg-color: #DDD;\n",
              "  }\n",
              "\n",
              "  [theme=dark] .colab-df-quickchart {\n",
              "      --bg-color: #3B4455;\n",
              "      --fill-color: #D2E3FC;\n",
              "      --hover-bg-color: #434B5C;\n",
              "      --hover-fill-color: #FFFFFF;\n",
              "      --disabled-bg-color: #3B4455;\n",
              "      --disabled-fill-color: #666;\n",
              "  }\n",
              "\n",
              "  .colab-df-quickchart {\n",
              "    background-color: var(--bg-color);\n",
              "    border: none;\n",
              "    border-radius: 50%;\n",
              "    cursor: pointer;\n",
              "    display: none;\n",
              "    fill: var(--fill-color);\n",
              "    height: 32px;\n",
              "    padding: 0;\n",
              "    width: 32px;\n",
              "  }\n",
              "\n",
              "  .colab-df-quickchart:hover {\n",
              "    background-color: var(--hover-bg-color);\n",
              "    box-shadow: 0 1px 2px rgba(60, 64, 67, 0.3), 0 1px 3px 1px rgba(60, 64, 67, 0.15);\n",
              "    fill: var(--button-hover-fill-color);\n",
              "  }\n",
              "\n",
              "  .colab-df-quickchart-complete:disabled,\n",
              "  .colab-df-quickchart-complete:disabled:hover {\n",
              "    background-color: var(--disabled-bg-color);\n",
              "    fill: var(--disabled-fill-color);\n",
              "    box-shadow: none;\n",
              "  }\n",
              "\n",
              "  .colab-df-spinner {\n",
              "    border: 2px solid var(--fill-color);\n",
              "    border-color: transparent;\n",
              "    border-bottom-color: var(--fill-color);\n",
              "    animation:\n",
              "      spin 1s steps(1) infinite;\n",
              "  }\n",
              "\n",
              "  @keyframes spin {\n",
              "    0% {\n",
              "      border-color: transparent;\n",
              "      border-bottom-color: var(--fill-color);\n",
              "      border-left-color: var(--fill-color);\n",
              "    }\n",
              "    20% {\n",
              "      border-color: transparent;\n",
              "      border-left-color: var(--fill-color);\n",
              "      border-top-color: var(--fill-color);\n",
              "    }\n",
              "    30% {\n",
              "      border-color: transparent;\n",
              "      border-left-color: var(--fill-color);\n",
              "      border-top-color: var(--fill-color);\n",
              "      border-right-color: var(--fill-color);\n",
              "    }\n",
              "    40% {\n",
              "      border-color: transparent;\n",
              "      border-right-color: var(--fill-color);\n",
              "      border-top-color: var(--fill-color);\n",
              "    }\n",
              "    60% {\n",
              "      border-color: transparent;\n",
              "      border-right-color: var(--fill-color);\n",
              "    }\n",
              "    80% {\n",
              "      border-color: transparent;\n",
              "      border-right-color: var(--fill-color);\n",
              "      border-bottom-color: var(--fill-color);\n",
              "    }\n",
              "    90% {\n",
              "      border-color: transparent;\n",
              "      border-bottom-color: var(--fill-color);\n",
              "    }\n",
              "  }\n",
              "</style>\n",
              "\n",
              "  <script>\n",
              "    async function quickchart(key) {\n",
              "      const quickchartButtonEl =\n",
              "        document.querySelector('#' + key + ' button');\n",
              "      quickchartButtonEl.disabled = true;  // To prevent multiple clicks.\n",
              "      quickchartButtonEl.classList.add('colab-df-spinner');\n",
              "      try {\n",
              "        const charts = await google.colab.kernel.invokeFunction(\n",
              "            'suggestCharts', [key], {});\n",
              "      } catch (error) {\n",
              "        console.error('Error during call to suggestCharts:', error);\n",
              "      }\n",
              "      quickchartButtonEl.classList.remove('colab-df-spinner');\n",
              "      quickchartButtonEl.classList.add('colab-df-quickchart-complete');\n",
              "    }\n",
              "    (() => {\n",
              "      let quickchartButtonEl =\n",
              "        document.querySelector('#df-3800b7e5-b5a7-43d0-bcf1-31c21d15716f button');\n",
              "      quickchartButtonEl.style.display =\n",
              "        google.colab.kernel.accessAllowed ? 'block' : 'none';\n",
              "    })();\n",
              "  </script>\n",
              "</div>\n",
              "    </div>\n",
              "  </div>\n"
            ],
            "application/vnd.google.colaboratory.intrinsic+json": {
              "type": "dataframe",
              "variable_name": "dataset",
              "summary": "{\n  \"name\": \"dataset\",\n  \"rows\": 1001,\n  \"fields\": [\n    {\n      \"column\": \"review\",\n      \"properties\": {\n        \"dtype\": \"string\",\n        \"num_unique_values\": 914,\n        \"samples\": [\n          \"mabilis lang dumating. naka sealed pa ng magagos maliban sa mismong sealed ng nail polish. ang gabda ng kulay at nabili ko lang for only 5 pesos!\",\n          \"i ordered three different shirts, only of them arrived here correctly. one is in wrong size and the other is not the color i ordered and wrong size too.!!!!\",\n          \"The speaker is working and the quality of the sound is very nice. I don't know why but I didn't get the design that I want. Instead of Army Green, I got Grey but its still good. The packaging is also nice. You should buy this product. It is worth it. \"\n        ],\n        \"semantic_type\": \"\",\n        \"description\": \"\"\n      }\n    },\n    {\n      \"column\": \"rating\",\n      \"properties\": {\n        \"dtype\": \"number\",\n        \"std\": 0,\n        \"min\": 0,\n        \"max\": 1,\n        \"num_unique_values\": 2,\n        \"samples\": [\n          0,\n          1\n        ],\n        \"semantic_type\": \"\",\n        \"description\": \"\"\n      }\n    }\n  ]\n}"
            }
          },
          "metadata": {},
          "execution_count": 341
        }
      ]
    },
    {
      "cell_type": "code",
      "source": [
        "dataset.head()"
      ],
      "metadata": {
        "id": "bE-O8mSnlbz9",
        "outputId": "762a4c71-bd98-4148-9a6b-4da3bdc96675",
        "colab": {
          "base_uri": "https://localhost:8080/",
          "height": 206
        }
      },
      "execution_count": 342,
      "outputs": [
        {
          "output_type": "execute_result",
          "data": {
            "text/plain": [
              "                                              review  rating\n",
              "0                    sir okay armygreen shorts nice        1\n",
              "1  di pareha yong mga size nila may sobrang liit ...       1\n",
              "2  super worth it ang ganda Sombra grabi order na...       1\n",
              "3                                   ganda po salamat       1\n",
              "4                maayos pagkadeliver maganda den sya       1"
            ],
            "text/html": [
              "\n",
              "  <div id=\"df-ce20aa2a-e613-4355-9f76-3a12f391cdd0\" class=\"colab-df-container\">\n",
              "    <div>\n",
              "<style scoped>\n",
              "    .dataframe tbody tr th:only-of-type {\n",
              "        vertical-align: middle;\n",
              "    }\n",
              "\n",
              "    .dataframe tbody tr th {\n",
              "        vertical-align: top;\n",
              "    }\n",
              "\n",
              "    .dataframe thead th {\n",
              "        text-align: right;\n",
              "    }\n",
              "</style>\n",
              "<table border=\"1\" class=\"dataframe\">\n",
              "  <thead>\n",
              "    <tr style=\"text-align: right;\">\n",
              "      <th></th>\n",
              "      <th>review</th>\n",
              "      <th>rating</th>\n",
              "    </tr>\n",
              "  </thead>\n",
              "  <tbody>\n",
              "    <tr>\n",
              "      <th>0</th>\n",
              "      <td>sir okay armygreen shorts nice</td>\n",
              "      <td>1</td>\n",
              "    </tr>\n",
              "    <tr>\n",
              "      <th>1</th>\n",
              "      <td>di pareha yong mga size nila may sobrang liit ...</td>\n",
              "      <td>1</td>\n",
              "    </tr>\n",
              "    <tr>\n",
              "      <th>2</th>\n",
              "      <td>super worth it ang ganda Sombra grabi order na...</td>\n",
              "      <td>1</td>\n",
              "    </tr>\n",
              "    <tr>\n",
              "      <th>3</th>\n",
              "      <td>ganda po salamat</td>\n",
              "      <td>1</td>\n",
              "    </tr>\n",
              "    <tr>\n",
              "      <th>4</th>\n",
              "      <td>maayos pagkadeliver maganda den sya</td>\n",
              "      <td>1</td>\n",
              "    </tr>\n",
              "  </tbody>\n",
              "</table>\n",
              "</div>\n",
              "    <div class=\"colab-df-buttons\">\n",
              "\n",
              "  <div class=\"colab-df-container\">\n",
              "    <button class=\"colab-df-convert\" onclick=\"convertToInteractive('df-ce20aa2a-e613-4355-9f76-3a12f391cdd0')\"\n",
              "            title=\"Convert this dataframe to an interactive table.\"\n",
              "            style=\"display:none;\">\n",
              "\n",
              "  <svg xmlns=\"http://www.w3.org/2000/svg\" height=\"24px\" viewBox=\"0 -960 960 960\">\n",
              "    <path d=\"M120-120v-720h720v720H120Zm60-500h600v-160H180v160Zm220 220h160v-160H400v160Zm0 220h160v-160H400v160ZM180-400h160v-160H180v160Zm440 0h160v-160H620v160ZM180-180h160v-160H180v160Zm440 0h160v-160H620v160Z\"/>\n",
              "  </svg>\n",
              "    </button>\n",
              "\n",
              "  <style>\n",
              "    .colab-df-container {\n",
              "      display:flex;\n",
              "      gap: 12px;\n",
              "    }\n",
              "\n",
              "    .colab-df-convert {\n",
              "      background-color: #E8F0FE;\n",
              "      border: none;\n",
              "      border-radius: 50%;\n",
              "      cursor: pointer;\n",
              "      display: none;\n",
              "      fill: #1967D2;\n",
              "      height: 32px;\n",
              "      padding: 0 0 0 0;\n",
              "      width: 32px;\n",
              "    }\n",
              "\n",
              "    .colab-df-convert:hover {\n",
              "      background-color: #E2EBFA;\n",
              "      box-shadow: 0px 1px 2px rgba(60, 64, 67, 0.3), 0px 1px 3px 1px rgba(60, 64, 67, 0.15);\n",
              "      fill: #174EA6;\n",
              "    }\n",
              "\n",
              "    .colab-df-buttons div {\n",
              "      margin-bottom: 4px;\n",
              "    }\n",
              "\n",
              "    [theme=dark] .colab-df-convert {\n",
              "      background-color: #3B4455;\n",
              "      fill: #D2E3FC;\n",
              "    }\n",
              "\n",
              "    [theme=dark] .colab-df-convert:hover {\n",
              "      background-color: #434B5C;\n",
              "      box-shadow: 0px 1px 3px 1px rgba(0, 0, 0, 0.15);\n",
              "      filter: drop-shadow(0px 1px 2px rgba(0, 0, 0, 0.3));\n",
              "      fill: #FFFFFF;\n",
              "    }\n",
              "  </style>\n",
              "\n",
              "    <script>\n",
              "      const buttonEl =\n",
              "        document.querySelector('#df-ce20aa2a-e613-4355-9f76-3a12f391cdd0 button.colab-df-convert');\n",
              "      buttonEl.style.display =\n",
              "        google.colab.kernel.accessAllowed ? 'block' : 'none';\n",
              "\n",
              "      async function convertToInteractive(key) {\n",
              "        const element = document.querySelector('#df-ce20aa2a-e613-4355-9f76-3a12f391cdd0');\n",
              "        const dataTable =\n",
              "          await google.colab.kernel.invokeFunction('convertToInteractive',\n",
              "                                                    [key], {});\n",
              "        if (!dataTable) return;\n",
              "\n",
              "        const docLinkHtml = 'Like what you see? Visit the ' +\n",
              "          '<a target=\"_blank\" href=https://colab.research.google.com/notebooks/data_table.ipynb>data table notebook</a>'\n",
              "          + ' to learn more about interactive tables.';\n",
              "        element.innerHTML = '';\n",
              "        dataTable['output_type'] = 'display_data';\n",
              "        await google.colab.output.renderOutput(dataTable, element);\n",
              "        const docLink = document.createElement('div');\n",
              "        docLink.innerHTML = docLinkHtml;\n",
              "        element.appendChild(docLink);\n",
              "      }\n",
              "    </script>\n",
              "  </div>\n",
              "\n",
              "\n",
              "<div id=\"df-681cbdfa-6479-48ea-bd6d-7b431b49618f\">\n",
              "  <button class=\"colab-df-quickchart\" onclick=\"quickchart('df-681cbdfa-6479-48ea-bd6d-7b431b49618f')\"\n",
              "            title=\"Suggest charts\"\n",
              "            style=\"display:none;\">\n",
              "\n",
              "<svg xmlns=\"http://www.w3.org/2000/svg\" height=\"24px\"viewBox=\"0 0 24 24\"\n",
              "     width=\"24px\">\n",
              "    <g>\n",
              "        <path d=\"M19 3H5c-1.1 0-2 .9-2 2v14c0 1.1.9 2 2 2h14c1.1 0 2-.9 2-2V5c0-1.1-.9-2-2-2zM9 17H7v-7h2v7zm4 0h-2V7h2v10zm4 0h-2v-4h2v4z\"/>\n",
              "    </g>\n",
              "</svg>\n",
              "  </button>\n",
              "\n",
              "<style>\n",
              "  .colab-df-quickchart {\n",
              "      --bg-color: #E8F0FE;\n",
              "      --fill-color: #1967D2;\n",
              "      --hover-bg-color: #E2EBFA;\n",
              "      --hover-fill-color: #174EA6;\n",
              "      --disabled-fill-color: #AAA;\n",
              "      --disabled-bg-color: #DDD;\n",
              "  }\n",
              "\n",
              "  [theme=dark] .colab-df-quickchart {\n",
              "      --bg-color: #3B4455;\n",
              "      --fill-color: #D2E3FC;\n",
              "      --hover-bg-color: #434B5C;\n",
              "      --hover-fill-color: #FFFFFF;\n",
              "      --disabled-bg-color: #3B4455;\n",
              "      --disabled-fill-color: #666;\n",
              "  }\n",
              "\n",
              "  .colab-df-quickchart {\n",
              "    background-color: var(--bg-color);\n",
              "    border: none;\n",
              "    border-radius: 50%;\n",
              "    cursor: pointer;\n",
              "    display: none;\n",
              "    fill: var(--fill-color);\n",
              "    height: 32px;\n",
              "    padding: 0;\n",
              "    width: 32px;\n",
              "  }\n",
              "\n",
              "  .colab-df-quickchart:hover {\n",
              "    background-color: var(--hover-bg-color);\n",
              "    box-shadow: 0 1px 2px rgba(60, 64, 67, 0.3), 0 1px 3px 1px rgba(60, 64, 67, 0.15);\n",
              "    fill: var(--button-hover-fill-color);\n",
              "  }\n",
              "\n",
              "  .colab-df-quickchart-complete:disabled,\n",
              "  .colab-df-quickchart-complete:disabled:hover {\n",
              "    background-color: var(--disabled-bg-color);\n",
              "    fill: var(--disabled-fill-color);\n",
              "    box-shadow: none;\n",
              "  }\n",
              "\n",
              "  .colab-df-spinner {\n",
              "    border: 2px solid var(--fill-color);\n",
              "    border-color: transparent;\n",
              "    border-bottom-color: var(--fill-color);\n",
              "    animation:\n",
              "      spin 1s steps(1) infinite;\n",
              "  }\n",
              "\n",
              "  @keyframes spin {\n",
              "    0% {\n",
              "      border-color: transparent;\n",
              "      border-bottom-color: var(--fill-color);\n",
              "      border-left-color: var(--fill-color);\n",
              "    }\n",
              "    20% {\n",
              "      border-color: transparent;\n",
              "      border-left-color: var(--fill-color);\n",
              "      border-top-color: var(--fill-color);\n",
              "    }\n",
              "    30% {\n",
              "      border-color: transparent;\n",
              "      border-left-color: var(--fill-color);\n",
              "      border-top-color: var(--fill-color);\n",
              "      border-right-color: var(--fill-color);\n",
              "    }\n",
              "    40% {\n",
              "      border-color: transparent;\n",
              "      border-right-color: var(--fill-color);\n",
              "      border-top-color: var(--fill-color);\n",
              "    }\n",
              "    60% {\n",
              "      border-color: transparent;\n",
              "      border-right-color: var(--fill-color);\n",
              "    }\n",
              "    80% {\n",
              "      border-color: transparent;\n",
              "      border-right-color: var(--fill-color);\n",
              "      border-bottom-color: var(--fill-color);\n",
              "    }\n",
              "    90% {\n",
              "      border-color: transparent;\n",
              "      border-bottom-color: var(--fill-color);\n",
              "    }\n",
              "  }\n",
              "</style>\n",
              "\n",
              "  <script>\n",
              "    async function quickchart(key) {\n",
              "      const quickchartButtonEl =\n",
              "        document.querySelector('#' + key + ' button');\n",
              "      quickchartButtonEl.disabled = true;  // To prevent multiple clicks.\n",
              "      quickchartButtonEl.classList.add('colab-df-spinner');\n",
              "      try {\n",
              "        const charts = await google.colab.kernel.invokeFunction(\n",
              "            'suggestCharts', [key], {});\n",
              "      } catch (error) {\n",
              "        console.error('Error during call to suggestCharts:', error);\n",
              "      }\n",
              "      quickchartButtonEl.classList.remove('colab-df-spinner');\n",
              "      quickchartButtonEl.classList.add('colab-df-quickchart-complete');\n",
              "    }\n",
              "    (() => {\n",
              "      let quickchartButtonEl =\n",
              "        document.querySelector('#df-681cbdfa-6479-48ea-bd6d-7b431b49618f button');\n",
              "      quickchartButtonEl.style.display =\n",
              "        google.colab.kernel.accessAllowed ? 'block' : 'none';\n",
              "    })();\n",
              "  </script>\n",
              "</div>\n",
              "    </div>\n",
              "  </div>\n"
            ],
            "application/vnd.google.colaboratory.intrinsic+json": {
              "type": "dataframe",
              "variable_name": "dataset",
              "summary": "{\n  \"name\": \"dataset\",\n  \"rows\": 1001,\n  \"fields\": [\n    {\n      \"column\": \"review\",\n      \"properties\": {\n        \"dtype\": \"string\",\n        \"num_unique_values\": 914,\n        \"samples\": [\n          \"mabilis lang dumating. naka sealed pa ng magagos maliban sa mismong sealed ng nail polish. ang gabda ng kulay at nabili ko lang for only 5 pesos!\",\n          \"i ordered three different shirts, only of them arrived here correctly. one is in wrong size and the other is not the color i ordered and wrong size too.!!!!\",\n          \"The speaker is working and the quality of the sound is very nice. I don't know why but I didn't get the design that I want. Instead of Army Green, I got Grey but its still good. The packaging is also nice. You should buy this product. It is worth it. \"\n        ],\n        \"semantic_type\": \"\",\n        \"description\": \"\"\n      }\n    },\n    {\n      \"column\": \"rating\",\n      \"properties\": {\n        \"dtype\": \"number\",\n        \"std\": 0,\n        \"min\": 0,\n        \"max\": 1,\n        \"num_unique_values\": 2,\n        \"samples\": [\n          0,\n          1\n        ],\n        \"semantic_type\": \"\",\n        \"description\": \"\"\n      }\n    }\n  ]\n}"
            }
          },
          "metadata": {},
          "execution_count": 342
        }
      ]
    },
    {
      "cell_type": "markdown",
      "source": [
        "## 1. Tokenize the data"
      ],
      "metadata": {
        "id": "3En4gTR8MRXG"
      }
    },
    {
      "cell_type": "code",
      "source": [
        "vocab_size = 1000\n",
        "embedding_dim = 16\n",
        "max_length = 100\n",
        "trunc_type='post'\n",
        "padding_type='post'\n",
        "oov_tok = \"<OOV>\"\n",
        "\n",
        "tokenizer = Tokenizer(num_words = vocab_size, oov_token=oov_tok)\n",
        "tokenizer.fit_on_texts(training_sentences)\n",
        "word_index = tokenizer.word_index\n"
      ],
      "metadata": {
        "id": "Q5WD0HudMUFr"
      },
      "execution_count": 343,
      "outputs": []
    },
    {
      "cell_type": "markdown",
      "source": [
        "## 2. Sequence the data"
      ],
      "metadata": {
        "id": "I5hVE73gMWzB"
      }
    },
    {
      "cell_type": "code",
      "source": [
        "sequences = tokenizer.texts_to_sequences(training_sentences)\n",
        "training_sequences = tokenizer.texts_to_sequences(training_sentences)\n",
        "testing_sequences = tokenizer.texts_to_sequences(testing_sentences)\n",
        "print(sequences)"
      ],
      "metadata": {
        "id": "Un5zy3cLMnLW",
        "colab": {
          "base_uri": "https://localhost:8080/"
        },
        "outputId": "08049b47-392a-41e8-ac97-22a7b32de5c6"
      },
      "execution_count": 344,
      "outputs": [
        {
          "output_type": "stream",
          "name": "stdout",
          "text": [
            "[[749, 80, 1, 390, 66], [42, 1, 517, 63, 62, 219, 46, 89, 603, 1], [94, 126, 11, 9, 55, 1, 1, 24, 3, 100, 42, 100, 1, 1, 55, 24, 167, 54, 14, 9, 168, 38], [55, 21, 104], [119, 1, 23, 604, 22], [9, 1, 345, 518, 1, 345, 1, 5, 104, 44, 6, 41, 605, 9, 1, 180, 27, 15, 21, 220], [23, 22, 153, 127, 120, 12], [], [], [127, 445, 14, 750, 1, 1, 10, 1, 42, 23, 9, 519, 42, 751, 1, 91, 391, 91, 317, 1, 520, 10, 1], [606, 1], [1, 607, 47, 1, 1], [27, 15, 9, 55, 1, 167, 54, 10, 1, 35, 36, 272, 3, 114, 101, 521, 1], [30, 47, 14, 119, 17, 9, 1, 27, 15, 16], [55, 1, 12, 392, 167, 446, 5, 1, 33, 107, 28, 9, 55, 522, 752], [1, 1, 1], [9, 55, 1, 1, 25, 6, 1, 114, 25, 1, 9, 1, 77, 16, 14, 6, 1, 169, 115, 24, 167, 523], [40, 17, 7, 1, 608, 753, 3, 447, 253, 108, 12, 8, 127, 107, 22, 42, 393, 136, 6, 181, 195, 154, 524, 28, 40, 3, 22, 19, 2, 50, 108, 12, 17, 182, 609, 5, 12, 22, 10, 1, 1, 3], [4, 90, 2, 49, 4, 102, 11, 34, 81, 82, 89, 273, 10, 41, 1, 10, 754, 221, 38, 7, 24, 5, 221, 755], [140], [66, 394, 140], [23, 7, 47, 70, 756], [1, 1, 9, 63, 1, 1, 525, 395, 222, 100, 757, 758], [223, 290, 26, 4, 448, 45, 102, 92, 4, 396, 14, 2, 1, 291, 449, 1, 2, 62, 450, 21, 759, 237, 12, 46, 292, 107, 3, 62, 42, 5, 196, 9, 62, 1, 1, 603, 180], [1, 318, 24, 141, 1, 142, 318, 1, 1, 9, 1, 40, 3, 170, 397, 197, 1, 127, 58, 224, 28, 752, 610, 1, 37, 293, 142, 9, 1], [1, 24, 9, 274, 526, 9, 398, 3, 10, 130, 9, 398, 25, 107, 1, 1, 95, 107, 611], [109, 17, 612, 527, 23, 17, 21], [1, 1, 9, 63, 1, 1, 525, 395, 222, 100, 757, 758], [1, 24, 9, 274, 526, 9, 398, 3, 10, 1, 9, 398, 25, 107, 1, 1, 95, 107, 611], [109, 17, 612, 527, 23, 17, 21], [346, 196, 528, 1, 10, 108, 6, 1, 528, 613, 528, 3, 62, 162, 6, 760, 62, 1, 38], [27, 275, 16, 4, 1, 2, 75, 48, 1, 211, 1, 10, 32, 3, 86, 1, 10, 1, 529, 90, 11, 34, 81], [89, 143, 6, 399, 70, 3, 1, 3, 131, 761, 109, 1, 1, 10, 400, 347, 195, 1, 6, 63, 1, 348, 349, 212, 1, 144, 614, 24, 5, 3, 155, 104, 6, 762, 615], [451, 19, 36, 1, 1, 8, 96, 51, 4, 132, 763, 1, 1, 1, 616, 8, 29, 1, 616, 53, 163, 763, 1, 276, 617, 319, 764, 84, 39, 1], [40, 17, 1, 320, 12, 7, 121, 28, 401, 12, 1, 13, 1, 7, 615, 14, 400, 42, 5, 1, 197, 144, 765, 5, 402, 6, 213], [116, 3, 751, 9, 403, 9, 213, 618, 1, 30, 1, 1, 5, 618, 1, 1, 1, 1, 1, 1, 1, 1, 198, 220, 213, 8, 1], [143, 294, 321, 350], [351, 8, 452, 20, 453, 4, 74, 116, 2, 31, 8, 51, 27, 275, 762, 8, 76, 41, 64, 277], [295, 238, 766, 295, 762, 2, 1, 1, 239, 1, 171, 1, 133, 400, 767, 1, 8, 768, 24, 133, 615, 530, 131, 1, 400, 1, 8, 1, 1, 272, 41, 1, 272, 41, 619, 1, 619], [], [620, 199, 350, 26, 183, 1, 18, 1, 48, 36, 1, 1, 184, 18, 240, 2, 769, 1, 1, 130, 770, 454, 1, 352, 620, 65, 1, 84, 2, 615, 1, 4, 1, 3, 349, 172, 1, 1, 322, 9, 769, 26, 65, 455, 65, 2, 400, 13, 1, 84, 769, 1], [531, 43, 156, 29, 225, 532, 43, 65, 59, 1, 19, 2, 1, 1, 1, 1, 1, 254, 1, 771, 59, 1, 1, 65, 19, 771, 1, 1, 53, 1, 1, 4, 1, 1, 241, 1, 456, 2, 1, 53, 92, 4, 404, 74, 1, 77, 19, 1, 57, 242, 8, 772, 1, 5, 7, 4, 214, 27, 15, 19, 772, 621, 214, 621, 255, 14, 457, 8, 240, 133, 772, 1], [23, 23, 23, 23, 23, 23, 23, 23, 23, 23, 23], [394, 21, 22], [1, 1, 1, 1, 1], [137, 22, 8, 64, 353, 44, 533, 144, 1], [9, 55, 10, 32, 1, 64, 41, 25, 157, 9, 1, 25, 296, 256, 14, 41, 225, 323, 16, 17, 13, 458, 1], [30, 1], [66, 47, 8, 64, 243, 45, 52, 459, 50, 26, 297, 773, 774, 131, 128, 138, 243, 48, 215, 324, 402, 16], [20, 453, 21, 1, 3, 40, 17, 7, 243, 51, 775, 9, 776, 5, 12, 354, 317, 244, 1, 35, 278], [30, 47, 55, 10, 243, 460, 7, 622, 322, 71, 82, 623, 461, 7, 405, 1, 777, 778, 27, 275, 16], [406, 777, 21, 22, 257, 162, 6, 216, 3, 121, 7, 31, 462, 624, 1, 1, 22, 80, 355, 624, 356, 28, 624, 325, 21, 169, 1, 1, 10, 91, 766, 244, 258, 14, 1, 6, 259, 7, 169, 41, 21, 1, 1, 1, 7, 1], [42, 21, 22, 137, 185, 12, 294], [4, 238, 298, 39, 31, 1, 65, 15, 186, 326, 33, 1, 1, 6, 625, 1, 5, 223, 34, 534, 238, 779, 133, 327], [9, 357, 83, 10, 770, 463, 1, 37, 356, 1, 24, 407, 9, 55, 46, 535, 226, 87, 1, 83, 1, 37, 24, 141, 750, 83, 464, 215, 536, 9, 535, 1, 83], [42, 21, 22, 137, 185, 12, 294], [4, 238, 298, 39, 31, 1, 65, 15, 186, 326, 33, 1, 1, 6, 625, 1, 5, 223, 34, 534, 238, 779, 133, 327], [9, 357, 83, 10, 770, 463, 1, 37, 356, 1, 24, 407, 9, 55, 46, 535, 226, 87, 1, 83, 1, 37, 24, 141, 750, 83, 464, 215, 536, 9, 535, 1, 83], [23, 71, 64, 243, 1], [1, 1], [465, 89, 23, 7, 32, 14, 460, 1, 92, 15, 326, 13, 92, 15, 227, 154, 606, 626, 1, 14, 7, 110, 6, 255, 10, 1, 279, 1, 22, 110, 33, 317, 1, 627, 319, 1, 39, 1, 78, 7, 1, 5, 1, 6, 1, 27, 15], [27, 15, 76, 27, 15, 16, 14, 245, 780, 213, 23, 145, 33, 3, 347, 1, 9, 781, 349, 1, 10, 63, 1, 1, 3, 782], [1, 3, 628, 537, 3, 466, 33, 1, 6, 1, 1, 10, 1, 1, 27, 15, 16, 68, 60, 146], [27, 15, 16, 173, 21, 9, 49, 147, 41], [96, 66], [40, 17, 7, 32, 357, 12, 121, 65, 48, 148, 122, 117, 1, 12, 7, 101, 783, 6, 215, 10, 76, 85, 1, 320, 320, 7, 63, 783, 538, 42, 3, 174, 63, 1], [4, 88, 72, 73, 8, 72, 318, 4, 116, 86, 1], [408, 17, 47, 467, 466, 82, 629, 1, 260, 136, 1, 80, 539, 101, 12, 24, 5, 38, 1, 34, 27, 15, 21], [40, 58, 19, 2, 50, 78, 108, 22, 1, 44, 1, 145, 19, 1, 630, 1, 18, 1, 41, 8, 59, 97, 631, 298, 19, 20, 1, 1], [223, 358, 534, 21, 1, 4, 105, 88, 73, 784, 38, 21, 1, 318, 1, 2, 540, 53, 632, 1, 18, 133, 541, 164, 15, 238, 785, 11, 786, 56, 39, 68, 187, 1, 34, 56, 39, 68, 20, 787, 146], [149, 49, 401, 12, 320, 128, 28, 149, 49, 64, 542, 543], [4, 359, 200, 1, 24, 5, 462, 526, 12, 1, 788, 3, 7, 789, 25, 1, 25, 7, 409, 200, 1, 10, 76, 1, 12, 196, 321, 790, 1], [46, 24, 13, 73], [4, 74, 116, 36, 24, 223, 34, 175, 2, 128, 13, 468, 791, 633, 8, 2, 31, 13, 61, 1, 4, 261, 39, 13, 29, 1, 31], [4, 359, 200, 1, 24, 5, 462, 526, 12, 1, 788, 3, 7, 789, 25, 1, 25, 7, 409, 200, 1, 10, 76, 1, 12, 196, 321, 790, 1], [46, 24, 13, 73], [4, 74, 116, 36, 24, 223, 34, 175, 2, 128, 13, 468, 791, 633, 8, 2, 31, 13, 61, 1, 4, 261, 39, 13, 29, 1, 31], [31, 43, 634], [402, 16, 35, 544, 155, 469, 279, 1, 139, 3, 78, 9, 95, 1, 18, 33, 126, 11, 107, 155], [1, 4, 102, 56, 96, 51, 188, 1, 96, 540, 158, 47, 470, 24, 59, 97, 8, 61, 30, 1, 50, 27, 15], [545, 410, 141, 40, 792, 262, 792, 6, 545, 14, 793, 55, 604, 10, 103, 10, 24, 141, 1, 293, 1, 280, 8, 159, 94, 1, 1, 1, 16, 8, 220, 213], [23, 21, 71, 14, 119, 21, 1, 136, 115, 350, 119, 21, 9, 55, 21], [89, 140, 21, 635, 64, 243, 197, 18, 471, 1, 3, 172, 281, 1, 21, 282, 794], [80, 17, 71, 9, 1, 9, 55, 533, 278, 402, 6, 16, 14, 6, 41, 3, 1, 6, 1, 44], [80, 17, 71, 111, 9, 41, 23, 7, 49, 70, 82, 19, 57, 1, 22, 64, 353, 189, 12, 360, 6, 411, 636, 10, 243, 5, 460, 169, 1, 353, 7, 260, 5, 106, 412, 5, 1, 25, 12, 17, 42, 5, 12, 546, 6, 63, 637, 3, 410, 5, 25, 324, 27, 15, 16, 8, 76], [472, 5, 18, 106, 795, 1, 462, 38, 6, 413, 1, 795, 1, 7, 121, 263, 21, 1, 117, 67, 21, 110, 1, 12, 473, 6, 190, 1, 137, 361, 1, 28, 111, 1, 7, 636, 136, 1, 195, 10, 1, 1, 1, 3, 150, 7, 1, 283, 191, 228], [98, 353, 638, 1, 74, 414], [40, 145, 7, 31, 1, 147, 529, 547, 35, 12, 1, 85, 12, 474, 1, 293, 274, 1, 182, 299, 1, 118, 42, 147, 548, 7, 196, 5, 147, 103, 85, 191, 192, 12, 1, 5], [189, 639, 65, 1, 86, 640, 14, 72, 280, 4, 116, 101, 280, 169, 1, 17, 54, 18, 1, 39, 475, 1, 145, 87, 33, 619, 110, 33, 328, 796, 1, 10, 75, 415, 201, 476, 145, 87, 109, 37, 1, 1, 49, 91, 1, 67, 9, 1, 1, 1, 167, 1, 392, 87, 641, 9, 16, 295, 1, 2, 1, 1, 65, 295, 276, 15, 1, 1, 477, 797, 1, 1, 1, 323, 16, 10, 72, 549, 1, 636, 52, 81, 1, 27, 15], [40, 17, 82, 471, 550, 12, 3, 410, 1, 3, 9, 1], [36, 31, 74, 171, 149, 49, 37, 95, 142, 280, 37, 798, 5, 3, 551, 202, 1, 3, 399, 28, 37, 274, 203, 159, 118, 9, 196, 165, 103, 85, 114, 33, 775, 10, 399, 10, 162, 642, 12, 462, 473, 12, 44, 107, 9, 1, 1, 12, 33, 5, 25, 3, 1, 28, 799, 17, 54, 3, 137, 18, 144, 1, 5, 362, 74, 1, 33, 3, 363, 37, 1, 284, 5], [136, 478, 10, 217, 1, 17, 1, 7, 217, 8, 7, 130, 800, 28, 406, 148, 1, 109, 7, 31, 6, 416, 25, 200, 21], [801, 107, 9, 1, 417, 643, 199, 72, 1, 1, 108, 12, 78, 87, 226, 78, 148, 329, 6, 418, 87, 299, 9, 802, 803, 417], [23, 35, 7, 243, 28, 6, 356, 12, 22, 9, 273, 1, 479, 5, 157, 111, 44, 469, 611], [23, 35, 7, 243, 28, 6, 356, 12, 22, 9, 273, 1, 479, 5, 157, 111, 44, 469, 611], [14, 1, 1, 165, 644, 445, 155, 6, 24, 5, 1, 1, 80, 17, 7, 1, 330, 42, 292, 1, 78, 1, 1, 10, 471, 552, 10, 1, 480, 279, 42, 3, 1, 10, 119, 1, 3, 645, 776], [15, 804, 57, 4, 24, 8, 4, 481, 419, 133, 31, 26, 4, 52, 52, 1, 1, 4, 74, 1, 138, 72, 31, 36, 24, 13, 101, 75, 26, 15, 138, 364, 72, 31, 1, 176, 1, 6, 420, 1, 14, 196, 129, 421, 85, 1, 195, 10, 553, 554, 1, 1, 13, 74, 805, 2, 1, 1, 44, 1, 229, 87, 646, 806, 647, 1, 6, 807, 129, 1, 1], [149, 31, 4, 88, 191, 521, 8, 2, 74, 555, 57, 86, 521, 26, 183, 189, 50], [230, 9, 32, 3, 38, 49, 1, 24, 5, 73, 38, 257, 1, 9, 479, 1, 467, 1, 12, 42, 3, 54, 1], [66], [55, 145, 10, 808, 1, 809, 810, 41, 12, 24, 104, 245, 220, 213, 27, 15, 473, 129, 1, 99, 136, 350, 296, 217, 5, 115, 1, 76, 30, 482, 15, 331, 331, 331, 811, 192, 812, 767, 104, 245, 220, 46, 1, 1, 1, 813], [66, 8, 30, 47, 419, 1, 365, 300, 45, 158, 27, 15, 556, 482], [119, 626, 38, 148, 139, 27, 15, 16, 9, 55, 21, 264, 1, 648], [34, 814, 39, 13, 29, 1, 56, 295, 366, 20, 1, 2, 52, 483, 295, 79, 1, 815, 1, 1], [394, 301, 3, 301, 649, 104, 16, 816, 1, 466, 1, 265, 6, 1, 1], [27, 15, 27, 15], [87, 299, 212, 216, 292, 120, 71, 173, 12, 6, 399, 70, 42, 12, 173, 7, 103, 3, 134, 222, 3, 12, 1, 10, 1, 10, 103, 87, 42, 170, 17, 107, 1, 7, 817, 10, 392, 1, 42, 1, 1, 136, 818, 329, 1], [52, 1], [23, 17, 166, 75, 82, 9, 273, 10, 41, 157, 397, 25, 231, 166, 1, 157, 166, 256, 196, 1, 160, 48, 5, 166, 75, 5, 6, 1, 180, 182, 41, 166, 819, 820, 17, 1, 160], [419, 821, 28, 33, 189, 9, 246, 6, 798, 5, 106, 1, 54, 14, 1, 7, 73, 1, 176, 94, 650, 367, 129, 6, 1, 6, 822, 14, 405, 216, 16, 651, 1], [204, 205, 368, 16, 20, 1, 32, 13, 30, 26, 149, 49, 41, 13, 823], [231, 21, 652, 6, 413, 263, 101, 86, 12, 21, 9, 329, 6, 1, 1, 7, 72, 231], [80, 35, 37, 31, 82, 824, 37, 1, 182], [204, 205, 368, 16, 20, 1, 32, 13, 30, 26, 149, 49, 41, 13, 823], [201, 20, 60, 39, 1, 127, 6, 760, 39, 13, 29, 1, 1], [39, 13, 29, 419, 1, 230, 230, 63, 246, 89, 273, 25, 10, 41, 318, 24, 806, 1, 653, 293, 806, 1, 640, 1, 100, 6, 825, 10, 257, 553, 1, 9, 181, 67, 46, 1, 25, 100, 1, 10, 119, 9, 31, 100, 17, 9, 33, 548], [4, 88, 101, 521, 26, 4, 43, 138, 1, 789, 4, 826, 2, 16, 369, 370, 186, 4, 227, 2, 218, 654, 1, 4, 156, 826, 2, 16, 56, 4, 302, 369, 18, 24, 484, 285, 19, 36, 1, 34, 655, 531, 186, 1, 2, 654, 1, 48, 36, 193, 24, 26, 2, 16, 1, 1], [1, 22, 1, 6, 217, 1, 1, 296, 16], [52, 66, 15, 186, 1, 2, 1, 18, 96, 485, 11, 13, 59, 371], [132, 2, 75, 1, 8, 64, 14, 177, 4, 372, 11, 43, 20, 1, 61, 45, 827, 486, 53, 1, 827, 18, 332, 48, 2, 128, 26, 112, 15, 281, 18, 160, 557, 828, 2, 485, 15, 68, 1, 56, 11, 188, 332, 18, 1, 218, 55, 247, 153, 237, 71, 19, 57, 35, 46, 144, 1, 1, 99, 74, 14, 829, 1, 9, 1, 1, 11, 1, 45, 540], [1, 120, 71, 303, 5, 830, 215, 12, 23, 17, 22, 8, 153, 447, 85, 1, 1, 111, 7, 130, 27, 15, 16], [641, 47, 52, 831, 16, 59, 333, 31, 248, 373, 8, 68, 558, 24, 146], [92, 275, 326, 13, 92, 275, 227], [191, 192, 12, 6, 413, 323, 16, 175, 54, 176, 7, 95, 139, 9, 134, 180, 33, 5, 1, 87, 1, 155, 35, 7, 63, 1, 1, 33, 321, 1, 6, 794, 176, 1, 17, 100, 10, 173, 87, 100, 85, 559, 14, 464, 9, 656, 6, 391, 1, 361, 100, 35, 1, 321, 118], [66, 8, 266, 121, 657, 1, 12, 264, 37, 172, 613, 46, 832, 37, 560, 28, 6, 833, 3, 32, 109, 83, 107, 85, 33, 224, 1, 119, 9, 560, 42, 224, 1, 3, 1, 1, 58, 9, 162, 1, 3, 1], [23, 21, 35, 9, 32, 231, 12, 10, 1, 185, 1, 21, 37, 1], [19, 138, 1, 834, 408, 3, 71, 108, 8, 23, 7, 267], [], [835, 1, 1, 9, 1, 1, 1, 836, 354], [2, 93, 4, 88, 658, 487, 465, 263, 148, 192, 837, 185, 112, 4, 116, 11, 4, 43, 1, 226, 1, 4, 68, 838, 24, 123, 39, 16, 35, 839, 3, 1, 294, 99, 1, 57, 1, 93], [2, 31, 13, 659, 394, 92, 175, 57, 13, 56, 86, 53, 2, 101, 2, 75, 304, 634, 4, 1, 2, 783, 26, 2, 487, 827, 304, 20, 1, 11], [46, 174, 37, 190, 1, 660, 647, 46, 1, 1, 324, 111, 17, 9, 41], [4, 88, 191, 75, 488, 3, 488, 7, 95, 1, 9, 1, 193, 69, 1, 321, 17, 10, 122, 117, 7, 840, 75], [2, 93, 4, 88, 658, 487, 465, 263, 148, 192, 837, 185, 112, 4, 116, 11, 4, 43, 1, 226, 1, 4, 68, 838, 24, 123, 39, 16, 35, 839, 3, 1, 294, 99, 1, 57, 1, 93], [4, 661, 487, 1, 1, 4, 302, 1, 53, 1, 15, 105, 18, 1, 11, 99, 200, 92, 13, 1, 84, 2, 41], [33, 374, 7, 560, 303, 5, 46, 832, 71, 78, 6, 216, 422, 109, 17, 107], [841, 12, 14, 37, 1, 9, 38, 6, 63, 24, 5, 37, 1, 1, 14, 1, 1, 33, 38, 1, 195, 16, 1, 1, 6, 76, 10, 1, 195, 758, 185, 662, 37, 1, 5, 14, 1, 3, 1, 28, 1, 31], [646, 1, 229, 16, 1, 185, 294, 5, 561, 108, 12, 299, 18, 842, 1, 229], [23, 22, 35, 325, 77, 16, 29, 1, 10, 811, 228, 1], [34, 206, 34, 1, 21, 259, 42, 5, 3, 1, 37, 95, 78, 1, 3, 150, 35, 120, 12, 21, 1, 111, 1, 27, 15, 76, 27, 15, 16, 27, 15, 843, 3, 213], [40, 17, 137, 22], [132, 36, 403, 334, 1, 1, 123, 562, 24, 334, 763, 1, 1, 61, 122, 117, 163, 65, 319, 4, 201, 281, 2, 31, 1, 178, 11, 258, 36, 260, 123, 86, 563, 123, 2, 489, 663, 258, 664, 844, 375, 13, 20, 65, 13, 1, 45, 138, 29, 1, 258, 26, 2, 1, 13, 30, 4, 490, 56, 18, 1, 2, 489, 19, 57, 18, 242, 370, 268, 2, 489, 186, 187, 376, 258, 627, 258, 2, 489, 377, 64, 243, 86, 1, 14, 1, 8, 45, 378, 2, 193, 845, 14, 1, 2, 1, 142, 238, 448, 179, 81, 1, 11, 186, 138, 187, 232, 65, 29, 1, 142, 163], [94, 66, 47, 273, 70, 233, 1, 525, 86, 479, 54, 78, 629, 491, 5, 25, 44, 22, 1, 377, 36, 1], [1, 1, 1, 1, 1, 1, 1, 1], [23, 22, 378, 258, 106, 1, 5, 335, 86, 479, 54, 1, 28, 106, 1, 5, 147, 37, 305, 1, 846, 147, 306, 665, 662, 22, 1, 1, 1, 12, 54, 1, 35, 278], [75, 116, 59, 97, 8, 172, 122, 666, 1, 564, 25, 10, 16, 27, 15, 21, 556, 482, 8, 194, 847, 18, 1], [32, 13, 30], [4, 90, 39, 305], [94, 395, 54, 6, 31, 412, 5, 150, 645, 305, 212, 664, 25, 28, 33, 225, 12, 3, 378, 258, 9, 667, 5, 14, 1, 12, 303, 5, 361, 114, 86, 667, 85, 565, 233, 378], [299, 848, 1, 181, 18, 46, 25, 348, 348, 25, 668, 669, 3, 259, 10, 32, 1, 67, 221, 67, 849, 850, 842, 5, 1, 423, 305, 3, 1, 5, 6, 391, 328, 796, 12, 100, 46, 122, 117, 25, 668, 669, 139, 17, 37, 134, 67, 301, 100, 1, 670, 12, 421], [33, 802, 1, 168, 1, 157, 851, 233, 671, 42, 120, 85, 233, 671, 7, 260, 165, 1, 12, 1, 635], [1, 7, 260, 5, 106, 1, 5, 7, 260, 5, 6, 305, 3, 155, 28, 1, 25, 12, 7, 260, 5, 492, 1, 3, 7, 305, 378, 258, 7, 566, 489, 8, 277, 1, 846, 25, 12, 1, 7, 260, 492, 1, 3, 150], [6, 259, 10, 151, 5, 155, 12, 7, 1, 197, 1, 664, 1, 12, 7, 85, 10, 305, 114, 4, 258, 129, 25, 10, 1, 99, 101, 1, 85, 107, 108, 197, 1, 195, 349, 537, 129, 3], [94, 395, 54, 6, 31, 412, 5, 150, 645, 305, 212, 664, 25, 28, 33, 225, 12, 3, 378, 258, 9, 667, 5, 14, 1, 12, 303, 5, 361, 114, 86, 667, 85, 565, 233, 378], [299, 848, 1, 181, 18, 46, 25, 348, 348, 25, 668, 669, 3, 259, 10, 32, 1, 67, 221, 67, 849, 850, 842, 5, 1, 423, 305, 3, 1, 5, 6, 391, 328, 796, 12, 100, 46, 122, 117, 25, 668, 669, 139, 17, 37, 134, 67, 301, 100, 1, 670, 12, 421], [33, 802, 1, 168, 1, 157, 851, 233, 671, 42, 120, 85, 233, 671, 7, 260, 165, 1, 12, 1, 635], [33, 23, 1, 106, 41, 14, 1, 103, 9, 134, 73, 7, 24, 5, 28, 38, 159, 16, 1, 17, 202, 80, 3, 7, 567, 7, 24, 1, 17, 230, 7, 49, 3, 274, 528, 568, 25, 17, 151, 5, 1, 1, 647, 1], [29, 1, 178, 1, 307, 79, 20, 569, 672, 1, 286, 164, 124, 105, 2, 1, 1, 336, 19, 484, 181, 4, 298, 1, 19, 2, 90, 56, 13, 98, 1, 201, 20, 60, 123, 39, 181, 4, 396, 308, 672, 8, 29, 566, 489, 123, 493, 486, 124, 105, 2, 1, 1, 4, 74, 116, 2, 75, 8, 4, 1, 424, 56, 124, 79, 1, 1, 75, 4, 242, 92, 308, 569, 672, 336, 102, 241, 366, 187, 29, 1, 1, 2, 1, 53, 2, 672, 11, 1, 1, 47, 13, 1, 379, 13, 1, 1, 84, 1, 286, 164, 36, 494, 13, 74, 1, 852, 1, 123, 36, 1, 4, 286, 826, 2, 16, 8, 124, 1, 56, 96, 569, 1, 214, 554, 60, 123, 39, 181], [93, 95, 265, 7, 1, 203, 78, 1, 5, 3, 7, 95, 360, 6, 1, 1, 5], [7, 47, 10, 32, 9, 55, 8, 172, 371, 25, 154, 14, 495, 3, 33, 35, 1, 7, 1, 184, 9, 234, 14, 60, 72, 125, 72], [1, 171, 74, 48, 69, 77, 16, 673, 25, 44, 1, 5, 114, 212, 416, 3, 10, 1, 144, 674, 1, 27, 15], [173, 7, 49, 3, 24, 5, 94, 168, 38, 14, 843, 323, 220, 1, 104], [1, 46, 144, 1, 3, 54, 6, 63, 1, 5, 675, 104, 76, 14, 16, 1, 853, 3, 245, 220, 1, 3, 319, 1, 6, 413, 10, 63, 151, 5, 4, 249, 204, 228], [40, 83, 71, 119, 38, 118, 120, 58, 162, 7, 103, 3, 38, 1, 78, 546, 5, 73, 8, 159, 7, 24, 5, 1, 1, 26, 45, 80, 103, 58, 83, 229, 354, 1, 120, 58, 567, 22, 10, 567, 26, 45, 80, 604, 109, 83, 82, 118, 538, 536, 1, 1, 1, 529, 176, 1, 1, 1, 58, 461, 7, 567, 28, 401, 58, 1, 1], [27, 15, 16, 2, 32, 171, 854], [40, 121, 13, 30], [27, 15, 91, 16, 35, 120, 1, 306, 1, 10, 570, 104, 618, 780, 41, 1, 197, 1, 70, 147, 54, 676, 70, 147, 57, 1, 77, 76], [23, 22, 82, 226, 1, 318, 263, 73, 9, 95, 417], [30, 47, 8, 45, 1], [855, 571, 154, 22, 346, 1, 67, 6, 351, 139, 571, 22, 136, 1, 23, 33, 22, 3, 1, 10, 570, 28, 33, 22, 3, 1, 349, 212, 1, 10, 570], [66, 8, 47, 75, 19, 45, 50], [55, 70, 1, 1, 3, 244, 1], [27, 15, 16, 9, 55, 70, 1, 374, 6, 260, 856, 857, 6, 63, 31, 67, 3, 1], [140, 54, 6, 32, 148, 174, 8, 59, 97, 374, 9, 793, 1, 8, 46, 858, 859, 25, 4, 250, 11, 1, 8, 42, 154, 71, 1, 10, 570, 9, 819, 5, 12, 35, 1, 117, 9, 32, 110, 33, 1, 6, 41], [33, 38, 7, 860, 24, 5, 9, 303, 165, 60, 93, 125, 93, 6, 49, 293, 8, 73, 263, 393, 3, 293, 274, 157, 7, 280, 14, 73, 280, 12, 44, 28, 40, 147, 44, 23, 83, 37, 103, 3, 644, 58, 42, 548, 191, 228, 58, 176, 91, 306, 548, 1, 103], [329, 6, 1, 73, 8, 653, 28, 393, 653, 38, 28, 23, 17, 7, 32, 262, 129, 1, 6, 570, 479, 129, 345, 190, 1, 1], [230, 17, 755, 263, 73, 8, 640, 82, 1, 640, 9, 38], [2, 217, 75, 171, 1, 2, 1, 53, 41, 8, 2, 50, 13, 40, 19, 45, 47, 617, 131, 1, 184, 19, 2, 1, 65, 4, 302, 74, 369, 18, 281, 18, 232, 307], [861, 171, 530, 614, 60, 18, 39, 300, 52, 207, 21, 22, 350, 3, 54, 347, 559, 496, 1, 12, 1, 166, 272, 1, 425, 85, 524, 3, 12, 44, 54, 345, 257, 1], [77, 1, 9, 527, 94, 862, 1, 5, 12, 1, 3, 150, 1, 21, 3, 862, 22], [406, 1, 612, 215, 33, 21, 361, 18, 1, 1, 281, 98, 89, 520, 10, 1, 163, 25, 17, 472, 5], [1, 2, 93, 863, 4, 677, 45, 862, 45, 29, 572, 53, 327, 370, 186, 4, 232, 39, 45, 1, 57, 1, 277, 297, 20, 678, 18, 232, 11, 214, 497, 495, 133, 863, 239, 131, 864, 4, 359, 29, 200, 92, 15, 865, 201, 369, 11], [46, 864, 7, 472, 87, 863, 6, 391, 185, 7, 1, 1, 5, 346, 262, 67, 612, 1, 155, 1, 16, 214, 1, 67, 21, 35, 10, 1], [4, 90, 11, 1, 89, 426, 180, 34, 206, 1, 573, 5, 3, 423, 113, 6, 866, 8, 223, 34, 282, 3, 33, 54, 1, 350, 474, 253, 1, 309, 5, 291, 69, 4, 68, 558, 60, 146, 8, 4, 68, 1, 11, 18, 36, 867], [45, 51, 198, 34, 81, 45, 51, 198, 34, 81, 45, 51, 198, 34, 81], [4, 310, 29, 1, 113, 8, 4, 242, 679, 13, 29, 30, 427, 59, 97, 8, 248, 64, 27, 15, 679, 8, 76, 8, 1, 532, 319, 115, 36, 76, 861], [34, 206, 51, 17, 22, 35, 17, 325, 22, 203, 247, 33, 17, 144, 868, 1, 104, 1], [1, 61, 2, 32, 123, 493, 34, 206, 96, 51, 59, 428, 97, 8, 131, 174, 16, 429, 1, 18, 364, 2, 337, 430, 8, 49, 53, 36, 113, 27, 15, 16, 90, 36, 498, 1, 96, 869, 26, 1, 1, 4, 132], [39, 13, 2, 574, 60], [66, 66, 66, 30, 8, 234, 50, 207, 22], [23, 71, 8, 234, 14, 2, 189, 69], [66, 96, 29, 30, 427, 4, 298, 39, 181, 27, 15], [9, 55, 21, 143, 3, 143, 35, 325, 111, 44, 41, 9, 55, 21, 143, 3, 143, 35, 325, 111, 44, 41], [], [680, 184, 681, 870, 44, 7, 682, 41, 35, 422, 12, 159, 202, 871, 5, 78, 35, 118], [177, 69, 18, 269, 84, 39, 181, 8, 4, 562, 36, 24, 14, 334, 334, 8, 4, 499, 140, 872, 124, 208, 11, 373, 31, 43, 59, 97, 247, 2, 128, 43, 551, 873, 11, 91, 575, 311, 2, 31, 270, 13, 51, 17, 27, 15], [158, 32, 338, 46, 874, 683, 174, 7, 128, 266, 17, 7, 405, 32, 6, 416, 363, 71, 6, 549, 14, 209, 5], [30, 31, 9, 426, 425, 875, 8, 9, 168, 38, 63, 101, 205, 12, 461, 3, 115, 150, 27, 15, 16], [680, 184, 681, 870, 44, 7, 682, 41, 35, 422, 12, 159, 202, 871, 5, 78, 35, 118], [177, 69, 18, 269, 84, 39, 181, 8, 4, 562, 36, 24, 14, 334, 334, 8, 4, 499, 140, 872, 124, 208, 11, 373, 31, 43, 59, 97, 247, 2, 128, 43, 551, 873, 11, 91, 575, 311, 2, 31, 270, 13, 51, 17, 27, 15], [158, 32, 338, 46, 874, 683, 174, 7, 128, 266, 17, 7, 405, 32, 6, 416, 363, 71, 6, 549, 14, 209, 5], [30, 31, 9, 426, 425, 875, 8, 9, 168, 38, 63, 101, 205, 12, 461, 3, 115, 150, 27, 15, 16], [642, 3, 44, 42, 496, 365, 46, 1, 825, 7, 113, 1], [496, 576, 37, 113, 114, 33, 1, 6, 1, 37, 577, 14, 876, 165, 1, 1, 37, 877, 254, 13, 52, 878], [2, 684, 879, 13, 20, 51, 14, 98, 7, 337, 879, 9, 148, 527, 132, 39, 31, 138, 291, 795, 1, 186, 39, 187, 1, 214], [27, 15, 116, 2, 284, 48, 30, 211, 8, 45, 51, 26, 65, 18, 370, 64, 295, 68, 1, 255], [27, 15, 52, 81, 74, 1, 8, 45, 204, 204], [4, 132, 36, 177, 24, 287, 537, 5, 3, 22, 14, 207, 64, 243, 22, 880, 365, 39], [1, 8, 111, 44, 17, 1, 34, 1, 8, 59, 97, 17, 106, 38, 77], [40, 17, 22, 34, 206, 14, 1, 466, 522, 108, 5, 12, 309, 4, 90, 76, 154, 168, 25, 10, 41], [290, 94, 1, 178, 40, 17, 9, 31, 624, 1, 5, 173, 17, 9, 1, 14, 353, 17, 22, 194, 199, 1, 44, 221, 1, 258, 9, 1, 5, 12, 547, 1, 3, 517, 1, 3, 6, 1, 1, 28, 40, 3, 170], [74, 92, 4, 1, 18, 105, 19, 36, 1, 14, 457, 77], [23], [1], [431, 20, 1, 65, 64, 353, 685, 312, 102, 29, 869, 353, 284, 191, 228, 19, 56, 77, 183], [86, 24, 5, 95, 12, 38, 35, 240, 67, 362, 221, 67, 1, 185, 17, 446, 5, 1, 1, 3, 54, 1, 265, 167, 54, 207, 14, 881, 181], [64, 130, 20, 282, 2, 284, 84, 2, 1, 4, 396, 48, 2, 181, 81, 1, 199, 284, 4, 396, 287, 2, 638, 79, 380, 1, 1, 123, 181, 1, 1, 81, 1, 199, 287, 1, 1, 533, 11, 68, 291], [20, 64, 243, 17, 21, 1, 1, 1, 1], [2, 31, 43, 20, 375, 381, 4, 88, 339, 18, 375, 381, 2, 418, 882, 339, 18, 375, 381, 26, 56, 43, 20, 92, 4, 132, 4, 883, 804, 4, 359, 29, 200], [33, 21, 173, 9, 31, 3, 652, 203, 397], [2, 31, 43, 20, 375, 381, 4, 88, 339, 18, 375, 381, 2, 418, 882, 339, 18, 375, 381, 26, 56, 43, 20, 92, 4, 132, 4, 883, 804, 4, 359, 29, 200], [451, 353, 26, 2, 31, 13, 20, 207, 123, 1, 1, 20, 207, 20, 207, 34, 175], [42, 137, 7, 95, 636, 1, 157, 1, 25, 7, 95, 1, 1, 195, 10, 1, 110, 12, 6, 571, 9, 357, 10, 686, 35, 1, 362, 87, 1, 7, 31, 7, 95, 40, 17, 687], [1, 21, 38, 10, 403, 5, 1, 25, 6, 682, 1, 10, 41], [40, 17, 1, 35, 1], [126, 2, 50, 1, 19, 1, 1, 56, 138, 105, 86, 1, 8, 160, 339, 1, 64, 41], [52, 408, 9, 31, 131, 475, 111, 38, 104, 16], [31, 208, 84, 69, 8, 30, 211, 30, 688, 1, 1, 19, 854, 454, 8, 41, 53, 31], [4, 74, 1, 2, 337, 1, 123, 1, 1, 8, 1, 11, 312, 36, 549, 13, 1, 84, 1, 8, 235, 4, 186, 232, 29, 884, 689, 500, 19, 885, 1, 77, 16, 8, 76, 158, 31], [1, 1, 74, 690, 194, 99, 643, 72, 1, 8, 68, 886, 249, 15, 2, 691], [4, 468, 501, 1, 1, 123, 36, 1, 8, 545, 1, 1, 692, 8, 183, 313, 1, 887, 1, 123, 2, 1, 26, 1, 18, 2, 16, 19, 2, 686, 56, 4, 132, 36, 200, 8, 27, 15, 34, 81, 4, 68, 690, 19, 2, 1, 18, 187, 619, 4, 276, 4, 227, 29, 51, 93], [1, 31, 43, 208, 26, 4, 261, 2, 1, 249, 29, 1, 99, 1, 1], [11, 91, 51, 631, 631], [33, 1, 21, 1, 1, 1, 7, 339, 1, 3, 381, 375, 35, 33, 139, 852, 205, 200, 1, 10, 115, 86, 205, 12], [501, 14, 46, 1, 813, 20, 888, 235, 1, 693, 813, 26, 13, 30, 19, 1, 500], [45, 66, 1, 70, 7, 639, 195, 95, 165, 1, 3, 202, 1, 9, 1, 1, 6, 1, 500, 5, 235, 393, 3, 473, 10, 1, 138, 475, 136, 325, 1, 3, 10, 889, 14, 1, 9, 614, 500, 3, 1, 9, 1, 1, 1, 6, 339, 1, 14, 1], [19, 29, 339, 1, 11, 1, 358, 80, 30, 19, 502, 351, 1, 8, 1, 1, 26, 20, 188, 365, 19, 1, 99, 19, 69, 576, 1, 102, 502, 8, 351, 1, 1, 39, 1, 432, 1, 890, 1, 84, 1, 1], [96, 1, 26, 4, 891, 892, 1, 99, 92, 625, 1], [4, 261, 422, 120, 1, 1, 3, 1, 893, 165, 4, 1, 7, 890, 10, 793, 781, 5, 6, 1, 500, 14, 363, 120, 71, 1, 12, 1, 1, 3, 1, 1, 6, 1, 14, 497, 495, 3, 46, 1, 1, 7, 781, 235, 263, 44, 4, 497, 495, 3, 7, 625, 494, 321, 1, 9, 1, 339, 1, 14, 33, 7, 1, 890, 9, 527, 12, 46, 578, 3, 33, 71, 1, 1, 14, 42, 5, 1, 87, 299, 7, 475, 33, 170, 71, 363, 6, 1, 163, 3, 260, 5, 23, 7, 1, 3, 18, 853, 3, 6, 63, 494, 3, 148, 1, 3, 1], [352, 894, 18, 1, 1, 2, 1, 84, 1, 8, 123, 476, 184, 183, 20, 678, 18, 232, 2, 494, 250, 11, 84, 36, 313, 1, 209], [352, 894, 18, 1, 8, 183, 20, 678, 18, 232, 2, 494, 250, 11, 84, 36, 313, 1, 209], [75, 20, 51], [], [75, 20, 51], [835, 363, 157, 1, 478, 335, 675, 3], [33, 355, 137, 6, 1], [33, 137], [80, 9, 121, 10, 31, 8, 172, 122, 117, 44, 21, 16, 43, 156, 1, 6, 1, 7, 616, 1, 70, 1, 1, 110, 1, 22, 81, 620, 199, 36, 1, 1, 433, 27, 15, 16], [11, 43, 59, 97, 48, 30, 128, 8, 30, 122, 117, 2, 86, 75, 79, 51, 414, 4, 276, 11, 68, 291, 27, 15, 16, 19, 2, 30, 32, 1, 193, 69], [52, 64, 130, 8, 41, 1, 97, 131, 174, 376, 694, 129, 1, 1, 396, 11, 19, 36, 1, 209, 531, 1, 11, 19, 866, 1, 8, 53, 1, 268, 846, 895, 34, 206, 45, 51, 59, 8, 36, 1, 896, 2, 382, 11, 1, 771, 209, 77, 16, 8, 256], [4, 132, 2, 31, 48, 30, 211, 65, 11, 43, 217, 59, 148, 139, 99, 683, 118, 128, 2, 31, 13, 51, 65, 13, 1, 129, 1, 118, 616, 10, 503, 14, 48, 2, 1, 322, 22, 27, 15, 16], [96, 641, 533, 278, 22, 94, 365, 22, 6, 63, 209, 1, 3, 579, 5, 3, 544, 3, 491], [11, 43, 59, 97, 8, 171, 897, 199, 383, 330, 4, 302, 20, 358, 140, 61, 2, 1, 1, 4, 238, 261, 11, 312, 59, 19, 36, 1, 306, 898], [94, 168, 10, 41, 1, 4, 90, 11, 277, 94, 142, 70, 12, 1], [2, 630, 270, 13, 899, 53, 29, 1, 459, 1, 215, 26, 45, 376, 694, 2, 580, 883, 1, 26, 1, 900, 580, 13, 659, 358, 1, 2, 630, 138, 239, 101, 1, 1, 456, 2, 382, 283, 376, 694, 8, 126, 11], [2, 32, 13, 1, 8, 694, 8, 156, 2, 121, 43, 30, 8, 105, 1, 1, 26, 617, 29, 773, 695, 567], [42, 292, 1, 503, 28, 40, 539, 19, 96, 50, 1, 5, 44, 17, 3, 630, 110, 6, 209, 5], [40, 355, 1, 3, 22, 28, 20, 901, 37, 1, 70, 322, 665, 37, 503, 345, 209, 5, 1], [89, 236, 10, 580, 148, 1, 6, 1, 1, 42, 225, 12, 233, 1, 7, 696, 415, 238, 125, 11, 815, 2, 16, 39, 178, 13, 19, 2, 32, 1], [89, 236, 201, 20, 60, 89, 236, 201, 20, 60, 89, 236, 201, 20, 60, 89, 236, 201, 20, 60], [20, 51, 114, 1, 566, 14, 42, 6, 209, 1], [46, 209, 1, 286, 1, 1], [89, 236, 10, 580, 148, 1, 6, 1, 1, 42, 225, 12, 233, 1, 7, 696, 415, 238, 125, 11, 815, 2, 16, 39, 178, 13, 19, 2, 32, 1], [89, 236, 201, 20, 60, 89, 236, 201, 20, 60, 89, 236, 201, 20, 60, 89, 236, 201, 20, 60], [20, 51, 114, 1, 566, 14, 42, 6, 209, 1], [4, 105, 39, 1, 61, 2, 16, 56, 434, 490, 20, 201, 295, 902, 56, 434, 68, 542, 61, 39, 32, 29, 1, 19, 2, 903, 4, 1, 88, 4, 261, 434, 1, 57, 53, 904, 484, 32, 34, 434, 46, 542, 11, 61, 39, 32, 4, 88, 26, 697, 424, 434, 490, 20, 201, 11], [51, 28, 89, 236, 10, 503, 65, 48, 623], [208, 48, 86, 205, 433, 312, 59, 8, 239, 905, 142, 158, 1], [163, 192, 19, 29, 52, 64, 41, 11, 74, 504, 29, 845, 18, 115, 36, 24, 628, 44, 7, 340, 649, 1, 1, 254, 906, 11, 1, 26, 1, 33, 322, 7, 1, 10, 1, 180, 85, 4, 105, 18, 1, 377, 907, 1, 1, 26, 283, 163, 192, 19, 2, 31, 61, 1, 6, 47, 8, 50], [119, 9, 121, 296, 16, 30, 60, 10, 113, 433, 61, 384, 908, 141, 25, 12, 1, 78, 908, 25, 335, 285, 160, 209, 27, 15, 16], [89, 55, 262, 1, 257, 103, 100, 3, 698, 47, 649, 136, 1, 262, 44, 1], [52, 66, 1, 8, 1, 1], [46, 909, 21, 7, 433, 699, 1, 454, 10, 256, 1, 699, 78, 909, 7, 215, 14, 1, 6, 128, 256, 366, 1, 2, 217, 59, 320, 320, 78, 7, 128], [458, 628, 17, 10, 1, 3, 155, 14, 801, 628, 9, 136, 1, 70, 14, 23, 9, 1, 70, 910, 14, 271, 6, 1, 5], [2, 340, 79, 905, 26, 241, 79, 385, 1, 53, 384, 1, 56, 142, 13, 1, 26, 2, 50, 13, 126, 11], [52, 66, 138, 639, 13, 164, 1, 48, 209, 2, 142, 431, 20, 886, 1, 112, 15, 1, 828, 2, 209, 15, 105, 18, 1, 1, 11, 1, 123, 56, 52, 30, 269], [4, 1, 11, 404, 29, 1, 1, 1, 2, 49, 700, 194, 1, 8, 1, 337, 235, 45, 1, 13, 179, 64, 8, 179, 1, 1, 57, 53, 1, 340, 56, 1, 2, 433, 270, 13, 1, 8, 1, 1], [72, 86, 911, 79, 51, 384, 340, 79, 20, 51, 65, 1, 68, 477, 18, 163, 228, 164, 29, 1, 99, 200, 13, 1], [214, 1, 18, 1, 2, 32, 101, 69, 5, 3, 269, 28, 39, 69, 72, 142, 1, 13, 20, 30, 1, 367, 360, 6, 912, 913, 3, 309, 5, 86, 9, 236, 10, 905, 142, 10, 1], [2, 1, 13, 30, 26, 2, 142, 13, 20, 51, 112, 4, 1, 11, 48, 11, 1, 1, 8, 277, 435], [11, 887, 700, 914, 49, 99, 286, 581, 435, 112, 4, 1, 2, 505, 99, 809, 11, 138, 1, 84, 318, 93, 49, 18, 187, 1, 20, 384], [], [11, 887, 700, 914, 49, 99, 286, 581, 435, 112, 4, 1, 2, 505, 99, 809, 11, 138, 1, 84, 318, 93, 49, 18, 187, 1, 20, 384], [93, 49, 12, 7, 169, 29, 1, 4, 372, 1, 49, 22, 29, 695, 175, 253, 820, 22, 1, 6, 152, 3, 472, 5, 820, 1, 37, 505, 110, 244, 162, 37, 103, 52, 610], [384, 340, 13, 20, 51], [40, 3, 35, 582, 82, 42, 1, 58, 3, 240, 436, 1, 34, 1, 536, 18], [446, 5, 114, 42, 172, 1, 1, 71, 118, 107, 310, 172, 1, 110, 1], [66, 32, 64, 1, 64, 130, 64, 41, 66, 213, 77, 18, 16, 77, 18, 213, 915, 160, 916, 163, 192, 1, 437, 437, 437, 437, 437, 437, 437, 1], [40, 17, 259, 85, 12, 474, 293, 17, 652, 303, 5, 1, 49, 1, 5, 3, 12, 6, 63, 1, 5, 27, 15, 16, 8, 76], [75, 79, 98, 30, 419, 8, 51, 305, 171, 1, 28, 106, 1, 480, 7, 1, 296, 220, 10, 1, 917, 1, 68, 477, 36, 178, 288, 295, 1, 8, 701, 11, 1, 378, 183, 1, 11, 1, 19, 2, 918, 1, 8, 41, 583, 3, 1, 1, 6, 1, 77], [1, 112, 4, 1, 2, 31, 72, 545, 376, 701, 86, 1, 1, 376, 701, 11, 13, 183, 1, 20, 184, 701, 311, 11, 171, 584, 94, 868, 35, 278, 154, 9, 31], [1, 143], [75, 171, 419, 8, 98, 51, 65, 451, 1, 1, 307, 68, 291, 93, 192, 643, 19, 20, 1, 678, 48, 29, 680, 8, 1, 382, 18, 1, 1, 246, 1, 18, 2, 1, 4, 1, 2, 16, 585, 105, 14, 829, 1, 2, 246, 1, 110, 245, 1, 361, 155], [137, 259, 23, 71, 82, 446, 5, 818, 7, 246, 474, 293, 274, 3, 503, 1, 25, 83, 523, 28, 402], [23, 1], [116, 2, 75, 172, 122, 117, 328, 1, 12, 78, 4, 88, 101, 521, 48, 818, 49, 251, 67, 28, 101, 293, 9, 1, 67, 35, 225, 12, 169, 1, 100, 656, 5, 25, 355, 6, 438, 5, 10, 1, 7, 95], [64, 41, 66, 32], [39, 32, 13, 1, 32, 702, 164, 29, 541, 703, 29, 459, 32, 56, 432, 704, 705, 364, 493, 29, 1, 32, 2, 32, 4, 132, 13, 20, 51, 8, 4, 105, 18, 706, 11, 84, 36, 1], [], [623, 12, 445, 109, 450, 1, 202, 1, 25, 118, 1, 529], [39, 32, 13, 1, 32, 702, 164, 29, 541, 703, 29, 459, 32, 56, 432, 704, 705, 364, 493, 29, 1, 32, 2, 32, 4, 132, 13, 20, 51, 8, 4, 105, 18, 706, 11, 84, 36, 1], [137, 22, 143, 22, 19, 2, 50, 94, 1, 25, 3, 115, 68, 24, 146, 207, 7, 32], [1], [419, 217, 8, 94, 371, 7, 31, 14, 38, 7, 31, 10, 119, 14, 919, 104], [98, 408, 137, 263, 58, 1, 5, 110, 271, 6, 707, 480, 456, 2, 382, 198, 34, 81], [4, 302, 282, 1, 140, 61, 2, 439, 284, 56, 4, 703, 59, 333, 8, 11, 13, 920, 51], [921, 1, 74, 310, 29, 439, 284, 19, 36, 1, 1, 8, 2, 500, 124, 1, 59, 899, 247], [74, 92, 4, 310, 913, 915, 160], [217, 116, 530, 1, 3, 120, 6, 41, 33, 25, 1, 10, 889, 296, 16, 10, 889, 7, 31, 3, 134, 70, 16, 231, 10, 190, 1, 33, 5, 3, 3, 1, 253, 412, 3, 35, 17, 4, 240, 67, 7, 31, 91, 221, 67, 4, 1, 324, 104, 16, 256, 8, 76], [], [439, 284, 13, 51, 59, 124, 156, 248, 2, 470, 62, 56, 4, 88, 477, 288, 377, 2, 439, 284, 4, 1, 241, 43, 29, 1, 1, 84, 36, 689, 2, 439, 284, 124, 440, 13, 487], [47, 13, 65, 459, 65, 2, 50, 11, 906, 2, 689, 922], [1, 3, 1, 185, 294], [19, 385, 1, 313, 439, 638, 79, 20, 1, 428, 18, 29, 707, 923, 218, 1, 924, 2, 691, 13, 179, 922], [1, 3, 1, 185, 294], [19, 385, 1, 313, 439, 638, 79, 20, 1, 428, 18, 29, 707, 923, 218, 1, 924, 2, 691, 13, 179, 922], [20, 30, 48, 47, 572, 53, 327], [506, 351, 47, 1, 456, 2, 284, 52, 837], [4, 90, 11, 1, 89, 426, 180, 34, 206, 1, 573, 5, 3, 423, 113, 6, 866, 8, 223, 34, 282, 3, 33, 54, 1, 350, 474, 253, 1, 309, 5, 291, 69, 4, 1, 558, 60, 146, 8, 4, 1, 1, 11, 18, 36, 867], [45, 51, 198, 34, 81, 45, 51, 198, 34, 81, 45, 51, 198, 34, 81], [4, 310, 29, 1, 113, 8, 4, 242, 679, 13, 29, 30, 427, 59, 97, 8, 248, 64, 27, 15, 679, 8, 76, 8, 1, 532, 319, 115, 36, 76, 861], [34, 206, 51, 17, 22, 35, 17, 325, 22, 203, 247, 33, 17, 144, 868, 1, 104, 1], [1, 61, 2, 32, 123, 493, 34, 206, 96, 51, 59, 428, 97, 8, 131, 174, 16, 429, 1, 18, 364, 2, 337, 430, 8, 49, 53, 36, 113, 27, 15, 16, 90, 36, 498, 1, 96, 869, 26, 1, 1, 4, 132], [39, 13, 2, 574, 60], [66, 66, 66, 30, 8, 234, 50, 207, 22], [23, 71, 8, 234, 14, 2, 189, 69], [66, 96, 29, 30, 427, 4, 298, 39, 181, 27, 15], [9, 55, 21, 143, 3, 143, 35, 325, 111, 44, 41, 9, 55, 21, 143, 3, 143, 35, 325, 111, 44, 41], [1], [32, 13, 1, 207, 11, 312, 59, 286, 797, 29, 113, 433, 65, 925, 68, 24, 146], [1, 1, 262, 107, 118, 1, 7, 1, 114, 33, 1, 251, 78, 272, 130, 28, 109, 25, 507, 1, 272, 130, 245, 76, 65, 48, 9, 168, 1, 565, 1, 1, 12, 450, 1, 3, 12, 78, 841, 3, 1, 1, 104, 16], [168, 38, 172, 128, 14, 467, 466, 331, 331, 331, 331, 331, 331], [164, 15, 79, 926, 19, 29, 113, 61, 29, 426, 1, 53, 1, 286, 164, 15, 105, 131, 1, 39, 93, 13, 880, 365, 2, 16, 248, 64, 36, 403, 8, 4, 116, 11, 854, 531, 434, 156, 1, 18, 36, 1, 27, 15, 16, 158, 60, 20, 29, 572, 53, 327, 30, 688, 1, 21], [], [680, 184, 681, 870, 44, 7, 682, 41, 35, 422, 12, 159, 202, 871, 5, 78, 35, 118], [177, 69, 18, 269, 84, 39, 181, 8, 4, 562, 36, 24, 14, 334, 334, 8, 4, 499, 140, 872, 124, 208, 11, 373, 31, 43, 59, 97, 247, 2, 128, 43, 551, 873, 11, 91, 575, 311, 2, 31, 270, 13, 51, 17, 27, 15], [158, 32, 338, 46, 874, 683, 174, 7, 128, 266, 17, 7, 405, 32, 6, 416, 363, 71, 6, 549, 14, 209, 5], [30, 31, 9, 426, 425, 875, 8, 9, 168, 38, 63, 101, 205, 12, 461, 3, 115, 150, 27, 15, 16], [642, 3, 44, 42, 496, 365, 46, 1, 825, 7, 113, 1], [496, 576, 37, 113, 114, 33, 1, 6, 1, 37, 577, 14, 876, 165, 1, 1, 37, 877, 254, 13, 52, 878], [139, 3, 150, 72, 449, 759, 55, 35, 182, 82, 708, 265, 1, 1, 1, 42, 137, 577, 20, 298, 1], [148, 1, 9, 236, 42, 137, 345, 1, 1, 5, 3, 492, 1, 1], [96, 20, 51, 1, 288, 471, 205, 12], [23, 17, 22, 28, 708, 265, 42, 363], [1, 1, 7, 113, 4, 704, 426, 22, 82, 87, 1, 1, 1, 1, 877], [139, 3, 150, 72, 449, 759, 55, 35, 182, 82, 708, 265, 1, 1, 1, 42, 137, 577, 20, 298, 1], [32, 13, 20, 188, 30, 47], [475, 61, 113, 1, 8, 1, 1], [148, 1, 9, 236, 42, 137, 345, 1, 1, 5, 3, 492, 1, 1], [96, 20, 51, 1, 288, 471, 205, 12], [27, 15, 19, 96, 80, 30, 51, 61, 113, 66], [142, 1, 20, 19, 895, 709, 232, 40], [1, 505, 927], [1, 7, 1, 70, 1, 176, 109, 507, 113, 433, 26, 586, 1, 40, 23, 792], [45, 30], [4, 188, 102, 370, 66, 2, 47, 13, 61, 45, 234, 50, 915, 160, 18, 2, 16, 8, 2, 32, 270, 2, 217, 74, 171, 1, 65, 4, 372], [2, 32, 658, 1, 666, 8, 266, 4, 90, 2, 152, 8, 2, 113, 11, 74, 1, 380, 123, 2, 93, 4, 501, 436, 26, 705, 227, 232, 18, 11, 2, 441, 79, 98, 51, 414, 2, 340, 79, 34, 394, 101, 4, 276, 11, 188, 291, 268, 27, 15, 16, 30, 47, 32, 48, 308, 234, 50], [36, 24, 171, 358, 64, 4, 43, 74, 20, 710, 11, 18, 1, 138, 48, 122, 117, 486, 1, 29, 177, 19, 57, 26, 11, 43, 183, 48, 30, 211, 77, 18, 2, 30, 454, 655, 4, 90, 2, 1, 1, 53, 2, 152, 56, 13, 711, 4, 88, 11, 8, 98, 441, 79, 51, 65, 19, 2, 113, 2, 113, 13, 142, 8, 1, 59, 179, 223, 1, 36, 1, 18, 24, 123, 39, 300, 179, 27, 15, 34, 81, 19, 2, 16, 8, 2, 41, 605, 19, 266, 454, 53, 36, 24, 125, 587, 1], [89, 140, 287, 712, 44, 10, 41, 386, 94, 282, 35, 12, 278, 928, 713, 6, 410, 28, 714, 5, 18, 929, 930, 167, 89, 140, 287, 712, 44, 10, 41, 386, 94, 282, 35, 12, 278, 928, 713, 6, 410, 28, 714, 5, 18, 929, 930, 167, 89, 140, 287, 712, 44, 10, 41, 386, 94, 282, 35, 12, 278, 928, 713, 6, 410, 28, 714, 5, 18, 929, 930, 167, 1, 1], [1, 1, 27, 15], [52, 66, 586, 312, 1, 414, 36, 31, 43, 248, 373, 8, 1, 10, 16, 1, 27, 15, 34, 81, 21], [23, 22, 8, 234, 264, 22, 345, 438, 5], [109, 848, 1, 154, 7, 931, 10, 152, 749], [59, 97, 64, 41, 4, 105, 20, 250, 11, 184, 26, 4, 276, 2, 47, 13, 30, 68, 477, 178, 455], [932, 57, 223, 20, 1, 9, 1], [336, 30, 19, 45, 50, 98, 51, 9, 441, 10, 1, 138, 639, 13, 37, 113, 106, 356, 835, 106, 337, 879, 70, 277, 876, 5, 25, 167, 311, 346, 221, 58, 85, 715, 1, 25, 547, 313, 933, 1, 1, 310, 25, 1, 37, 903, 3, 1], [64, 115, 266, 61, 122, 117, 34, 206, 91, 30, 276, 11, 68, 291, 19, 29, 1, 69, 934, 1, 2, 340, 14, 935], [93, 53, 2, 113, 13, 20, 51, 428, 617, 936, 149, 61, 2, 1, 577, 1, 53, 385, 53, 2, 1, 79, 1, 1, 79, 51, 65, 383], [1, 108, 17, 271, 12, 47, 1, 386, 401, 12, 109, 17, 54, 1, 28, 23, 17, 1, 573, 3, 100, 1, 100, 1], [59, 333, 46, 1, 1, 120, 12, 7, 1, 28, 283, 23, 22, 19, 45, 50, 35, 278], [19, 2, 16, 486, 434, 1, 18, 115, 2, 32, 845, 288, 2, 32, 43, 562, 26, 2, 817, 53, 256, 13, 1, 35, 169, 1, 341, 442, 1, 265, 48, 1, 7, 122, 117, 70, 127, 58, 14, 87, 1, 1, 1, 517, 416, 10, 121, 19, 2, 256, 65, 124, 79, 52, 1, 48, 1, 2, 32, 65, 367, 61, 218, 256, 1, 283, 916, 5, 176, 6, 63, 1, 3, 229, 28, 176, 843, 323, 16, 584, 93, 176, 6, 288, 847, 686], [96, 94, 368, 178, 2, 31, 659, 208, 754, 288, 4, 88, 4, 132, 1, 34, 235, 12, 1, 2, 121, 13, 20, 56, 52, 266, 172, 122, 117, 12, 22, 14, 127, 12, 26, 1, 2, 31, 13, 266, 11, 51, 59, 412, 5, 150, 150, 22, 26, 241, 79, 441, 3, 33, 1, 6, 329, 102, 1, 101, 11, 366, 187, 2, 1, 26, 1, 13, 149, 26, 283, 96, 183, 1], [504, 385, 69, 18, 232, 2, 152, 177, 436, 1, 2, 178, 34, 206, 34, 30, 98, 441, 51, 189, 61, 2, 113, 23, 22, 8, 143, 3, 143, 19, 2, 50], [1, 178, 608, 25, 1, 14, 1, 25, 477, 226, 1, 1, 114, 172, 1], [338, 385, 441, 304, 1, 65, 1, 48, 2, 216, 113, 8, 152, 79, 1], [40, 17, 1], [20, 888, 2, 152, 8, 45, 830, 36, 24, 13, 1, 184, 275, 364, 57, 29, 159], [101, 228, 12, 356, 78, 320, 7, 1, 70, 716, 152, 320, 10, 1, 157, 89, 1, 54, 78, 139, 7, 113, 1, 3, 790, 25, 47, 240, 362, 35, 221, 1, 1, 538, 687, 7, 152], [290, 19, 2, 368, 178, 4, 1, 11, 197, 4, 1, 457, 317, 550, 1, 25, 6, 1, 42, 5, 1, 7, 1, 10, 441, 114, 46, 384, 142, 71, 108, 12, 22, 34, 467, 1, 12, 154, 6, 833, 1, 139, 150, 9, 113, 717, 205, 12], [46, 1, 7, 557, 111, 17, 7, 130, 26, 525, 395, 12, 253, 1, 7, 1, 903], [38, 10, 919, 7, 152, 14, 264, 5, 118, 9, 82, 12, 1, 137, 37, 1, 384, 10, 152], [34, 206, 34, 30, 152, 4, 242, 39, 13, 29, 895, 152, 26, 4, 501, 11, 19, 457, 330, 37, 1, 1, 9, 410, 18, 581, 84, 8, 435, 2, 152, 340, 1, 164, 15, 79, 377, 1, 15, 310, 18, 1, 435, 2, 142], [23, 9, 63, 1, 10, 1, 1, 1, 42, 292, 1, 9, 1, 1, 176, 87, 629, 279, 708, 1, 1, 9, 1, 6, 689, 114, 190, 1, 12, 1, 576], [153, 175, 54, 78, 46, 1, 7, 152, 6, 1, 28, 51, 428, 7, 113, 7, 152, 44, 588, 709, 152, 12, 33, 1], [52, 175, 31, 171, 937, 97, 61, 2, 128, 633, 152, 13, 1, 8, 920, 718, 250, 11, 48, 101, 1, 61, 189, 1, 718, 504, 1, 18, 1, 179], [148, 1, 7, 152], [52, 175, 31, 171, 937, 97, 61, 2, 128, 633, 152, 13, 1, 8, 920, 718, 250, 11, 48, 101, 1, 61, 189, 1, 718, 504, 1, 18, 1, 179], [148, 1, 7, 152], [207, 181, 1, 61, 2, 494, 116, 11, 897, 199, 383, 27, 15, 16], [11, 91, 2, 574, 8, 207, 4, 1, 352, 1, 19, 39, 1, 49, 8, 287, 11, 1, 27, 15, 34, 81, 19, 1], [207, 371, 8, 666, 48, 1, 1, 8, 1, 65, 1, 68, 249, 39, 65, 29, 719], [1, 8, 59, 97, 171, 897, 199, 1, 41, 16, 52, 564, 938, 18, 939, 61, 1, 1, 707, 1, 1, 580, 1, 1, 1, 340, 1, 940, 1, 885, 1, 767, 29, 1, 1, 586, 1, 1], [207, 1, 892, 841, 840, 108], [1, 32, 371, 44, 22, 85, 12, 346, 544, 3, 7, 663, 85, 1, 3, 7, 588, 832, 931, 85, 1, 12, 1, 17, 41, 283, 4, 102, 2, 32], [2, 1, 931, 13, 1, 18, 1, 1, 112, 4, 1, 2, 31], [51], [31, 13, 427, 498, 371, 8, 451, 51, 11, 43, 428, 333, 8, 248, 373, 2, 475, 43, 124, 440, 2, 149, 49, 1, 34, 1, 112, 2, 32, 812, 270, 239, 2, 49, 8, 131, 218, 1, 720, 218, 246, 79, 1, 65, 380, 31, 34, 96, 188, 878, 8, 1, 4, 1, 424, 8, 1, 124, 304, 918, 18, 1, 295, 98, 242, 2, 409, 1, 13, 29, 1, 397, 8, 68, 125, 69, 8, 124, 238, 286, 1, 29, 1, 18, 1, 19, 2, 1, 8, 1, 18, 2, 93, 532, 1, 36, 24, 15, 404, 93, 688, 93, 688], [33, 23, 1, 6, 1, 1, 342, 5, 349, 7, 9, 1, 165, 502, 691], [1, 22, 1, 347, 5, 3, 120, 1, 354, 1, 1, 7, 1], [2, 177, 41, 43, 64, 193, 821, 79, 20, 116, 941, 235, 942, 88, 86, 911, 8, 481, 19, 11, 468, 112, 4, 785, 160, 1, 16, 124, 74, 249, 57, 2, 1, 721, 53, 76, 254, 943, 187, 1, 14, 578, 99, 685, 15, 186, 227, 1, 26, 2, 11, 319, 589, 56, 36, 24, 721, 13, 1, 2, 476, 939, 56, 124, 555, 13, 74, 29, 1, 56, 249, 1, 1, 16, 944, 587, 84, 1, 386, 12, 421, 698, 3, 87, 1, 442, 33], [1, 936, 1, 149, 241, 43, 29, 1, 940, 214, 706, 39, 11, 1, 288, 29, 717, 552, 34, 1], [1, 22, 1, 347, 5, 3, 120, 1, 354, 1, 1, 7, 1], [2, 177, 41, 43, 64, 193, 821, 79, 20, 116, 941, 235, 942, 88, 86, 911, 8, 481, 19, 11, 468, 112, 4, 785, 160, 1, 16, 124, 74, 249, 57, 2, 1, 721, 53, 76, 254, 943, 187, 1, 14, 578, 99, 685, 15, 186, 227, 1, 26, 2, 11, 319, 589, 56, 36, 24, 721, 13, 1, 2, 476, 939, 56, 124, 555, 13, 74, 29, 1, 56, 249, 1, 1, 16, 944, 587, 84, 1, 386, 12, 421, 698, 3, 87, 1, 442, 33], [1, 936, 1, 149, 241, 43, 29, 1, 940, 214, 706, 39, 11, 1, 288, 29, 717, 552, 34, 1], [19, 96, 50, 23, 3, 7, 443, 322, 460, 673, 156, 7, 63, 1, 644, 417, 102, 243, 8, 1, 1, 137, 17, 11, 156, 1, 61, 1, 3, 606, 17, 1, 8, 1, 7, 342, 317, 1, 68, 227, 255, 287, 19, 29, 178, 136, 1, 3, 28, 34, 206, 1, 3, 722, 6, 342, 3, 155], [158, 47, 36, 1, 896, 11, 8, 2, 49, 68, 269, 146, 23, 7, 945, 8, 1, 30, 60], [39, 341, 1, 1, 342, 13, 34, 30, 14, 308, 234, 50, 4, 102, 11, 233, 1, 22, 52, 30, 32, 341, 1, 946, 160, 2, 30, 457], [204, 1, 1, 18, 1, 947, 10, 945, 716, 10, 1, 9, 1, 25, 10, 502, 273, 5, 3, 1, 10, 1, 342, 3, 322, 14, 1, 37, 443, 508, 3, 508, 5, 18, 9, 723, 5, 12, 1, 6, 1, 1, 422, 10, 23, 342, 4, 90, 11], [11, 312, 59, 17, 533, 278, 8, 1, 25, 44, 22, 19, 29, 268, 69, 66, 47, 66, 44, 1, 8, 131, 174, 14, 98], [918, 41, 8, 31, 13, 48, 30, 211, 379, 47, 13, 80, 1, 26, 20, 52, 830, 26, 96, 29, 30, 60, 19, 45, 50, 352, 377, 11, 19, 29, 717, 552, 235, 933, 304, 51, 414, 112, 4, 451, 11, 84, 2, 177, 69, 26, 74, 1, 2, 193, 8, 1, 505, 79, 20, 319, 51, 1, 160, 8, 828, 268, 1, 53, 8, 312, 247, 484, 1, 1, 685, 886, 1, 193, 297, 20, 495, 164, 96, 1, 18, 1, 502, 99, 2, 342, 324, 77, 16], [239, 158, 1, 8, 13, 59, 97, 330, 241, 239, 29, 159, 948], [2, 342, 13, 51, 8, 2, 47, 53, 2, 379, 13, 52, 66, 4, 238, 242, 711, 26, 4, 429, 227, 2, 430, 56, 4, 359, 509, 53, 1, 318, 4, 132, 444, 26, 45, 183, 30, 2, 121, 13, 156, 66, 15, 366, 60, 39, 32, 11, 13, 126, 11], [40, 17, 22, 271, 12, 9, 947, 1, 9, 443, 522, 9, 168, 38, 10, 24, 5, 1, 5, 12, 1, 38, 150, 547, 77, 76], [23, 9, 443, 322, 44, 14, 724, 17, 6, 50, 180, 1, 71, 191, 228, 12, 78, 42, 5, 546, 165, 1], [111, 1, 14, 949, 301, 12, 17, 176, 1, 17, 22, 14, 166, 9, 1, 65, 268, 65, 42, 195, 1, 10, 553, 118, 12, 8, 4, 27, 275, 1, 5, 12, 110, 6, 1, 104], [283, 1, 1, 30, 19, 1, 379, 19, 1, 99, 782, 99, 286, 1, 20, 188, 1, 48, 1, 53, 379, 47, 61, 502], [111, 1, 14, 33, 170, 22, 292, 1, 28, 23, 9, 47, 10, 342, 33, 949, 9, 443, 70], [40, 12, 145, 71, 19, 2, 50, 554, 448, 179, 81, 112, 11, 1, 18, 2, 379, 47], [101, 228, 362, 78, 196, 5, 144, 1, 37, 471, 550, 346, 78, 1, 469, 7, 443, 70, 23, 33, 949, 14, 1, 6, 1, 7, 947, 17, 80, 22, 6, 63, 1, 3, 859, 102, 1, 28, 1, 5, 136, 212, 677, 859, 3, 22, 715, 623, 19, 2, 50, 17, 3, 1, 834, 80, 3, 80, 3, 44, 22, 222, 12, 35, 469, 150], [94, 55, 10, 945, 108, 25, 104, 6, 391, 14, 6, 169, 115, 82, 288, 754, 14, 1, 5, 537, 3, 1, 5, 3, 111, 1, 406, 1, 1, 229, 1, 1, 725, 501, 5, 412, 5, 3, 22, 6, 1, 6, 1, 169, 1, 1, 9, 443, 10, 1, 14, 63, 72, 1, 58, 492, 406, 150, 42, 5, 3, 537, 10, 1, 54, 1, 58, 6, 1, 63, 1, 14, 136, 1, 3, 1, 109, 3, 492, 406, 3], [2, 177, 590, 13, 313, 557, 51, 26, 2, 725, 590, 2, 684, 1, 11, 13, 1, 34, 4, 138, 632, 39, 191, 192, 156, 415, 2, 121, 117, 11, 61, 122, 1, 34, 39, 1, 787, 146, 26, 27, 15, 19, 133, 31, 8, 276, 39, 68, 187, 29, 1, 1, 1, 1], [55, 10, 32, 52, 140, 98, 79, 888, 30, 880, 365], [168, 38, 106, 31, 510, 58, 37, 950, 182, 190, 1, 58, 9, 137, 1, 108, 58, 1, 510, 58, 263, 561, 1, 182, 57, 47, 145, 110, 1, 10, 559, 402, 25, 44], [322, 44], [942, 132, 692, 35, 12, 278, 9, 1, 10, 213, 8, 10, 1, 951, 27, 15, 63, 220], [2, 177, 590, 13, 313, 557, 51, 26, 2, 725, 590, 2, 684, 1, 11, 13, 1, 34, 4, 138, 632, 39, 191, 192, 156, 415, 2, 121, 117, 11, 61, 122, 1, 34, 39, 1, 787, 146, 26, 27, 15, 19, 133, 31, 8, 276, 39, 68, 187, 29, 1, 1, 1, 1], [143, 9, 591, 952, 25, 198, 16, 6, 1, 1, 14, 618, 1, 213, 3, 1, 676, 3, 44, 54, 592, 6, 1, 3, 1, 10, 63, 75, 198, 1], [104, 21, 657, 17, 21, 10, 119, 9, 32, 148, 122, 117, 9, 32, 28, 687, 17, 21, 71, 3, 1, 5, 3, 170, 71, 23, 137, 17, 21, 104, 21, 6, 953, 21], [59, 97, 17, 17, 166, 217, 247, 33, 22, 1, 117, 19, 858, 1, 30, 483, 33, 22, 3, 174, 48, 914, 1, 191, 192, 19, 632, 57, 93, 590, 3, 393, 3, 144, 684, 1, 592, 1, 265, 54, 509, 53, 1, 99, 92, 30, 483, 13, 1, 775, 14, 111, 9, 41, 714, 5, 265, 27, 15], [162, 7, 622, 3, 212, 216, 14, 7, 38, 203, 28, 313, 51, 17], [116, 403, 48, 30, 211, 127, 14, 467, 42, 1, 713, 44, 6, 1, 629, 1, 118, 379, 6, 1, 40, 539, 271, 12, 6, 50, 180], [162, 360, 6, 954, 5, 309, 109, 225, 12, 119, 233, 121, 7, 954, 172, 128, 25, 139, 25, 7, 95, 950, 42, 687, 1], [38, 17, 82, 37, 955, 950, 42, 137, 87, 1, 397, 25, 1, 25, 19, 1, 120, 524, 10, 108, 197, 42, 1, 9, 398, 593, 1, 25, 6, 409, 130, 800], [38, 3, 37, 24, 5, 137, 17, 28, 1, 22, 335, 122, 1, 538, 148, 1, 28, 40, 3, 170], [510, 445, 60, 93, 125, 93, 139, 37, 95], [86, 228, 21, 253, 4, 383, 3, 144, 545, 21, 7, 622, 509, 2, 16, 555, 57, 1, 3, 622, 301, 17, 21, 7, 379, 28, 712, 469], [52, 66, 246, 26, 1, 86, 101, 1, 19, 574, 49, 1, 2, 1, 13, 1, 8, 551, 1, 254, 906, 11, 938, 18, 726, 283, 126, 11, 19, 2, 50], [111, 12, 38, 172, 371, 25, 10, 1, 1, 6, 405, 371, 10, 387, 956, 9, 1, 10, 103, 14, 309, 5, 12, 19, 138, 163, 834], [727, 957, 39, 11, 1, 14, 829, 86, 1, 1, 49, 19, 958, 1, 2, 452, 53, 36, 387, 336, 1, 160, 26, 11, 239, 29, 30, 49, 543, 4, 74, 250, 18, 326, 92, 11, 336, 102, 84, 308, 760, 387], [959, 8, 1, 387, 956, 266, 121, 569, 959, 267, 268, 960, 19, 2, 50, 49, 20, 184, 451], [1], [94, 168, 1, 8, 59, 333, 44, 106, 1, 82, 153, 727, 71, 85, 1, 507, 1, 7, 1, 49, 5], [33, 5, 264, 1, 10, 1, 1, 1, 523, 221, 1, 1, 49, 3, 73, 33, 579, 10, 257, 49, 190, 1, 12, 55, 3], [97, 1, 61, 122, 117, 8, 208, 84, 69, 9, 55, 10, 63, 822, 34, 297, 961, 18, 281, 185, 58, 594, 166, 840, 196, 5, 147, 252, 254, 13, 1], [50, 40, 47, 40, 217, 40, 90, 2, 252, 1, 1, 958, 314, 1], [66, 49], [727, 71, 14, 460, 136, 1, 129, 6, 387, 129, 46, 1, 28, 40, 12, 78, 446, 5, 73, 3, 73, 1], [88, 73, 962, 1, 8, 1, 4, 90, 56, 2, 246, 105, 30, 1, 48, 86, 1, 1, 73, 73, 13, 34, 1, 8, 4, 372, 96, 1, 96, 102, 39, 367, 18, 218, 246, 73, 891, 286, 187, 1, 48, 101, 191, 1, 4, 1, 11, 239, 29, 380, 540, 4, 1, 959, 68, 1, 957, 19, 73, 65, 19, 218, 246, 126, 2, 50, 121, 43, 59, 1], [401, 12, 42, 30, 47, 28, 1, 3], [214, 125, 69, 18, 1, 36, 1, 242, 45, 1, 268, 26, 45, 126, 1, 4, 1, 1, 1, 1, 1, 191, 204, 531, 387, 956, 270, 13, 179, 727, 1, 18, 105, 369, 101, 1, 18, 376, 485, 2, 387, 2, 30, 483, 17, 13, 45, 34, 1, 288, 1, 53, 817, 334, 204, 4, 261, 1, 17, 71, 19, 29, 958, 102, 57, 1, 1, 1, 204, 74, 102, 98, 2, 218, 387, 1, 1, 170, 17, 26, 45, 414, 1, 12, 1, 35, 124, 186, 1, 2, 506, 1, 1, 204, 204, 45, 34, 1, 52, 1, 26, 112, 4, 1, 11, 588, 46, 1, 6, 416, 4, 508, 96, 2, 1, 1, 204, 204, 52, 1, 1, 649, 32, 254, 13, 30, 1, 1, 204, 204, 4, 74, 88, 11, 1, 26, 11, 171, 530, 94, 64, 39, 13, 36, 1, 24, 702, 123, 76, 635], [], [64, 130, 8, 45, 52, 234, 367, 6, 218, 1, 11, 312, 6, 89, 1, 70, 1, 7, 86, 1, 5, 855, 36, 1, 247, 520, 12, 106, 128, 34, 222, 244, 448], [158, 60, 52, 1, 1, 1, 2, 574, 93, 4, 1, 34, 206, 68, 511, 269, 146, 455, 77], [1, 21, 121, 462, 1, 221, 77, 76, 8, 18, 16, 19, 64, 1, 6, 953, 21, 4, 90, 11], [458, 55, 154, 10, 32, 3, 155, 253, 109, 195, 1, 1, 1, 253, 963, 1, 3, 22], [23, 21, 1, 752], [1], [1, 1, 1, 1, 1, 91, 76, 1, 951, 91, 1, 1, 1, 1, 1, 91, 76, 1, 951, 91, 1], [130, 43, 64, 8, 65, 1, 1, 1, 41, 605, 43, 52, 1, 8, 1, 26, 2, 32, 270, 543, 4, 1, 250, 11, 184, 43, 52, 937, 97, 65, 15, 186, 326, 48, 2, 452, 2, 128, 1, 2, 32, 43, 468, 677, 112, 4, 504, 11, 424, 53, 2, 215, 34, 4, 1, 249, 39, 29, 811, 192, 916, 290, 655, 193, 69, 15, 186, 728, 215, 18, 1, 11, 99, 29, 122, 117], [4, 238, 281, 11, 184, 28, 35, 40, 22], [2, 1, 1, 84, 36, 1, 26, 30, 1, 432, 1, 112, 4, 964, 1, 123, 36, 1, 8, 52, 66], [1, 250, 184, 164, 39, 13, 194, 1, 199, 1, 26, 297, 175, 61, 2, 121, 241, 13, 131, 122, 117, 583, 56, 2, 32, 46, 864, 2, 1, 270, 944, 105, 1, 61, 11, 179, 29, 1, 1, 899, 57, 60, 39, 26, 235, 297, 1, 965, 164, 39, 13, 29, 207, 32, 99, 20], [2, 16, 43, 52, 1, 6, 200, 819, 5], [122, 117, 67, 17], [307, 267, 79, 158, 8, 126, 18, 946, 39, 285, 13, 595, 19, 36, 131, 1, 729, 730, 4, 90, 36, 285, 27, 15, 16], [4, 302, 52, 140, 61, 2, 267, 158, 47, 1, 45, 52, 234, 50, 92, 15, 326, 13, 92, 15, 227, 8, 241, 304, 131, 1, 966, 130, 2, 121, 13, 156, 52, 394, 4, 186, 341, 690, 18, 60, 194, 267, 455, 27, 15], [27, 15, 34, 81, 11, 43, 34, 394, 8, 4, 838, 372, 56, 133, 497, 160, 13, 52, 81, 1, 18, 36, 314], [43, 208, 64, 52, 459, 583, 241, 304, 163, 75, 440, 52, 140, 77], [912, 69, 1, 160, 10, 967, 9, 55, 21, 1, 9, 273, 25, 10, 761, 70, 844, 343, 25, 14, 360, 54, 1, 6, 122, 117, 70, 1, 94, 266, 1, 16, 460, 245, 213, 14, 6, 76, 1, 98], [488, 21, 7, 731], [34, 39, 13, 57, 1, 36, 1, 1, 48, 1, 53, 15, 1, 223, 290, 19, 56, 935, 8, 4, 512, 255, 18, 513, 98, 2, 69, 11, 697, 424, 1, 1, 1, 26, 1, 15, 1, 732, 1, 92, 4, 404, 112, 15, 304, 692, 732, 512, 255, 18, 513, 581, 805, 8, 497, 11, 575, 4, 512, 255, 18, 513, 98, 2, 69, 307, 205, 4, 596, 352, 1, 1, 160, 1, 255, 965, 1, 112, 133, 1, 1, 8, 4, 429, 621, 277, 4, 261, 369, 1, 98, 2, 814, 578], [4, 250, 98, 2, 267, 8, 11, 43, 158, 26, 2, 1, 79, 20, 56, 1, 34, 15, 105, 18, 726, 194, 584, 45, 29, 695, 194, 733, 367, 18, 218, 267, 26, 11, 431, 249, 2, 1, 729], [4, 188, 90, 2, 32, 338, 11, 1, 179, 81, 856, 69, 865, 281, 11, 455, 77, 2, 1, 731, 13, 174], [488, 21, 7, 731], [66, 285, 27, 15], [34, 39, 13, 57, 1, 36, 1, 1, 48, 1, 53, 15, 1, 223, 290, 19, 56, 935, 8, 4, 512, 255, 18, 513, 98, 2, 69, 11, 697, 424, 1, 1, 1, 26, 1, 15, 1, 732, 1, 92, 4, 404, 112, 15, 304, 692, 732, 512, 255, 18, 513, 581, 805, 8, 497, 11, 575, 4, 512, 255, 18, 513, 98, 2, 69, 307, 205, 4, 596, 352, 1, 1, 160, 1, 255, 965, 1, 112, 133, 1, 1, 8, 4, 429, 621, 277, 4, 261, 369, 1, 98, 2, 814, 578], [4, 250, 98, 2, 267, 8, 11, 43, 158, 26, 2, 1, 79, 20, 56, 1, 34, 15, 105, 18, 726, 194, 584, 45, 29, 695, 194, 733, 367, 18, 218, 267, 26, 11, 431, 249, 2, 1, 729], [4, 188, 90, 2, 32, 338, 11, 1, 179, 81, 856, 69, 865, 281, 11, 455, 77, 2, 1, 731, 13, 174], [2, 31, 171, 29, 773, 1, 199, 383, 11, 43, 183, 59, 333, 1, 1, 247, 183, 1, 84, 2, 47, 1, 247], [1, 20, 34, 1], [4, 102, 11, 310, 141, 154, 1, 1, 217, 3, 131, 310, 524, 10, 1, 95], [40, 17, 23, 22, 1, 1, 5, 28, 303, 70, 154, 33, 1, 37, 968, 402, 456, 2, 382], [458, 266, 10, 63, 75, 90, 11, 231, 10, 190, 343, 1, 1], [328, 395, 303, 5, 60, 72, 125, 72, 28, 95, 1, 38, 1, 5, 12, 361, 1, 442, 231, 154], [231, 37, 1, 203], [226, 72, 285, 12, 38, 251, 67, 60, 72, 125, 93, 969, 12, 38, 109, 25, 6, 301, 1, 63, 31], [175, 734, 1, 166, 125, 72, 114, 343, 3, 125, 72, 109, 554, 932, 57, 3, 155, 3, 166, 1, 343, 3, 125, 398, 20, 126, 11, 46, 202, 23, 25, 6, 32, 3, 155, 3, 202, 108, 14, 970, 6, 971, 219, 810, 1], [1, 83, 37, 38], [226, 72, 285, 12, 38, 251, 67, 60, 72, 125, 93, 969, 12, 38, 109, 25, 6, 301, 1, 63, 31], [175, 734, 1, 166, 125, 72, 114, 343, 3, 125, 72, 109, 554, 932, 57, 3, 155, 3, 166, 1, 343, 3, 125, 398, 20, 126, 11, 46, 202, 23, 25, 6, 32, 3, 155, 3, 202, 108, 14, 970, 6, 971, 219, 810, 1], [251, 60, 72, 125, 969, 1, 229, 12, 3, 115, 1, 9, 526, 3, 1, 109, 225, 484, 24, 5, 118], [264, 355, 296, 1, 23, 22, 28, 230, 37, 38], [251, 60, 72, 125, 72, 182, 95, 58, 7, 343, 3, 38, 1, 5, 154, 3, 1, 734, 21, 9, 300, 1, 222, 3, 524, 87, 54, 6, 1, 157, 7, 1, 10, 343, 1, 169, 185, 58, 54, 10, 294], [488, 7, 190, 31, 157, 251, 6, 418, 812, 60, 72, 125, 93, 28, 33, 17, 107], [149, 24, 273, 165, 1, 1, 464, 200, 415], [7, 162, 233, 1, 226, 21, 155, 1, 3, 233, 1, 7, 1], [80, 17, 7, 31, 82, 52, 823, 12, 154, 7, 613, 35, 193, 69, 1, 1, 17, 21, 7, 613, 321, 110, 33, 1, 7, 162], [72, 192, 58, 407, 185, 1, 5, 303, 5, 190, 285, 157, 38, 1, 1, 58, 1, 67], [27, 15, 16], [80, 17, 21, 22, 4, 372, 11, 105, 29, 272, 343, 247, 26, 283, 23, 17, 22, 7, 128, 12, 10, 1, 153, 320, 14, 1, 1, 7, 257, 32, 148, 761, 34, 48, 1, 26, 183, 27, 15, 19, 29, 1, 32], [4, 1, 11, 26, 183, 208], [396, 39, 65, 29, 719, 26, 43, 654, 29, 1, 4, 429, 1, 11, 941, 36, 719, 43, 791, 311, 4, 404, 1, 56, 124, 68, 115, 92, 4, 404, 88], [151, 5, 591, 125, 72, 38, 72, 12, 92, 29, 734], [231, 9, 31, 3, 274, 10, 16, 109, 37, 1, 425, 14, 1, 231, 44, 131, 69, 18, 409, 1, 3, 58, 6, 16, 3, 229, 9, 520, 647, 244, 765, 10, 31, 231, 231], [226, 292, 7, 134, 528, 6, 1, 1, 355, 21, 7, 134, 67, 203, 646, 1, 5, 1, 185, 7, 294, 5, 6, 1, 87, 7, 306, 5, 972, 7, 24, 5, 306, 229, 7, 24, 5], [329, 6, 1, 463, 591, 952, 28, 190, 285, 12, 38, 1, 1, 222, 735, 1, 10, 1, 87, 33, 463, 17, 1, 37, 37, 95, 144, 285, 1], [465, 251, 60, 72, 125, 72, 157, 10, 38, 109, 83, 107, 591, 125, 72, 1, 1, 463, 35, 1, 463, 229, 16], [226, 231], [20, 60, 93, 125, 93], [1, 13, 40, 36, 1, 1, 102, 11], [251, 591, 952, 157, 38, 1, 1, 1, 229], [11, 43, 206, 456, 308, 383, 75], [851, 10, 130, 1], [1], [231], [4, 188, 90, 2, 32, 891, 690, 18, 281, 11, 84, 4, 661, 2, 252, 56, 4, 359, 4, 298, 39, 300, 34, 81, 4, 11, 13, 59, 217, 156, 4, 60, 39, 973, 61, 967, 1, 8, 4, 132, 29, 272, 967, 1, 11, 504, 29, 449, 18, 115, 36, 1, 26, 2, 32, 13, 66, 77, 16, 68, 1, 60, 146, 48, 133, 300], [4, 102, 2, 252, 11, 13], [1, 21, 37, 974, 9, 55, 10, 75, 801, 3, 1, 21, 141, 197, 30, 47, 21, 224, 19, 1], [94, 234, 8, 23, 17, 7, 267, 1, 5, 7, 540, 70, 198, 16, 452, 20, 453, 78, 21, 412, 14, 1, 3], [19, 2, 50, 80, 12, 7, 62, 8, 13, 736, 585, 298, 19, 1, 99, 894, 424, 973], [429, 242, 586, 68, 187, 420, 1, 36, 1, 19, 20, 1, 2, 418, 586, 312, 30, 543], [149, 31, 4, 24, 973, 48, 2, 252, 53, 191, 26, 509, 4, 116, 974], [30, 19, 1, 45, 20, 56, 289, 1, 1, 12, 71, 10, 314, 587, 5, 223, 659, 710, 11, 18, 187, 975, 28, 642, 3], [966, 377, 39, 32, 19, 358, 385, 69, 235, 4, 102, 370, 11, 239, 29, 1, 1, 56, 1, 8, 239, 1, 1], [634, 7, 1, 10, 95, 42, 1], [59, 333, 82, 42, 5, 508, 393, 78, 42, 660, 153, 6, 816], [4, 596, 250, 11, 26, 4, 261, 45, 66, 330, 4, 1, 370, 11, 1, 11, 1, 1, 855, 324, 27, 15], [11, 91, 736, 20, 1, 19, 1, 1, 733, 314, 2, 1, 13, 80, 26, 585, 558, 20, 291, 268, 26, 976, 80, 19, 45, 50], [33, 225, 12, 172, 1, 30, 483, 148, 174, 37, 31], [4, 372, 11, 239, 29, 974, 26, 2, 1, 13, 30], [52, 1, 32, 550, 550, 5, 491, 172, 1, 347, 14, 172, 55, 6, 1, 104, 16], [465, 9, 55, 180, 6, 816, 923, 6, 257, 464, 27, 1, 6, 637, 392, 167, 54, 349, 1], [23, 648, 1, 27, 275, 16, 46, 1, 25], [27, 15, 6, 16, 14, 6, 213, 176, 111, 58, 9, 1, 2, 31, 13, 30, 24, 167, 54, 1, 3], [23, 1, 1], [94, 1, 1, 593, 335, 388, 25, 277, 119, 3, 38, 7, 403, 5, 1, 42, 195, 244, 1, 6, 136, 24], [11, 1, 1, 36, 314, 1, 223, 576, 18, 39], [75, 171, 48, 30, 211, 2, 32, 432, 457, 61, 57, 65, 925, 34, 297, 20, 56, 140, 11, 432, 485, 36, 289, 1], [1, 251, 569, 28, 42, 355, 70, 1, 63, 1, 6, 92, 2, 418, 882, 1, 12, 22, 1, 3, 58, 44, 3, 173, 14, 1, 7, 31, 28, 283, 20, 140], [1, 341, 249, 29, 1, 178, 311, 33, 5, 25, 71, 491, 154, 4, 186, 341, 589, 3, 1, 1, 180, 7, 1, 6, 1, 78, 106, 893, 10, 977, 5, 42, 225, 3, 485, 7, 1, 180, 1, 978, 33, 579, 106, 212, 1, 219], [273, 38, 10, 31, 157, 46, 488, 25, 1, 175, 20, 495, 87, 6, 130, 454, 442, 6, 16, 78, 306, 170, 22, 335, 122, 117, 19, 1, 1, 35], [40, 17, 111, 3, 38, 9, 75, 1, 175, 12, 78, 139, 7, 128, 106, 72, 144, 1, 5, 25, 17, 35, 522, 153, 162, 7, 1, 106, 139, 9, 128, 35, 240, 67, 10, 119, 436, 67, 1], [], [2, 31, 43, 20, 65, 1, 4, 116, 11, 86, 205, 1, 8, 4, 74, 501, 11, 530, 8, 11, 1, 756, 99, 1, 272, 112, 4, 1, 435, 2, 1, 2, 1, 1, 658, 435, 65, 59, 20, 282, 61, 133, 32, 1, 1, 65, 59], [1, 222, 100, 244, 392, 1, 6, 1, 328, 737, 728, 1, 1, 594, 54, 737, 1, 1, 1], [11, 431, 20, 1, 160, 18, 370, 11, 91, 1], [9, 1, 4, 677, 1, 979, 9, 560], [1, 4, 88, 2, 252, 1, 49, 11, 183, 336, 1, 8, 2, 1, 432, 1, 84, 36, 808, 655, 11, 43, 486, 4, 302, 1, 330, 11, 1, 1, 84, 36, 808, 34, 4, 766, 377, 39], [1, 222, 100, 244, 392, 1, 6, 1, 328, 737, 728, 1, 1, 594, 54, 737, 1, 1, 1], [4, 943, 232, 11, 486, 45, 487], [4, 490, 20, 661, 36, 24], [4, 490, 20, 1, 2, 31, 214, 4, 359, 18, 200, 36, 327, 99, 74, 364, 57, 2, 31, 214, 99, 1, 45, 29, 572, 53, 327], [431, 20, 1, 1, 92, 29, 572, 53, 327], [980, 224, 14, 347, 1, 491, 290, 368, 178, 58, 21, 559, 25, 1, 857, 264, 1, 224], [23, 17, 597, 251, 10, 1, 5, 104, 16, 14, 6, 1, 30, 31, 21, 24, 597, 167], [66, 68, 511, 60, 146], [9, 55, 1, 66, 121, 1, 508, 3, 508, 1, 227, 129, 3, 1], [90, 2, 121, 53, 307, 75, 8, 156, 2, 336, 53, 11, 34, 681, 37, 478, 70, 8, 627, 352, 981, 307, 19, 552, 8, 297, 1, 11, 290, 19, 2, 368, 178, 16, 1], [59, 97, 1, 41, 702], [27, 15, 598, 599, 19, 2, 234, 587, 8, 50, 584, 272, 130, 800, 194, 847, 18, 2, 16, 8, 76], [4, 90, 11, 34, 81, 68, 511, 60, 146, 4, 90, 11, 34, 81, 68, 511, 60, 146, 4, 90, 11, 34, 81, 68, 511, 60, 146, 4, 90, 11, 34, 81, 68, 511, 60, 146], [1, 1, 427, 498, 260, 982, 1, 84, 1, 112, 15, 79, 1, 124, 1, 15, 242, 921, 1, 1, 73, 968, 1, 1, 112, 15, 79, 1, 124, 1, 15, 242, 921, 26, 4, 1, 15, 1, 48, 133, 1, 1, 674, 29, 1, 4, 4, 1, 15, 1, 674, 36, 1, 1, 1, 11, 620, 4, 8, 112, 4, 1, 102, 4, 43, 308, 411, 1, 674, 1, 1, 15, 728, 57, 84, 8, 1, 4, 43, 133, 1], [158, 60, 116, 36, 24, 48, 30, 211, 282, 8, 140, 541, 287, 558, 68, 24, 146, 104, 6, 16, 6, 76, 14, 6, 1, 3, 41, 213, 556, 482], [59, 666, 8, 97, 36, 1, 600, 514, 27, 15, 598, 599, 19, 1, 41, 4, 88, 11, 983, 898, 208, 983, 1, 27, 15, 156, 18, 2, 256], [64, 41, 59, 333, 33, 5, 25, 1, 7, 32, 26, 4, 276, 1, 7, 63, 30, 822, 3, 23, 7, 600, 8, 268, 981], [2, 32, 43, 34, 66, 8, 11, 248, 373, 96, 156, 48, 30, 211, 651, 60, 452, 8, 351, 20, 453], [9, 168, 38, 10, 32, 94, 1, 12, 10, 1, 180, 28, 1, 17, 80, 17, 71, 19, 45, 50, 595, 211, 44, 106, 38], [4, 132, 98, 627, 88, 2, 47, 53, 2, 267, 79, 65, 925, 2, 130, 13, 64], [40, 17, 37, 31, 1, 660, 6, 1, 673, 22, 108, 3, 55, 25, 10, 47, 1, 100, 6, 782, 5, 1, 485], [90, 11, 108, 12, 14, 23, 4, 261, 202, 196, 5, 9, 161, 73, 199, 289, 161, 3, 151, 5, 436, 27, 598, 599, 1, 111, 3, 1, 14, 6, 1], [2, 32, 43, 208, 1, 199, 383, 596, 250, 2, 32, 184, 26, 11, 336, 30, 276, 96, 20, 1], [1, 1, 1, 16, 8, 52, 831, 556, 482, 133, 300, 8, 194, 566], [4, 396, 11, 84, 388, 8, 45, 29, 30, 703, 2, 32, 270, 13, 48, 30, 211, 8, 11, 43, 59, 97], [1, 196, 5, 645, 600, 514, 10, 598, 599, 853, 3, 10, 252, 219, 3, 161, 73, 1, 12, 22, 6, 1, 1, 5, 1, 232, 5, 3, 22, 77, 9, 168, 10, 41], [641, 47, 52, 831, 16, 59, 333, 31, 248, 373, 68, 24, 146, 27, 15, 16], [90, 11], [55, 106, 514, 1, 523, 1, 136, 388, 35, 1, 662, 1, 197, 1, 1, 1, 151, 141, 1, 38, 662, 1], [32, 13, 158, 11, 43, 156, 97, 1, 32, 13, 1, 34, 96, 158, 164, 15, 79, 74, 1, 18, 1], [980, 9, 75, 376, 97, 22, 335, 122, 117, 14, 119, 3, 755, 203, 104, 6, 41, 225, 3, 676, 3, 529], [1, 22, 126, 2, 50, 9, 1, 25, 10, 405, 600, 514, 33, 170, 1, 99, 962, 1, 85, 194, 84, 1, 729, 55, 121, 259, 259, 126, 11, 168, 170, 10, 364], [77, 21], [11, 43, 34, 66, 27, 15, 34, 81, 8, 27, 15, 44, 21, 245, 220, 3, 169, 115, 2, 41, 13, 34, 64, 27, 15, 16], [30, 47, 27, 15, 16, 8, 27, 15, 220, 256], [94, 66, 1, 1, 33, 397], [9, 55, 180, 21, 1, 251, 296, 1, 559, 597, 71, 1], [94, 168, 10, 41, 66, 32, 230, 12, 54, 10, 252, 3, 1, 183, 126, 18, 60], [4, 102, 2, 968, 11, 13, 34, 1, 8, 1, 56, 1, 341, 1, 133, 1, 2, 1, 738, 514, 13, 74, 595, 19, 36, 738, 8, 314, 1, 27, 15], [595], [94, 55, 1, 269], [4, 90, 11], [40, 17, 21], [27, 275, 52, 81, 76, 8, 598, 599, 116, 31, 48, 30, 211, 64, 41], [23, 22, 94, 264, 5, 725, 24, 1, 229, 1, 44, 984], [31, 13, 30, 26, 149, 49, 985, 985, 59, 77, 324], [564, 323, 16, 111, 9, 41, 73, 161, 784, 153, 142, 9, 252, 297, 926, 35, 3, 202, 975, 252, 34, 206, 40, 145, 19, 45, 50, 153, 606, 170, 626, 986, 42, 22, 144, 268, 960], [11, 91, 414, 4, 1, 289, 161, 1, 341, 56, 289, 161, 19, 57, 583, 4, 105, 1, 1, 289, 161, 963, 73, 1, 1, 1, 26, 20, 506, 543, 4, 138, 232, 11, 18, 1, 48, 385, 1, 56, 239, 643, 1], [27, 15, 16, 8, 245, 1, 169, 115, 23, 21, 22], [40, 83, 22, 82, 357, 12, 1, 1, 289, 444, 1, 12, 626, 161, 9, 987, 6, 1, 289, 444, 985, 34, 52, 534], [27, 15, 2, 32, 976, 66, 4, 366, 105, 88, 156, 2, 210, 93, 4, 68, 1, 11, 1], [850, 58, 1, 1, 1, 5, 3, 21, 1, 70, 55, 21, 1, 1, 21, 984], [16, 13, 20, 564, 26, 538, 265, 4, 132, 2, 337, 1, 8, 267, 27, 15, 4, 90, 307, 600, 1, 631], [1, 17, 22, 111, 120, 12, 44, 984, 42, 22, 1, 6, 1, 262, 3, 19, 45, 50], [40, 17, 22, 19, 2, 50, 85, 12, 94, 1, 244, 1, 156, 7, 313, 1, 1, 8, 2, 1, 824, 10, 62, 10, 560, 48, 1, 53, 803, 164, 1, 20, 1, 901, 102, 57, 705, 1, 160, 1, 2, 1, 19, 2, 1, 360, 6, 557, 10, 1, 254, 68, 1, 2, 32, 18, 187, 1, 1], [66, 9, 55], [271, 12, 1, 3], [40, 17, 190, 1, 12, 107, 446, 5, 910, 28, 23, 22, 177, 69, 5, 1, 417], [98, 75, 470, 1, 19, 2, 1, 1, 509, 53, 29, 1, 1, 15, 440, 57, 1, 1, 1, 307, 913, 75, 79, 1, 380, 4, 585, 1, 164, 15, 440, 57, 29, 380, 252, 415, 16, 240, 2, 75, 177, 436, 1, 18, 133, 1], [27, 15, 76, 16, 114, 544, 21, 7, 41, 23, 145, 7, 31], [90, 11], [1, 7, 16, 1, 150, 22, 203, 3, 46, 174, 7, 24, 5, 85, 1, 44, 544, 120, 7, 478, 1, 176, 1, 8, 1, 449, 301, 17, 7, 32, 33, 120, 12, 22, 292, 1, 349, 491, 5, 1, 10, 63, 1, 28, 1, 98, 80, 22], [31, 248, 1, 1, 18, 1, 36, 1, 26, 297, 140, 1, 60, 146], [40, 145, 1, 1, 21, 673, 1, 1, 5, 21, 1, 21, 6, 16, 14, 1], [40, 22, 110, 203, 23, 77, 16, 14, 6, 676, 5, 3, 41, 1], [40, 166, 161, 28, 166, 142, 608, 1, 77, 16], [450, 736, 7, 957, 42, 22, 262, 19, 733, 314, 102, 57, 7, 49, 202, 1, 7, 161, 34, 4, 585, 589, 3, 588, 109, 473, 1, 6, 161, 252, 739], [23, 224], [80, 17, 22, 153, 975, 12, 254, 13, 196, 5, 153, 142], [20, 506, 19, 2, 50], [23, 17, 71, 317, 4, 726, 8, 4, 1, 35, 12, 33, 71, 317, 1], [23, 145, 22, 648, 35, 222, 12, 150, 1, 670, 1, 24, 146, 1, 16, 14, 245, 780, 1], [33, 444, 9, 103, 10, 32, 715, 289, 161, 71, 328, 610, 1, 568, 25, 17, 472, 5, 28, 80, 3, 170, 78, 388, 17, 609, 592, 1, 5, 3, 12, 6, 1, 5, 3, 1, 6, 161, 3, 1], [27, 15], [27, 15], [27, 15, 34, 81], [27, 15, 52, 34, 81], [173, 9, 252, 3, 151, 5], [30, 31, 458, 55, 648, 14, 212, 30, 211, 106, 652, 564, 604, 323, 16], [40, 83, 21, 37, 75], [1, 97, 8, 208, 84, 69], [31, 48, 30, 211, 52, 142, 12, 28, 23, 22, 77, 16], [9, 55, 21, 1, 6, 103, 27, 15, 16, 48, 220, 41, 48, 4, 68, 24, 193, 449, 719, 19, 36, 867], [15, 227, 92, 15, 1, 19, 938, 18, 232, 52, 736, 82, 317, 986, 28, 40, 12, 108, 12, 17, 27, 15, 16], [1, 145, 6, 193, 269, 46, 1, 3, 614, 24, 141, 3, 18, 65, 48, 9, 1, 141, 10, 309, 407, 23, 1, 268, 960, 1, 85, 1, 1, 108, 3, 71, 982, 47, 786, 6, 193, 269, 141, 1, 1, 3, 507, 1, 919, 3, 308, 38, 63, 86, 205, 10, 3, 269, 141, 134, 1, 1, 16], [15, 440, 57, 149, 49], [42, 107, 756, 317, 986], [4, 102, 11], [27, 15, 21, 40, 17, 21, 9, 1, 5, 1, 6, 391, 556, 482, 21], [2, 32, 13, 30], [596, 281, 11, 184, 1, 5, 83, 23, 22], [64, 130, 132, 2, 337, 31], [30, 47, 17, 82, 33, 173, 37, 49, 3, 24, 5, 3, 1, 219, 289, 210, 7, 798, 5, 6, 720, 219, 28, 161, 7, 657, 203, 1, 12, 54, 175], [230, 7, 190, 31, 3, 38, 1, 7, 95, 165, 24, 28, 738, 1, 7, 644, 324, 80, 17, 7, 7, 257, 31], [74, 102, 308, 1, 738, 514, 2, 30, 483, 369, 11, 11, 91, 1, 199, 218, 924], [188, 64, 130, 86, 205, 12, 38, 3, 4, 1, 227, 93, 62, 160, 26, 4, 188, 102, 2, 47, 1, 199, 2, 1, 15, 326, 48, 2, 1, 181, 8, 382, 1, 179, 27, 15], [52, 64, 130, 374, 12, 6, 438, 165, 1, 411, 153, 237, 58, 62, 219, 62, 19, 988, 693, 1, 411, 1, 5, 1, 12, 699, 739, 438, 5, 23, 22, 739, 197, 55, 135, 884, 69, 18, 24, 123, 39, 300, 25], [23, 143, 77, 23, 143, 77, 23, 143, 77, 23, 143, 77], [126, 45, 50, 126, 45, 50, 126, 45, 50, 126, 45, 50, 126, 45, 50, 77], [40, 17, 9, 135, 467, 237, 62, 219, 144, 1, 1, 72, 62, 3, 54, 28, 237, 37, 144, 900, 18, 989, 219, 3, 159, 990], [4, 366, 105, 1, 163, 228, 330, 124, 440, 72, 149, 62, 123, 2, 191, 1, 4, 88, 2, 1, 13, 30, 19, 2, 934], [40, 17, 35, 991, 517, 1, 82, 517, 95, 21, 46, 174, 22, 182, 46, 1, 14, 1], [62, 13, 179, 420, 976, 1, 53, 1, 13, 188, 20, 1, 46, 151, 54, 601, 8, 389, 1, 202, 447, 25, 37, 601, 91, 389], [6, 900, 989, 62, 40, 6, 988, 693, 62, 496, 237], [1, 1, 26, 20, 2, 381, 53, 1, 1, 4, 43, 786, 19], [657, 1, 1, 12, 1, 44, 35, 9, 135, 82, 1, 9, 103, 565, 1], [2, 62, 13, 420, 19, 191, 163, 1, 411, 366, 24, 72, 62, 1], [393, 83, 988, 693, 151, 5, 26, 1, 246, 82, 9, 992, 1, 280, 202, 447, 14, 740, 166, 73], [993, 199, 383], [2, 47, 13, 20, 92, 4, 43, 710, 20, 102, 2, 1, 1, 47], [64, 41, 28, 127, 9, 135, 565, 159, 994, 360, 6, 63, 1, 3, 24, 5, 954, 3, 1, 358, 175], [420, 19, 36, 963, 989, 1, 411, 1], [23, 17, 9, 47, 82, 995, 121, 70, 180, 42, 33, 306, 1, 306, 195, 215, 9, 63, 990, 996, 996, 58, 6, 190, 535, 561, 7, 272, 536, 1, 306, 335, 215, 593, 7, 162, 335, 215, 4, 60, 1, 1, 196, 5, 25, 35, 244, 1, 10, 1, 995, 1, 25, 5, 10, 215, 3, 1, 10, 990], [46, 948, 22, 23, 35, 9, 135, 82, 9, 1, 10, 653, 948, 588, 411, 663], [27, 15, 16, 207, 7, 388, 129, 9, 1, 10, 518, 162, 162, 430, 27, 275, 154, 35, 1, 1, 167, 54, 6, 637, 3, 388, 129, 90, 11, 90, 11], [315, 315, 46, 1, 35, 507, 1, 57, 299, 118, 315, 1, 423, 1, 1, 6, 503, 5, 1, 78, 182, 57, 1, 1, 129, 3, 315, 1, 1, 57, 1, 597, 315, 112, 4, 177, 1, 133, 216, 57, 106, 356, 165, 1, 9, 1, 129, 315, 9, 996, 406, 1, 57, 1, 5, 118, 7, 251, 182, 315, 4, 43, 34, 282, 57, 89, 723, 5, 315, 1, 83, 1, 25, 22, 1, 57, 1, 120, 1, 58, 1, 129, 315, 1, 711, 4, 1, 133, 1, 57, 85, 1, 5, 259, 10, 1, 129, 315, 1, 493, 48, 36], [36, 63, 174, 21, 741, 21, 1, 1, 1], [36, 1, 896, 2, 518, 1, 425, 150, 37, 162, 1, 147, 425, 1, 91, 1, 110, 46, 1, 224, 675, 30, 19, 1, 934, 153, 447, 1, 37, 602, 14, 715, 127, 28, 23, 25, 170, 665, 91, 351, 20, 453], [27, 275, 16, 163, 192], [127, 12, 135, 28, 724, 12, 176, 1, 5, 17, 609, 144, 1, 12, 262, 129, 25, 1, 7, 519, 6, 1, 110, 153, 466, 724, 44, 63, 430, 1, 77, 16], [127, 58, 224, 85, 111, 1], [447, 110, 6, 63, 438, 5], [23, 21, 82, 127, 120, 12, 204, 472, 5, 82, 46, 1, 147, 86, 430, 147, 144, 997, 14, 86, 1, 28, 40, 12, 91, 1, 1, 77, 21], [40, 3, 1, 9, 31, 28, 6, 41, 686, 89, 1, 10, 1, 10, 1, 465], [450, 127, 28, 741, 3, 91, 50, 70, 741, 3, 1], [127, 58, 28, 40, 58], [309, 5, 89, 108, 28, 89, 127, 44, 85, 107, 292, 9, 399, 70, 28, 324, 741, 3, 1], [127], [520, 9, 135, 106, 518, 114, 46, 1, 22, 42, 978, 1, 197, 139, 44, 83, 7, 274, 1, 740, 147, 1, 14, 42, 23, 519, 28, 104, 978, 197, 46, 1, 1], [127], [450, 127, 14, 33, 23, 9, 519, 422, 1, 197, 21, 33, 21, 1, 849, 170, 189, 50, 12, 44, 110, 1, 1], [1, 1, 971, 735, 594, 145, 37, 1], [357, 14, 1], [139, 134, 314, 296, 16, 1, 388, 5, 309, 1, 87, 1, 5, 25, 290, 28, 881, 12, 54], [139, 134, 314, 296, 16, 1, 388, 5, 309, 1, 87, 1, 5, 25, 290, 28, 881, 12, 54], [169, 285, 1, 10, 1, 5, 78, 120, 108, 85, 1, 3, 12, 54, 10, 38, 7, 75, 46, 1, 25, 107, 6, 1, 5, 1, 235, 1, 25, 170, 1], [198, 34, 81, 470, 49, 470, 31, 198, 16, 140, 541, 287, 198, 52, 81, 1, 885, 193, 1, 1, 1, 81], [27, 15, 16, 264, 21, 10, 1, 5, 1, 38, 10, 983, 898, 6, 953, 21], [30, 47, 19, 2, 1, 50, 55, 264, 10, 1, 5, 77, 16, 8, 245, 220, 213, 3, 347, 1], [1, 45, 80, 19, 2, 50, 2, 1, 13, 1, 901, 330, 2, 1, 79, 358, 420, 8, 138, 101], [980, 83, 1, 661, 141, 169, 24, 523, 150, 10, 95, 25, 893, 141, 58, 362, 197, 264, 141], [121, 13, 48, 30, 47, 98, 88, 49, 75, 79, 208, 330, 966, 1, 127, 9, 135, 10, 390], [45, 30, 19, 45, 1, 27, 15], [1, 22], [153, 1, 1, 6, 998, 3, 212, 216, 28, 40, 145, 21], [408], [32, 1, 48, 248, 26, 64, 112, 208, 329, 91, 663, 910, 144, 742, 277, 169, 348, 1, 323, 16, 147, 109, 147, 597, 742, 101, 228, 176, 1, 37, 41, 69, 8, 37, 103, 3, 196, 5, 594, 3, 28, 40, 9, 47, 10, 390, 19, 2, 50], [262, 25, 85, 18, 1, 46, 174, 7, 190, 31], [1], [127, 7, 135], [20, 506, 19, 2, 50], [9, 650, 180, 28, 92, 201, 15, 448, 164, 108, 71, 609], [20, 140, 1], [970, 18, 62, 92, 15, 326, 13, 20, 56, 188, 1, 127, 7, 135, 28, 23, 17, 1, 7, 1, 709, 12, 42, 579, 6, 216], [179, 1, 1, 1, 1], [955, 62, 743, 9, 24, 5, 62, 917, 7, 95, 38, 14, 7, 95, 46, 1, 25], [1, 83, 722, 10, 119, 35, 222, 67, 1, 799, 480, 407, 35, 83, 1, 67, 10, 119, 118, 31, 1, 1, 25, 83, 35, 54, 167, 82, 346, 571, 83, 999, 1, 6, 1, 16], [88, 163, 390, 1, 16, 18, 542, 380, 246, 311, 241, 13, 131, 720, 16, 902, 1, 476, 26, 248, 57, 98, 189, 49, 742, 235, 4, 105, 163, 390, 61, 2, 189, 49], [696, 9, 134, 1], [607, 47], [1, 83, 722, 10, 119, 35, 222, 67, 1, 799, 480, 407, 35, 83, 1, 67, 10, 119, 118, 31, 1, 1, 25, 83, 35, 54, 167, 82, 346, 571, 83, 999, 1, 6, 1, 16], [88, 163, 390, 1, 16, 18, 542, 380, 246, 311, 241, 13, 131, 720, 16, 902, 1, 476, 26, 248, 57, 98, 189, 49, 742, 235, 4, 105, 163, 390, 61, 2, 189, 49], [696, 9, 134, 1], [20, 126, 18, 60, 607, 47], [208, 149, 730], [23, 23, 23, 23, 23, 23, 23, 23, 23, 23, 23, 23, 23, 23, 23, 23], [143, 6, 50, 23, 47, 264, 5, 716, 10, 977, 5, 310, 129, 12, 244, 1, 6, 62, 136, 1, 100, 27, 15, 16], [4, 372, 2, 316, 304, 1, 332, 26, 45, 179, 518, 26, 2, 779, 1, 13, 470, 8, 2, 1, 13, 158], [23, 22, 9, 33, 1, 753, 13, 7, 803, 70, 4, 261, 6, 46, 1, 154, 7, 744, 70, 583, 3, 172, 982, 744, 1, 7, 998, 6, 1, 130, 13, 64, 42, 5, 753, 3, 9, 1, 38], [1, 74, 337, 27, 1, 16, 76, 27, 1], [2, 75, 270, 13, 30, 338, 20, 595, 7, 1, 70, 279, 3, 1, 8, 1, 1, 3, 1], [80, 17, 1, 582, 9, 135, 907, 240, 197, 118, 190, 3, 116, 5, 46, 634, 80, 17, 9, 162, 191, 228], [80, 17, 7, 32, 59, 97, 355, 106, 274, 10, 256, 8, 776, 5, 58, 13, 89, 332, 445, 154, 70, 303, 5, 153, 740, 1], [47, 13, 126, 45, 50], [20, 506, 19, 2, 50, 4, 481, 19, 11], [237, 21, 445, 9, 62, 1, 40, 836, 995, 1, 22], [582, 7, 135, 1, 40, 71, 6, 399, 180, 338, 608, 448, 3, 237, 37, 316, 1, 54, 85, 237, 979, 203, 163, 228, 35, 87, 153, 1, 25], [11, 1, 341, 332, 36, 1, 13, 852, 56, 91, 711, 4, 132, 39, 26, 316, 79, 382, 382, 993, 1], [131, 30], [650], [131, 30], [650], [9, 55, 107, 10, 135, 417, 991, 14, 1, 1, 522, 108, 111, 44, 9, 130, 716, 41], [104, 76, 14, 6, 16, 176, 9, 55, 10, 32, 991, 9, 135, 860, 62, 189, 427, 44, 104, 44, 245, 220], [158, 47, 14, 308, 234, 50, 23, 9, 135, 582, 22, 80, 9, 519, 1, 9, 933, 148, 139, 836, 292, 44, 9, 47, 10, 1, 1, 5, 25, 1, 5, 3], [1, 1, 9, 135, 177, 69, 169, 24, 143, 1, 9, 136, 24, 245, 1, 1, 24, 54, 167, 27, 15, 76], [1, 1, 18, 3, 573, 6, 300, 67, 85, 136, 478, 1, 106, 1, 757, 167, 54, 104], [62, 743, 739, 1, 5, 401, 3, 401, 110, 203, 9, 151, 5, 3, 563, 1, 5, 13, 1, 271, 58, 40, 9, 135, 77, 76, 14, 6, 1, 129, 484, 30, 147, 31, 147, 3, 24, 5], [30, 47, 8, 1], [40, 17, 1], [40, 17, 224, 1, 12, 7, 46, 430, 91, 1, 42, 17, 147, 25, 660, 91, 216, 229, 182], [1, 29, 1, 18, 332, 2, 505, 26, 30, 47, 8, 332], [351, 20, 453, 1, 751, 1, 354, 40, 145, 510, 58, 1, 49, 1], [41, 13, 30, 40, 44, 83, 47, 10, 32, 82, 120, 12, 42, 548, 37, 103, 3, 151, 5, 210, 697, 18, 73, 176, 40, 83, 37, 32, 1, 265, 28, 193, 69, 87, 299, 37, 860, 3, 151, 118, 44, 9, 999], [301, 12, 153, 1, 744, 22, 14, 33, 745, 271, 12, 6, 50], [33, 22, 444, 161, 49, 9, 972, 5, 42, 170, 515, 9, 135, 28, 582, 17], [271, 71, 106, 1, 573, 35, 106, 1, 1, 1, 1, 3, 7, 1, 698, 3, 1, 1], [47, 1, 33, 225, 12, 1, 9, 1, 221, 4, 1, 175, 54, 6, 24, 5, 157, 1, 95, 161, 9, 49, 9, 151, 5, 279, 344, 210, 9, 134, 279, 161, 1], [972, 5, 3, 21, 24, 5, 173, 17, 63, 103, 14, 602, 3, 134, 85, 52, 774, 54, 190, 1, 58, 83, 1, 5, 28, 1, 1, 1, 314, 7, 103, 444, 153, 1, 1, 70, 28, 62, 563, 173, 83, 1, 70, 127, 58, 135, 7, 103, 289, 280, 40, 83, 22, 1, 120, 58, 994, 6, 568, 7, 103, 142, 280, 173, 7, 62, 14, 103, 510, 58, 89, 992, 91, 1, 42, 374, 6, 1, 5, 1, 1, 994, 6, 568, 151, 5, 740, 9, 1, 70], [271, 12, 77, 1], [299, 361, 17, 229, 788, 329, 1, 3, 1, 151, 5, 3, 316, 9, 357, 1, 25, 18, 1, 745, 1, 1, 12, 22, 28, 9, 1, 10, 1, 1, 10, 1, 9, 357, 10, 316, 1, 730, 182, 33, 17, 1, 316, 7, 212, 216, 9, 987, 1], [16, 37, 73, 3, 62, 917, 279, 33, 145, 22, 1, 510, 979, 1, 360, 6, 1, 28, 37, 210, 279, 40, 58, 1, 173, 374, 6, 413, 28, 6, 336, 279, 40, 145, 35, 1, 1, 87, 1, 35, 9, 329, 6, 418, 279, 166, 44, 9, 38, 6, 1, 670, 145, 1, 9, 1, 67], [20, 188, 2, 189, 14, 2, 216], [23, 7, 316, 173, 7, 38, 3, 103, 14, 62, 348, 2, 16, 87, 262, 1, 14, 1, 78, 237, 107, 7, 62, 1, 33, 107, 473, 1, 16, 927, 4, 892, 11, 1], [230, 37, 103, 3, 1], [15, 227, 92, 15, 481, 19], [2, 316, 43, 1, 123, 92, 4, 302, 1, 11, 43, 20, 188, 34, 515, 20, 184, 981, 11, 4, 43, 710, 29, 745, 332, 26, 11, 43, 20], [40, 17, 7, 1, 28, 33, 22, 1, 14, 33, 1, 332, 1, 744, 7, 115, 6, 413], [33, 1, 344, 280, 338, 745, 1, 71, 28, 118, 49, 1, 280, 33, 344, 579, 118, 212, 998, 452, 1, 271, 9, 62, 28, 63, 75, 1, 1, 1, 105, 29, 1, 61, 133, 1, 110, 6, 637, 33, 1, 9, 63, 75, 3, 151, 10, 1], [162, 9, 1, 724, 145, 37, 62, 82, 824, 6, 833, 14, 216], [40, 3, 170], [101, 192, 12, 253, 46, 139, 7, 95, 3, 134, 219, 1, 5, 25, 1, 110, 12, 1, 1, 3, 4, 409, 34, 81, 397, 35, 193, 69, 1, 240, 10, 119, 110, 109, 1, 323, 1], [185, 1, 37, 1, 5, 78, 89, 992, 10, 316, 144, 1, 3, 1, 10, 1, 461, 18, 182, 7, 1, 3, 1, 42, 262, 3, 46, 1, 3, 1, 3, 1, 9, 1], [86, 24, 5, 210, 14, 344, 73, 40, 37, 210, 23, 14, 515, 37, 344, 73, 33, 224, 344, 73, 1, 73, 224, 14, 33, 515, 1, 70, 214, 1, 21], [24, 5, 210, 226, 38, 161, 1, 100, 1, 1, 442, 386, 12, 421, 9, 546, 67, 114, 1, 100, 10, 807, 67, 166, 182, 165, 553, 100, 253, 1, 5, 33], [1, 423, 16, 147, 18, 1, 58, 656, 1, 561, 230, 7, 31, 563, 62, 24, 141, 743, 134, 1, 195, 1, 499, 1, 14, 1, 141, 18, 39, 1, 53, 16, 651, 964, 48, 76], [39, 13, 36, 884, 24, 230, 37, 103, 3, 38, 8, 33, 1, 37, 62, 185, 23, 3, 35, 37, 135, 19, 45, 50], [86, 24, 5, 210, 14, 344, 73, 40, 37, 210, 23, 14, 515, 37, 344, 73, 33, 224, 344, 73, 1, 73, 224, 14, 33, 515, 1, 70, 214, 1, 21], [24, 5, 210, 226, 38, 161, 1, 100, 1, 1, 442, 386, 12, 421, 9, 546, 67, 114, 1, 100, 10, 807, 67, 166, 182, 165, 553, 100, 253, 1, 5, 33], [1, 423, 16, 147, 18, 1, 58, 656, 1, 561, 230, 7, 31, 563, 62, 24, 141, 743, 134, 1, 195, 1, 499, 1, 14, 1, 141, 18, 39, 1, 53, 16, 651, 964, 48, 76], [1, 749, 30, 1, 1, 5, 21, 155, 230, 21, 7, 274, 67, 1, 568, 3, 120, 21, 151, 5, 3, 1, 103, 157, 9, 134, 67, 203, 955, 49, 161, 119, 21, 507, 1, 10, 24, 5, 407, 35, 119, 67, 44, 17, 1, 9, 24, 5], [52, 1, 37, 24, 3, 38, 6, 413, 458, 987, 10, 1, 6, 38, 3, 1, 106, 316, 1, 730, 9, 38, 525, 774, 1, 141, 91, 392, 6, 300, 3, 1, 1, 735, 10, 178, 362, 436, 1, 1, 129, 6, 1, 136, 478, 1, 1, 1, 1, 42, 126, 11, 1, 129], [1, 3, 9, 723, 61, 2, 498, 1, 61, 194, 1, 194, 400, 8, 764, 1, 14, 768, 6, 259, 592, 603], [1, 3, 368, 1, 178, 119, 17, 14, 80, 9, 135, 263, 107, 1, 28, 408, 539, 198], [55, 1, 912, 269, 5, 350, 6, 76, 19, 1, 389, 62, 1, 1, 844, 1, 1, 271, 12, 389, 114, 6, 601, 1], [1, 1, 69, 794, 287, 8, 96, 34, 1, 1, 5, 3, 22, 8, 1, 173, 6, 62, 3, 151, 5, 104, 6, 32, 14, 6, 169, 115, 417], [962, 24, 5, 73, 38, 1, 240, 83, 21, 1, 67, 1], [1, 3, 9, 723, 61, 2, 498, 1, 61, 194, 1, 194, 400, 8, 764, 1, 14, 768, 6, 259, 592, 603], [1, 3, 368, 1, 178, 119, 17, 14, 80, 9, 135, 263, 107, 1, 28, 408, 539, 198], [1, 127], [80, 17, 22, 6, 399, 222, 1, 6, 135, 11, 68, 946, 15, 1, 26, 20, 1, 164, 15, 242, 92, 4, 704, 1, 10, 1, 1, 26, 20, 19, 1, 99, 1, 8, 164, 1, 29, 605, 102, 57, 532, 13, 1, 62, 1, 4, 88, 93, 62, 858, 254, 13, 746, 610, 18, 589, 7, 746, 219, 237, 665, 44, 1, 499, 784, 87, 6, 997, 699, 173, 58, 63, 602], [38, 3, 24, 5, 1, 10, 1, 14, 1, 203, 1, 44, 21, 6, 41], [1, 24, 5, 21, 159, 746, 28, 9, 38, 210, 14, 1, 193, 69, 145, 21, 1, 100, 87, 646, 103, 151, 118, 9, 1, 67], [24, 1, 746, 28, 38, 389, 58, 908, 1, 1, 69, 1, 907, 240, 1], [149, 49, 7, 95, 3, 134, 219, 109, 1, 122, 117, 7, 217, 28, 80, 12, 311, 1, 12, 17], [149, 49, 3, 46, 909, 25], [237, 9, 62, 7, 389, 195, 62, 10, 420, 156, 7, 24, 5, 73, 8, 159, 516, 28, 9, 38, 210, 8, 73, 1, 1, 3, 1, 362, 221, 4, 97, 78, 139, 7, 215, 10, 73, 675, 21, 1, 5, 10, 76, 1, 80, 35, 111, 17, 7, 1, 8, 136, 115, 35, 114, 233, 700, 62, 5, 225, 12, 37, 1, 516, 42, 78, 54, 1, 3, 1, 993, 9, 602, 321, 367, 6, 709, 926, 1, 6, 1, 927], [173, 9, 62, 6, 210, 1, 110, 6, 438, 165, 997, 28, 230, 9, 62, 6, 73, 3, 1, 3, 134, 67, 4, 88, 389, 62, 28, 601, 25, 44, 134, 67, 237, 21, 155, 6, 438, 165, 1, 534, 722, 3, 1, 10, 1, 602, 240, 67, 21, 1, 221, 735, 1, 14, 1], [20, 1, 61, 2, 31, 116, 2, 62, 4, 88, 19, 2, 516, 13, 20, 189, 61, 2, 403, 3, 38, 33, 5, 374, 85, 1, 5, 265, 6, 977, 5, 214, 125, 1, 53, 39, 16, 23, 35, 82, 33, 5, 374, 154], [], [4, 302, 34, 747, 162, 7, 3, 115, 45, 29, 748, 516, 114, 17, 35, 108, 12, 354, 35, 7, 212, 216, 7, 1, 115, 4, 43, 34, 961, 25, 17, 26, 4, 74, 132, 747, 778, 39, 43, 36, 177, 69, 904], [4, 105, 116, 2, 149, 49, 4, 88, 159, 8, 124, 555, 57, 210, 509, 797, 1, 1, 8, 124, 490, 20, 1, 18, 46, 348, 3, 149, 49, 9, 1, 219], [4, 302, 34, 747, 162, 7, 3, 115, 45, 29, 748, 516, 114, 17, 35, 108, 12, 354, 35, 7, 212, 216, 7, 1, 115, 4, 43, 34, 961, 25, 17, 26, 4, 74, 132, 747, 778, 39, 43, 36, 177, 69, 904], [516, 21, 3, 131, 748, 151, 5, 593, 134, 67, 46, 748, 474, 1, 25, 1, 1, 200, 21, 328, 395], [159, 49, 21, 24, 5, 1, 33, 21, 210, 1, 3, 24, 5, 3, 21, 277, 777, 21, 857], [9, 24, 5, 159, 593, 38, 293, 196, 5, 155, 839], [9, 24, 5, 159, 38, 257, 49, 1, 12, 54, 6, 63, 1, 5, 159, 9, 1, 480, 34, 547, 1, 1, 1, 110, 1, 5, 1, 5, 6, 24], [4, 88, 159, 38, 257, 49], [607], [4, 24, 101, 1, 8, 4, 481, 98, 53, 11, 126, 1, 1, 26, 2, 75, 79, 1, 4, 138, 116, 72, 1, 8, 1, 16, 431, 20, 1, 61, 57, 409, 36, 327, 99, 249, 57, 2, 218, 654, 75], [9, 273, 38, 157, 257, 103, 25, 151, 5, 159, 38, 444], [175, 54, 6, 24, 5, 131, 192, 35, 4, 88, 389, 110, 35, 1, 5, 82, 7, 38, 601, 222, 3, 100, 244, 765, 87, 464, 12]]\n"
          ]
        }
      ]
    },
    {
      "cell_type": "markdown",
      "source": [
        "## 3. Pad the data"
      ],
      "metadata": {
        "id": "BLyaDf-_MojG"
      }
    },
    {
      "cell_type": "code",
      "source": [
        "padded = pad_sequences(sequences,maxlen=max_length, padding=padding_type,\n",
        "                       truncating=trunc_type)\n",
        "training_padded = pad_sequences(training_sequences, maxlen=max_length, padding=padding_type, truncating=trunc_type)\n",
        "testing_padded = pad_sequences(testing_sequences, maxlen=max_length, padding=padding_type, truncating=trunc_type)\n",
        "print(padded)"
      ],
      "metadata": {
        "id": "bKP6XJLwMxNL",
        "colab": {
          "base_uri": "https://localhost:8080/"
        },
        "outputId": "e224d9ea-c058-4469-f867-5e74f30e466f"
      },
      "execution_count": 345,
      "outputs": [
        {
          "output_type": "stream",
          "name": "stdout",
          "text": [
            "[[749  80   1 ...   0   0   0]\n",
            " [ 42   1 517 ...   0   0   0]\n",
            " [ 94 126  11 ...   0   0   0]\n",
            " ...\n",
            " [  4  24 101 ...   0   0   0]\n",
            " [  9 273  38 ...   0   0   0]\n",
            " [175  54   6 ...   0   0   0]]\n"
          ]
        }
      ]
    },
    {
      "cell_type": "markdown",
      "source": [
        "## 4. Train a sentiment model"
      ],
      "metadata": {
        "id": "RTU0X3wtMyIE"
      }
    },
    {
      "cell_type": "code",
      "source": [
        "model = tf.keras.Sequential([\n",
        "    tf.keras.layers.Embedding(vocab_size, embedding_dim, input_length=max_length),\n",
        "    tf.keras.layers.GlobalAveragePooling1D(),\n",
        "    tf.keras.layers.Dense(6, activation='relu'),\n",
        "    tf.keras.layers.Dense(6, activation='relu'),\n",
        "    tf.keras.layers.Dense(6, activation='relu'),\n",
        "    tf.keras.layers.Dense(1, activation='sigmoid')\n",
        "])\n",
        "model.compile(loss='binary_crossentropy',optimizer='adam',metrics=['accuracy'])\n",
        "model.summary()"
      ],
      "metadata": {
        "id": "_rK5pEDnM2lA",
        "colab": {
          "base_uri": "https://localhost:8080/"
        },
        "outputId": "d602f38c-be97-4a45-d024-c9212dffcaf9"
      },
      "execution_count": 346,
      "outputs": [
        {
          "output_type": "stream",
          "name": "stdout",
          "text": [
            "Model: \"sequential_26\"\n",
            "_________________________________________________________________\n",
            " Layer (type)                Output Shape              Param #   \n",
            "=================================================================\n",
            " embedding_26 (Embedding)    (None, 100, 16)           16000     \n",
            "                                                                 \n",
            " global_average_pooling1d_2  (None, 16)                0         \n",
            " 6 (GlobalAveragePooling1D)                                      \n",
            "                                                                 \n",
            " dense_77 (Dense)            (None, 6)                 102       \n",
            "                                                                 \n",
            " dense_78 (Dense)            (None, 6)                 42        \n",
            "                                                                 \n",
            " dense_79 (Dense)            (None, 6)                 42        \n",
            "                                                                 \n",
            " dense_80 (Dense)            (None, 1)                 7         \n",
            "                                                                 \n",
            "=================================================================\n",
            "Total params: 16193 (63.25 KB)\n",
            "Trainable params: 16193 (63.25 KB)\n",
            "Non-trainable params: 0 (0.00 Byte)\n",
            "_________________________________________________________________\n"
          ]
        }
      ]
    },
    {
      "cell_type": "code",
      "source": [
        "num_epochs = 30\n",
        "history = model.fit(training_padded, training_labels_final, epochs=num_epochs, validation_data=(testing_padded, testing_labels_final))"
      ],
      "metadata": {
        "colab": {
          "base_uri": "https://localhost:8080/"
        },
        "id": "dkFXrbsUVyn3",
        "outputId": "6b94a3b6-4526-4432-df66-3a9048736255"
      },
      "execution_count": 347,
      "outputs": [
        {
          "output_type": "stream",
          "name": "stdout",
          "text": [
            "Epoch 1/30\n",
            "25/25 [==============================] - 4s 106ms/step - loss: 0.6844 - accuracy: 0.6950 - val_loss: 0.7140 - val_accuracy: 0.3234\n",
            "Epoch 2/30\n",
            "25/25 [==============================] - 2s 66ms/step - loss: 0.6617 - accuracy: 0.6950 - val_loss: 0.7508 - val_accuracy: 0.3234\n",
            "Epoch 3/30\n",
            "25/25 [==============================] - 1s 58ms/step - loss: 0.6365 - accuracy: 0.6950 - val_loss: 0.8113 - val_accuracy: 0.3234\n",
            "Epoch 4/30\n",
            "25/25 [==============================] - 1s 52ms/step - loss: 0.6175 - accuracy: 0.6950 - val_loss: 0.8823 - val_accuracy: 0.3234\n",
            "Epoch 5/30\n",
            "25/25 [==============================] - 1s 49ms/step - loss: 0.6090 - accuracy: 0.6950 - val_loss: 0.9125 - val_accuracy: 0.3234\n",
            "Epoch 6/30\n",
            "25/25 [==============================] - 1s 42ms/step - loss: 0.6058 - accuracy: 0.6950 - val_loss: 0.9204 - val_accuracy: 0.3234\n",
            "Epoch 7/30\n",
            "25/25 [==============================] - 0s 16ms/step - loss: 0.6035 - accuracy: 0.6950 - val_loss: 0.9250 - val_accuracy: 0.3234\n",
            "Epoch 8/30\n",
            "25/25 [==============================] - 1s 24ms/step - loss: 0.5998 - accuracy: 0.6950 - val_loss: 0.9056 - val_accuracy: 0.3234\n",
            "Epoch 9/30\n",
            "25/25 [==============================] - 0s 13ms/step - loss: 0.5955 - accuracy: 0.6950 - val_loss: 0.9104 - val_accuracy: 0.3234\n",
            "Epoch 10/30\n",
            "25/25 [==============================] - 1s 18ms/step - loss: 0.5906 - accuracy: 0.6950 - val_loss: 0.9115 - val_accuracy: 0.3234\n",
            "Epoch 11/30\n",
            "25/25 [==============================] - 1s 25ms/step - loss: 0.5848 - accuracy: 0.6950 - val_loss: 0.9030 - val_accuracy: 0.3234\n",
            "Epoch 12/30\n",
            "25/25 [==============================] - 1s 27ms/step - loss: 0.5755 - accuracy: 0.6950 - val_loss: 0.8952 - val_accuracy: 0.3234\n",
            "Epoch 13/30\n",
            "25/25 [==============================] - 1s 39ms/step - loss: 0.5634 - accuracy: 0.6950 - val_loss: 0.8839 - val_accuracy: 0.3234\n",
            "Epoch 14/30\n",
            "25/25 [==============================] - 0s 16ms/step - loss: 0.5487 - accuracy: 0.6950 - val_loss: 0.8688 - val_accuracy: 0.3234\n",
            "Epoch 15/30\n",
            "25/25 [==============================] - 0s 16ms/step - loss: 0.5274 - accuracy: 0.6950 - val_loss: 0.8287 - val_accuracy: 0.3234\n",
            "Epoch 16/30\n",
            "25/25 [==============================] - 0s 9ms/step - loss: 0.4880 - accuracy: 0.7337 - val_loss: 0.8352 - val_accuracy: 0.3483\n",
            "Epoch 17/30\n",
            "25/25 [==============================] - 1s 21ms/step - loss: 0.4530 - accuracy: 0.7763 - val_loss: 0.7685 - val_accuracy: 0.3980\n",
            "Epoch 18/30\n",
            "25/25 [==============================] - 0s 10ms/step - loss: 0.4154 - accuracy: 0.8188 - val_loss: 0.8164 - val_accuracy: 0.4129\n",
            "Epoch 19/30\n",
            "25/25 [==============================] - 0s 10ms/step - loss: 0.3828 - accuracy: 0.8450 - val_loss: 0.8184 - val_accuracy: 0.4378\n",
            "Epoch 20/30\n",
            "25/25 [==============================] - 0s 13ms/step - loss: 0.3477 - accuracy: 0.8625 - val_loss: 0.7815 - val_accuracy: 0.4925\n",
            "Epoch 21/30\n",
            "25/25 [==============================] - 0s 5ms/step - loss: 0.3200 - accuracy: 0.8975 - val_loss: 0.8248 - val_accuracy: 0.4925\n",
            "Epoch 22/30\n",
            "25/25 [==============================] - 0s 5ms/step - loss: 0.2967 - accuracy: 0.8825 - val_loss: 0.7002 - val_accuracy: 0.5920\n",
            "Epoch 23/30\n",
            "25/25 [==============================] - 0s 9ms/step - loss: 0.2734 - accuracy: 0.9062 - val_loss: 0.7419 - val_accuracy: 0.5821\n",
            "Epoch 24/30\n",
            "25/25 [==============================] - 0s 9ms/step - loss: 0.2530 - accuracy: 0.9162 - val_loss: 0.7783 - val_accuracy: 0.5821\n",
            "Epoch 25/30\n",
            "25/25 [==============================] - 0s 5ms/step - loss: 0.2357 - accuracy: 0.9200 - val_loss: 0.7656 - val_accuracy: 0.6020\n",
            "Epoch 26/30\n",
            "25/25 [==============================] - 0s 5ms/step - loss: 0.2235 - accuracy: 0.9300 - val_loss: 0.8897 - val_accuracy: 0.5522\n",
            "Epoch 27/30\n",
            "25/25 [==============================] - 0s 9ms/step - loss: 0.2071 - accuracy: 0.9262 - val_loss: 0.7076 - val_accuracy: 0.6517\n",
            "Epoch 28/30\n",
            "25/25 [==============================] - 0s 5ms/step - loss: 0.1983 - accuracy: 0.9375 - val_loss: 0.7288 - val_accuracy: 0.6468\n",
            "Epoch 29/30\n",
            "25/25 [==============================] - 0s 17ms/step - loss: 0.1837 - accuracy: 0.9375 - val_loss: 0.8367 - val_accuracy: 0.6219\n",
            "Epoch 30/30\n",
            "25/25 [==============================] - 0s 12ms/step - loss: 0.1725 - accuracy: 0.9438 - val_loss: 0.9552 - val_accuracy: 0.5970\n"
          ]
        }
      ]
    },
    {
      "cell_type": "markdown",
      "source": [
        "## Get files for visualing the network"
      ],
      "metadata": {
        "id": "CNjOxlmhNNp8"
      }
    },
    {
      "cell_type": "code",
      "source": [
        "# First get the weights of the embedding layer\n",
        "e = model.layers[0]\n",
        "weights = e.get_weights()[0]\n",
        "print(weights.shape) # shape: (vocab_size, embedding_dim)"
      ],
      "metadata": {
        "id": "TcLIumAPNQ5W",
        "colab": {
          "base_uri": "https://localhost:8080/"
        },
        "outputId": "af43bb59-314b-4148-c275-f225264e8214"
      },
      "execution_count": 348,
      "outputs": [
        {
          "output_type": "stream",
          "name": "stdout",
          "text": [
            "(1000, 16)\n"
          ]
        }
      ]
    },
    {
      "cell_type": "code",
      "source": [
        "import io\n",
        "\n",
        "# Create the reverse word index\n",
        "reverse_word_index = dict([(value, key) for (key, value) in word_index.items()])\n",
        "\n",
        "# Write out the embedding vectors and metadata\n",
        "out_v = io.open('vecs.tsv', 'w', encoding='utf-8')\n",
        "out_m = io.open('meta.tsv', 'w', encoding='utf-8')\n",
        "for word_num in range(1, vocab_size):\n",
        "  word = reverse_word_index[word_num]\n",
        "  embeddings = weights[word_num]\n",
        "  out_m.write(word + \"\\n\")\n",
        "  out_v.write('\\t'.join([str(x) for x in embeddings]) + \"\\n\")\n",
        "out_v.close()\n",
        "out_m.close()"
      ],
      "metadata": {
        "id": "ijHopnEaXNFO"
      },
      "execution_count": 349,
      "outputs": []
    },
    {
      "cell_type": "code",
      "source": [
        "# Download the files\n",
        "try:\n",
        "  from google.colab import files\n",
        "except ImportError:\n",
        "  pass\n",
        "else:\n",
        "  files.download('vecs.tsv')\n",
        "  files.download('meta.tsv')"
      ],
      "metadata": {
        "colab": {
          "base_uri": "https://localhost:8080/",
          "height": 17
        },
        "id": "4-Auixh8XUnF",
        "outputId": "e705aa78-c369-45fc-97dc-061b7151f0a1"
      },
      "execution_count": 350,
      "outputs": [
        {
          "output_type": "display_data",
          "data": {
            "text/plain": [
              "<IPython.core.display.Javascript object>"
            ],
            "application/javascript": [
              "\n",
              "    async function download(id, filename, size) {\n",
              "      if (!google.colab.kernel.accessAllowed) {\n",
              "        return;\n",
              "      }\n",
              "      const div = document.createElement('div');\n",
              "      const label = document.createElement('label');\n",
              "      label.textContent = `Downloading \"${filename}\": `;\n",
              "      div.appendChild(label);\n",
              "      const progress = document.createElement('progress');\n",
              "      progress.max = size;\n",
              "      div.appendChild(progress);\n",
              "      document.body.appendChild(div);\n",
              "\n",
              "      const buffers = [];\n",
              "      let downloaded = 0;\n",
              "\n",
              "      const channel = await google.colab.kernel.comms.open(id);\n",
              "      // Send a message to notify the kernel that we're ready.\n",
              "      channel.send({})\n",
              "\n",
              "      for await (const message of channel.messages) {\n",
              "        // Send a message to notify the kernel that we're ready.\n",
              "        channel.send({})\n",
              "        if (message.buffers) {\n",
              "          for (const buffer of message.buffers) {\n",
              "            buffers.push(buffer);\n",
              "            downloaded += buffer.byteLength;\n",
              "            progress.value = downloaded;\n",
              "          }\n",
              "        }\n",
              "      }\n",
              "      const blob = new Blob(buffers, {type: 'application/binary'});\n",
              "      const a = document.createElement('a');\n",
              "      a.href = window.URL.createObjectURL(blob);\n",
              "      a.download = filename;\n",
              "      div.appendChild(a);\n",
              "      a.click();\n",
              "      div.remove();\n",
              "    }\n",
              "  "
            ]
          },
          "metadata": {}
        },
        {
          "output_type": "display_data",
          "data": {
            "text/plain": [
              "<IPython.core.display.Javascript object>"
            ],
            "application/javascript": [
              "download(\"download_99e39c5b-8414-4acd-b93e-8831591b5f60\", \"vecs.tsv\", 183657)"
            ]
          },
          "metadata": {}
        },
        {
          "output_type": "display_data",
          "data": {
            "text/plain": [
              "<IPython.core.display.Javascript object>"
            ],
            "application/javascript": [
              "\n",
              "    async function download(id, filename, size) {\n",
              "      if (!google.colab.kernel.accessAllowed) {\n",
              "        return;\n",
              "      }\n",
              "      const div = document.createElement('div');\n",
              "      const label = document.createElement('label');\n",
              "      label.textContent = `Downloading \"${filename}\": `;\n",
              "      div.appendChild(label);\n",
              "      const progress = document.createElement('progress');\n",
              "      progress.max = size;\n",
              "      div.appendChild(progress);\n",
              "      document.body.appendChild(div);\n",
              "\n",
              "      const buffers = [];\n",
              "      let downloaded = 0;\n",
              "\n",
              "      const channel = await google.colab.kernel.comms.open(id);\n",
              "      // Send a message to notify the kernel that we're ready.\n",
              "      channel.send({})\n",
              "\n",
              "      for await (const message of channel.messages) {\n",
              "        // Send a message to notify the kernel that we're ready.\n",
              "        channel.send({})\n",
              "        if (message.buffers) {\n",
              "          for (const buffer of message.buffers) {\n",
              "            buffers.push(buffer);\n",
              "            downloaded += buffer.byteLength;\n",
              "            progress.value = downloaded;\n",
              "          }\n",
              "        }\n",
              "      }\n",
              "      const blob = new Blob(buffers, {type: 'application/binary'});\n",
              "      const a = document.createElement('a');\n",
              "      a.href = window.URL.createObjectURL(blob);\n",
              "      a.download = filename;\n",
              "      div.appendChild(a);\n",
              "      a.click();\n",
              "      div.remove();\n",
              "    }\n",
              "  "
            ]
          },
          "metadata": {}
        },
        {
          "output_type": "display_data",
          "data": {
            "text/plain": [
              "<IPython.core.display.Javascript object>"
            ],
            "application/javascript": [
              "download(\"download_7c0f6dbd-f8f7-4eb0-a5ba-8aa85df14c71\", \"meta.tsv\", 6014)"
            ]
          },
          "metadata": {}
        }
      ]
    },
    {
      "cell_type": "markdown",
      "source": [
        "## 5. Predict sentiment with new reviews"
      ],
      "metadata": {
        "id": "KmGupN3hM-C4"
      }
    },
    {
      "cell_type": "code",
      "source": [
        "# Use the model to predict a review\n",
        "fake_reviews = ['not good','pangit cable','Mabaho yung cable','Hindi masaya yung cable','Hindi maganda yung service','Ayoko sa cable','Walang lasa yung tubig',\n",
        "                'Hindi delicious yung food','Hindi worth yung cable','sometimes pangit yung cable','not great cable','Sobrang Maganda','cuteness overload, thank you']\n",
        "\n",
        "print(fake_reviews)\n",
        "\n",
        "# Create the sequences\n",
        "padding_type='post'\n",
        "sample_sequences = tokenizer.texts_to_sequences(fake_reviews)\n",
        "fakes_padded = pad_sequences(sample_sequences, padding=padding_type, maxlen=max_length)\n",
        "\n",
        "print('\\nHOT OFF THE PRESS! HERE ARE SOME NEWLY MINTED, ABSOLUTELY GENUINE REVIEWS!\\n')\n",
        "\n",
        "classes = model.predict(fakes_padded)\n",
        "\n",
        "# The closer the class is to 1, the more positive the review is deemed to be\n",
        "for x in range(len(fake_reviews)):\n",
        "  print(fake_reviews[x])\n",
        "  print(classes[x])\n",
        "  print('\\n')\n",
        "\n",
        "# Try adding reviews of your own\n",
        "# Add some negative words (such as \"not\") to the good reviews and see what happens\n",
        "# For example:\n",
        "# they gave us free chocolate cake and did not charge us"
      ],
      "metadata": {
        "id": "FLQFHUCJNBNA",
        "colab": {
          "base_uri": "https://localhost:8080/"
        },
        "outputId": "110d5101-3879-42c3-9544-98a6adc275f7"
      },
      "execution_count": 351,
      "outputs": [
        {
          "output_type": "stream",
          "name": "stdout",
          "text": [
            "['not good', 'pangit cable', 'Mabaho yung cable', 'Hindi masaya yung cable', 'Hindi maganda yung service', 'Ayoko sa cable', 'Walang lasa yung tubig', 'Hindi delicious yung food', 'Hindi worth yung cable', 'sometimes pangit yung cable', 'not great cable', 'Sobrang Maganda', 'cuteness overload, thank you']\n",
            "\n",
            "HOT OFF THE PRESS! HERE ARE SOME NEWLY MINTED, ABSOLUTELY GENUINE REVIEWS!\n",
            "\n",
            "1/1 [==============================] - 0s 62ms/step\n",
            "not good\n",
            "[0.67832327]\n",
            "\n",
            "\n",
            "pangit cable\n",
            "[0.4881311]\n",
            "\n",
            "\n",
            "Mabaho yung cable\n",
            "[0.52611256]\n",
            "\n",
            "\n",
            "Hindi masaya yung cable\n",
            "[0.41050237]\n",
            "\n",
            "\n",
            "Hindi maganda yung service\n",
            "[0.6964706]\n",
            "\n",
            "\n",
            "Ayoko sa cable\n",
            "[0.5677738]\n",
            "\n",
            "\n",
            "Walang lasa yung tubig\n",
            "[0.59285796]\n",
            "\n",
            "\n",
            "Hindi delicious yung food\n",
            "[0.5578976]\n",
            "\n",
            "\n",
            "Hindi worth yung cable\n",
            "[0.43935174]\n",
            "\n",
            "\n",
            "sometimes pangit yung cable\n",
            "[0.4598844]\n",
            "\n",
            "\n",
            "not great cable\n",
            "[0.5775392]\n",
            "\n",
            "\n",
            "Sobrang Maganda\n",
            "[0.7842354]\n",
            "\n",
            "\n",
            "cuteness overload, thank you\n",
            "[0.95175904]\n",
            "\n",
            "\n"
          ]
        }
      ]
    }
  ],
  "metadata": {
    "accelerator": "GPU",
    "colab": {
      "provenance": [],
      "include_colab_link": true
    },
    "kernelspec": {
      "display_name": "Python 3",
      "name": "python3"
    }
  },
  "nbformat": 4,
  "nbformat_minor": 0
}