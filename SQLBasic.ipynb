{
  "cells": [
    {
      "cell_type": "markdown",
      "metadata": {
        "id": "view-in-github",
        "colab_type": "text"
      },
      "source": [
        "<a href=\"https://colab.research.google.com/github/sherdonesquejo/CCDEPLRL_EXERCISES_-COM211-/blob/main/SQLBasic.ipynb\" target=\"_parent\"><img src=\"https://colab.research.google.com/assets/colab-badge.svg\" alt=\"Open In Colab\"/></a>"
      ]
    },
    {
      "cell_type": "markdown",
      "metadata": {
        "id": "W8yL6A0WMZiT"
      },
      "source": [
        "### **Basic SQL**"
      ]
    },
    {
      "cell_type": "markdown",
      "source": [
        "<font color=\"red\">File access required:</font> In Colab this notebook requires first uploading files **Cities.csv**, **Countries.csv**, **Players.csv**, and **Teams.csv** using the *Files* feature in the left toolbar. If running the notebook on a local computer, simply ensure these files are in the same workspace as the notebook."
      ],
      "metadata": {
        "id": "WfiM3utWx247"
      }
    },
    {
      "cell_type": "code",
      "source": [
        "!pip install prettytable==0.7.2\n",
        "!pip install ipython-sql"
      ],
      "metadata": {
        "colab": {
          "base_uri": "https://localhost:8080/",
          "height": 0
        },
        "id": "m2cr_MxzUyWT",
        "outputId": "ae777fab-e453-4220-bf89-62a1493b3411"
      },
      "execution_count": 157,
      "outputs": [
        {
          "output_type": "stream",
          "name": "stdout",
          "text": [
            "Requirement already satisfied: prettytable==0.7.2 in /usr/local/lib/python3.10/dist-packages (0.7.2)\n",
            "Requirement already satisfied: ipython-sql in /usr/local/lib/python3.10/dist-packages (0.5.0)\n",
            "Requirement already satisfied: prettytable in /usr/local/lib/python3.10/dist-packages (from ipython-sql) (0.7.2)\n",
            "Requirement already satisfied: ipython in /usr/local/lib/python3.10/dist-packages (from ipython-sql) (7.34.0)\n",
            "Requirement already satisfied: sqlalchemy>=2.0 in /usr/local/lib/python3.10/dist-packages (from ipython-sql) (2.0.36)\n",
            "Requirement already satisfied: sqlparse in /usr/local/lib/python3.10/dist-packages (from ipython-sql) (0.5.3)\n",
            "Requirement already satisfied: six in /usr/local/lib/python3.10/dist-packages (from ipython-sql) (1.17.0)\n",
            "Requirement already satisfied: ipython-genutils in /usr/local/lib/python3.10/dist-packages (from ipython-sql) (0.2.0)\n",
            "Requirement already satisfied: typing-extensions>=4.6.0 in /usr/local/lib/python3.10/dist-packages (from sqlalchemy>=2.0->ipython-sql) (4.12.2)\n",
            "Requirement already satisfied: greenlet!=0.4.17 in /usr/local/lib/python3.10/dist-packages (from sqlalchemy>=2.0->ipython-sql) (3.1.1)\n",
            "Requirement already satisfied: setuptools>=18.5 in /usr/local/lib/python3.10/dist-packages (from ipython->ipython-sql) (75.1.0)\n",
            "Requirement already satisfied: jedi>=0.16 in /usr/local/lib/python3.10/dist-packages (from ipython->ipython-sql) (0.19.2)\n",
            "Requirement already satisfied: decorator in /usr/local/lib/python3.10/dist-packages (from ipython->ipython-sql) (4.4.2)\n",
            "Requirement already satisfied: pickleshare in /usr/local/lib/python3.10/dist-packages (from ipython->ipython-sql) (0.7.5)\n",
            "Requirement already satisfied: traitlets>=4.2 in /usr/local/lib/python3.10/dist-packages (from ipython->ipython-sql) (5.7.1)\n",
            "Requirement already satisfied: prompt-toolkit!=3.0.0,!=3.0.1,<3.1.0,>=2.0.0 in /usr/local/lib/python3.10/dist-packages (from ipython->ipython-sql) (3.0.48)\n",
            "Requirement already satisfied: pygments in /usr/local/lib/python3.10/dist-packages (from ipython->ipython-sql) (2.18.0)\n",
            "Requirement already satisfied: backcall in /usr/local/lib/python3.10/dist-packages (from ipython->ipython-sql) (0.2.0)\n",
            "Requirement already satisfied: matplotlib-inline in /usr/local/lib/python3.10/dist-packages (from ipython->ipython-sql) (0.1.7)\n",
            "Requirement already satisfied: pexpect>4.3 in /usr/local/lib/python3.10/dist-packages (from ipython->ipython-sql) (4.9.0)\n",
            "Requirement already satisfied: parso<0.9.0,>=0.8.4 in /usr/local/lib/python3.10/dist-packages (from jedi>=0.16->ipython->ipython-sql) (0.8.4)\n",
            "Requirement already satisfied: ptyprocess>=0.5 in /usr/local/lib/python3.10/dist-packages (from pexpect>4.3->ipython->ipython-sql) (0.7.0)\n",
            "Requirement already satisfied: wcwidth in /usr/local/lib/python3.10/dist-packages (from prompt-toolkit!=3.0.0,!=3.0.1,<3.1.0,>=2.0.0->ipython->ipython-sql) (0.2.13)\n"
          ]
        }
      ]
    },
    {
      "cell_type": "code",
      "execution_count": 158,
      "metadata": {
        "id": "AY0V00I4MZiY",
        "colab": {
          "base_uri": "https://localhost:8080/",
          "height": 0
        },
        "outputId": "cd3a02eb-6ba2-4885-ac96-98f53cec84da"
      },
      "outputs": [
        {
          "output_type": "stream",
          "name": "stdout",
          "text": [
            "The sql extension is already loaded. To reload it, use:\n",
            "  %reload_ext sql\n"
          ]
        }
      ],
      "source": [
        "# Set-up\n",
        "%load_ext sql\n",
        "%sql sqlite://\n",
        "import pandas as pd"
      ]
    },
    {
      "cell_type": "code",
      "execution_count": 159,
      "metadata": {
        "id": "j3675wYXMZia",
        "colab": {
          "base_uri": "https://localhost:8080/",
          "height": 140
        },
        "outputId": "20e0128b-cd63-4f97-ed37-9d731a776424"
      },
      "outputs": [
        {
          "output_type": "stream",
          "name": "stdout",
          "text": [
            " * sqlite://\n",
            "Done.\n",
            " * sqlite://\n",
            " * sqlite://\n",
            "Done.\n",
            " * sqlite://\n"
          ]
        },
        {
          "output_type": "execute_result",
          "data": {
            "text/plain": [
              "'Persisted countries'"
            ],
            "application/vnd.google.colaboratory.intrinsic+json": {
              "type": "string"
            }
          },
          "metadata": {},
          "execution_count": 159
        }
      ],
      "source": [
        "# Create database tables from CSV files\n",
        "with open('Cities.csv') as f: Cities = pd.read_csv(f, index_col=0)\n",
        "%sql drop table if exists Cities;\n",
        "%sql --persist Cities\n",
        "with open('Countries.csv') as f: Countries = pd.read_csv(f, index_col=0)\n",
        "%sql drop table if exists Countries;\n",
        "%sql --persist Countries"
      ]
    },
    {
      "cell_type": "markdown",
      "metadata": {
        "id": "xcwDLxOPMZia"
      },
      "source": [
        "#### Look at sample of Cities and Countries tables"
      ]
    },
    {
      "cell_type": "code",
      "execution_count": 160,
      "metadata": {
        "id": "gp94gFNoMZib",
        "colab": {
          "base_uri": "https://localhost:8080/",
          "height": 182
        },
        "outputId": "40749598-060c-493b-f0c3-1d3d23416d53"
      },
      "outputs": [
        {
          "output_type": "stream",
          "name": "stdout",
          "text": [
            " * sqlite://\n",
            "Done.\n"
          ]
        },
        {
          "output_type": "execute_result",
          "data": {
            "text/plain": [
              "[('Aalborg', 'Denmark', 57.03, 9.92, 7.52),\n",
              " ('Aberdeen', 'United Kingdom', 57.17, -2.08, 8.1),\n",
              " ('Abisko', 'Sweden', 63.35, 18.83, 0.2),\n",
              " ('Adana', 'Turkey', 36.99, 35.32, 18.67),\n",
              " ('Albacete', 'Spain', 39.0, -1.87, 12.62)]"
            ],
            "text/html": [
              "<table>\n",
              "    <tr>\n",
              "        <th>city</th>\n",
              "        <th>country</th>\n",
              "        <th>latitude</th>\n",
              "        <th>longitude</th>\n",
              "        <th>temperature</th>\n",
              "    </tr>\n",
              "    <tr>\n",
              "        <td>Aalborg</td>\n",
              "        <td>Denmark</td>\n",
              "        <td>57.03</td>\n",
              "        <td>9.92</td>\n",
              "        <td>7.52</td>\n",
              "    </tr>\n",
              "    <tr>\n",
              "        <td>Aberdeen</td>\n",
              "        <td>United Kingdom</td>\n",
              "        <td>57.17</td>\n",
              "        <td>-2.08</td>\n",
              "        <td>8.1</td>\n",
              "    </tr>\n",
              "    <tr>\n",
              "        <td>Abisko</td>\n",
              "        <td>Sweden</td>\n",
              "        <td>63.35</td>\n",
              "        <td>18.83</td>\n",
              "        <td>0.2</td>\n",
              "    </tr>\n",
              "    <tr>\n",
              "        <td>Adana</td>\n",
              "        <td>Turkey</td>\n",
              "        <td>36.99</td>\n",
              "        <td>35.32</td>\n",
              "        <td>18.67</td>\n",
              "    </tr>\n",
              "    <tr>\n",
              "        <td>Albacete</td>\n",
              "        <td>Spain</td>\n",
              "        <td>39.0</td>\n",
              "        <td>-1.87</td>\n",
              "        <td>12.62</td>\n",
              "    </tr>\n",
              "</table>"
            ]
          },
          "metadata": {},
          "execution_count": 160
        }
      ],
      "source": [
        "%%sql\n",
        "select * from Cities limit 5"
      ]
    },
    {
      "cell_type": "code",
      "execution_count": 161,
      "metadata": {
        "id": "05ek4NS5MZib",
        "colab": {
          "base_uri": "https://localhost:8080/",
          "height": 182
        },
        "outputId": "30a2f8dd-a4f2-4f18-9c19-9638f9dd05f3"
      },
      "outputs": [
        {
          "output_type": "stream",
          "name": "stdout",
          "text": [
            " * sqlite://\n",
            "Done.\n"
          ]
        },
        {
          "output_type": "execute_result",
          "data": {
            "text/plain": [
              "[('Albania', 2.9, 'no', 'yes'),\n",
              " ('Andorra', 0.07, 'no', 'no'),\n",
              " ('Austria', 8.57, 'yes', 'no'),\n",
              " ('Belarus', 9.48, 'no', 'no'),\n",
              " ('Belgium', 11.37, 'yes', 'yes')]"
            ],
            "text/html": [
              "<table>\n",
              "    <tr>\n",
              "        <th>country</th>\n",
              "        <th>population</th>\n",
              "        <th>EU</th>\n",
              "        <th>coastline</th>\n",
              "    </tr>\n",
              "    <tr>\n",
              "        <td>Albania</td>\n",
              "        <td>2.9</td>\n",
              "        <td>no</td>\n",
              "        <td>yes</td>\n",
              "    </tr>\n",
              "    <tr>\n",
              "        <td>Andorra</td>\n",
              "        <td>0.07</td>\n",
              "        <td>no</td>\n",
              "        <td>no</td>\n",
              "    </tr>\n",
              "    <tr>\n",
              "        <td>Austria</td>\n",
              "        <td>8.57</td>\n",
              "        <td>yes</td>\n",
              "        <td>no</td>\n",
              "    </tr>\n",
              "    <tr>\n",
              "        <td>Belarus</td>\n",
              "        <td>9.48</td>\n",
              "        <td>no</td>\n",
              "        <td>no</td>\n",
              "    </tr>\n",
              "    <tr>\n",
              "        <td>Belgium</td>\n",
              "        <td>11.37</td>\n",
              "        <td>yes</td>\n",
              "        <td>yes</td>\n",
              "    </tr>\n",
              "</table>"
            ]
          },
          "metadata": {},
          "execution_count": 161
        }
      ],
      "source": [
        "%%sql\n",
        "select * from Countries limit 5"
      ]
    },
    {
      "cell_type": "markdown",
      "metadata": {
        "id": "2BVOwkJ9MZib"
      },
      "source": [
        "### Basic Select statement\n",
        "Select columns  \n",
        "From tables  \n",
        "Where condition  "
      ]
    },
    {
      "cell_type": "markdown",
      "metadata": {
        "id": "PhbiLy9yMZic"
      },
      "source": [
        "*Find all countries not in the EU*"
      ]
    },
    {
      "cell_type": "code",
      "execution_count": 162,
      "metadata": {
        "id": "H1UrR_dPMZid",
        "colab": {
          "base_uri": "https://localhost:8080/",
          "height": 395
        },
        "outputId": "7fa64bad-7a2e-4e34-c5b4-1037a1aaed80"
      },
      "outputs": [
        {
          "output_type": "stream",
          "name": "stdout",
          "text": [
            " * sqlite://\n",
            "Done.\n"
          ]
        },
        {
          "output_type": "execute_result",
          "data": {
            "text/plain": [
              "[('Albania',),\n",
              " ('Andorra',),\n",
              " ('Belarus',),\n",
              " ('Bosnia and Herzegovina',),\n",
              " ('Iceland',),\n",
              " ('Kosovo',),\n",
              " ('Liechtenstein',),\n",
              " ('Macedonia',),\n",
              " ('Moldova',),\n",
              " ('Montenegro',),\n",
              " ('Norway',),\n",
              " ('Serbia',),\n",
              " ('Switzerland',),\n",
              " ('Turkey',),\n",
              " ('Ukraine',)]"
            ],
            "text/html": [
              "<table>\n",
              "    <tr>\n",
              "        <th>country</th>\n",
              "    </tr>\n",
              "    <tr>\n",
              "        <td>Albania</td>\n",
              "    </tr>\n",
              "    <tr>\n",
              "        <td>Andorra</td>\n",
              "    </tr>\n",
              "    <tr>\n",
              "        <td>Belarus</td>\n",
              "    </tr>\n",
              "    <tr>\n",
              "        <td>Bosnia and Herzegovina</td>\n",
              "    </tr>\n",
              "    <tr>\n",
              "        <td>Iceland</td>\n",
              "    </tr>\n",
              "    <tr>\n",
              "        <td>Kosovo</td>\n",
              "    </tr>\n",
              "    <tr>\n",
              "        <td>Liechtenstein</td>\n",
              "    </tr>\n",
              "    <tr>\n",
              "        <td>Macedonia</td>\n",
              "    </tr>\n",
              "    <tr>\n",
              "        <td>Moldova</td>\n",
              "    </tr>\n",
              "    <tr>\n",
              "        <td>Montenegro</td>\n",
              "    </tr>\n",
              "    <tr>\n",
              "        <td>Norway</td>\n",
              "    </tr>\n",
              "    <tr>\n",
              "        <td>Serbia</td>\n",
              "    </tr>\n",
              "    <tr>\n",
              "        <td>Switzerland</td>\n",
              "    </tr>\n",
              "    <tr>\n",
              "        <td>Turkey</td>\n",
              "    </tr>\n",
              "    <tr>\n",
              "        <td>Ukraine</td>\n",
              "    </tr>\n",
              "</table>"
            ]
          },
          "metadata": {},
          "execution_count": 162
        }
      ],
      "source": [
        "%%sql\n",
        "select country\n",
        "from Countries\n",
        "where EU = 'no'"
      ]
    },
    {
      "cell_type": "markdown",
      "metadata": {
        "id": "1UH8ocwLMZid"
      },
      "source": [
        "*Find all cities with temperature between -5 and 5; return city, country, and temperature*"
      ]
    },
    {
      "cell_type": "code",
      "execution_count": 163,
      "metadata": {
        "id": "7BpzAGMNMZie",
        "colab": {
          "base_uri": "https://localhost:8080/",
          "height": 438
        },
        "outputId": "15cdc559-9cdb-4cd2-9289-97a845a0349f"
      },
      "outputs": [
        {
          "output_type": "stream",
          "name": "stdout",
          "text": [
            " * sqlite://\n",
            "Done.\n"
          ]
        },
        {
          "output_type": "execute_result",
          "data": {
            "text/plain": [
              "[('Abisko', 'Sweden', 0.2),\n",
              " ('Augsburg', 'Germany', 4.54),\n",
              " ('Bergen', 'Norway', 1.75),\n",
              " ('Bodo', 'Norway', 4.5),\n",
              " ('Helsinki', 'Finland', 4.19),\n",
              " ('Innsbruck', 'Austria', 4.54),\n",
              " ('Kiruna', 'Sweden', -2.2),\n",
              " ('Orsha', 'Belarus', 4.93),\n",
              " ('Oslo', 'Norway', 2.32),\n",
              " ('Oulu', 'Finland', 1.45),\n",
              " ('Salzburg', 'Austria', 4.62),\n",
              " ('Tallinn', 'Estonia', 4.82),\n",
              " ('Tampere', 'Finland', 3.59),\n",
              " ('Tartu', 'Estonia', 4.36),\n",
              " ('Trondheim', 'Norway', 4.53),\n",
              " ('Turku', 'Finland', 4.72),\n",
              " ('Uppsala', 'Sweden', 4.17)]"
            ],
            "text/html": [
              "<table>\n",
              "    <tr>\n",
              "        <th>city</th>\n",
              "        <th>country</th>\n",
              "        <th>temperature</th>\n",
              "    </tr>\n",
              "    <tr>\n",
              "        <td>Abisko</td>\n",
              "        <td>Sweden</td>\n",
              "        <td>0.2</td>\n",
              "    </tr>\n",
              "    <tr>\n",
              "        <td>Augsburg</td>\n",
              "        <td>Germany</td>\n",
              "        <td>4.54</td>\n",
              "    </tr>\n",
              "    <tr>\n",
              "        <td>Bergen</td>\n",
              "        <td>Norway</td>\n",
              "        <td>1.75</td>\n",
              "    </tr>\n",
              "    <tr>\n",
              "        <td>Bodo</td>\n",
              "        <td>Norway</td>\n",
              "        <td>4.5</td>\n",
              "    </tr>\n",
              "    <tr>\n",
              "        <td>Helsinki</td>\n",
              "        <td>Finland</td>\n",
              "        <td>4.19</td>\n",
              "    </tr>\n",
              "    <tr>\n",
              "        <td>Innsbruck</td>\n",
              "        <td>Austria</td>\n",
              "        <td>4.54</td>\n",
              "    </tr>\n",
              "    <tr>\n",
              "        <td>Kiruna</td>\n",
              "        <td>Sweden</td>\n",
              "        <td>-2.2</td>\n",
              "    </tr>\n",
              "    <tr>\n",
              "        <td>Orsha</td>\n",
              "        <td>Belarus</td>\n",
              "        <td>4.93</td>\n",
              "    </tr>\n",
              "    <tr>\n",
              "        <td>Oslo</td>\n",
              "        <td>Norway</td>\n",
              "        <td>2.32</td>\n",
              "    </tr>\n",
              "    <tr>\n",
              "        <td>Oulu</td>\n",
              "        <td>Finland</td>\n",
              "        <td>1.45</td>\n",
              "    </tr>\n",
              "    <tr>\n",
              "        <td>Salzburg</td>\n",
              "        <td>Austria</td>\n",
              "        <td>4.62</td>\n",
              "    </tr>\n",
              "    <tr>\n",
              "        <td>Tallinn</td>\n",
              "        <td>Estonia</td>\n",
              "        <td>4.82</td>\n",
              "    </tr>\n",
              "    <tr>\n",
              "        <td>Tampere</td>\n",
              "        <td>Finland</td>\n",
              "        <td>3.59</td>\n",
              "    </tr>\n",
              "    <tr>\n",
              "        <td>Tartu</td>\n",
              "        <td>Estonia</td>\n",
              "        <td>4.36</td>\n",
              "    </tr>\n",
              "    <tr>\n",
              "        <td>Trondheim</td>\n",
              "        <td>Norway</td>\n",
              "        <td>4.53</td>\n",
              "    </tr>\n",
              "    <tr>\n",
              "        <td>Turku</td>\n",
              "        <td>Finland</td>\n",
              "        <td>4.72</td>\n",
              "    </tr>\n",
              "    <tr>\n",
              "        <td>Uppsala</td>\n",
              "        <td>Sweden</td>\n",
              "        <td>4.17</td>\n",
              "    </tr>\n",
              "</table>"
            ]
          },
          "metadata": {},
          "execution_count": 163
        }
      ],
      "source": [
        "%%sql\n",
        "select city, country, temperature\n",
        "from Cities\n",
        "where temperature > -5 and temperature < 5"
      ]
    },
    {
      "cell_type": "markdown",
      "metadata": {
        "id": "owIqOk1WMZie"
      },
      "source": [
        "### Ordering"
      ]
    },
    {
      "cell_type": "markdown",
      "metadata": {
        "id": "Fshc0QQXMZie"
      },
      "source": [
        "*Modify previous query to sort by temperature*\n",
        "\n",
        "\n"
      ]
    },
    {
      "cell_type": "markdown",
      "metadata": {
        "id": "PLQtDaG3MZif"
      },
      "source": [
        "*Modify previous query to sort by country, then temperature descending*"
      ]
    },
    {
      "cell_type": "markdown",
      "metadata": {
        "id": "g7J3F0UAMZif"
      },
      "source": [
        "### <font color = 'green'>**Your Turn**</font>"
      ]
    },
    {
      "cell_type": "markdown",
      "metadata": {
        "id": "HdgtGYcCMZif"
      },
      "source": [
        "*Find all countries with no coastline and with population > 9. Return the country and population, in descending order of population.*"
      ]
    },
    {
      "cell_type": "code",
      "execution_count": 164,
      "metadata": {
        "id": "6pYlPwPSMZif",
        "colab": {
          "base_uri": "https://localhost:8080/",
          "height": 139
        },
        "outputId": "68e21dbb-33f1-4d63-c8bf-3db256c41b26"
      },
      "outputs": [
        {
          "output_type": "stream",
          "name": "stdout",
          "text": [
            " * sqlite://\n",
            "Done.\n"
          ]
        },
        {
          "output_type": "execute_result",
          "data": {
            "text/plain": [
              "[('Czech Republic', 10.55), ('Hungary', 9.82), ('Belarus', 9.48)]"
            ],
            "text/html": [
              "<table>\n",
              "    <tr>\n",
              "        <th>country</th>\n",
              "        <th>population</th>\n",
              "    </tr>\n",
              "    <tr>\n",
              "        <td>Czech Republic</td>\n",
              "        <td>10.55</td>\n",
              "    </tr>\n",
              "    <tr>\n",
              "        <td>Hungary</td>\n",
              "        <td>9.82</td>\n",
              "    </tr>\n",
              "    <tr>\n",
              "        <td>Belarus</td>\n",
              "        <td>9.48</td>\n",
              "    </tr>\n",
              "</table>"
            ]
          },
          "metadata": {},
          "execution_count": 164
        }
      ],
      "source": [
        "%%sql\n",
        "SELECT country, population\n",
        "FROM countries\n",
        "WHERE coastline = 'no' AND population > 9\n",
        "ORDER BY population DESC;\n"
      ]
    },
    {
      "cell_type": "markdown",
      "metadata": {
        "id": "_7HoBhWmMZig"
      },
      "source": [
        "### Multiple tables in From clause - Joins"
      ]
    },
    {
      "cell_type": "markdown",
      "metadata": {
        "id": "NhoRrhYbMZig"
      },
      "source": [
        "*Find all cities with longitude < 10 not in the EU, return city and longitude*"
      ]
    },
    {
      "cell_type": "code",
      "source": [
        "%%sql\n",
        "SELECT city, longitude\n",
        "FROM cities\n",
        "WHERE longitude < 10 AND country NOT IN (\n",
        "    SELECT country\n",
        "    FROM countries\n",
        "    WHERE EU = 'yes'\n",
        ");"
      ],
      "metadata": {
        "colab": {
          "base_uri": "https://localhost:8080/",
          "height": 203
        },
        "id": "B-oiYQrJzerP",
        "outputId": "ebce691d-6a30-4fbf-8253-f83e42afcf4e"
      },
      "execution_count": 165,
      "outputs": [
        {
          "output_type": "stream",
          "name": "stdout",
          "text": [
            " * sqlite://\n",
            "Done.\n"
          ]
        },
        {
          "output_type": "execute_result",
          "data": {
            "text/plain": [
              "[('Andorra', 1.52),\n",
              " ('Basel', 7.59),\n",
              " ('Bergen', 5.32),\n",
              " ('Geneva', 6.14),\n",
              " ('Stavanger', 5.68),\n",
              " ('Zurich', 8.56)]"
            ],
            "text/html": [
              "<table>\n",
              "    <tr>\n",
              "        <th>city</th>\n",
              "        <th>longitude</th>\n",
              "    </tr>\n",
              "    <tr>\n",
              "        <td>Andorra</td>\n",
              "        <td>1.52</td>\n",
              "    </tr>\n",
              "    <tr>\n",
              "        <td>Basel</td>\n",
              "        <td>7.59</td>\n",
              "    </tr>\n",
              "    <tr>\n",
              "        <td>Bergen</td>\n",
              "        <td>5.32</td>\n",
              "    </tr>\n",
              "    <tr>\n",
              "        <td>Geneva</td>\n",
              "        <td>6.14</td>\n",
              "    </tr>\n",
              "    <tr>\n",
              "        <td>Stavanger</td>\n",
              "        <td>5.68</td>\n",
              "    </tr>\n",
              "    <tr>\n",
              "        <td>Zurich</td>\n",
              "        <td>8.56</td>\n",
              "    </tr>\n",
              "</table>"
            ]
          },
          "metadata": {},
          "execution_count": 165
        }
      ]
    },
    {
      "cell_type": "code",
      "execution_count": 166,
      "metadata": {
        "scrolled": true,
        "id": "Boku5LMEMZig",
        "colab": {
          "base_uri": "https://localhost:8080/",
          "height": 203
        },
        "outputId": "d2a1face-0799-417e-a2cc-253782c23986"
      },
      "outputs": [
        {
          "output_type": "stream",
          "name": "stdout",
          "text": [
            " * sqlite://\n",
            "Done.\n"
          ]
        },
        {
          "output_type": "execute_result",
          "data": {
            "text/plain": [
              "[('Andorra', 1.52, 'Andorra'),\n",
              " ('Basel', 7.59, 'Switzerland'),\n",
              " ('Bergen', 5.32, 'Norway'),\n",
              " ('Geneva', 6.14, 'Switzerland'),\n",
              " ('Stavanger', 5.68, 'Norway'),\n",
              " ('Zurich', 8.56, 'Switzerland')]"
            ],
            "text/html": [
              "<table>\n",
              "    <tr>\n",
              "        <th>city</th>\n",
              "        <th>longitude</th>\n",
              "        <th>country</th>\n",
              "    </tr>\n",
              "    <tr>\n",
              "        <td>Andorra</td>\n",
              "        <td>1.52</td>\n",
              "        <td>Andorra</td>\n",
              "    </tr>\n",
              "    <tr>\n",
              "        <td>Basel</td>\n",
              "        <td>7.59</td>\n",
              "        <td>Switzerland</td>\n",
              "    </tr>\n",
              "    <tr>\n",
              "        <td>Bergen</td>\n",
              "        <td>5.32</td>\n",
              "        <td>Norway</td>\n",
              "    </tr>\n",
              "    <tr>\n",
              "        <td>Geneva</td>\n",
              "        <td>6.14</td>\n",
              "        <td>Switzerland</td>\n",
              "    </tr>\n",
              "    <tr>\n",
              "        <td>Stavanger</td>\n",
              "        <td>5.68</td>\n",
              "        <td>Norway</td>\n",
              "    </tr>\n",
              "    <tr>\n",
              "        <td>Zurich</td>\n",
              "        <td>8.56</td>\n",
              "        <td>Switzerland</td>\n",
              "    </tr>\n",
              "</table>"
            ]
          },
          "metadata": {},
          "execution_count": 166
        }
      ],
      "source": [
        "%%sql\n",
        "select city, longitude, Countries.country\n",
        "from Cities, Countries\n",
        "where Cities.country = Countries.country\n",
        "and longitude < 10 and EU = 'no'"
      ]
    },
    {
      "cell_type": "markdown",
      "metadata": {
        "id": "97E-wWU2MZig"
      },
      "source": [
        "*Modify previous query to also return country (error then fix)*"
      ]
    },
    {
      "cell_type": "markdown",
      "metadata": {
        "id": "rCBpdk0NMZig"
      },
      "source": [
        "*Find all cities with latitude < 50 in a country with population < 5; return city, country, and population, sorted by country*"
      ]
    },
    {
      "cell_type": "code",
      "execution_count": 167,
      "metadata": {
        "id": "CoLl0prtMZih",
        "colab": {
          "base_uri": "https://localhost:8080/",
          "height": 289
        },
        "outputId": "e97d9dac-b7de-42ad-8f82-93c224b4d719"
      },
      "outputs": [
        {
          "output_type": "stream",
          "name": "stdout",
          "text": [
            " * sqlite://\n",
            "Done.\n"
          ]
        },
        {
          "output_type": "execute_result",
          "data": {
            "text/plain": [
              "[('Elbasan', 'Albania', 2.9),\n",
              " ('Andorra', 'Andorra', 0.07),\n",
              " ('Sarajevo', 'Bosnia and Herzegovina', 3.8),\n",
              " ('Rijeka', 'Croatia', 4.23),\n",
              " ('Split', 'Croatia', 4.23),\n",
              " ('Skopje', 'Macedonia', 2.08),\n",
              " ('Balti', 'Moldova', 4.06),\n",
              " ('Chisinau', 'Moldova', 4.06),\n",
              " ('Podgorica', 'Montenegro', 0.63),\n",
              " ('Ljubljana', 'Slovenia', 2.07)]"
            ],
            "text/html": [
              "<table>\n",
              "    <tr>\n",
              "        <th>city</th>\n",
              "        <th>country</th>\n",
              "        <th>population</th>\n",
              "    </tr>\n",
              "    <tr>\n",
              "        <td>Elbasan</td>\n",
              "        <td>Albania</td>\n",
              "        <td>2.9</td>\n",
              "    </tr>\n",
              "    <tr>\n",
              "        <td>Andorra</td>\n",
              "        <td>Andorra</td>\n",
              "        <td>0.07</td>\n",
              "    </tr>\n",
              "    <tr>\n",
              "        <td>Sarajevo</td>\n",
              "        <td>Bosnia and Herzegovina</td>\n",
              "        <td>3.8</td>\n",
              "    </tr>\n",
              "    <tr>\n",
              "        <td>Rijeka</td>\n",
              "        <td>Croatia</td>\n",
              "        <td>4.23</td>\n",
              "    </tr>\n",
              "    <tr>\n",
              "        <td>Split</td>\n",
              "        <td>Croatia</td>\n",
              "        <td>4.23</td>\n",
              "    </tr>\n",
              "    <tr>\n",
              "        <td>Skopje</td>\n",
              "        <td>Macedonia</td>\n",
              "        <td>2.08</td>\n",
              "    </tr>\n",
              "    <tr>\n",
              "        <td>Balti</td>\n",
              "        <td>Moldova</td>\n",
              "        <td>4.06</td>\n",
              "    </tr>\n",
              "    <tr>\n",
              "        <td>Chisinau</td>\n",
              "        <td>Moldova</td>\n",
              "        <td>4.06</td>\n",
              "    </tr>\n",
              "    <tr>\n",
              "        <td>Podgorica</td>\n",
              "        <td>Montenegro</td>\n",
              "        <td>0.63</td>\n",
              "    </tr>\n",
              "    <tr>\n",
              "        <td>Ljubljana</td>\n",
              "        <td>Slovenia</td>\n",
              "        <td>2.07</td>\n",
              "    </tr>\n",
              "</table>"
            ]
          },
          "metadata": {},
          "execution_count": 167
        }
      ],
      "source": [
        "%%sql\n",
        "select city, Cities.country, population\n",
        "from Cities, Countries\n",
        "where Cities.country = Countries.country\n",
        "and latitude < 50 and population < 5\n",
        "order by Cities.country"
      ]
    },
    {
      "cell_type": "markdown",
      "metadata": {
        "id": "Y8f1oEGAMZih"
      },
      "source": [
        "#### Inner Join -- just FYI"
      ]
    },
    {
      "cell_type": "markdown",
      "metadata": {
        "id": "vkkuShxYMZih"
      },
      "source": [
        "*Same query as above*"
      ]
    },
    {
      "cell_type": "code",
      "execution_count": 168,
      "metadata": {
        "id": "pw2bkLwSMZih",
        "colab": {
          "base_uri": "https://localhost:8080/",
          "height": 289
        },
        "outputId": "e419d80f-5fe7-4e63-c1d7-6a4b1e946f0c"
      },
      "outputs": [
        {
          "output_type": "stream",
          "name": "stdout",
          "text": [
            " * sqlite://\n",
            "Done.\n"
          ]
        },
        {
          "output_type": "execute_result",
          "data": {
            "text/plain": [
              "[('Elbasan', 'Albania', 2.9),\n",
              " ('Andorra', 'Andorra', 0.07),\n",
              " ('Sarajevo', 'Bosnia and Herzegovina', 3.8),\n",
              " ('Rijeka', 'Croatia', 4.23),\n",
              " ('Split', 'Croatia', 4.23),\n",
              " ('Skopje', 'Macedonia', 2.08),\n",
              " ('Balti', 'Moldova', 4.06),\n",
              " ('Chisinau', 'Moldova', 4.06),\n",
              " ('Podgorica', 'Montenegro', 0.63),\n",
              " ('Ljubljana', 'Slovenia', 2.07)]"
            ],
            "text/html": [
              "<table>\n",
              "    <tr>\n",
              "        <th>city</th>\n",
              "        <th>country</th>\n",
              "        <th>population</th>\n",
              "    </tr>\n",
              "    <tr>\n",
              "        <td>Elbasan</td>\n",
              "        <td>Albania</td>\n",
              "        <td>2.9</td>\n",
              "    </tr>\n",
              "    <tr>\n",
              "        <td>Andorra</td>\n",
              "        <td>Andorra</td>\n",
              "        <td>0.07</td>\n",
              "    </tr>\n",
              "    <tr>\n",
              "        <td>Sarajevo</td>\n",
              "        <td>Bosnia and Herzegovina</td>\n",
              "        <td>3.8</td>\n",
              "    </tr>\n",
              "    <tr>\n",
              "        <td>Rijeka</td>\n",
              "        <td>Croatia</td>\n",
              "        <td>4.23</td>\n",
              "    </tr>\n",
              "    <tr>\n",
              "        <td>Split</td>\n",
              "        <td>Croatia</td>\n",
              "        <td>4.23</td>\n",
              "    </tr>\n",
              "    <tr>\n",
              "        <td>Skopje</td>\n",
              "        <td>Macedonia</td>\n",
              "        <td>2.08</td>\n",
              "    </tr>\n",
              "    <tr>\n",
              "        <td>Balti</td>\n",
              "        <td>Moldova</td>\n",
              "        <td>4.06</td>\n",
              "    </tr>\n",
              "    <tr>\n",
              "        <td>Chisinau</td>\n",
              "        <td>Moldova</td>\n",
              "        <td>4.06</td>\n",
              "    </tr>\n",
              "    <tr>\n",
              "        <td>Podgorica</td>\n",
              "        <td>Montenegro</td>\n",
              "        <td>0.63</td>\n",
              "    </tr>\n",
              "    <tr>\n",
              "        <td>Ljubljana</td>\n",
              "        <td>Slovenia</td>\n",
              "        <td>2.07</td>\n",
              "    </tr>\n",
              "</table>"
            ]
          },
          "metadata": {},
          "execution_count": 168
        }
      ],
      "source": [
        "%%sql\n",
        "select city, Cities.country, population\n",
        "from Cities inner join Countries\n",
        "     on Cities.country = Countries.country\n",
        "where latitude < 50 and population < 5\n",
        "order by Cities.country"
      ]
    },
    {
      "cell_type": "markdown",
      "metadata": {
        "id": "4Qv_uInYMZih"
      },
      "source": [
        "### Select *"
      ]
    },
    {
      "cell_type": "markdown",
      "metadata": {
        "id": "iAE-s2KpMZih"
      },
      "source": [
        "*Modify previous queries to return all columns*"
      ]
    },
    {
      "cell_type": "code",
      "source": [
        "%%sql\n",
        "SELECT Cities.*, Countries.*\n",
        "FROM Cities, Countries\n",
        "WHERE Cities.country = Countries.country\n",
        "AND latitude < 50 AND population < 5\n",
        "ORDER BY Cities.country;\n"
      ],
      "metadata": {
        "colab": {
          "base_uri": "https://localhost:8080/",
          "height": 289
        },
        "id": "2TM7BK8zSQc3",
        "outputId": "359540eb-c5d0-4a51-fe23-53085369929b"
      },
      "execution_count": 169,
      "outputs": [
        {
          "output_type": "stream",
          "name": "stdout",
          "text": [
            " * sqlite://\n",
            "Done.\n"
          ]
        },
        {
          "output_type": "execute_result",
          "data": {
            "text/plain": [
              "[('Elbasan', 'Albania', 41.12, 20.08, 15.18, 'Albania', 2.9, 'no', 'yes'),\n",
              " ('Andorra', 'Andorra', 42.5, 1.52, 9.6, 'Andorra', 0.07, 'no', 'no'),\n",
              " ('Sarajevo', 'Bosnia and Herzegovina', 43.85, 13.38, 9.6, 'Bosnia and Herzegovina', 3.8, 'no', 'yes'),\n",
              " ('Rijeka', 'Croatia', 45.33, 14.45, 9.27, 'Croatia', 4.23, 'yes', 'yes'),\n",
              " ('Split', 'Croatia', 43.52, 16.47, 12.46, 'Croatia', 4.23, 'yes', 'yes'),\n",
              " ('Skopje', 'Macedonia', 42.0, 21.43, 9.36, 'Macedonia', 2.08, 'no', 'no'),\n",
              " ('Balti', 'Moldova', 47.76, 27.91, 8.23, 'Moldova', 4.06, 'no', 'no'),\n",
              " ('Chisinau', 'Moldova', 47.01, 28.86, 8.6, 'Moldova', 4.06, 'no', 'no'),\n",
              " ('Podgorica', 'Montenegro', 42.47, 19.27, 9.99, 'Montenegro', 0.63, 'no', 'yes'),\n",
              " ('Ljubljana', 'Slovenia', 46.06, 14.51, 9.27, 'Slovenia', 2.07, 'yes', 'yes')]"
            ],
            "text/html": [
              "<table>\n",
              "    <tr>\n",
              "        <th>city</th>\n",
              "        <th>country</th>\n",
              "        <th>latitude</th>\n",
              "        <th>longitude</th>\n",
              "        <th>temperature</th>\n",
              "        <th>country_1</th>\n",
              "        <th>population</th>\n",
              "        <th>EU</th>\n",
              "        <th>coastline</th>\n",
              "    </tr>\n",
              "    <tr>\n",
              "        <td>Elbasan</td>\n",
              "        <td>Albania</td>\n",
              "        <td>41.12</td>\n",
              "        <td>20.08</td>\n",
              "        <td>15.18</td>\n",
              "        <td>Albania</td>\n",
              "        <td>2.9</td>\n",
              "        <td>no</td>\n",
              "        <td>yes</td>\n",
              "    </tr>\n",
              "    <tr>\n",
              "        <td>Andorra</td>\n",
              "        <td>Andorra</td>\n",
              "        <td>42.5</td>\n",
              "        <td>1.52</td>\n",
              "        <td>9.6</td>\n",
              "        <td>Andorra</td>\n",
              "        <td>0.07</td>\n",
              "        <td>no</td>\n",
              "        <td>no</td>\n",
              "    </tr>\n",
              "    <tr>\n",
              "        <td>Sarajevo</td>\n",
              "        <td>Bosnia and Herzegovina</td>\n",
              "        <td>43.85</td>\n",
              "        <td>13.38</td>\n",
              "        <td>9.6</td>\n",
              "        <td>Bosnia and Herzegovina</td>\n",
              "        <td>3.8</td>\n",
              "        <td>no</td>\n",
              "        <td>yes</td>\n",
              "    </tr>\n",
              "    <tr>\n",
              "        <td>Rijeka</td>\n",
              "        <td>Croatia</td>\n",
              "        <td>45.33</td>\n",
              "        <td>14.45</td>\n",
              "        <td>9.27</td>\n",
              "        <td>Croatia</td>\n",
              "        <td>4.23</td>\n",
              "        <td>yes</td>\n",
              "        <td>yes</td>\n",
              "    </tr>\n",
              "    <tr>\n",
              "        <td>Split</td>\n",
              "        <td>Croatia</td>\n",
              "        <td>43.52</td>\n",
              "        <td>16.47</td>\n",
              "        <td>12.46</td>\n",
              "        <td>Croatia</td>\n",
              "        <td>4.23</td>\n",
              "        <td>yes</td>\n",
              "        <td>yes</td>\n",
              "    </tr>\n",
              "    <tr>\n",
              "        <td>Skopje</td>\n",
              "        <td>Macedonia</td>\n",
              "        <td>42.0</td>\n",
              "        <td>21.43</td>\n",
              "        <td>9.36</td>\n",
              "        <td>Macedonia</td>\n",
              "        <td>2.08</td>\n",
              "        <td>no</td>\n",
              "        <td>no</td>\n",
              "    </tr>\n",
              "    <tr>\n",
              "        <td>Balti</td>\n",
              "        <td>Moldova</td>\n",
              "        <td>47.76</td>\n",
              "        <td>27.91</td>\n",
              "        <td>8.23</td>\n",
              "        <td>Moldova</td>\n",
              "        <td>4.06</td>\n",
              "        <td>no</td>\n",
              "        <td>no</td>\n",
              "    </tr>\n",
              "    <tr>\n",
              "        <td>Chisinau</td>\n",
              "        <td>Moldova</td>\n",
              "        <td>47.01</td>\n",
              "        <td>28.86</td>\n",
              "        <td>8.6</td>\n",
              "        <td>Moldova</td>\n",
              "        <td>4.06</td>\n",
              "        <td>no</td>\n",
              "        <td>no</td>\n",
              "    </tr>\n",
              "    <tr>\n",
              "        <td>Podgorica</td>\n",
              "        <td>Montenegro</td>\n",
              "        <td>42.47</td>\n",
              "        <td>19.27</td>\n",
              "        <td>9.99</td>\n",
              "        <td>Montenegro</td>\n",
              "        <td>0.63</td>\n",
              "        <td>no</td>\n",
              "        <td>yes</td>\n",
              "    </tr>\n",
              "    <tr>\n",
              "        <td>Ljubljana</td>\n",
              "        <td>Slovenia</td>\n",
              "        <td>46.06</td>\n",
              "        <td>14.51</td>\n",
              "        <td>9.27</td>\n",
              "        <td>Slovenia</td>\n",
              "        <td>2.07</td>\n",
              "        <td>yes</td>\n",
              "        <td>yes</td>\n",
              "    </tr>\n",
              "</table>"
            ]
          },
          "metadata": {},
          "execution_count": 169
        }
      ]
    },
    {
      "cell_type": "markdown",
      "metadata": {
        "id": "tXnwN2aLMZii"
      },
      "source": [
        "### <font color = 'green'>**Your Turn**</font>"
      ]
    },
    {
      "cell_type": "markdown",
      "metadata": {
        "id": "-JcSozNYMZii"
      },
      "source": [
        "*Find all cities with latitude > 45 in a country with no coastline and with population > 9. Return the city, country, latitude, and whether it's in the EU.*"
      ]
    },
    {
      "cell_type": "code",
      "execution_count": 170,
      "metadata": {
        "id": "Hl5UvvoKMZii",
        "colab": {
          "base_uri": "https://localhost:8080/",
          "height": 353
        },
        "outputId": "c8a7a22f-a420-491b-9d13-bc58117f2e5a"
      },
      "outputs": [
        {
          "output_type": "stream",
          "name": "stdout",
          "text": [
            " * sqlite://\n",
            "Done.\n"
          ]
        },
        {
          "output_type": "execute_result",
          "data": {
            "text/plain": [
              "[('Brest', 'Belarus', 52.1, 'no'),\n",
              " ('Hrodna', 'Belarus', 53.68, 'no'),\n",
              " ('Mazyr', 'Belarus', 52.05, 'no'),\n",
              " ('Minsk', 'Belarus', 53.9, 'no'),\n",
              " ('Orsha', 'Belarus', 54.52, 'no'),\n",
              " ('Pinsk', 'Belarus', 52.13, 'no'),\n",
              " ('Brno', 'Czech Republic', 49.2, 'yes'),\n",
              " ('Ostrava', 'Czech Republic', 49.83, 'yes'),\n",
              " ('Prague', 'Czech Republic', 50.08, 'yes'),\n",
              " ('Budapest', 'Hungary', 47.5, 'yes'),\n",
              " ('Debrecen', 'Hungary', 47.53, 'yes'),\n",
              " ('Gyor', 'Hungary', 47.7, 'yes'),\n",
              " ('Szeged', 'Hungary', 46.25, 'yes')]"
            ],
            "text/html": [
              "<table>\n",
              "    <tr>\n",
              "        <th>city</th>\n",
              "        <th>country</th>\n",
              "        <th>latitude</th>\n",
              "        <th>EU</th>\n",
              "    </tr>\n",
              "    <tr>\n",
              "        <td>Brest</td>\n",
              "        <td>Belarus</td>\n",
              "        <td>52.1</td>\n",
              "        <td>no</td>\n",
              "    </tr>\n",
              "    <tr>\n",
              "        <td>Hrodna</td>\n",
              "        <td>Belarus</td>\n",
              "        <td>53.68</td>\n",
              "        <td>no</td>\n",
              "    </tr>\n",
              "    <tr>\n",
              "        <td>Mazyr</td>\n",
              "        <td>Belarus</td>\n",
              "        <td>52.05</td>\n",
              "        <td>no</td>\n",
              "    </tr>\n",
              "    <tr>\n",
              "        <td>Minsk</td>\n",
              "        <td>Belarus</td>\n",
              "        <td>53.9</td>\n",
              "        <td>no</td>\n",
              "    </tr>\n",
              "    <tr>\n",
              "        <td>Orsha</td>\n",
              "        <td>Belarus</td>\n",
              "        <td>54.52</td>\n",
              "        <td>no</td>\n",
              "    </tr>\n",
              "    <tr>\n",
              "        <td>Pinsk</td>\n",
              "        <td>Belarus</td>\n",
              "        <td>52.13</td>\n",
              "        <td>no</td>\n",
              "    </tr>\n",
              "    <tr>\n",
              "        <td>Brno</td>\n",
              "        <td>Czech Republic</td>\n",
              "        <td>49.2</td>\n",
              "        <td>yes</td>\n",
              "    </tr>\n",
              "    <tr>\n",
              "        <td>Ostrava</td>\n",
              "        <td>Czech Republic</td>\n",
              "        <td>49.83</td>\n",
              "        <td>yes</td>\n",
              "    </tr>\n",
              "    <tr>\n",
              "        <td>Prague</td>\n",
              "        <td>Czech Republic</td>\n",
              "        <td>50.08</td>\n",
              "        <td>yes</td>\n",
              "    </tr>\n",
              "    <tr>\n",
              "        <td>Budapest</td>\n",
              "        <td>Hungary</td>\n",
              "        <td>47.5</td>\n",
              "        <td>yes</td>\n",
              "    </tr>\n",
              "    <tr>\n",
              "        <td>Debrecen</td>\n",
              "        <td>Hungary</td>\n",
              "        <td>47.53</td>\n",
              "        <td>yes</td>\n",
              "    </tr>\n",
              "    <tr>\n",
              "        <td>Gyor</td>\n",
              "        <td>Hungary</td>\n",
              "        <td>47.7</td>\n",
              "        <td>yes</td>\n",
              "    </tr>\n",
              "    <tr>\n",
              "        <td>Szeged</td>\n",
              "        <td>Hungary</td>\n",
              "        <td>46.25</td>\n",
              "        <td>yes</td>\n",
              "    </tr>\n",
              "</table>"
            ]
          },
          "metadata": {},
          "execution_count": 170
        }
      ],
      "source": [
        "%%sql\n",
        "SELECT Cities.city, Cities.country, Cities.latitude, Countries.EU\n",
        "FROM Cities\n",
        "JOIN Countries ON Cities.country = Countries.country\n",
        "WHERE Cities.latitude > 45\n",
        "AND Countries.coastline = 'no'\n",
        "AND Countries.population > 9\n",
        "ORDER BY Cities.country;\n"
      ]
    },
    {
      "cell_type": "markdown",
      "metadata": {
        "id": "KfWL9u-oMZii"
      },
      "source": [
        "### Aggregation and Grouping"
      ]
    },
    {
      "cell_type": "markdown",
      "metadata": {
        "id": "TERsm72IMZii"
      },
      "source": [
        "*Find the average temperature for all cities*"
      ]
    },
    {
      "cell_type": "code",
      "execution_count": 171,
      "metadata": {
        "id": "6j23YizyMZii",
        "colab": {
          "base_uri": "https://localhost:8080/",
          "height": 96
        },
        "outputId": "5a7673e1-ada9-4134-9869-d2aaac08ae34"
      },
      "outputs": [
        {
          "output_type": "stream",
          "name": "stdout",
          "text": [
            " * sqlite://\n",
            "Done.\n"
          ]
        },
        {
          "output_type": "execute_result",
          "data": {
            "text/plain": [
              "[(9.497840375586858,)]"
            ],
            "text/html": [
              "<table>\n",
              "    <tr>\n",
              "        <th>avg(temperature)</th>\n",
              "    </tr>\n",
              "    <tr>\n",
              "        <td>9.497840375586858</td>\n",
              "    </tr>\n",
              "</table>"
            ]
          },
          "metadata": {},
          "execution_count": 171
        }
      ],
      "source": [
        "%%sql\n",
        "select avg(temperature)\n",
        "from Cities"
      ]
    },
    {
      "cell_type": "markdown",
      "metadata": {
        "id": "s23V60LLMZij"
      },
      "source": [
        "*Modify previous query to find average temperature of cities with latitude > 55*"
      ]
    },
    {
      "cell_type": "code",
      "source": [
        "%%sql\n",
        "SELECT AVG(temperature)\n",
        "FROM Cities\n",
        "WHERE latitude > 55;\n"
      ],
      "metadata": {
        "colab": {
          "base_uri": "https://localhost:8080/",
          "height": 96
        },
        "id": "dcQ_5jJhUCm8",
        "outputId": "6e852a22-5ab8-4972-8b3d-2f7660eabdbb"
      },
      "execution_count": 172,
      "outputs": [
        {
          "output_type": "stream",
          "name": "stdout",
          "text": [
            " * sqlite://\n",
            "Done.\n"
          ]
        },
        {
          "output_type": "execute_result",
          "data": {
            "text/plain": [
              "[(4.985185185185185,)]"
            ],
            "text/html": [
              "<table>\n",
              "    <tr>\n",
              "        <th>AVG(temperature)</th>\n",
              "    </tr>\n",
              "    <tr>\n",
              "        <td>4.985185185185185</td>\n",
              "    </tr>\n",
              "</table>"
            ]
          },
          "metadata": {},
          "execution_count": 172
        }
      ]
    },
    {
      "cell_type": "markdown",
      "metadata": {
        "id": "jaGBga-YMZij"
      },
      "source": [
        "*Modify previous query to also find minimum and maxiumum temperature of cities with latitude > 55*"
      ]
    },
    {
      "cell_type": "code",
      "source": [
        "%%sql\n",
        "SELECT\n",
        "    AVG(temperature) AS average_temperature,\n",
        "    MIN(temperature) AS minimum_temperature,\n",
        "    MAX(temperature) AS maximum_temperature\n",
        "FROM Cities\n",
        "WHERE latitude > 55;\n"
      ],
      "metadata": {
        "colab": {
          "base_uri": "https://localhost:8080/",
          "height": 96
        },
        "id": "fIhkefgFUJO5",
        "outputId": "f509fc89-f36c-4d56-e67f-2c935caa20d2"
      },
      "execution_count": 173,
      "outputs": [
        {
          "output_type": "stream",
          "name": "stdout",
          "text": [
            " * sqlite://\n",
            "Done.\n"
          ]
        },
        {
          "output_type": "execute_result",
          "data": {
            "text/plain": [
              "[(4.985185185185185, -2.2, 8.6)]"
            ],
            "text/html": [
              "<table>\n",
              "    <tr>\n",
              "        <th>average_temperature</th>\n",
              "        <th>minimum_temperature</th>\n",
              "        <th>maximum_temperature</th>\n",
              "    </tr>\n",
              "    <tr>\n",
              "        <td>4.985185185185185</td>\n",
              "        <td>-2.2</td>\n",
              "        <td>8.6</td>\n",
              "    </tr>\n",
              "</table>"
            ]
          },
          "metadata": {},
          "execution_count": 173
        }
      ]
    },
    {
      "cell_type": "markdown",
      "metadata": {
        "id": "VYRS9j5tMZij"
      },
      "source": [
        "*Modify previous query to return number of cities with latitude > 55*"
      ]
    },
    {
      "cell_type": "code",
      "source": [
        "%%sql\n",
        "SELECT\n",
        "    COUNT(*) AS number_of_cities\n",
        "FROM\n",
        "    Cities\n",
        "WHERE\n",
        "    latitude > 55;\n"
      ],
      "metadata": {
        "colab": {
          "base_uri": "https://localhost:8080/",
          "height": 96
        },
        "id": "infx9YWJVBX-",
        "outputId": "9d83a7b7-0090-469c-99cc-13eae00f8960"
      },
      "execution_count": 174,
      "outputs": [
        {
          "output_type": "stream",
          "name": "stdout",
          "text": [
            " * sqlite://\n",
            "Done.\n"
          ]
        },
        {
          "output_type": "execute_result",
          "data": {
            "text/plain": [
              "[(27,)]"
            ],
            "text/html": [
              "<table>\n",
              "    <tr>\n",
              "        <th>number_of_cities</th>\n",
              "    </tr>\n",
              "    <tr>\n",
              "        <td>27</td>\n",
              "    </tr>\n",
              "</table>"
            ]
          },
          "metadata": {},
          "execution_count": 174
        }
      ]
    },
    {
      "cell_type": "markdown",
      "metadata": {
        "id": "BzSI8DqrMZij"
      },
      "source": [
        "*Rename result column as northerns*\n",
        "\n"
      ]
    },
    {
      "cell_type": "code",
      "source": [
        "%%sql\n",
        "SELECT\n",
        "    COUNT(*) AS northerns\n",
        "FROM\n",
        "    Cities\n",
        "WHERE\n",
        "    latitude > 55;\n"
      ],
      "metadata": {
        "colab": {
          "base_uri": "https://localhost:8080/",
          "height": 96
        },
        "id": "xUMcadgqVpN5",
        "outputId": "36d87a03-7187-4956-a66f-53a2d05c2625"
      },
      "execution_count": 175,
      "outputs": [
        {
          "output_type": "stream",
          "name": "stdout",
          "text": [
            " * sqlite://\n",
            "Done.\n"
          ]
        },
        {
          "output_type": "execute_result",
          "data": {
            "text/plain": [
              "[(27,)]"
            ],
            "text/html": [
              "<table>\n",
              "    <tr>\n",
              "        <th>northerns</th>\n",
              "    </tr>\n",
              "    <tr>\n",
              "        <td>27</td>\n",
              "    </tr>\n",
              "</table>"
            ]
          },
          "metadata": {},
          "execution_count": 175
        }
      ]
    },
    {
      "cell_type": "markdown",
      "metadata": {
        "id": "UdWyRME_MZij"
      },
      "source": [
        "*Find the minimum and maximum temperature of cities in the EU (then not in the EU)*"
      ]
    },
    {
      "cell_type": "code",
      "source": [
        "%%sql\n",
        "SELECT\n",
        "    CASE\n",
        "        WHEN EU = 'yes' THEN 'In EU'\n",
        "        ELSE 'Not in EU'\n",
        "    END AS EU_Status,\n",
        "    MIN(temperature) AS minimum_temperature,\n",
        "    MAX(temperature) AS maximum_temperature\n",
        "FROM\n",
        "    Cities, Countries\n",
        "WHERE\n",
        "    Cities.country = Countries.Country\n",
        "GROUP BY\n",
        "    EU_Status;\n",
        "\n"
      ],
      "metadata": {
        "colab": {
          "base_uri": "https://localhost:8080/",
          "height": 118
        },
        "id": "M2qYsJ2pWLfQ",
        "outputId": "4566387e-3feb-4f9f-c219-fc75fd3edc58"
      },
      "execution_count": 176,
      "outputs": [
        {
          "output_type": "stream",
          "name": "stdout",
          "text": [
            " * sqlite://\n",
            "Done.\n"
          ]
        },
        {
          "output_type": "execute_result",
          "data": {
            "text/plain": [
              "[('In EU', -2.2, 17.9), ('Not in EU', 1.75, 18.67)]"
            ],
            "text/html": [
              "<table>\n",
              "    <tr>\n",
              "        <th>EU_Status</th>\n",
              "        <th>minimum_temperature</th>\n",
              "        <th>maximum_temperature</th>\n",
              "    </tr>\n",
              "    <tr>\n",
              "        <td>In EU</td>\n",
              "        <td>-2.2</td>\n",
              "        <td>17.9</td>\n",
              "    </tr>\n",
              "    <tr>\n",
              "        <td>Not in EU</td>\n",
              "        <td>1.75</td>\n",
              "        <td>18.67</td>\n",
              "    </tr>\n",
              "</table>"
            ]
          },
          "metadata": {},
          "execution_count": 176
        }
      ]
    },
    {
      "cell_type": "code",
      "execution_count": 177,
      "metadata": {
        "id": "hS2P18MNMZij"
      },
      "outputs": [],
      "source": [
        "#%%sql\n",
        "#select min(temperature), max(temperature)\n",
        "#from Cities, Countries\n",
        "#where Cities.country = Countries.Country\n",
        "#and EU = 'yes'"
      ]
    },
    {
      "cell_type": "markdown",
      "metadata": {
        "id": "av1H4PW_MZij"
      },
      "source": [
        "### <font color = 'green'>**Your Turn**</font>"
      ]
    },
    {
      "cell_type": "markdown",
      "metadata": {
        "id": "lXamkzxAMZik"
      },
      "source": [
        "*Find the number of cities with latitude > 45 in countries with no coastline and with population > 9; also return the minimum and maximum latitude among those cities*"
      ]
    },
    {
      "cell_type": "code",
      "execution_count": 178,
      "metadata": {
        "id": "zJLCTA_LMZik",
        "colab": {
          "base_uri": "https://localhost:8080/",
          "height": 96
        },
        "outputId": "343539c8-0c01-40ce-fdb4-572da3ed7e19"
      },
      "outputs": [
        {
          "output_type": "stream",
          "name": "stdout",
          "text": [
            " * sqlite://\n",
            "Done.\n"
          ]
        },
        {
          "output_type": "execute_result",
          "data": {
            "text/plain": [
              "[(13, 46.25, 54.52)]"
            ],
            "text/html": [
              "<table>\n",
              "    <tr>\n",
              "        <th>number_of_cities</th>\n",
              "        <th>minimum_latitude</th>\n",
              "        <th>maximum_latitude</th>\n",
              "    </tr>\n",
              "    <tr>\n",
              "        <td>13</td>\n",
              "        <td>46.25</td>\n",
              "        <td>54.52</td>\n",
              "    </tr>\n",
              "</table>"
            ]
          },
          "metadata": {},
          "execution_count": 178
        }
      ],
      "source": [
        "%%sql\n",
        "SELECT\n",
        "    COUNT(Cities.city) AS number_of_cities,\n",
        "    MIN(Cities.latitude) AS minimum_latitude,\n",
        "    MAX(Cities.latitude) AS maximum_latitude\n",
        "FROM\n",
        "    Cities\n",
        "JOIN\n",
        "    Countries\n",
        "ON\n",
        "    Cities.country = Countries.country\n",
        "WHERE\n",
        "    Cities.latitude > 45\n",
        "    AND Countries.coastline = 'no'\n",
        "    AND Countries.population > 9;\n",
        "\n"
      ]
    },
    {
      "cell_type": "markdown",
      "metadata": {
        "id": "Vmr0remfMZik"
      },
      "source": [
        "*Find the average temperature for each country*"
      ]
    },
    {
      "cell_type": "code",
      "execution_count": 179,
      "metadata": {
        "id": "ZFbppfabMZik",
        "colab": {
          "base_uri": "https://localhost:8080/",
          "height": 865
        },
        "outputId": "9c7b7db4-d0c7-446e-9ebe-e8401da3caaf"
      },
      "outputs": [
        {
          "output_type": "stream",
          "name": "stdout",
          "text": [
            " * sqlite://\n",
            "Done.\n"
          ]
        },
        {
          "output_type": "execute_result",
          "data": {
            "text/plain": [
              "[('Albania', 15.18),\n",
              " ('Andorra', 9.6),\n",
              " ('Austria', 6.144),\n",
              " ('Belarus', 5.946666666666666),\n",
              " ('Belgium', 9.65),\n",
              " ('Bosnia and Herzegovina', 9.6),\n",
              " ('Bulgaria', 10.44),\n",
              " ('Croatia', 10.865),\n",
              " ('Czech Republic', 7.8566666666666665),\n",
              " ('Denmark', 7.625),\n",
              " ('Estonia', 4.59),\n",
              " ('Finland', 3.4875),\n",
              " ('France', 10.151111111111112),\n",
              " ('Germany', 7.869285714285714),\n",
              " ('Greece', 16.9025),\n",
              " ('Hungary', 9.6025),\n",
              " ('Ireland', 9.299999999999999),\n",
              " ('Italy', 13.474666666666668),\n",
              " ('Latvia', 5.27),\n",
              " ('Lithuania', 6.1433333333333335),\n",
              " ('Macedonia', 9.36),\n",
              " ('Moldova', 8.415),\n",
              " ('Montenegro', 9.99),\n",
              " ('Netherlands', 8.756666666666668),\n",
              " ('Norway', 3.7260000000000004),\n",
              " ('Poland', 7.250000000000002),\n",
              " ('Portugal', 14.469999999999999),\n",
              " ('Romania', 9.224444444444444),\n",
              " ('Serbia', 9.85),\n",
              " ('Slovakia', 8.48),\n",
              " ('Slovenia', 9.27),\n",
              " ('Spain', 14.238333333333332),\n",
              " ('Sweden', 3.5866666666666673),\n",
              " ('Switzerland', 7.253333333333333),\n",
              " ('Turkey', 11.726666666666665),\n",
              " ('Ukraine', 7.420000000000002),\n",
              " ('United Kingdom', 8.649999999999999)]"
            ],
            "text/html": [
              "<table>\n",
              "    <tr>\n",
              "        <th>country</th>\n",
              "        <th>avg(temperature)</th>\n",
              "    </tr>\n",
              "    <tr>\n",
              "        <td>Albania</td>\n",
              "        <td>15.18</td>\n",
              "    </tr>\n",
              "    <tr>\n",
              "        <td>Andorra</td>\n",
              "        <td>9.6</td>\n",
              "    </tr>\n",
              "    <tr>\n",
              "        <td>Austria</td>\n",
              "        <td>6.144</td>\n",
              "    </tr>\n",
              "    <tr>\n",
              "        <td>Belarus</td>\n",
              "        <td>5.946666666666666</td>\n",
              "    </tr>\n",
              "    <tr>\n",
              "        <td>Belgium</td>\n",
              "        <td>9.65</td>\n",
              "    </tr>\n",
              "    <tr>\n",
              "        <td>Bosnia and Herzegovina</td>\n",
              "        <td>9.6</td>\n",
              "    </tr>\n",
              "    <tr>\n",
              "        <td>Bulgaria</td>\n",
              "        <td>10.44</td>\n",
              "    </tr>\n",
              "    <tr>\n",
              "        <td>Croatia</td>\n",
              "        <td>10.865</td>\n",
              "    </tr>\n",
              "    <tr>\n",
              "        <td>Czech Republic</td>\n",
              "        <td>7.8566666666666665</td>\n",
              "    </tr>\n",
              "    <tr>\n",
              "        <td>Denmark</td>\n",
              "        <td>7.625</td>\n",
              "    </tr>\n",
              "    <tr>\n",
              "        <td>Estonia</td>\n",
              "        <td>4.59</td>\n",
              "    </tr>\n",
              "    <tr>\n",
              "        <td>Finland</td>\n",
              "        <td>3.4875</td>\n",
              "    </tr>\n",
              "    <tr>\n",
              "        <td>France</td>\n",
              "        <td>10.151111111111112</td>\n",
              "    </tr>\n",
              "    <tr>\n",
              "        <td>Germany</td>\n",
              "        <td>7.869285714285714</td>\n",
              "    </tr>\n",
              "    <tr>\n",
              "        <td>Greece</td>\n",
              "        <td>16.9025</td>\n",
              "    </tr>\n",
              "    <tr>\n",
              "        <td>Hungary</td>\n",
              "        <td>9.6025</td>\n",
              "    </tr>\n",
              "    <tr>\n",
              "        <td>Ireland</td>\n",
              "        <td>9.299999999999999</td>\n",
              "    </tr>\n",
              "    <tr>\n",
              "        <td>Italy</td>\n",
              "        <td>13.474666666666668</td>\n",
              "    </tr>\n",
              "    <tr>\n",
              "        <td>Latvia</td>\n",
              "        <td>5.27</td>\n",
              "    </tr>\n",
              "    <tr>\n",
              "        <td>Lithuania</td>\n",
              "        <td>6.1433333333333335</td>\n",
              "    </tr>\n",
              "    <tr>\n",
              "        <td>Macedonia</td>\n",
              "        <td>9.36</td>\n",
              "    </tr>\n",
              "    <tr>\n",
              "        <td>Moldova</td>\n",
              "        <td>8.415</td>\n",
              "    </tr>\n",
              "    <tr>\n",
              "        <td>Montenegro</td>\n",
              "        <td>9.99</td>\n",
              "    </tr>\n",
              "    <tr>\n",
              "        <td>Netherlands</td>\n",
              "        <td>8.756666666666668</td>\n",
              "    </tr>\n",
              "    <tr>\n",
              "        <td>Norway</td>\n",
              "        <td>3.7260000000000004</td>\n",
              "    </tr>\n",
              "    <tr>\n",
              "        <td>Poland</td>\n",
              "        <td>7.250000000000002</td>\n",
              "    </tr>\n",
              "    <tr>\n",
              "        <td>Portugal</td>\n",
              "        <td>14.469999999999999</td>\n",
              "    </tr>\n",
              "    <tr>\n",
              "        <td>Romania</td>\n",
              "        <td>9.224444444444444</td>\n",
              "    </tr>\n",
              "    <tr>\n",
              "        <td>Serbia</td>\n",
              "        <td>9.85</td>\n",
              "    </tr>\n",
              "    <tr>\n",
              "        <td>Slovakia</td>\n",
              "        <td>8.48</td>\n",
              "    </tr>\n",
              "    <tr>\n",
              "        <td>Slovenia</td>\n",
              "        <td>9.27</td>\n",
              "    </tr>\n",
              "    <tr>\n",
              "        <td>Spain</td>\n",
              "        <td>14.238333333333332</td>\n",
              "    </tr>\n",
              "    <tr>\n",
              "        <td>Sweden</td>\n",
              "        <td>3.5866666666666673</td>\n",
              "    </tr>\n",
              "    <tr>\n",
              "        <td>Switzerland</td>\n",
              "        <td>7.253333333333333</td>\n",
              "    </tr>\n",
              "    <tr>\n",
              "        <td>Turkey</td>\n",
              "        <td>11.726666666666665</td>\n",
              "    </tr>\n",
              "    <tr>\n",
              "        <td>Ukraine</td>\n",
              "        <td>7.420000000000002</td>\n",
              "    </tr>\n",
              "    <tr>\n",
              "        <td>United Kingdom</td>\n",
              "        <td>8.649999999999999</td>\n",
              "    </tr>\n",
              "</table>"
            ]
          },
          "metadata": {},
          "execution_count": 179
        }
      ],
      "source": [
        "%%sql\n",
        "select country, avg(temperature)\n",
        "from Cities\n",
        "group by country"
      ]
    },
    {
      "cell_type": "markdown",
      "metadata": {
        "id": "BPAHaTxmMZik"
      },
      "source": [
        "*Modify previous query to sort by descending average temperature*"
      ]
    },
    {
      "cell_type": "code",
      "source": [
        "%%sql\n",
        "SELECT\n",
        "    country,\n",
        "    AVG(temperature) AS average_temperature\n",
        "FROM\n",
        "    Cities\n",
        "GROUP BY\n",
        "    country\n",
        "ORDER BY\n",
        "    average_temperature DESC;\n"
      ],
      "metadata": {
        "colab": {
          "base_uri": "https://localhost:8080/",
          "height": 865
        },
        "id": "neO_q2abamf-",
        "outputId": "ab5e4517-a2ba-474c-8912-22ad39a8586e"
      },
      "execution_count": 180,
      "outputs": [
        {
          "output_type": "stream",
          "name": "stdout",
          "text": [
            " * sqlite://\n",
            "Done.\n"
          ]
        },
        {
          "output_type": "execute_result",
          "data": {
            "text/plain": [
              "[('Greece', 16.9025),\n",
              " ('Albania', 15.18),\n",
              " ('Portugal', 14.469999999999999),\n",
              " ('Spain', 14.238333333333332),\n",
              " ('Italy', 13.474666666666668),\n",
              " ('Turkey', 11.726666666666665),\n",
              " ('Croatia', 10.865),\n",
              " ('Bulgaria', 10.44),\n",
              " ('France', 10.151111111111112),\n",
              " ('Montenegro', 9.99),\n",
              " ('Serbia', 9.85),\n",
              " ('Belgium', 9.65),\n",
              " ('Hungary', 9.6025),\n",
              " ('Bosnia and Herzegovina', 9.6),\n",
              " ('Andorra', 9.6),\n",
              " ('Macedonia', 9.36),\n",
              " ('Ireland', 9.299999999999999),\n",
              " ('Slovenia', 9.27),\n",
              " ('Romania', 9.224444444444444),\n",
              " ('Netherlands', 8.756666666666668),\n",
              " ('United Kingdom', 8.649999999999999),\n",
              " ('Slovakia', 8.48),\n",
              " ('Moldova', 8.415),\n",
              " ('Germany', 7.869285714285714),\n",
              " ('Czech Republic', 7.8566666666666665),\n",
              " ('Denmark', 7.625),\n",
              " ('Ukraine', 7.420000000000002),\n",
              " ('Switzerland', 7.253333333333333),\n",
              " ('Poland', 7.250000000000002),\n",
              " ('Austria', 6.144),\n",
              " ('Lithuania', 6.1433333333333335),\n",
              " ('Belarus', 5.946666666666666),\n",
              " ('Latvia', 5.27),\n",
              " ('Estonia', 4.59),\n",
              " ('Norway', 3.7260000000000004),\n",
              " ('Sweden', 3.5866666666666673),\n",
              " ('Finland', 3.4875)]"
            ],
            "text/html": [
              "<table>\n",
              "    <tr>\n",
              "        <th>country</th>\n",
              "        <th>average_temperature</th>\n",
              "    </tr>\n",
              "    <tr>\n",
              "        <td>Greece</td>\n",
              "        <td>16.9025</td>\n",
              "    </tr>\n",
              "    <tr>\n",
              "        <td>Albania</td>\n",
              "        <td>15.18</td>\n",
              "    </tr>\n",
              "    <tr>\n",
              "        <td>Portugal</td>\n",
              "        <td>14.469999999999999</td>\n",
              "    </tr>\n",
              "    <tr>\n",
              "        <td>Spain</td>\n",
              "        <td>14.238333333333332</td>\n",
              "    </tr>\n",
              "    <tr>\n",
              "        <td>Italy</td>\n",
              "        <td>13.474666666666668</td>\n",
              "    </tr>\n",
              "    <tr>\n",
              "        <td>Turkey</td>\n",
              "        <td>11.726666666666665</td>\n",
              "    </tr>\n",
              "    <tr>\n",
              "        <td>Croatia</td>\n",
              "        <td>10.865</td>\n",
              "    </tr>\n",
              "    <tr>\n",
              "        <td>Bulgaria</td>\n",
              "        <td>10.44</td>\n",
              "    </tr>\n",
              "    <tr>\n",
              "        <td>France</td>\n",
              "        <td>10.151111111111112</td>\n",
              "    </tr>\n",
              "    <tr>\n",
              "        <td>Montenegro</td>\n",
              "        <td>9.99</td>\n",
              "    </tr>\n",
              "    <tr>\n",
              "        <td>Serbia</td>\n",
              "        <td>9.85</td>\n",
              "    </tr>\n",
              "    <tr>\n",
              "        <td>Belgium</td>\n",
              "        <td>9.65</td>\n",
              "    </tr>\n",
              "    <tr>\n",
              "        <td>Hungary</td>\n",
              "        <td>9.6025</td>\n",
              "    </tr>\n",
              "    <tr>\n",
              "        <td>Bosnia and Herzegovina</td>\n",
              "        <td>9.6</td>\n",
              "    </tr>\n",
              "    <tr>\n",
              "        <td>Andorra</td>\n",
              "        <td>9.6</td>\n",
              "    </tr>\n",
              "    <tr>\n",
              "        <td>Macedonia</td>\n",
              "        <td>9.36</td>\n",
              "    </tr>\n",
              "    <tr>\n",
              "        <td>Ireland</td>\n",
              "        <td>9.299999999999999</td>\n",
              "    </tr>\n",
              "    <tr>\n",
              "        <td>Slovenia</td>\n",
              "        <td>9.27</td>\n",
              "    </tr>\n",
              "    <tr>\n",
              "        <td>Romania</td>\n",
              "        <td>9.224444444444444</td>\n",
              "    </tr>\n",
              "    <tr>\n",
              "        <td>Netherlands</td>\n",
              "        <td>8.756666666666668</td>\n",
              "    </tr>\n",
              "    <tr>\n",
              "        <td>United Kingdom</td>\n",
              "        <td>8.649999999999999</td>\n",
              "    </tr>\n",
              "    <tr>\n",
              "        <td>Slovakia</td>\n",
              "        <td>8.48</td>\n",
              "    </tr>\n",
              "    <tr>\n",
              "        <td>Moldova</td>\n",
              "        <td>8.415</td>\n",
              "    </tr>\n",
              "    <tr>\n",
              "        <td>Germany</td>\n",
              "        <td>7.869285714285714</td>\n",
              "    </tr>\n",
              "    <tr>\n",
              "        <td>Czech Republic</td>\n",
              "        <td>7.8566666666666665</td>\n",
              "    </tr>\n",
              "    <tr>\n",
              "        <td>Denmark</td>\n",
              "        <td>7.625</td>\n",
              "    </tr>\n",
              "    <tr>\n",
              "        <td>Ukraine</td>\n",
              "        <td>7.420000000000002</td>\n",
              "    </tr>\n",
              "    <tr>\n",
              "        <td>Switzerland</td>\n",
              "        <td>7.253333333333333</td>\n",
              "    </tr>\n",
              "    <tr>\n",
              "        <td>Poland</td>\n",
              "        <td>7.250000000000002</td>\n",
              "    </tr>\n",
              "    <tr>\n",
              "        <td>Austria</td>\n",
              "        <td>6.144</td>\n",
              "    </tr>\n",
              "    <tr>\n",
              "        <td>Lithuania</td>\n",
              "        <td>6.1433333333333335</td>\n",
              "    </tr>\n",
              "    <tr>\n",
              "        <td>Belarus</td>\n",
              "        <td>5.946666666666666</td>\n",
              "    </tr>\n",
              "    <tr>\n",
              "        <td>Latvia</td>\n",
              "        <td>5.27</td>\n",
              "    </tr>\n",
              "    <tr>\n",
              "        <td>Estonia</td>\n",
              "        <td>4.59</td>\n",
              "    </tr>\n",
              "    <tr>\n",
              "        <td>Norway</td>\n",
              "        <td>3.7260000000000004</td>\n",
              "    </tr>\n",
              "    <tr>\n",
              "        <td>Sweden</td>\n",
              "        <td>3.5866666666666673</td>\n",
              "    </tr>\n",
              "    <tr>\n",
              "        <td>Finland</td>\n",
              "        <td>3.4875</td>\n",
              "    </tr>\n",
              "</table>"
            ]
          },
          "metadata": {},
          "execution_count": 180
        }
      ]
    },
    {
      "cell_type": "markdown",
      "metadata": {
        "id": "zQcSvCTAMZik"
      },
      "source": [
        "*Modify previous query to show countries only*"
      ]
    },
    {
      "cell_type": "code",
      "source": [
        "%%sql\n",
        "SELECT\n",
        "    country\n",
        "FROM\n",
        "    Cities\n",
        "GROUP BY\n",
        "    country\n",
        "ORDER BY\n",
        "    country;\n"
      ],
      "metadata": {
        "colab": {
          "base_uri": "https://localhost:8080/",
          "height": 865
        },
        "id": "TZ9D2fH7aubW",
        "outputId": "fee0bc56-706e-414f-b627-e87cc710841a"
      },
      "execution_count": 181,
      "outputs": [
        {
          "output_type": "stream",
          "name": "stdout",
          "text": [
            " * sqlite://\n",
            "Done.\n"
          ]
        },
        {
          "output_type": "execute_result",
          "data": {
            "text/plain": [
              "[('Albania',),\n",
              " ('Andorra',),\n",
              " ('Austria',),\n",
              " ('Belarus',),\n",
              " ('Belgium',),\n",
              " ('Bosnia and Herzegovina',),\n",
              " ('Bulgaria',),\n",
              " ('Croatia',),\n",
              " ('Czech Republic',),\n",
              " ('Denmark',),\n",
              " ('Estonia',),\n",
              " ('Finland',),\n",
              " ('France',),\n",
              " ('Germany',),\n",
              " ('Greece',),\n",
              " ('Hungary',),\n",
              " ('Ireland',),\n",
              " ('Italy',),\n",
              " ('Latvia',),\n",
              " ('Lithuania',),\n",
              " ('Macedonia',),\n",
              " ('Moldova',),\n",
              " ('Montenegro',),\n",
              " ('Netherlands',),\n",
              " ('Norway',),\n",
              " ('Poland',),\n",
              " ('Portugal',),\n",
              " ('Romania',),\n",
              " ('Serbia',),\n",
              " ('Slovakia',),\n",
              " ('Slovenia',),\n",
              " ('Spain',),\n",
              " ('Sweden',),\n",
              " ('Switzerland',),\n",
              " ('Turkey',),\n",
              " ('Ukraine',),\n",
              " ('United Kingdom',)]"
            ],
            "text/html": [
              "<table>\n",
              "    <tr>\n",
              "        <th>country</th>\n",
              "    </tr>\n",
              "    <tr>\n",
              "        <td>Albania</td>\n",
              "    </tr>\n",
              "    <tr>\n",
              "        <td>Andorra</td>\n",
              "    </tr>\n",
              "    <tr>\n",
              "        <td>Austria</td>\n",
              "    </tr>\n",
              "    <tr>\n",
              "        <td>Belarus</td>\n",
              "    </tr>\n",
              "    <tr>\n",
              "        <td>Belgium</td>\n",
              "    </tr>\n",
              "    <tr>\n",
              "        <td>Bosnia and Herzegovina</td>\n",
              "    </tr>\n",
              "    <tr>\n",
              "        <td>Bulgaria</td>\n",
              "    </tr>\n",
              "    <tr>\n",
              "        <td>Croatia</td>\n",
              "    </tr>\n",
              "    <tr>\n",
              "        <td>Czech Republic</td>\n",
              "    </tr>\n",
              "    <tr>\n",
              "        <td>Denmark</td>\n",
              "    </tr>\n",
              "    <tr>\n",
              "        <td>Estonia</td>\n",
              "    </tr>\n",
              "    <tr>\n",
              "        <td>Finland</td>\n",
              "    </tr>\n",
              "    <tr>\n",
              "        <td>France</td>\n",
              "    </tr>\n",
              "    <tr>\n",
              "        <td>Germany</td>\n",
              "    </tr>\n",
              "    <tr>\n",
              "        <td>Greece</td>\n",
              "    </tr>\n",
              "    <tr>\n",
              "        <td>Hungary</td>\n",
              "    </tr>\n",
              "    <tr>\n",
              "        <td>Ireland</td>\n",
              "    </tr>\n",
              "    <tr>\n",
              "        <td>Italy</td>\n",
              "    </tr>\n",
              "    <tr>\n",
              "        <td>Latvia</td>\n",
              "    </tr>\n",
              "    <tr>\n",
              "        <td>Lithuania</td>\n",
              "    </tr>\n",
              "    <tr>\n",
              "        <td>Macedonia</td>\n",
              "    </tr>\n",
              "    <tr>\n",
              "        <td>Moldova</td>\n",
              "    </tr>\n",
              "    <tr>\n",
              "        <td>Montenegro</td>\n",
              "    </tr>\n",
              "    <tr>\n",
              "        <td>Netherlands</td>\n",
              "    </tr>\n",
              "    <tr>\n",
              "        <td>Norway</td>\n",
              "    </tr>\n",
              "    <tr>\n",
              "        <td>Poland</td>\n",
              "    </tr>\n",
              "    <tr>\n",
              "        <td>Portugal</td>\n",
              "    </tr>\n",
              "    <tr>\n",
              "        <td>Romania</td>\n",
              "    </tr>\n",
              "    <tr>\n",
              "        <td>Serbia</td>\n",
              "    </tr>\n",
              "    <tr>\n",
              "        <td>Slovakia</td>\n",
              "    </tr>\n",
              "    <tr>\n",
              "        <td>Slovenia</td>\n",
              "    </tr>\n",
              "    <tr>\n",
              "        <td>Spain</td>\n",
              "    </tr>\n",
              "    <tr>\n",
              "        <td>Sweden</td>\n",
              "    </tr>\n",
              "    <tr>\n",
              "        <td>Switzerland</td>\n",
              "    </tr>\n",
              "    <tr>\n",
              "        <td>Turkey</td>\n",
              "    </tr>\n",
              "    <tr>\n",
              "        <td>Ukraine</td>\n",
              "    </tr>\n",
              "    <tr>\n",
              "        <td>United Kingdom</td>\n",
              "    </tr>\n",
              "</table>"
            ]
          },
          "metadata": {},
          "execution_count": 181
        }
      ]
    },
    {
      "cell_type": "markdown",
      "metadata": {
        "id": "XQ7GsGcEMZik"
      },
      "source": [
        "*Find the average temperature for cities in countries with and without coastline*"
      ]
    },
    {
      "cell_type": "code",
      "execution_count": 182,
      "metadata": {
        "id": "6sD9ewlVMZik",
        "colab": {
          "base_uri": "https://localhost:8080/",
          "height": 118
        },
        "outputId": "d348ae4f-0f3b-4173-a133-29d5387750e7"
      },
      "outputs": [
        {
          "output_type": "stream",
          "name": "stdout",
          "text": [
            " * sqlite://\n",
            "Done.\n"
          ]
        },
        {
          "output_type": "execute_result",
          "data": {
            "text/plain": [
              "[('no', 7.748000000000001), ('yes', 9.784699453551914)]"
            ],
            "text/html": [
              "<table>\n",
              "    <tr>\n",
              "        <th>coastline</th>\n",
              "        <th>avg(temperature)</th>\n",
              "    </tr>\n",
              "    <tr>\n",
              "        <td>no</td>\n",
              "        <td>7.748000000000001</td>\n",
              "    </tr>\n",
              "    <tr>\n",
              "        <td>yes</td>\n",
              "        <td>9.784699453551914</td>\n",
              "    </tr>\n",
              "</table>"
            ]
          },
          "metadata": {},
          "execution_count": 182
        }
      ],
      "source": [
        "%%sql\n",
        "select coastline, avg(temperature)\n",
        "from Cities, Countries\n",
        "where Cities.country = Countries.country\n",
        "group by coastline"
      ]
    },
    {
      "cell_type": "markdown",
      "metadata": {
        "id": "g9lD4swOMZil"
      },
      "source": [
        "*Modify previous query to find the average temperature for cities in the EU and not in the EU, then all combinations of coastline and EU*"
      ]
    },
    {
      "cell_type": "code",
      "source": [
        "%%sql\n",
        "SELECT\n",
        "    Countries.coastline,\n",
        "    Countries.eu,\n",
        "    AVG(Cities.temperature) AS average_temperature\n",
        "FROM\n",
        "    Cities\n",
        "JOIN\n",
        "    Countries ON Cities.country = Countries.country\n",
        "GROUP BY\n",
        "    Countries.coastline, Countries.eu;\n"
      ],
      "metadata": {
        "colab": {
          "base_uri": "https://localhost:8080/",
          "height": 161
        },
        "id": "qn39aPJCbCYU",
        "outputId": "25d3c927-5d70-440f-ccd1-142fdce72314"
      },
      "execution_count": 183,
      "outputs": [
        {
          "output_type": "stream",
          "name": "stdout",
          "text": [
            " * sqlite://\n",
            "Done.\n"
          ]
        },
        {
          "output_type": "execute_result",
          "data": {
            "text/plain": [
              "[('no', 'no', 7.67375),\n",
              " ('no', 'yes', 7.832857142857144),\n",
              " ('yes', 'no', 9.492340425531914),\n",
              " ('yes', 'yes', 9.885735294117652)]"
            ],
            "text/html": [
              "<table>\n",
              "    <tr>\n",
              "        <th>coastline</th>\n",
              "        <th>EU</th>\n",
              "        <th>average_temperature</th>\n",
              "    </tr>\n",
              "    <tr>\n",
              "        <td>no</td>\n",
              "        <td>no</td>\n",
              "        <td>7.67375</td>\n",
              "    </tr>\n",
              "    <tr>\n",
              "        <td>no</td>\n",
              "        <td>yes</td>\n",
              "        <td>7.832857142857144</td>\n",
              "    </tr>\n",
              "    <tr>\n",
              "        <td>yes</td>\n",
              "        <td>no</td>\n",
              "        <td>9.492340425531914</td>\n",
              "    </tr>\n",
              "    <tr>\n",
              "        <td>yes</td>\n",
              "        <td>yes</td>\n",
              "        <td>9.885735294117652</td>\n",
              "    </tr>\n",
              "</table>"
            ]
          },
          "metadata": {},
          "execution_count": 183
        }
      ]
    },
    {
      "cell_type": "markdown",
      "metadata": {
        "id": "5vq-B792MZil"
      },
      "source": [
        "*Modify previous query to only include cities with latitude < 50, then latitude < 40*"
      ]
    },
    {
      "cell_type": "code",
      "source": [
        "%%sql\n",
        "SELECT\n",
        "    Cities.city,\n",
        "    Cities.latitude,\n",
        "    Cities.temperature,\n",
        "    Countries.coastline,\n",
        "    Countries.eu,\n",
        "    CASE\n",
        "        WHEN Cities.latitude < 40 THEN 'Latitude < 40'\n",
        "        WHEN Cities.latitude < 50 THEN 'Latitude < 50'\n",
        "        ELSE 'Other'\n",
        "    END AS latitude_condition\n",
        "FROM\n",
        "    Cities\n",
        "JOIN\n",
        "    Countries ON Cities.country = Countries.country\n",
        "WHERE\n",
        "    Cities.latitude < 50  -- Filter cities with latitude less than 50\n",
        "ORDER BY\n",
        "    Cities.latitude;\n"
      ],
      "metadata": {
        "colab": {
          "base_uri": "https://localhost:8080/",
          "height": 3023
        },
        "id": "RjhzvBXabZKC",
        "outputId": "383a045c-58f2-4140-c7fc-2c2e6f55953b"
      },
      "execution_count": 184,
      "outputs": [
        {
          "output_type": "stream",
          "name": "stdout",
          "text": [
            " * sqlite://\n",
            "Done.\n"
          ]
        },
        {
          "output_type": "execute_result",
          "data": {
            "text/plain": [
              "[('Algeciras', 36.13, 17.38, 'yes', 'yes', 'Latitude < 40'),\n",
              " ('Marbella', 36.52, 17.19, 'yes', 'yes', 'Latitude < 40'),\n",
              " ('Antalya', 36.89, 11.88, 'yes', 'no', 'Latitude < 40'),\n",
              " ('Tarsus', 36.92, 11.21, 'yes', 'no', 'Latitude < 40'),\n",
              " ('Adana', 36.99, 18.67, 'yes', 'no', 'Latitude < 40'),\n",
              " ('Kalamata', 37.04, 17.3, 'yes', 'yes', 'Latitude < 40'),\n",
              " ('Gaziantep', 37.07, 13.46, 'yes', 'no', 'Latitude < 40'),\n",
              " ('Granada', 37.16, 16.33, 'yes', 'yes', 'Latitude < 40'),\n",
              " ('Karaman', 37.18, 10.41, 'yes', 'no', 'Latitude < 40'),\n",
              " ('Huelva', 37.25, 17.09, 'yes', 'yes', 'Latitude < 40'),\n",
              " ('Catania', 37.5, 15.04, 'yes', 'yes', 'Latitude < 40'),\n",
              " ('Cartagena', 37.6, 17.32, 'yes', 'yes', 'Latitude < 40'),\n",
              " ('Denizli', 37.77, 15.02, 'yes', 'no', 'Latitude < 40'),\n",
              " ('Batman', 37.89, 14.16, 'yes', 'no', 'Latitude < 40'),\n",
              " ('Siirt', 37.94, 12.48, 'yes', 'no', 'Latitude < 40'),\n",
              " ('Athens', 37.98, 17.41, 'yes', 'yes', 'Latitude < 40'),\n",
              " ('Murcia', 37.98, 15.0, 'yes', 'yes', 'Latitude < 40'),\n",
              " ('Palermo', 38.13, 17.9, 'yes', 'yes', 'Latitude < 40'),\n",
              " ('Messina', 38.2, 16.54, 'yes', 'yes', 'Latitude < 40'),\n",
              " ('Patras', 38.23, 16.9, 'yes', 'yes', 'Latitude < 40'),\n",
              " ('Malatya', 38.37, 14.13, 'yes', 'no', 'Latitude < 40'),\n",
              " ('Manisa', 38.63, 15.1, 'yes', 'no', 'Latitude < 40'),\n",
              " ('Lisbon', 38.72, 15.52, 'yes', 'yes', 'Latitude < 40'),\n",
              " ('Kayseri', 38.73, 8.89, 'yes', 'no', 'Latitude < 40'),\n",
              " ('Badajoz', 38.88, 15.61, 'yes', 'yes', 'Latitude < 40'),\n",
              " ('Albacete', 39.0, 12.62, 'yes', 'yes', 'Latitude < 40'),\n",
              " ('Cosenza', 39.27, 16.6, 'yes', 'yes', 'Latitude < 40'),\n",
              " ('Valencia', 39.49, 16.02, 'yes', 'yes', 'Latitude < 40'),\n",
              " ('Trikala', 39.56, 16.0, 'yes', 'yes', 'Latitude < 40'),\n",
              " ('Erzincan', 39.75, 8.67, 'yes', 'no', 'Latitude < 40'),\n",
              " ('Sivas', 39.75, 8.05, 'yes', 'no', 'Latitude < 40'),\n",
              " ('Eskisehir', 39.79, 11.11, 'yes', 'no', 'Latitude < 40'),\n",
              " ('Erzurum', 39.92, 5.17, 'yes', 'no', 'Latitude < 40'),\n",
              " ('Ankara', 39.93, 9.86, 'yes', 'no', 'Latitude < 40'),\n",
              " ('Bursa', 40.2, 11.16, 'yes', 'no', 'Latitude < 50'),\n",
              " ('Madrid', 40.4, 11.19, 'yes', 'yes', 'Latitude < 50'),\n",
              " ('Salamanca', 40.97, 11.63, 'yes', 'yes', 'Latitude < 50'),\n",
              " ('Trabzon', 40.98, 10.28, 'yes', 'no', 'Latitude < 50'),\n",
              " ('Tekirdag', 40.99, 13.02, 'yes', 'no', 'Latitude < 50'),\n",
              " ('Ordu', 41.0, 11.92, 'yes', 'no', 'Latitude < 50'),\n",
              " ('Istanbul', 41.1, 13.2, 'yes', 'no', 'Latitude < 50'),\n",
              " ('Bari', 41.11, 15.15, 'yes', 'yes', 'Latitude < 50'),\n",
              " ('Elbasan', 41.12, 15.18, 'yes', 'no', 'Latitude < 50'),\n",
              " ('Samsun', 41.28, 12.05, 'yes', 'no', 'Latitude < 50'),\n",
              " ('Barcelona', 41.38, 15.78, 'yes', 'yes', 'Latitude < 50'),\n",
              " ('Zonguldak', 41.43, 10.64, 'yes', 'no', 'Latitude < 50'),\n",
              " ('Foggia', 41.46, 13.83, 'yes', 'yes', 'Latitude < 50'),\n",
              " ('Braga', 41.55, 13.42, 'yes', 'yes', 'Latitude < 50'),\n",
              " ('Zaragoza', 41.65, 14.17, 'yes', 'yes', 'Latitude < 50'),\n",
              " ('Edirne', 41.67, 10.9, 'yes', 'no', 'Latitude < 50'),\n",
              " ('Rome', 41.9, 15.1, 'yes', 'yes', 'Latitude < 50'),\n",
              " ('Skopje', 42.0, 9.36, 'no', 'no', 'Latitude < 50'),\n",
              " ('Plovdiv', 42.15, 8.27, 'yes', 'yes', 'Latitude < 50'),\n",
              " ('Vigo', 42.22, 12.85, 'yes', 'yes', 'Latitude < 50'),\n",
              " ('Burgos', 42.35, 10.45, 'yes', 'yes', 'Latitude < 50'),\n",
              " ('Stara Zagora', 42.42, 10.9, 'yes', 'yes', 'Latitude < 50'),\n",
              " ('Pescara', 42.46, 15.13, 'yes', 'yes', 'Latitude < 50'),\n",
              " ('Podgorica', 42.47, 9.99, 'yes', 'no', 'Latitude < 50'),\n",
              " ('Andorra', 42.5, 9.6, 'no', 'no', 'Latitude < 50'),\n",
              " ('Burgas', 42.51, 11.93, 'yes', 'yes', 'Latitude < 50'),\n",
              " ('Perpignan', 42.7, 10.95, 'yes', 'yes', 'Latitude < 50'),\n",
              " ('Perugia', 43.11, 11.7, 'yes', 'yes', 'Latitude < 50'),\n",
              " ('Bilbao', 43.25, 11.41, 'yes', 'yes', 'Latitude < 50'),\n",
              " ('Marseille', 43.29, 14.98, 'yes', 'yes', 'Latitude < 50'),\n",
              " ('Nis', 43.33, 9.36, 'no', 'no', 'Latitude < 50'),\n",
              " ('Oviedo', 43.35, 10.85, 'yes', 'yes', 'Latitude < 50'),\n",
              " ('Santander', 43.38, 13.4, 'yes', 'yes', 'Latitude < 50'),\n",
              " ('Pleven', 43.42, 10.51, 'yes', 'yes', 'Latitude < 50'),\n",
              " ('Split', 43.52, 12.46, 'yes', 'yes', 'Latitude < 50'),\n",
              " ('Ancona', 43.6, 13.52, 'yes', 'yes', 'Latitude < 50'),\n",
              " ('Montpellier', 43.61, 11.11, 'yes', 'yes', 'Latitude < 50'),\n",
              " ('Toulouse', 43.62, 10.25, 'yes', 'yes', 'Latitude < 50'),\n",
              " ('Nice', 43.72, 8.82, 'yes', 'yes', 'Latitude < 50'),\n",
              " ('Ruse', 43.85, 10.59, 'yes', 'yes', 'Latitude < 50'),\n",
              " ('Sarajevo', 43.85, 9.6, 'yes', 'no', 'Latitude < 50'),\n",
              " ('Constanta', 44.2, 11.24, 'yes', 'yes', 'Latitude < 50'),\n",
              " ('Craiova', 44.33, 10.51, 'yes', 'yes', 'Latitude < 50'),\n",
              " ('Genoa', 44.41, 12.94, 'yes', 'yes', 'Latitude < 50'),\n",
              " ('Bucharest', 44.43, 10.59, 'yes', 'yes', 'Latitude < 50'),\n",
              " ('Bologna', 44.5, 11.69, 'yes', 'yes', 'Latitude < 50'),\n",
              " ('Belgrade', 44.82, 9.85, 'no', 'no', 'Latitude < 50'),\n",
              " ('Bordeaux', 44.85, 11.87, 'yes', 'yes', 'Latitude < 50'),\n",
              " ('Grenoble', 45.18, 8.4, 'yes', 'yes', 'Latitude < 50'),\n",
              " ('Yevpatoriya', 45.2, 10.02, 'yes', 'no', 'Latitude < 50'),\n",
              " ('Novi Sad', 45.25, 10.34, 'no', 'no', 'Latitude < 50'),\n",
              " ('Braila', 45.29, 9.78, 'yes', 'yes', 'Latitude < 50'),\n",
              " ('Rijeka', 45.33, 9.27, 'yes', 'yes', 'Latitude < 50'),\n",
              " ('Milan', 45.47, 6.65, 'yes', 'yes', 'Latitude < 50'),\n",
              " ('Trieste', 45.65, 11.21, 'yes', 'yes', 'Latitude < 50'),\n",
              " ('Bergamo', 45.7, 9.12, 'yes', 'yes', 'Latitude < 50'),\n",
              " ('Sibiu', 45.8, 6.97, 'yes', 'yes', 'Latitude < 50'),\n",
              " ('Limoges', 45.83, 10.32, 'yes', 'yes', 'Latitude < 50'),\n",
              " ('Ljubljana', 46.06, 9.27, 'yes', 'yes', 'Latitude < 50'),\n",
              " ('Arad', 46.17, 9.32, 'yes', 'yes', 'Latitude < 50'),\n",
              " ('Geneva', 46.21, 8.4, 'no', 'no', 'Latitude < 50'),\n",
              " ('Szeged', 46.25, 10.34, 'no', 'yes', 'Latitude < 50'),\n",
              " ('Bacau', 46.58, 7.51, 'yes', 'yes', 'Latitude < 50'),\n",
              " ('Kherson', 46.63, 8.64, 'yes', 'no', 'Latitude < 50'),\n",
              " ('Chisinau', 47.01, 8.6, 'no', 'no', 'Latitude < 50'),\n",
              " ('Graz', 47.08, 6.91, 'no', 'yes', 'Latitude < 50'),\n",
              " ('Innsbruck', 47.28, 4.54, 'no', 'yes', 'Latitude < 50'),\n",
              " ('Dijon', 47.33, 8.69, 'yes', 'yes', 'Latitude < 50'),\n",
              " ('Zurich', 47.38, 6.68, 'no', 'no', 'Latitude < 50'),\n",
              " ('Angers', 47.48, 10.98, 'yes', 'yes', 'Latitude < 50'),\n",
              " ('Budapest', 47.5, 9.55, 'no', 'yes', 'Latitude < 50'),\n",
              " ('Debrecen', 47.53, 8.87, 'no', 'yes', 'Latitude < 50'),\n",
              " ('Basel', 47.58, 6.68, 'no', 'no', 'Latitude < 50'),\n",
              " ('Baia Mare', 47.66, 8.87, 'yes', 'yes', 'Latitude < 50'),\n",
              " ('Gyor', 47.7, 9.65, 'no', 'yes', 'Latitude < 50'),\n",
              " ('Botosani', 47.75, 8.23, 'yes', 'yes', 'Latitude < 50'),\n",
              " ('Mulhouse', 47.75, 6.68, 'yes', 'yes', 'Latitude < 50'),\n",
              " ('Balti', 47.76, 8.23, 'no', 'no', 'Latitude < 50'),\n",
              " ('Salzburg', 47.81, 4.62, 'no', 'yes', 'Latitude < 50'),\n",
              " ('Kryvyy Rih', 47.93, 8.61, 'yes', 'no', 'Latitude < 50'),\n",
              " ('Freiburg', 48.0, 6.68, 'yes', 'yes', 'Latitude < 50'),\n",
              " ('Le Mans', 48.0, 10.59, 'yes', 'yes', 'Latitude < 50'),\n",
              " ('Makiyivka', 48.03, 8.7, 'yes', 'no', 'Latitude < 50'),\n",
              " ('Bratislava', 48.15, 9.65, 'no', 'yes', 'Latitude < 50'),\n",
              " ('Vienna', 48.2, 7.86, 'no', 'yes', 'Latitude < 50'),\n",
              " ('Horlivka', 48.3, 7.12, 'yes', 'no', 'Latitude < 50'),\n",
              " ('Chernivtsi', 48.31, 7.06, 'yes', 'no', 'Latitude < 50'),\n",
              " ('Linz', 48.32, 6.79, 'no', 'yes', 'Latitude < 50'),\n",
              " ('Augsburg', 48.35, 4.54, 'yes', 'yes', 'Latitude < 50'),\n",
              " ('Brest', 48.39, 11.02, 'yes', 'yes', 'Latitude < 50'),\n",
              " ('Kosice', 48.73, 7.31, 'no', 'yes', 'Latitude < 50'),\n",
              " ('Ingolstadt', 48.77, 7.57, 'yes', 'yes', 'Latitude < 50'),\n",
              " ('Karlsruhe', 49.0, 8.88, 'yes', 'yes', 'Latitude < 50'),\n",
              " ('Kremenchuk', 49.08, 7.43, 'yes', 'no', 'Latitude < 50'),\n",
              " ('Metz', 49.12, 8.88, 'yes', 'yes', 'Latitude < 50'),\n",
              " ('Caen', 49.18, 9.96, 'yes', 'yes', 'Latitude < 50'),\n",
              " ('Brno', 49.2, 7.86, 'no', 'yes', 'Latitude < 50'),\n",
              " ('Reims', 49.25, 9.4, 'yes', 'yes', 'Latitude < 50'),\n",
              " ('Heidelberg', 49.42, 8.47, 'yes', 'yes', 'Latitude < 50'),\n",
              " ('Cherkasy', 49.43, 7.19, 'yes', 'no', 'Latitude < 50'),\n",
              " ('Bila Tserkva', 49.77, 6.98, 'yes', 'no', 'Latitude < 50'),\n",
              " ('Lvov', 49.83, 7.04, 'yes', 'no', 'Latitude < 50'),\n",
              " ('Ostrava', 49.83, 7.66, 'no', 'yes', 'Latitude < 50'),\n",
              " ('Amiens', 49.9, 10.17, 'yes', 'yes', 'Latitude < 50')]"
            ],
            "text/html": [
              "<table>\n",
              "    <tr>\n",
              "        <th>city</th>\n",
              "        <th>latitude</th>\n",
              "        <th>temperature</th>\n",
              "        <th>coastline</th>\n",
              "        <th>EU</th>\n",
              "        <th>latitude_condition</th>\n",
              "    </tr>\n",
              "    <tr>\n",
              "        <td>Algeciras</td>\n",
              "        <td>36.13</td>\n",
              "        <td>17.38</td>\n",
              "        <td>yes</td>\n",
              "        <td>yes</td>\n",
              "        <td>Latitude &lt; 40</td>\n",
              "    </tr>\n",
              "    <tr>\n",
              "        <td>Marbella</td>\n",
              "        <td>36.52</td>\n",
              "        <td>17.19</td>\n",
              "        <td>yes</td>\n",
              "        <td>yes</td>\n",
              "        <td>Latitude &lt; 40</td>\n",
              "    </tr>\n",
              "    <tr>\n",
              "        <td>Antalya</td>\n",
              "        <td>36.89</td>\n",
              "        <td>11.88</td>\n",
              "        <td>yes</td>\n",
              "        <td>no</td>\n",
              "        <td>Latitude &lt; 40</td>\n",
              "    </tr>\n",
              "    <tr>\n",
              "        <td>Tarsus</td>\n",
              "        <td>36.92</td>\n",
              "        <td>11.21</td>\n",
              "        <td>yes</td>\n",
              "        <td>no</td>\n",
              "        <td>Latitude &lt; 40</td>\n",
              "    </tr>\n",
              "    <tr>\n",
              "        <td>Adana</td>\n",
              "        <td>36.99</td>\n",
              "        <td>18.67</td>\n",
              "        <td>yes</td>\n",
              "        <td>no</td>\n",
              "        <td>Latitude &lt; 40</td>\n",
              "    </tr>\n",
              "    <tr>\n",
              "        <td>Kalamata</td>\n",
              "        <td>37.04</td>\n",
              "        <td>17.3</td>\n",
              "        <td>yes</td>\n",
              "        <td>yes</td>\n",
              "        <td>Latitude &lt; 40</td>\n",
              "    </tr>\n",
              "    <tr>\n",
              "        <td>Gaziantep</td>\n",
              "        <td>37.07</td>\n",
              "        <td>13.46</td>\n",
              "        <td>yes</td>\n",
              "        <td>no</td>\n",
              "        <td>Latitude &lt; 40</td>\n",
              "    </tr>\n",
              "    <tr>\n",
              "        <td>Granada</td>\n",
              "        <td>37.16</td>\n",
              "        <td>16.33</td>\n",
              "        <td>yes</td>\n",
              "        <td>yes</td>\n",
              "        <td>Latitude &lt; 40</td>\n",
              "    </tr>\n",
              "    <tr>\n",
              "        <td>Karaman</td>\n",
              "        <td>37.18</td>\n",
              "        <td>10.41</td>\n",
              "        <td>yes</td>\n",
              "        <td>no</td>\n",
              "        <td>Latitude &lt; 40</td>\n",
              "    </tr>\n",
              "    <tr>\n",
              "        <td>Huelva</td>\n",
              "        <td>37.25</td>\n",
              "        <td>17.09</td>\n",
              "        <td>yes</td>\n",
              "        <td>yes</td>\n",
              "        <td>Latitude &lt; 40</td>\n",
              "    </tr>\n",
              "    <tr>\n",
              "        <td>Catania</td>\n",
              "        <td>37.5</td>\n",
              "        <td>15.04</td>\n",
              "        <td>yes</td>\n",
              "        <td>yes</td>\n",
              "        <td>Latitude &lt; 40</td>\n",
              "    </tr>\n",
              "    <tr>\n",
              "        <td>Cartagena</td>\n",
              "        <td>37.6</td>\n",
              "        <td>17.32</td>\n",
              "        <td>yes</td>\n",
              "        <td>yes</td>\n",
              "        <td>Latitude &lt; 40</td>\n",
              "    </tr>\n",
              "    <tr>\n",
              "        <td>Denizli</td>\n",
              "        <td>37.77</td>\n",
              "        <td>15.02</td>\n",
              "        <td>yes</td>\n",
              "        <td>no</td>\n",
              "        <td>Latitude &lt; 40</td>\n",
              "    </tr>\n",
              "    <tr>\n",
              "        <td>Batman</td>\n",
              "        <td>37.89</td>\n",
              "        <td>14.16</td>\n",
              "        <td>yes</td>\n",
              "        <td>no</td>\n",
              "        <td>Latitude &lt; 40</td>\n",
              "    </tr>\n",
              "    <tr>\n",
              "        <td>Siirt</td>\n",
              "        <td>37.94</td>\n",
              "        <td>12.48</td>\n",
              "        <td>yes</td>\n",
              "        <td>no</td>\n",
              "        <td>Latitude &lt; 40</td>\n",
              "    </tr>\n",
              "    <tr>\n",
              "        <td>Athens</td>\n",
              "        <td>37.98</td>\n",
              "        <td>17.41</td>\n",
              "        <td>yes</td>\n",
              "        <td>yes</td>\n",
              "        <td>Latitude &lt; 40</td>\n",
              "    </tr>\n",
              "    <tr>\n",
              "        <td>Murcia</td>\n",
              "        <td>37.98</td>\n",
              "        <td>15.0</td>\n",
              "        <td>yes</td>\n",
              "        <td>yes</td>\n",
              "        <td>Latitude &lt; 40</td>\n",
              "    </tr>\n",
              "    <tr>\n",
              "        <td>Palermo</td>\n",
              "        <td>38.13</td>\n",
              "        <td>17.9</td>\n",
              "        <td>yes</td>\n",
              "        <td>yes</td>\n",
              "        <td>Latitude &lt; 40</td>\n",
              "    </tr>\n",
              "    <tr>\n",
              "        <td>Messina</td>\n",
              "        <td>38.2</td>\n",
              "        <td>16.54</td>\n",
              "        <td>yes</td>\n",
              "        <td>yes</td>\n",
              "        <td>Latitude &lt; 40</td>\n",
              "    </tr>\n",
              "    <tr>\n",
              "        <td>Patras</td>\n",
              "        <td>38.23</td>\n",
              "        <td>16.9</td>\n",
              "        <td>yes</td>\n",
              "        <td>yes</td>\n",
              "        <td>Latitude &lt; 40</td>\n",
              "    </tr>\n",
              "    <tr>\n",
              "        <td>Malatya</td>\n",
              "        <td>38.37</td>\n",
              "        <td>14.13</td>\n",
              "        <td>yes</td>\n",
              "        <td>no</td>\n",
              "        <td>Latitude &lt; 40</td>\n",
              "    </tr>\n",
              "    <tr>\n",
              "        <td>Manisa</td>\n",
              "        <td>38.63</td>\n",
              "        <td>15.1</td>\n",
              "        <td>yes</td>\n",
              "        <td>no</td>\n",
              "        <td>Latitude &lt; 40</td>\n",
              "    </tr>\n",
              "    <tr>\n",
              "        <td>Lisbon</td>\n",
              "        <td>38.72</td>\n",
              "        <td>15.52</td>\n",
              "        <td>yes</td>\n",
              "        <td>yes</td>\n",
              "        <td>Latitude &lt; 40</td>\n",
              "    </tr>\n",
              "    <tr>\n",
              "        <td>Kayseri</td>\n",
              "        <td>38.73</td>\n",
              "        <td>8.89</td>\n",
              "        <td>yes</td>\n",
              "        <td>no</td>\n",
              "        <td>Latitude &lt; 40</td>\n",
              "    </tr>\n",
              "    <tr>\n",
              "        <td>Badajoz</td>\n",
              "        <td>38.88</td>\n",
              "        <td>15.61</td>\n",
              "        <td>yes</td>\n",
              "        <td>yes</td>\n",
              "        <td>Latitude &lt; 40</td>\n",
              "    </tr>\n",
              "    <tr>\n",
              "        <td>Albacete</td>\n",
              "        <td>39.0</td>\n",
              "        <td>12.62</td>\n",
              "        <td>yes</td>\n",
              "        <td>yes</td>\n",
              "        <td>Latitude &lt; 40</td>\n",
              "    </tr>\n",
              "    <tr>\n",
              "        <td>Cosenza</td>\n",
              "        <td>39.27</td>\n",
              "        <td>16.6</td>\n",
              "        <td>yes</td>\n",
              "        <td>yes</td>\n",
              "        <td>Latitude &lt; 40</td>\n",
              "    </tr>\n",
              "    <tr>\n",
              "        <td>Valencia</td>\n",
              "        <td>39.49</td>\n",
              "        <td>16.02</td>\n",
              "        <td>yes</td>\n",
              "        <td>yes</td>\n",
              "        <td>Latitude &lt; 40</td>\n",
              "    </tr>\n",
              "    <tr>\n",
              "        <td>Trikala</td>\n",
              "        <td>39.56</td>\n",
              "        <td>16.0</td>\n",
              "        <td>yes</td>\n",
              "        <td>yes</td>\n",
              "        <td>Latitude &lt; 40</td>\n",
              "    </tr>\n",
              "    <tr>\n",
              "        <td>Erzincan</td>\n",
              "        <td>39.75</td>\n",
              "        <td>8.67</td>\n",
              "        <td>yes</td>\n",
              "        <td>no</td>\n",
              "        <td>Latitude &lt; 40</td>\n",
              "    </tr>\n",
              "    <tr>\n",
              "        <td>Sivas</td>\n",
              "        <td>39.75</td>\n",
              "        <td>8.05</td>\n",
              "        <td>yes</td>\n",
              "        <td>no</td>\n",
              "        <td>Latitude &lt; 40</td>\n",
              "    </tr>\n",
              "    <tr>\n",
              "        <td>Eskisehir</td>\n",
              "        <td>39.79</td>\n",
              "        <td>11.11</td>\n",
              "        <td>yes</td>\n",
              "        <td>no</td>\n",
              "        <td>Latitude &lt; 40</td>\n",
              "    </tr>\n",
              "    <tr>\n",
              "        <td>Erzurum</td>\n",
              "        <td>39.92</td>\n",
              "        <td>5.17</td>\n",
              "        <td>yes</td>\n",
              "        <td>no</td>\n",
              "        <td>Latitude &lt; 40</td>\n",
              "    </tr>\n",
              "    <tr>\n",
              "        <td>Ankara</td>\n",
              "        <td>39.93</td>\n",
              "        <td>9.86</td>\n",
              "        <td>yes</td>\n",
              "        <td>no</td>\n",
              "        <td>Latitude &lt; 40</td>\n",
              "    </tr>\n",
              "    <tr>\n",
              "        <td>Bursa</td>\n",
              "        <td>40.2</td>\n",
              "        <td>11.16</td>\n",
              "        <td>yes</td>\n",
              "        <td>no</td>\n",
              "        <td>Latitude &lt; 50</td>\n",
              "    </tr>\n",
              "    <tr>\n",
              "        <td>Madrid</td>\n",
              "        <td>40.4</td>\n",
              "        <td>11.19</td>\n",
              "        <td>yes</td>\n",
              "        <td>yes</td>\n",
              "        <td>Latitude &lt; 50</td>\n",
              "    </tr>\n",
              "    <tr>\n",
              "        <td>Salamanca</td>\n",
              "        <td>40.97</td>\n",
              "        <td>11.63</td>\n",
              "        <td>yes</td>\n",
              "        <td>yes</td>\n",
              "        <td>Latitude &lt; 50</td>\n",
              "    </tr>\n",
              "    <tr>\n",
              "        <td>Trabzon</td>\n",
              "        <td>40.98</td>\n",
              "        <td>10.28</td>\n",
              "        <td>yes</td>\n",
              "        <td>no</td>\n",
              "        <td>Latitude &lt; 50</td>\n",
              "    </tr>\n",
              "    <tr>\n",
              "        <td>Tekirdag</td>\n",
              "        <td>40.99</td>\n",
              "        <td>13.02</td>\n",
              "        <td>yes</td>\n",
              "        <td>no</td>\n",
              "        <td>Latitude &lt; 50</td>\n",
              "    </tr>\n",
              "    <tr>\n",
              "        <td>Ordu</td>\n",
              "        <td>41.0</td>\n",
              "        <td>11.92</td>\n",
              "        <td>yes</td>\n",
              "        <td>no</td>\n",
              "        <td>Latitude &lt; 50</td>\n",
              "    </tr>\n",
              "    <tr>\n",
              "        <td>Istanbul</td>\n",
              "        <td>41.1</td>\n",
              "        <td>13.2</td>\n",
              "        <td>yes</td>\n",
              "        <td>no</td>\n",
              "        <td>Latitude &lt; 50</td>\n",
              "    </tr>\n",
              "    <tr>\n",
              "        <td>Bari</td>\n",
              "        <td>41.11</td>\n",
              "        <td>15.15</td>\n",
              "        <td>yes</td>\n",
              "        <td>yes</td>\n",
              "        <td>Latitude &lt; 50</td>\n",
              "    </tr>\n",
              "    <tr>\n",
              "        <td>Elbasan</td>\n",
              "        <td>41.12</td>\n",
              "        <td>15.18</td>\n",
              "        <td>yes</td>\n",
              "        <td>no</td>\n",
              "        <td>Latitude &lt; 50</td>\n",
              "    </tr>\n",
              "    <tr>\n",
              "        <td>Samsun</td>\n",
              "        <td>41.28</td>\n",
              "        <td>12.05</td>\n",
              "        <td>yes</td>\n",
              "        <td>no</td>\n",
              "        <td>Latitude &lt; 50</td>\n",
              "    </tr>\n",
              "    <tr>\n",
              "        <td>Barcelona</td>\n",
              "        <td>41.38</td>\n",
              "        <td>15.78</td>\n",
              "        <td>yes</td>\n",
              "        <td>yes</td>\n",
              "        <td>Latitude &lt; 50</td>\n",
              "    </tr>\n",
              "    <tr>\n",
              "        <td>Zonguldak</td>\n",
              "        <td>41.43</td>\n",
              "        <td>10.64</td>\n",
              "        <td>yes</td>\n",
              "        <td>no</td>\n",
              "        <td>Latitude &lt; 50</td>\n",
              "    </tr>\n",
              "    <tr>\n",
              "        <td>Foggia</td>\n",
              "        <td>41.46</td>\n",
              "        <td>13.83</td>\n",
              "        <td>yes</td>\n",
              "        <td>yes</td>\n",
              "        <td>Latitude &lt; 50</td>\n",
              "    </tr>\n",
              "    <tr>\n",
              "        <td>Braga</td>\n",
              "        <td>41.55</td>\n",
              "        <td>13.42</td>\n",
              "        <td>yes</td>\n",
              "        <td>yes</td>\n",
              "        <td>Latitude &lt; 50</td>\n",
              "    </tr>\n",
              "    <tr>\n",
              "        <td>Zaragoza</td>\n",
              "        <td>41.65</td>\n",
              "        <td>14.17</td>\n",
              "        <td>yes</td>\n",
              "        <td>yes</td>\n",
              "        <td>Latitude &lt; 50</td>\n",
              "    </tr>\n",
              "    <tr>\n",
              "        <td>Edirne</td>\n",
              "        <td>41.67</td>\n",
              "        <td>10.9</td>\n",
              "        <td>yes</td>\n",
              "        <td>no</td>\n",
              "        <td>Latitude &lt; 50</td>\n",
              "    </tr>\n",
              "    <tr>\n",
              "        <td>Rome</td>\n",
              "        <td>41.9</td>\n",
              "        <td>15.1</td>\n",
              "        <td>yes</td>\n",
              "        <td>yes</td>\n",
              "        <td>Latitude &lt; 50</td>\n",
              "    </tr>\n",
              "    <tr>\n",
              "        <td>Skopje</td>\n",
              "        <td>42.0</td>\n",
              "        <td>9.36</td>\n",
              "        <td>no</td>\n",
              "        <td>no</td>\n",
              "        <td>Latitude &lt; 50</td>\n",
              "    </tr>\n",
              "    <tr>\n",
              "        <td>Plovdiv</td>\n",
              "        <td>42.15</td>\n",
              "        <td>8.27</td>\n",
              "        <td>yes</td>\n",
              "        <td>yes</td>\n",
              "        <td>Latitude &lt; 50</td>\n",
              "    </tr>\n",
              "    <tr>\n",
              "        <td>Vigo</td>\n",
              "        <td>42.22</td>\n",
              "        <td>12.85</td>\n",
              "        <td>yes</td>\n",
              "        <td>yes</td>\n",
              "        <td>Latitude &lt; 50</td>\n",
              "    </tr>\n",
              "    <tr>\n",
              "        <td>Burgos</td>\n",
              "        <td>42.35</td>\n",
              "        <td>10.45</td>\n",
              "        <td>yes</td>\n",
              "        <td>yes</td>\n",
              "        <td>Latitude &lt; 50</td>\n",
              "    </tr>\n",
              "    <tr>\n",
              "        <td>Stara Zagora</td>\n",
              "        <td>42.42</td>\n",
              "        <td>10.9</td>\n",
              "        <td>yes</td>\n",
              "        <td>yes</td>\n",
              "        <td>Latitude &lt; 50</td>\n",
              "    </tr>\n",
              "    <tr>\n",
              "        <td>Pescara</td>\n",
              "        <td>42.46</td>\n",
              "        <td>15.13</td>\n",
              "        <td>yes</td>\n",
              "        <td>yes</td>\n",
              "        <td>Latitude &lt; 50</td>\n",
              "    </tr>\n",
              "    <tr>\n",
              "        <td>Podgorica</td>\n",
              "        <td>42.47</td>\n",
              "        <td>9.99</td>\n",
              "        <td>yes</td>\n",
              "        <td>no</td>\n",
              "        <td>Latitude &lt; 50</td>\n",
              "    </tr>\n",
              "    <tr>\n",
              "        <td>Andorra</td>\n",
              "        <td>42.5</td>\n",
              "        <td>9.6</td>\n",
              "        <td>no</td>\n",
              "        <td>no</td>\n",
              "        <td>Latitude &lt; 50</td>\n",
              "    </tr>\n",
              "    <tr>\n",
              "        <td>Burgas</td>\n",
              "        <td>42.51</td>\n",
              "        <td>11.93</td>\n",
              "        <td>yes</td>\n",
              "        <td>yes</td>\n",
              "        <td>Latitude &lt; 50</td>\n",
              "    </tr>\n",
              "    <tr>\n",
              "        <td>Perpignan</td>\n",
              "        <td>42.7</td>\n",
              "        <td>10.95</td>\n",
              "        <td>yes</td>\n",
              "        <td>yes</td>\n",
              "        <td>Latitude &lt; 50</td>\n",
              "    </tr>\n",
              "    <tr>\n",
              "        <td>Perugia</td>\n",
              "        <td>43.11</td>\n",
              "        <td>11.7</td>\n",
              "        <td>yes</td>\n",
              "        <td>yes</td>\n",
              "        <td>Latitude &lt; 50</td>\n",
              "    </tr>\n",
              "    <tr>\n",
              "        <td>Bilbao</td>\n",
              "        <td>43.25</td>\n",
              "        <td>11.41</td>\n",
              "        <td>yes</td>\n",
              "        <td>yes</td>\n",
              "        <td>Latitude &lt; 50</td>\n",
              "    </tr>\n",
              "    <tr>\n",
              "        <td>Marseille</td>\n",
              "        <td>43.29</td>\n",
              "        <td>14.98</td>\n",
              "        <td>yes</td>\n",
              "        <td>yes</td>\n",
              "        <td>Latitude &lt; 50</td>\n",
              "    </tr>\n",
              "    <tr>\n",
              "        <td>Nis</td>\n",
              "        <td>43.33</td>\n",
              "        <td>9.36</td>\n",
              "        <td>no</td>\n",
              "        <td>no</td>\n",
              "        <td>Latitude &lt; 50</td>\n",
              "    </tr>\n",
              "    <tr>\n",
              "        <td>Oviedo</td>\n",
              "        <td>43.35</td>\n",
              "        <td>10.85</td>\n",
              "        <td>yes</td>\n",
              "        <td>yes</td>\n",
              "        <td>Latitude &lt; 50</td>\n",
              "    </tr>\n",
              "    <tr>\n",
              "        <td>Santander</td>\n",
              "        <td>43.38</td>\n",
              "        <td>13.4</td>\n",
              "        <td>yes</td>\n",
              "        <td>yes</td>\n",
              "        <td>Latitude &lt; 50</td>\n",
              "    </tr>\n",
              "    <tr>\n",
              "        <td>Pleven</td>\n",
              "        <td>43.42</td>\n",
              "        <td>10.51</td>\n",
              "        <td>yes</td>\n",
              "        <td>yes</td>\n",
              "        <td>Latitude &lt; 50</td>\n",
              "    </tr>\n",
              "    <tr>\n",
              "        <td>Split</td>\n",
              "        <td>43.52</td>\n",
              "        <td>12.46</td>\n",
              "        <td>yes</td>\n",
              "        <td>yes</td>\n",
              "        <td>Latitude &lt; 50</td>\n",
              "    </tr>\n",
              "    <tr>\n",
              "        <td>Ancona</td>\n",
              "        <td>43.6</td>\n",
              "        <td>13.52</td>\n",
              "        <td>yes</td>\n",
              "        <td>yes</td>\n",
              "        <td>Latitude &lt; 50</td>\n",
              "    </tr>\n",
              "    <tr>\n",
              "        <td>Montpellier</td>\n",
              "        <td>43.61</td>\n",
              "        <td>11.11</td>\n",
              "        <td>yes</td>\n",
              "        <td>yes</td>\n",
              "        <td>Latitude &lt; 50</td>\n",
              "    </tr>\n",
              "    <tr>\n",
              "        <td>Toulouse</td>\n",
              "        <td>43.62</td>\n",
              "        <td>10.25</td>\n",
              "        <td>yes</td>\n",
              "        <td>yes</td>\n",
              "        <td>Latitude &lt; 50</td>\n",
              "    </tr>\n",
              "    <tr>\n",
              "        <td>Nice</td>\n",
              "        <td>43.72</td>\n",
              "        <td>8.82</td>\n",
              "        <td>yes</td>\n",
              "        <td>yes</td>\n",
              "        <td>Latitude &lt; 50</td>\n",
              "    </tr>\n",
              "    <tr>\n",
              "        <td>Ruse</td>\n",
              "        <td>43.85</td>\n",
              "        <td>10.59</td>\n",
              "        <td>yes</td>\n",
              "        <td>yes</td>\n",
              "        <td>Latitude &lt; 50</td>\n",
              "    </tr>\n",
              "    <tr>\n",
              "        <td>Sarajevo</td>\n",
              "        <td>43.85</td>\n",
              "        <td>9.6</td>\n",
              "        <td>yes</td>\n",
              "        <td>no</td>\n",
              "        <td>Latitude &lt; 50</td>\n",
              "    </tr>\n",
              "    <tr>\n",
              "        <td>Constanta</td>\n",
              "        <td>44.2</td>\n",
              "        <td>11.24</td>\n",
              "        <td>yes</td>\n",
              "        <td>yes</td>\n",
              "        <td>Latitude &lt; 50</td>\n",
              "    </tr>\n",
              "    <tr>\n",
              "        <td>Craiova</td>\n",
              "        <td>44.33</td>\n",
              "        <td>10.51</td>\n",
              "        <td>yes</td>\n",
              "        <td>yes</td>\n",
              "        <td>Latitude &lt; 50</td>\n",
              "    </tr>\n",
              "    <tr>\n",
              "        <td>Genoa</td>\n",
              "        <td>44.41</td>\n",
              "        <td>12.94</td>\n",
              "        <td>yes</td>\n",
              "        <td>yes</td>\n",
              "        <td>Latitude &lt; 50</td>\n",
              "    </tr>\n",
              "    <tr>\n",
              "        <td>Bucharest</td>\n",
              "        <td>44.43</td>\n",
              "        <td>10.59</td>\n",
              "        <td>yes</td>\n",
              "        <td>yes</td>\n",
              "        <td>Latitude &lt; 50</td>\n",
              "    </tr>\n",
              "    <tr>\n",
              "        <td>Bologna</td>\n",
              "        <td>44.5</td>\n",
              "        <td>11.69</td>\n",
              "        <td>yes</td>\n",
              "        <td>yes</td>\n",
              "        <td>Latitude &lt; 50</td>\n",
              "    </tr>\n",
              "    <tr>\n",
              "        <td>Belgrade</td>\n",
              "        <td>44.82</td>\n",
              "        <td>9.85</td>\n",
              "        <td>no</td>\n",
              "        <td>no</td>\n",
              "        <td>Latitude &lt; 50</td>\n",
              "    </tr>\n",
              "    <tr>\n",
              "        <td>Bordeaux</td>\n",
              "        <td>44.85</td>\n",
              "        <td>11.87</td>\n",
              "        <td>yes</td>\n",
              "        <td>yes</td>\n",
              "        <td>Latitude &lt; 50</td>\n",
              "    </tr>\n",
              "    <tr>\n",
              "        <td>Grenoble</td>\n",
              "        <td>45.18</td>\n",
              "        <td>8.4</td>\n",
              "        <td>yes</td>\n",
              "        <td>yes</td>\n",
              "        <td>Latitude &lt; 50</td>\n",
              "    </tr>\n",
              "    <tr>\n",
              "        <td>Yevpatoriya</td>\n",
              "        <td>45.2</td>\n",
              "        <td>10.02</td>\n",
              "        <td>yes</td>\n",
              "        <td>no</td>\n",
              "        <td>Latitude &lt; 50</td>\n",
              "    </tr>\n",
              "    <tr>\n",
              "        <td>Novi Sad</td>\n",
              "        <td>45.25</td>\n",
              "        <td>10.34</td>\n",
              "        <td>no</td>\n",
              "        <td>no</td>\n",
              "        <td>Latitude &lt; 50</td>\n",
              "    </tr>\n",
              "    <tr>\n",
              "        <td>Braila</td>\n",
              "        <td>45.29</td>\n",
              "        <td>9.78</td>\n",
              "        <td>yes</td>\n",
              "        <td>yes</td>\n",
              "        <td>Latitude &lt; 50</td>\n",
              "    </tr>\n",
              "    <tr>\n",
              "        <td>Rijeka</td>\n",
              "        <td>45.33</td>\n",
              "        <td>9.27</td>\n",
              "        <td>yes</td>\n",
              "        <td>yes</td>\n",
              "        <td>Latitude &lt; 50</td>\n",
              "    </tr>\n",
              "    <tr>\n",
              "        <td>Milan</td>\n",
              "        <td>45.47</td>\n",
              "        <td>6.65</td>\n",
              "        <td>yes</td>\n",
              "        <td>yes</td>\n",
              "        <td>Latitude &lt; 50</td>\n",
              "    </tr>\n",
              "    <tr>\n",
              "        <td>Trieste</td>\n",
              "        <td>45.65</td>\n",
              "        <td>11.21</td>\n",
              "        <td>yes</td>\n",
              "        <td>yes</td>\n",
              "        <td>Latitude &lt; 50</td>\n",
              "    </tr>\n",
              "    <tr>\n",
              "        <td>Bergamo</td>\n",
              "        <td>45.7</td>\n",
              "        <td>9.12</td>\n",
              "        <td>yes</td>\n",
              "        <td>yes</td>\n",
              "        <td>Latitude &lt; 50</td>\n",
              "    </tr>\n",
              "    <tr>\n",
              "        <td>Sibiu</td>\n",
              "        <td>45.8</td>\n",
              "        <td>6.97</td>\n",
              "        <td>yes</td>\n",
              "        <td>yes</td>\n",
              "        <td>Latitude &lt; 50</td>\n",
              "    </tr>\n",
              "    <tr>\n",
              "        <td>Limoges</td>\n",
              "        <td>45.83</td>\n",
              "        <td>10.32</td>\n",
              "        <td>yes</td>\n",
              "        <td>yes</td>\n",
              "        <td>Latitude &lt; 50</td>\n",
              "    </tr>\n",
              "    <tr>\n",
              "        <td>Ljubljana</td>\n",
              "        <td>46.06</td>\n",
              "        <td>9.27</td>\n",
              "        <td>yes</td>\n",
              "        <td>yes</td>\n",
              "        <td>Latitude &lt; 50</td>\n",
              "    </tr>\n",
              "    <tr>\n",
              "        <td>Arad</td>\n",
              "        <td>46.17</td>\n",
              "        <td>9.32</td>\n",
              "        <td>yes</td>\n",
              "        <td>yes</td>\n",
              "        <td>Latitude &lt; 50</td>\n",
              "    </tr>\n",
              "    <tr>\n",
              "        <td>Geneva</td>\n",
              "        <td>46.21</td>\n",
              "        <td>8.4</td>\n",
              "        <td>no</td>\n",
              "        <td>no</td>\n",
              "        <td>Latitude &lt; 50</td>\n",
              "    </tr>\n",
              "    <tr>\n",
              "        <td>Szeged</td>\n",
              "        <td>46.25</td>\n",
              "        <td>10.34</td>\n",
              "        <td>no</td>\n",
              "        <td>yes</td>\n",
              "        <td>Latitude &lt; 50</td>\n",
              "    </tr>\n",
              "    <tr>\n",
              "        <td>Bacau</td>\n",
              "        <td>46.58</td>\n",
              "        <td>7.51</td>\n",
              "        <td>yes</td>\n",
              "        <td>yes</td>\n",
              "        <td>Latitude &lt; 50</td>\n",
              "    </tr>\n",
              "    <tr>\n",
              "        <td>Kherson</td>\n",
              "        <td>46.63</td>\n",
              "        <td>8.64</td>\n",
              "        <td>yes</td>\n",
              "        <td>no</td>\n",
              "        <td>Latitude &lt; 50</td>\n",
              "    </tr>\n",
              "    <tr>\n",
              "        <td>Chisinau</td>\n",
              "        <td>47.01</td>\n",
              "        <td>8.6</td>\n",
              "        <td>no</td>\n",
              "        <td>no</td>\n",
              "        <td>Latitude &lt; 50</td>\n",
              "    </tr>\n",
              "    <tr>\n",
              "        <td>Graz</td>\n",
              "        <td>47.08</td>\n",
              "        <td>6.91</td>\n",
              "        <td>no</td>\n",
              "        <td>yes</td>\n",
              "        <td>Latitude &lt; 50</td>\n",
              "    </tr>\n",
              "    <tr>\n",
              "        <td>Innsbruck</td>\n",
              "        <td>47.28</td>\n",
              "        <td>4.54</td>\n",
              "        <td>no</td>\n",
              "        <td>yes</td>\n",
              "        <td>Latitude &lt; 50</td>\n",
              "    </tr>\n",
              "    <tr>\n",
              "        <td>Dijon</td>\n",
              "        <td>47.33</td>\n",
              "        <td>8.69</td>\n",
              "        <td>yes</td>\n",
              "        <td>yes</td>\n",
              "        <td>Latitude &lt; 50</td>\n",
              "    </tr>\n",
              "    <tr>\n",
              "        <td>Zurich</td>\n",
              "        <td>47.38</td>\n",
              "        <td>6.68</td>\n",
              "        <td>no</td>\n",
              "        <td>no</td>\n",
              "        <td>Latitude &lt; 50</td>\n",
              "    </tr>\n",
              "    <tr>\n",
              "        <td>Angers</td>\n",
              "        <td>47.48</td>\n",
              "        <td>10.98</td>\n",
              "        <td>yes</td>\n",
              "        <td>yes</td>\n",
              "        <td>Latitude &lt; 50</td>\n",
              "    </tr>\n",
              "    <tr>\n",
              "        <td>Budapest</td>\n",
              "        <td>47.5</td>\n",
              "        <td>9.55</td>\n",
              "        <td>no</td>\n",
              "        <td>yes</td>\n",
              "        <td>Latitude &lt; 50</td>\n",
              "    </tr>\n",
              "    <tr>\n",
              "        <td>Debrecen</td>\n",
              "        <td>47.53</td>\n",
              "        <td>8.87</td>\n",
              "        <td>no</td>\n",
              "        <td>yes</td>\n",
              "        <td>Latitude &lt; 50</td>\n",
              "    </tr>\n",
              "    <tr>\n",
              "        <td>Basel</td>\n",
              "        <td>47.58</td>\n",
              "        <td>6.68</td>\n",
              "        <td>no</td>\n",
              "        <td>no</td>\n",
              "        <td>Latitude &lt; 50</td>\n",
              "    </tr>\n",
              "    <tr>\n",
              "        <td>Baia Mare</td>\n",
              "        <td>47.66</td>\n",
              "        <td>8.87</td>\n",
              "        <td>yes</td>\n",
              "        <td>yes</td>\n",
              "        <td>Latitude &lt; 50</td>\n",
              "    </tr>\n",
              "    <tr>\n",
              "        <td>Gyor</td>\n",
              "        <td>47.7</td>\n",
              "        <td>9.65</td>\n",
              "        <td>no</td>\n",
              "        <td>yes</td>\n",
              "        <td>Latitude &lt; 50</td>\n",
              "    </tr>\n",
              "    <tr>\n",
              "        <td>Botosani</td>\n",
              "        <td>47.75</td>\n",
              "        <td>8.23</td>\n",
              "        <td>yes</td>\n",
              "        <td>yes</td>\n",
              "        <td>Latitude &lt; 50</td>\n",
              "    </tr>\n",
              "    <tr>\n",
              "        <td>Mulhouse</td>\n",
              "        <td>47.75</td>\n",
              "        <td>6.68</td>\n",
              "        <td>yes</td>\n",
              "        <td>yes</td>\n",
              "        <td>Latitude &lt; 50</td>\n",
              "    </tr>\n",
              "    <tr>\n",
              "        <td>Balti</td>\n",
              "        <td>47.76</td>\n",
              "        <td>8.23</td>\n",
              "        <td>no</td>\n",
              "        <td>no</td>\n",
              "        <td>Latitude &lt; 50</td>\n",
              "    </tr>\n",
              "    <tr>\n",
              "        <td>Salzburg</td>\n",
              "        <td>47.81</td>\n",
              "        <td>4.62</td>\n",
              "        <td>no</td>\n",
              "        <td>yes</td>\n",
              "        <td>Latitude &lt; 50</td>\n",
              "    </tr>\n",
              "    <tr>\n",
              "        <td>Kryvyy Rih</td>\n",
              "        <td>47.93</td>\n",
              "        <td>8.61</td>\n",
              "        <td>yes</td>\n",
              "        <td>no</td>\n",
              "        <td>Latitude &lt; 50</td>\n",
              "    </tr>\n",
              "    <tr>\n",
              "        <td>Freiburg</td>\n",
              "        <td>48.0</td>\n",
              "        <td>6.68</td>\n",
              "        <td>yes</td>\n",
              "        <td>yes</td>\n",
              "        <td>Latitude &lt; 50</td>\n",
              "    </tr>\n",
              "    <tr>\n",
              "        <td>Le Mans</td>\n",
              "        <td>48.0</td>\n",
              "        <td>10.59</td>\n",
              "        <td>yes</td>\n",
              "        <td>yes</td>\n",
              "        <td>Latitude &lt; 50</td>\n",
              "    </tr>\n",
              "    <tr>\n",
              "        <td>Makiyivka</td>\n",
              "        <td>48.03</td>\n",
              "        <td>8.7</td>\n",
              "        <td>yes</td>\n",
              "        <td>no</td>\n",
              "        <td>Latitude &lt; 50</td>\n",
              "    </tr>\n",
              "    <tr>\n",
              "        <td>Bratislava</td>\n",
              "        <td>48.15</td>\n",
              "        <td>9.65</td>\n",
              "        <td>no</td>\n",
              "        <td>yes</td>\n",
              "        <td>Latitude &lt; 50</td>\n",
              "    </tr>\n",
              "    <tr>\n",
              "        <td>Vienna</td>\n",
              "        <td>48.2</td>\n",
              "        <td>7.86</td>\n",
              "        <td>no</td>\n",
              "        <td>yes</td>\n",
              "        <td>Latitude &lt; 50</td>\n",
              "    </tr>\n",
              "    <tr>\n",
              "        <td>Horlivka</td>\n",
              "        <td>48.3</td>\n",
              "        <td>7.12</td>\n",
              "        <td>yes</td>\n",
              "        <td>no</td>\n",
              "        <td>Latitude &lt; 50</td>\n",
              "    </tr>\n",
              "    <tr>\n",
              "        <td>Chernivtsi</td>\n",
              "        <td>48.31</td>\n",
              "        <td>7.06</td>\n",
              "        <td>yes</td>\n",
              "        <td>no</td>\n",
              "        <td>Latitude &lt; 50</td>\n",
              "    </tr>\n",
              "    <tr>\n",
              "        <td>Linz</td>\n",
              "        <td>48.32</td>\n",
              "        <td>6.79</td>\n",
              "        <td>no</td>\n",
              "        <td>yes</td>\n",
              "        <td>Latitude &lt; 50</td>\n",
              "    </tr>\n",
              "    <tr>\n",
              "        <td>Augsburg</td>\n",
              "        <td>48.35</td>\n",
              "        <td>4.54</td>\n",
              "        <td>yes</td>\n",
              "        <td>yes</td>\n",
              "        <td>Latitude &lt; 50</td>\n",
              "    </tr>\n",
              "    <tr>\n",
              "        <td>Brest</td>\n",
              "        <td>48.39</td>\n",
              "        <td>11.02</td>\n",
              "        <td>yes</td>\n",
              "        <td>yes</td>\n",
              "        <td>Latitude &lt; 50</td>\n",
              "    </tr>\n",
              "    <tr>\n",
              "        <td>Kosice</td>\n",
              "        <td>48.73</td>\n",
              "        <td>7.31</td>\n",
              "        <td>no</td>\n",
              "        <td>yes</td>\n",
              "        <td>Latitude &lt; 50</td>\n",
              "    </tr>\n",
              "    <tr>\n",
              "        <td>Ingolstadt</td>\n",
              "        <td>48.77</td>\n",
              "        <td>7.57</td>\n",
              "        <td>yes</td>\n",
              "        <td>yes</td>\n",
              "        <td>Latitude &lt; 50</td>\n",
              "    </tr>\n",
              "    <tr>\n",
              "        <td>Karlsruhe</td>\n",
              "        <td>49.0</td>\n",
              "        <td>8.88</td>\n",
              "        <td>yes</td>\n",
              "        <td>yes</td>\n",
              "        <td>Latitude &lt; 50</td>\n",
              "    </tr>\n",
              "    <tr>\n",
              "        <td>Kremenchuk</td>\n",
              "        <td>49.08</td>\n",
              "        <td>7.43</td>\n",
              "        <td>yes</td>\n",
              "        <td>no</td>\n",
              "        <td>Latitude &lt; 50</td>\n",
              "    </tr>\n",
              "    <tr>\n",
              "        <td>Metz</td>\n",
              "        <td>49.12</td>\n",
              "        <td>8.88</td>\n",
              "        <td>yes</td>\n",
              "        <td>yes</td>\n",
              "        <td>Latitude &lt; 50</td>\n",
              "    </tr>\n",
              "    <tr>\n",
              "        <td>Caen</td>\n",
              "        <td>49.18</td>\n",
              "        <td>9.96</td>\n",
              "        <td>yes</td>\n",
              "        <td>yes</td>\n",
              "        <td>Latitude &lt; 50</td>\n",
              "    </tr>\n",
              "    <tr>\n",
              "        <td>Brno</td>\n",
              "        <td>49.2</td>\n",
              "        <td>7.86</td>\n",
              "        <td>no</td>\n",
              "        <td>yes</td>\n",
              "        <td>Latitude &lt; 50</td>\n",
              "    </tr>\n",
              "    <tr>\n",
              "        <td>Reims</td>\n",
              "        <td>49.25</td>\n",
              "        <td>9.4</td>\n",
              "        <td>yes</td>\n",
              "        <td>yes</td>\n",
              "        <td>Latitude &lt; 50</td>\n",
              "    </tr>\n",
              "    <tr>\n",
              "        <td>Heidelberg</td>\n",
              "        <td>49.42</td>\n",
              "        <td>8.47</td>\n",
              "        <td>yes</td>\n",
              "        <td>yes</td>\n",
              "        <td>Latitude &lt; 50</td>\n",
              "    </tr>\n",
              "    <tr>\n",
              "        <td>Cherkasy</td>\n",
              "        <td>49.43</td>\n",
              "        <td>7.19</td>\n",
              "        <td>yes</td>\n",
              "        <td>no</td>\n",
              "        <td>Latitude &lt; 50</td>\n",
              "    </tr>\n",
              "    <tr>\n",
              "        <td>Bila Tserkva</td>\n",
              "        <td>49.77</td>\n",
              "        <td>6.98</td>\n",
              "        <td>yes</td>\n",
              "        <td>no</td>\n",
              "        <td>Latitude &lt; 50</td>\n",
              "    </tr>\n",
              "    <tr>\n",
              "        <td>Lvov</td>\n",
              "        <td>49.83</td>\n",
              "        <td>7.04</td>\n",
              "        <td>yes</td>\n",
              "        <td>no</td>\n",
              "        <td>Latitude &lt; 50</td>\n",
              "    </tr>\n",
              "    <tr>\n",
              "        <td>Ostrava</td>\n",
              "        <td>49.83</td>\n",
              "        <td>7.66</td>\n",
              "        <td>no</td>\n",
              "        <td>yes</td>\n",
              "        <td>Latitude &lt; 50</td>\n",
              "    </tr>\n",
              "    <tr>\n",
              "        <td>Amiens</td>\n",
              "        <td>49.9</td>\n",
              "        <td>10.17</td>\n",
              "        <td>yes</td>\n",
              "        <td>yes</td>\n",
              "        <td>Latitude &lt; 50</td>\n",
              "    </tr>\n",
              "</table>"
            ]
          },
          "metadata": {},
          "execution_count": 184
        }
      ]
    },
    {
      "cell_type": "markdown",
      "metadata": {
        "id": "KNQ8lY-PMZil"
      },
      "source": [
        "### <font color = 'green'>**Your Turn**</font>"
      ]
    },
    {
      "cell_type": "markdown",
      "metadata": {
        "id": "V0LLep07MZil"
      },
      "source": [
        "*For each country in the EU, find the latitude of the northernmost city in the country, i.e., the maximum latitude. Return the country and its maximum latitude, in descending order of maximum latitude.*"
      ]
    },
    {
      "cell_type": "code",
      "execution_count": 185,
      "metadata": {
        "id": "NrfFesrRMZil",
        "colab": {
          "base_uri": "https://localhost:8080/",
          "height": 609
        },
        "outputId": "99344669-594f-46c9-ed6b-b9400d764da4"
      },
      "outputs": [
        {
          "output_type": "stream",
          "name": "stdout",
          "text": [
            " * sqlite://\n",
            "Done.\n"
          ]
        },
        {
          "output_type": "execute_result",
          "data": {
            "text/plain": [
              "[('Sweden', 67.85),\n",
              " ('Finland', 65.0),\n",
              " ('Estonia', 59.43),\n",
              " ('United Kingdom', 57.47),\n",
              " ('Denmark', 57.03),\n",
              " ('Latvia', 56.95),\n",
              " ('Lithuania', 55.72),\n",
              " ('Poland', 54.2),\n",
              " ('Germany', 54.07),\n",
              " ('Ireland', 53.33),\n",
              " ('Netherlands', 53.22),\n",
              " ('Belgium', 51.22),\n",
              " ('France', 50.65),\n",
              " ('Czech Republic', 50.08),\n",
              " ('Slovakia', 48.73),\n",
              " ('Austria', 48.32),\n",
              " ('Romania', 47.75),\n",
              " ('Hungary', 47.7),\n",
              " ('Slovenia', 46.06),\n",
              " ('Italy', 45.7),\n",
              " ('Croatia', 45.33),\n",
              " ('Bulgaria', 43.85),\n",
              " ('Spain', 43.38),\n",
              " ('Portugal', 41.55),\n",
              " ('Greece', 39.56)]"
            ],
            "text/html": [
              "<table>\n",
              "    <tr>\n",
              "        <th>country</th>\n",
              "        <th>max_latitude</th>\n",
              "    </tr>\n",
              "    <tr>\n",
              "        <td>Sweden</td>\n",
              "        <td>67.85</td>\n",
              "    </tr>\n",
              "    <tr>\n",
              "        <td>Finland</td>\n",
              "        <td>65.0</td>\n",
              "    </tr>\n",
              "    <tr>\n",
              "        <td>Estonia</td>\n",
              "        <td>59.43</td>\n",
              "    </tr>\n",
              "    <tr>\n",
              "        <td>United Kingdom</td>\n",
              "        <td>57.47</td>\n",
              "    </tr>\n",
              "    <tr>\n",
              "        <td>Denmark</td>\n",
              "        <td>57.03</td>\n",
              "    </tr>\n",
              "    <tr>\n",
              "        <td>Latvia</td>\n",
              "        <td>56.95</td>\n",
              "    </tr>\n",
              "    <tr>\n",
              "        <td>Lithuania</td>\n",
              "        <td>55.72</td>\n",
              "    </tr>\n",
              "    <tr>\n",
              "        <td>Poland</td>\n",
              "        <td>54.2</td>\n",
              "    </tr>\n",
              "    <tr>\n",
              "        <td>Germany</td>\n",
              "        <td>54.07</td>\n",
              "    </tr>\n",
              "    <tr>\n",
              "        <td>Ireland</td>\n",
              "        <td>53.33</td>\n",
              "    </tr>\n",
              "    <tr>\n",
              "        <td>Netherlands</td>\n",
              "        <td>53.22</td>\n",
              "    </tr>\n",
              "    <tr>\n",
              "        <td>Belgium</td>\n",
              "        <td>51.22</td>\n",
              "    </tr>\n",
              "    <tr>\n",
              "        <td>France</td>\n",
              "        <td>50.65</td>\n",
              "    </tr>\n",
              "    <tr>\n",
              "        <td>Czech Republic</td>\n",
              "        <td>50.08</td>\n",
              "    </tr>\n",
              "    <tr>\n",
              "        <td>Slovakia</td>\n",
              "        <td>48.73</td>\n",
              "    </tr>\n",
              "    <tr>\n",
              "        <td>Austria</td>\n",
              "        <td>48.32</td>\n",
              "    </tr>\n",
              "    <tr>\n",
              "        <td>Romania</td>\n",
              "        <td>47.75</td>\n",
              "    </tr>\n",
              "    <tr>\n",
              "        <td>Hungary</td>\n",
              "        <td>47.7</td>\n",
              "    </tr>\n",
              "    <tr>\n",
              "        <td>Slovenia</td>\n",
              "        <td>46.06</td>\n",
              "    </tr>\n",
              "    <tr>\n",
              "        <td>Italy</td>\n",
              "        <td>45.7</td>\n",
              "    </tr>\n",
              "    <tr>\n",
              "        <td>Croatia</td>\n",
              "        <td>45.33</td>\n",
              "    </tr>\n",
              "    <tr>\n",
              "        <td>Bulgaria</td>\n",
              "        <td>43.85</td>\n",
              "    </tr>\n",
              "    <tr>\n",
              "        <td>Spain</td>\n",
              "        <td>43.38</td>\n",
              "    </tr>\n",
              "    <tr>\n",
              "        <td>Portugal</td>\n",
              "        <td>41.55</td>\n",
              "    </tr>\n",
              "    <tr>\n",
              "        <td>Greece</td>\n",
              "        <td>39.56</td>\n",
              "    </tr>\n",
              "</table>"
            ]
          },
          "metadata": {},
          "execution_count": 185
        }
      ],
      "source": [
        "%%sql\n",
        "SELECT\n",
        "    Countries.country,\n",
        "    MAX(Cities.latitude) AS max_latitude\n",
        "FROM\n",
        "    Cities\n",
        "JOIN\n",
        "    Countries ON Cities.country = Countries.country\n",
        "WHERE\n",
        "    Countries.eu = 'yes'\n",
        "GROUP BY\n",
        "    Countries.country\n",
        "ORDER BY\n",
        "    max_latitude DESC;\n"
      ]
    },
    {
      "cell_type": "markdown",
      "source": [
        "#### A Bug in SQLite - just FYI"
      ],
      "metadata": {
        "id": "dTd21Zp-cQZF"
      }
    },
    {
      "cell_type": "code",
      "source": [
        "%%sql\n",
        "select country, avg(temperature)\n",
        "from Cities\n",
        "group by country"
      ],
      "metadata": {
        "id": "GNte5qsScd3J",
        "colab": {
          "base_uri": "https://localhost:8080/",
          "height": 865
        },
        "outputId": "69aa1455-f7db-4ad4-fbba-ab3d581e6856"
      },
      "execution_count": 186,
      "outputs": [
        {
          "output_type": "stream",
          "name": "stdout",
          "text": [
            " * sqlite://\n",
            "Done.\n"
          ]
        },
        {
          "output_type": "execute_result",
          "data": {
            "text/plain": [
              "[('Albania', 15.18),\n",
              " ('Andorra', 9.6),\n",
              " ('Austria', 6.144),\n",
              " ('Belarus', 5.946666666666666),\n",
              " ('Belgium', 9.65),\n",
              " ('Bosnia and Herzegovina', 9.6),\n",
              " ('Bulgaria', 10.44),\n",
              " ('Croatia', 10.865),\n",
              " ('Czech Republic', 7.8566666666666665),\n",
              " ('Denmark', 7.625),\n",
              " ('Estonia', 4.59),\n",
              " ('Finland', 3.4875),\n",
              " ('France', 10.151111111111112),\n",
              " ('Germany', 7.869285714285714),\n",
              " ('Greece', 16.9025),\n",
              " ('Hungary', 9.6025),\n",
              " ('Ireland', 9.299999999999999),\n",
              " ('Italy', 13.474666666666668),\n",
              " ('Latvia', 5.27),\n",
              " ('Lithuania', 6.1433333333333335),\n",
              " ('Macedonia', 9.36),\n",
              " ('Moldova', 8.415),\n",
              " ('Montenegro', 9.99),\n",
              " ('Netherlands', 8.756666666666668),\n",
              " ('Norway', 3.7260000000000004),\n",
              " ('Poland', 7.250000000000002),\n",
              " ('Portugal', 14.469999999999999),\n",
              " ('Romania', 9.224444444444444),\n",
              " ('Serbia', 9.85),\n",
              " ('Slovakia', 8.48),\n",
              " ('Slovenia', 9.27),\n",
              " ('Spain', 14.238333333333332),\n",
              " ('Sweden', 3.5866666666666673),\n",
              " ('Switzerland', 7.253333333333333),\n",
              " ('Turkey', 11.726666666666665),\n",
              " ('Ukraine', 7.420000000000002),\n",
              " ('United Kingdom', 8.649999999999999)]"
            ],
            "text/html": [
              "<table>\n",
              "    <tr>\n",
              "        <th>country</th>\n",
              "        <th>avg(temperature)</th>\n",
              "    </tr>\n",
              "    <tr>\n",
              "        <td>Albania</td>\n",
              "        <td>15.18</td>\n",
              "    </tr>\n",
              "    <tr>\n",
              "        <td>Andorra</td>\n",
              "        <td>9.6</td>\n",
              "    </tr>\n",
              "    <tr>\n",
              "        <td>Austria</td>\n",
              "        <td>6.144</td>\n",
              "    </tr>\n",
              "    <tr>\n",
              "        <td>Belarus</td>\n",
              "        <td>5.946666666666666</td>\n",
              "    </tr>\n",
              "    <tr>\n",
              "        <td>Belgium</td>\n",
              "        <td>9.65</td>\n",
              "    </tr>\n",
              "    <tr>\n",
              "        <td>Bosnia and Herzegovina</td>\n",
              "        <td>9.6</td>\n",
              "    </tr>\n",
              "    <tr>\n",
              "        <td>Bulgaria</td>\n",
              "        <td>10.44</td>\n",
              "    </tr>\n",
              "    <tr>\n",
              "        <td>Croatia</td>\n",
              "        <td>10.865</td>\n",
              "    </tr>\n",
              "    <tr>\n",
              "        <td>Czech Republic</td>\n",
              "        <td>7.8566666666666665</td>\n",
              "    </tr>\n",
              "    <tr>\n",
              "        <td>Denmark</td>\n",
              "        <td>7.625</td>\n",
              "    </tr>\n",
              "    <tr>\n",
              "        <td>Estonia</td>\n",
              "        <td>4.59</td>\n",
              "    </tr>\n",
              "    <tr>\n",
              "        <td>Finland</td>\n",
              "        <td>3.4875</td>\n",
              "    </tr>\n",
              "    <tr>\n",
              "        <td>France</td>\n",
              "        <td>10.151111111111112</td>\n",
              "    </tr>\n",
              "    <tr>\n",
              "        <td>Germany</td>\n",
              "        <td>7.869285714285714</td>\n",
              "    </tr>\n",
              "    <tr>\n",
              "        <td>Greece</td>\n",
              "        <td>16.9025</td>\n",
              "    </tr>\n",
              "    <tr>\n",
              "        <td>Hungary</td>\n",
              "        <td>9.6025</td>\n",
              "    </tr>\n",
              "    <tr>\n",
              "        <td>Ireland</td>\n",
              "        <td>9.299999999999999</td>\n",
              "    </tr>\n",
              "    <tr>\n",
              "        <td>Italy</td>\n",
              "        <td>13.474666666666668</td>\n",
              "    </tr>\n",
              "    <tr>\n",
              "        <td>Latvia</td>\n",
              "        <td>5.27</td>\n",
              "    </tr>\n",
              "    <tr>\n",
              "        <td>Lithuania</td>\n",
              "        <td>6.1433333333333335</td>\n",
              "    </tr>\n",
              "    <tr>\n",
              "        <td>Macedonia</td>\n",
              "        <td>9.36</td>\n",
              "    </tr>\n",
              "    <tr>\n",
              "        <td>Moldova</td>\n",
              "        <td>8.415</td>\n",
              "    </tr>\n",
              "    <tr>\n",
              "        <td>Montenegro</td>\n",
              "        <td>9.99</td>\n",
              "    </tr>\n",
              "    <tr>\n",
              "        <td>Netherlands</td>\n",
              "        <td>8.756666666666668</td>\n",
              "    </tr>\n",
              "    <tr>\n",
              "        <td>Norway</td>\n",
              "        <td>3.7260000000000004</td>\n",
              "    </tr>\n",
              "    <tr>\n",
              "        <td>Poland</td>\n",
              "        <td>7.250000000000002</td>\n",
              "    </tr>\n",
              "    <tr>\n",
              "        <td>Portugal</td>\n",
              "        <td>14.469999999999999</td>\n",
              "    </tr>\n",
              "    <tr>\n",
              "        <td>Romania</td>\n",
              "        <td>9.224444444444444</td>\n",
              "    </tr>\n",
              "    <tr>\n",
              "        <td>Serbia</td>\n",
              "        <td>9.85</td>\n",
              "    </tr>\n",
              "    <tr>\n",
              "        <td>Slovakia</td>\n",
              "        <td>8.48</td>\n",
              "    </tr>\n",
              "    <tr>\n",
              "        <td>Slovenia</td>\n",
              "        <td>9.27</td>\n",
              "    </tr>\n",
              "    <tr>\n",
              "        <td>Spain</td>\n",
              "        <td>14.238333333333332</td>\n",
              "    </tr>\n",
              "    <tr>\n",
              "        <td>Sweden</td>\n",
              "        <td>3.5866666666666673</td>\n",
              "    </tr>\n",
              "    <tr>\n",
              "        <td>Switzerland</td>\n",
              "        <td>7.253333333333333</td>\n",
              "    </tr>\n",
              "    <tr>\n",
              "        <td>Turkey</td>\n",
              "        <td>11.726666666666665</td>\n",
              "    </tr>\n",
              "    <tr>\n",
              "        <td>Ukraine</td>\n",
              "        <td>7.420000000000002</td>\n",
              "    </tr>\n",
              "    <tr>\n",
              "        <td>United Kingdom</td>\n",
              "        <td>8.649999999999999</td>\n",
              "    </tr>\n",
              "</table>"
            ]
          },
          "metadata": {},
          "execution_count": 186
        }
      ]
    },
    {
      "cell_type": "markdown",
      "source": [
        "*Modify previous query - add city to Select clause*"
      ],
      "metadata": {
        "id": "g007vRwWdOKF"
      }
    },
    {
      "cell_type": "code",
      "source": [
        "%%sql\n",
        "SELECT country, city, AVG(temperature)\n",
        "FROM Cities\n",
        "GROUP BY country, city;\n"
      ],
      "metadata": {
        "id": "3aTB8h2adGaf",
        "colab": {
          "base_uri": "https://localhost:8080/",
          "height": 4625
        },
        "outputId": "8f8f4cbc-8d41-4880-d10a-f0d3d35e744e"
      },
      "execution_count": 187,
      "outputs": [
        {
          "output_type": "stream",
          "name": "stdout",
          "text": [
            " * sqlite://\n",
            "Done.\n"
          ]
        },
        {
          "output_type": "execute_result",
          "data": {
            "text/plain": [
              "[('Albania', 'Elbasan', 15.18),\n",
              " ('Andorra', 'Andorra', 9.6),\n",
              " ('Austria', 'Graz', 6.91),\n",
              " ('Austria', 'Innsbruck', 4.54),\n",
              " ('Austria', 'Linz', 6.79),\n",
              " ('Austria', 'Salzburg', 4.62),\n",
              " ('Austria', 'Vienna', 7.86),\n",
              " ('Belarus', 'Brest', 6.73),\n",
              " ('Belarus', 'Hrodna', 6.07),\n",
              " ('Belarus', 'Mazyr', 6.25),\n",
              " ('Belarus', 'Minsk', 5.28),\n",
              " ('Belarus', 'Orsha', 4.93),\n",
              " ('Belarus', 'Pinsk', 6.42),\n",
              " ('Belgium', 'Brugge', 9.65),\n",
              " ('Bosnia and Herzegovina', 'Sarajevo', 9.6),\n",
              " ('Bulgaria', 'Burgas', 11.93),\n",
              " ('Bulgaria', 'Pleven', 10.51),\n",
              " ('Bulgaria', 'Plovdiv', 8.27),\n",
              " ('Bulgaria', 'Ruse', 10.59),\n",
              " ('Bulgaria', 'Stara Zagora', 10.9),\n",
              " ('Croatia', 'Rijeka', 9.27),\n",
              " ('Croatia', 'Split', 12.46),\n",
              " ('Czech Republic', 'Brno', 7.86),\n",
              " ('Czech Republic', 'Ostrava', 7.66),\n",
              " ('Czech Republic', 'Prague', 8.05),\n",
              " ('Denmark', 'Aalborg', 7.52),\n",
              " ('Denmark', 'Odense', 7.73),\n",
              " ('Estonia', 'Tallinn', 4.82),\n",
              " ('Estonia', 'Tartu', 4.36),\n",
              " ('Finland', 'Helsinki', 4.19),\n",
              " ('Finland', 'Oulu', 1.45),\n",
              " ('Finland', 'Tampere', 3.59),\n",
              " ('Finland', 'Turku', 4.72),\n",
              " ('France', 'Amiens', 10.17),\n",
              " ('France', 'Angers', 10.98),\n",
              " ('France', 'Bordeaux', 11.87),\n",
              " ('France', 'Brest', 11.02),\n",
              " ('France', 'Caen', 9.96),\n",
              " ('France', 'Dijon', 8.69),\n",
              " ('France', 'Grenoble', 8.4),\n",
              " ('France', 'Le Mans', 10.59),\n",
              " ('France', 'Lille', 9.65),\n",
              " ('France', 'Limoges', 10.32),\n",
              " ('France', 'Marseille', 14.98),\n",
              " ('France', 'Metz', 8.88),\n",
              " ('France', 'Montpellier', 11.11),\n",
              " ('France', 'Mulhouse', 6.68),\n",
              " ('France', 'Nice', 8.82),\n",
              " ('France', 'Perpignan', 10.95),\n",
              " ('France', 'Reims', 9.4),\n",
              " ('France', 'Toulouse', 10.25),\n",
              " ('Germany', 'Augsburg', 4.54),\n",
              " ('Germany', 'Berlin', 8.72),\n",
              " ('Germany', 'Bielefeld', 8.78),\n",
              " ('Germany', 'Bonn', 8.63),\n",
              " ('Germany', 'Bremen', 8.14),\n",
              " ('Germany', 'Chemnitz', 8.05),\n",
              " ('Germany', 'Erfurt', 7.4),\n",
              " ('Germany', 'Frankfurt', 7.98),\n",
              " ('Germany', 'Freiburg', 6.68),\n",
              " ('Germany', 'Heidelberg', 8.47),\n",
              " ('Germany', 'Ingolstadt', 7.57),\n",
              " ('Germany', 'Karlsruhe', 8.88),\n",
              " ('Germany', 'Magdeburg', 8.26),\n",
              " ('Germany', 'Rostock', 8.07),\n",
              " ('Greece', 'Athens', 17.41),\n",
              " ('Greece', 'Kalamata', 17.3),\n",
              " ('Greece', 'Patras', 16.9),\n",
              " ('Greece', 'Trikala', 16.0),\n",
              " ('Hungary', 'Budapest', 9.55),\n",
              " ('Hungary', 'Debrecen', 8.87),\n",
              " ('Hungary', 'Gyor', 9.65),\n",
              " ('Hungary', 'Szeged', 10.34),\n",
              " ('Ireland', 'Cork', 9.41),\n",
              " ('Ireland', 'Dublin', 8.49),\n",
              " ('Ireland', 'Galway', 10.0),\n",
              " ('Italy', 'Ancona', 13.52),\n",
              " ('Italy', 'Bari', 15.15),\n",
              " ('Italy', 'Bergamo', 9.12),\n",
              " ('Italy', 'Bologna', 11.69),\n",
              " ('Italy', 'Catania', 15.04),\n",
              " ('Italy', 'Cosenza', 16.6),\n",
              " ('Italy', 'Foggia', 13.83),\n",
              " ('Italy', 'Genoa', 12.94),\n",
              " ('Italy', 'Messina', 16.54),\n",
              " ('Italy', 'Milan', 6.65),\n",
              " ('Italy', 'Palermo', 17.9),\n",
              " ('Italy', 'Perugia', 11.7),\n",
              " ('Italy', 'Pescara', 15.13),\n",
              " ('Italy', 'Rome', 15.1),\n",
              " ('Italy', 'Trieste', 11.21),\n",
              " ('Latvia', 'Daugavpils', 5.38),\n",
              " ('Latvia', 'Riga', 5.16),\n",
              " ('Lithuania', 'Kaunas', 6.05),\n",
              " ('Lithuania', 'Klaipeda', 7.0),\n",
              " ('Lithuania', 'Vilnius', 5.38),\n",
              " ('Macedonia', 'Skopje', 9.36),\n",
              " ('Moldova', 'Balti', 8.23),\n",
              " ('Moldova', 'Chisinau', 8.6),\n",
              " ('Montenegro', 'Podgorica', 9.99),\n",
              " ('Netherlands', 'Amsterdam', 8.93),\n",
              " ('Netherlands', 'Groningen', 8.71),\n",
              " ('Netherlands', 'Maastricht', 8.63),\n",
              " ('Norway', 'Bergen', 1.75),\n",
              " ('Norway', 'Bodo', 4.5),\n",
              " ('Norway', 'Oslo', 2.32),\n",
              " ('Norway', 'Stavanger', 5.53),\n",
              " ('Norway', 'Trondheim', 4.53),\n",
              " ('Poland', 'Bialystok', 6.07),\n",
              " ('Poland', 'Bydgoszcz', 7.14),\n",
              " ('Poland', 'Bytom', 7.66),\n",
              " ('Poland', 'Elblag', 6.68),\n",
              " ('Poland', 'Kielce', 7.29),\n",
              " ('Poland', 'Koszalin', 7.73),\n",
              " ('Poland', 'Poznan', 8.31),\n",
              " ('Poland', 'Warsaw', 7.2),\n",
              " ('Poland', 'Wroclaw', 7.17),\n",
              " ('Portugal', 'Braga', 13.42),\n",
              " ('Portugal', 'Lisbon', 15.52),\n",
              " ('Romania', 'Arad', 9.32),\n",
              " ('Romania', 'Bacau', 7.51),\n",
              " ('Romania', 'Baia Mare', 8.87),\n",
              " ('Romania', 'Botosani', 8.23),\n",
              " ('Romania', 'Braila', 9.78),\n",
              " ('Romania', 'Bucharest', 10.59),\n",
              " ('Romania', 'Constanta', 11.24),\n",
              " ('Romania', 'Craiova', 10.51),\n",
              " ('Romania', 'Sibiu', 6.97),\n",
              " ('Serbia', 'Belgrade', 9.85),\n",
              " ('Serbia', 'Nis', 9.36),\n",
              " ('Serbia', 'Novi Sad', 10.34),\n",
              " ('Slovakia', 'Bratislava', 9.65),\n",
              " ('Slovakia', 'Kosice', 7.31),\n",
              " ('Slovenia', 'Ljubljana', 9.27),\n",
              " ('Spain', 'Albacete', 12.62),\n",
              " ('Spain', 'Algeciras', 17.38),\n",
              " ('Spain', 'Badajoz', 15.61),\n",
              " ('Spain', 'Barcelona', 15.78),\n",
              " ('Spain', 'Bilbao', 11.41),\n",
              " ('Spain', 'Burgos', 10.45),\n",
              " ('Spain', 'Cartagena', 17.32),\n",
              " ('Spain', 'Granada', 16.33),\n",
              " ('Spain', 'Huelva', 17.09),\n",
              " ('Spain', 'Madrid', 11.19),\n",
              " ('Spain', 'Marbella', 17.19),\n",
              " ('Spain', 'Murcia', 15.0),\n",
              " ('Spain', 'Oviedo', 10.85),\n",
              " ('Spain', 'Salamanca', 11.63),\n",
              " ('Spain', 'Santander', 13.4),\n",
              " ('Spain', 'Valencia', 16.02),\n",
              " ('Spain', 'Vigo', 12.85),\n",
              " ('Spain', 'Zaragoza', 14.17),\n",
              " ('Sweden', 'Abisko', 0.2),\n",
              " ('Sweden', 'Göteborg', 5.76),\n",
              " ('Sweden', 'Kiruna', -2.2),\n",
              " ('Sweden', 'Malmö', 7.33),\n",
              " ('Sweden', 'Stockholm', 6.26),\n",
              " ('Sweden', 'Uppsala', 4.17),\n",
              " ('Switzerland', 'Basel', 6.68),\n",
              " ('Switzerland', 'Geneva', 8.4),\n",
              " ('Switzerland', 'Zurich', 6.68),\n",
              " ('Turkey', 'Adana', 18.67),\n",
              " ('Turkey', 'Ankara', 9.86),\n",
              " ('Turkey', 'Antalya', 11.88),\n",
              " ('Turkey', 'Batman', 14.16),\n",
              " ('Turkey', 'Bursa', 11.16),\n",
              " ('Turkey', 'Denizli', 15.02),\n",
              " ('Turkey', 'Edirne', 10.9),\n",
              " ('Turkey', 'Erzincan', 8.67),\n",
              " ('Turkey', 'Erzurum', 5.17),\n",
              " ('Turkey', 'Eskisehir', 11.11),\n",
              " ('Turkey', 'Gaziantep', 13.46),\n",
              " ('Turkey', 'Istanbul', 13.2),\n",
              " ('Turkey', 'Karaman', 10.41),\n",
              " ('Turkey', 'Kayseri', 8.89),\n",
              " ('Turkey', 'Malatya', 14.13),\n",
              " ('Turkey', 'Manisa', 15.1),\n",
              " ('Turkey', 'Ordu', 11.92),\n",
              " ('Turkey', 'Samsun', 12.05),\n",
              " ('Turkey', 'Siirt', 12.48),\n",
              " ('Turkey', 'Sivas', 8.05),\n",
              " ('Turkey', 'Tarsus', 11.21),\n",
              " ('Turkey', 'Tekirdag', 13.02),\n",
              " ('Turkey', 'Trabzon', 10.28),\n",
              " ('Turkey', 'Zonguldak', 10.64),\n",
              " ('Ukraine', 'Bila Tserkva', 6.98),\n",
              " ('Ukraine', 'Cherkasy', 7.19),\n",
              " ('Ukraine', 'Chernihiv', 5.92),\n",
              " ('Ukraine', 'Chernivtsi', 7.06),\n",
              " ('Ukraine', 'Horlivka', 7.12),\n",
              " ('Ukraine', 'Kherson', 8.64),\n",
              " ('Ukraine', 'Kiev', 6.88),\n",
              " ('Ukraine', 'Kremenchuk', 7.43),\n",
              " ('Ukraine', 'Kryvyy Rih', 8.61),\n",
              " ('Ukraine', 'Lvov', 7.04),\n",
              " ('Ukraine', 'Makiyivka', 8.7),\n",
              " ('Ukraine', 'Rivne', 6.76),\n",
              " ('Ukraine', 'Sumy', 6.28),\n",
              " ('Ukraine', 'Yevpatoriya', 10.02),\n",
              " ('Ukraine', 'Zhytomyr', 6.67),\n",
              " ('United Kingdom', 'Aberdeen', 8.1),\n",
              " ('United Kingdom', 'Belfast', 8.48),\n",
              " ('United Kingdom', 'Birmingham', 8.81),\n",
              " ('United Kingdom', 'Blackpool', 9.15),\n",
              " ('United Kingdom', 'Bournemouth', 9.97),\n",
              " ('United Kingdom', 'Bradford', 8.39),\n",
              " ('United Kingdom', 'Cambridge', 9.25),\n",
              " ('United Kingdom', 'Dundee', 6.4),\n",
              " ('United Kingdom', 'Edinburgh', 7.43),\n",
              " ('United Kingdom', 'Exeter', 10.14),\n",
              " ('United Kingdom', 'Glasgow', 8.6),\n",
              " ('United Kingdom', 'Inverness', 8.0),\n",
              " ('United Kingdom', 'Swansea', 9.73)]"
            ],
            "text/html": [
              "<table>\n",
              "    <tr>\n",
              "        <th>country</th>\n",
              "        <th>city</th>\n",
              "        <th>AVG(temperature)</th>\n",
              "    </tr>\n",
              "    <tr>\n",
              "        <td>Albania</td>\n",
              "        <td>Elbasan</td>\n",
              "        <td>15.18</td>\n",
              "    </tr>\n",
              "    <tr>\n",
              "        <td>Andorra</td>\n",
              "        <td>Andorra</td>\n",
              "        <td>9.6</td>\n",
              "    </tr>\n",
              "    <tr>\n",
              "        <td>Austria</td>\n",
              "        <td>Graz</td>\n",
              "        <td>6.91</td>\n",
              "    </tr>\n",
              "    <tr>\n",
              "        <td>Austria</td>\n",
              "        <td>Innsbruck</td>\n",
              "        <td>4.54</td>\n",
              "    </tr>\n",
              "    <tr>\n",
              "        <td>Austria</td>\n",
              "        <td>Linz</td>\n",
              "        <td>6.79</td>\n",
              "    </tr>\n",
              "    <tr>\n",
              "        <td>Austria</td>\n",
              "        <td>Salzburg</td>\n",
              "        <td>4.62</td>\n",
              "    </tr>\n",
              "    <tr>\n",
              "        <td>Austria</td>\n",
              "        <td>Vienna</td>\n",
              "        <td>7.86</td>\n",
              "    </tr>\n",
              "    <tr>\n",
              "        <td>Belarus</td>\n",
              "        <td>Brest</td>\n",
              "        <td>6.73</td>\n",
              "    </tr>\n",
              "    <tr>\n",
              "        <td>Belarus</td>\n",
              "        <td>Hrodna</td>\n",
              "        <td>6.07</td>\n",
              "    </tr>\n",
              "    <tr>\n",
              "        <td>Belarus</td>\n",
              "        <td>Mazyr</td>\n",
              "        <td>6.25</td>\n",
              "    </tr>\n",
              "    <tr>\n",
              "        <td>Belarus</td>\n",
              "        <td>Minsk</td>\n",
              "        <td>5.28</td>\n",
              "    </tr>\n",
              "    <tr>\n",
              "        <td>Belarus</td>\n",
              "        <td>Orsha</td>\n",
              "        <td>4.93</td>\n",
              "    </tr>\n",
              "    <tr>\n",
              "        <td>Belarus</td>\n",
              "        <td>Pinsk</td>\n",
              "        <td>6.42</td>\n",
              "    </tr>\n",
              "    <tr>\n",
              "        <td>Belgium</td>\n",
              "        <td>Brugge</td>\n",
              "        <td>9.65</td>\n",
              "    </tr>\n",
              "    <tr>\n",
              "        <td>Bosnia and Herzegovina</td>\n",
              "        <td>Sarajevo</td>\n",
              "        <td>9.6</td>\n",
              "    </tr>\n",
              "    <tr>\n",
              "        <td>Bulgaria</td>\n",
              "        <td>Burgas</td>\n",
              "        <td>11.93</td>\n",
              "    </tr>\n",
              "    <tr>\n",
              "        <td>Bulgaria</td>\n",
              "        <td>Pleven</td>\n",
              "        <td>10.51</td>\n",
              "    </tr>\n",
              "    <tr>\n",
              "        <td>Bulgaria</td>\n",
              "        <td>Plovdiv</td>\n",
              "        <td>8.27</td>\n",
              "    </tr>\n",
              "    <tr>\n",
              "        <td>Bulgaria</td>\n",
              "        <td>Ruse</td>\n",
              "        <td>10.59</td>\n",
              "    </tr>\n",
              "    <tr>\n",
              "        <td>Bulgaria</td>\n",
              "        <td>Stara Zagora</td>\n",
              "        <td>10.9</td>\n",
              "    </tr>\n",
              "    <tr>\n",
              "        <td>Croatia</td>\n",
              "        <td>Rijeka</td>\n",
              "        <td>9.27</td>\n",
              "    </tr>\n",
              "    <tr>\n",
              "        <td>Croatia</td>\n",
              "        <td>Split</td>\n",
              "        <td>12.46</td>\n",
              "    </tr>\n",
              "    <tr>\n",
              "        <td>Czech Republic</td>\n",
              "        <td>Brno</td>\n",
              "        <td>7.86</td>\n",
              "    </tr>\n",
              "    <tr>\n",
              "        <td>Czech Republic</td>\n",
              "        <td>Ostrava</td>\n",
              "        <td>7.66</td>\n",
              "    </tr>\n",
              "    <tr>\n",
              "        <td>Czech Republic</td>\n",
              "        <td>Prague</td>\n",
              "        <td>8.05</td>\n",
              "    </tr>\n",
              "    <tr>\n",
              "        <td>Denmark</td>\n",
              "        <td>Aalborg</td>\n",
              "        <td>7.52</td>\n",
              "    </tr>\n",
              "    <tr>\n",
              "        <td>Denmark</td>\n",
              "        <td>Odense</td>\n",
              "        <td>7.73</td>\n",
              "    </tr>\n",
              "    <tr>\n",
              "        <td>Estonia</td>\n",
              "        <td>Tallinn</td>\n",
              "        <td>4.82</td>\n",
              "    </tr>\n",
              "    <tr>\n",
              "        <td>Estonia</td>\n",
              "        <td>Tartu</td>\n",
              "        <td>4.36</td>\n",
              "    </tr>\n",
              "    <tr>\n",
              "        <td>Finland</td>\n",
              "        <td>Helsinki</td>\n",
              "        <td>4.19</td>\n",
              "    </tr>\n",
              "    <tr>\n",
              "        <td>Finland</td>\n",
              "        <td>Oulu</td>\n",
              "        <td>1.45</td>\n",
              "    </tr>\n",
              "    <tr>\n",
              "        <td>Finland</td>\n",
              "        <td>Tampere</td>\n",
              "        <td>3.59</td>\n",
              "    </tr>\n",
              "    <tr>\n",
              "        <td>Finland</td>\n",
              "        <td>Turku</td>\n",
              "        <td>4.72</td>\n",
              "    </tr>\n",
              "    <tr>\n",
              "        <td>France</td>\n",
              "        <td>Amiens</td>\n",
              "        <td>10.17</td>\n",
              "    </tr>\n",
              "    <tr>\n",
              "        <td>France</td>\n",
              "        <td>Angers</td>\n",
              "        <td>10.98</td>\n",
              "    </tr>\n",
              "    <tr>\n",
              "        <td>France</td>\n",
              "        <td>Bordeaux</td>\n",
              "        <td>11.87</td>\n",
              "    </tr>\n",
              "    <tr>\n",
              "        <td>France</td>\n",
              "        <td>Brest</td>\n",
              "        <td>11.02</td>\n",
              "    </tr>\n",
              "    <tr>\n",
              "        <td>France</td>\n",
              "        <td>Caen</td>\n",
              "        <td>9.96</td>\n",
              "    </tr>\n",
              "    <tr>\n",
              "        <td>France</td>\n",
              "        <td>Dijon</td>\n",
              "        <td>8.69</td>\n",
              "    </tr>\n",
              "    <tr>\n",
              "        <td>France</td>\n",
              "        <td>Grenoble</td>\n",
              "        <td>8.4</td>\n",
              "    </tr>\n",
              "    <tr>\n",
              "        <td>France</td>\n",
              "        <td>Le Mans</td>\n",
              "        <td>10.59</td>\n",
              "    </tr>\n",
              "    <tr>\n",
              "        <td>France</td>\n",
              "        <td>Lille</td>\n",
              "        <td>9.65</td>\n",
              "    </tr>\n",
              "    <tr>\n",
              "        <td>France</td>\n",
              "        <td>Limoges</td>\n",
              "        <td>10.32</td>\n",
              "    </tr>\n",
              "    <tr>\n",
              "        <td>France</td>\n",
              "        <td>Marseille</td>\n",
              "        <td>14.98</td>\n",
              "    </tr>\n",
              "    <tr>\n",
              "        <td>France</td>\n",
              "        <td>Metz</td>\n",
              "        <td>8.88</td>\n",
              "    </tr>\n",
              "    <tr>\n",
              "        <td>France</td>\n",
              "        <td>Montpellier</td>\n",
              "        <td>11.11</td>\n",
              "    </tr>\n",
              "    <tr>\n",
              "        <td>France</td>\n",
              "        <td>Mulhouse</td>\n",
              "        <td>6.68</td>\n",
              "    </tr>\n",
              "    <tr>\n",
              "        <td>France</td>\n",
              "        <td>Nice</td>\n",
              "        <td>8.82</td>\n",
              "    </tr>\n",
              "    <tr>\n",
              "        <td>France</td>\n",
              "        <td>Perpignan</td>\n",
              "        <td>10.95</td>\n",
              "    </tr>\n",
              "    <tr>\n",
              "        <td>France</td>\n",
              "        <td>Reims</td>\n",
              "        <td>9.4</td>\n",
              "    </tr>\n",
              "    <tr>\n",
              "        <td>France</td>\n",
              "        <td>Toulouse</td>\n",
              "        <td>10.25</td>\n",
              "    </tr>\n",
              "    <tr>\n",
              "        <td>Germany</td>\n",
              "        <td>Augsburg</td>\n",
              "        <td>4.54</td>\n",
              "    </tr>\n",
              "    <tr>\n",
              "        <td>Germany</td>\n",
              "        <td>Berlin</td>\n",
              "        <td>8.72</td>\n",
              "    </tr>\n",
              "    <tr>\n",
              "        <td>Germany</td>\n",
              "        <td>Bielefeld</td>\n",
              "        <td>8.78</td>\n",
              "    </tr>\n",
              "    <tr>\n",
              "        <td>Germany</td>\n",
              "        <td>Bonn</td>\n",
              "        <td>8.63</td>\n",
              "    </tr>\n",
              "    <tr>\n",
              "        <td>Germany</td>\n",
              "        <td>Bremen</td>\n",
              "        <td>8.14</td>\n",
              "    </tr>\n",
              "    <tr>\n",
              "        <td>Germany</td>\n",
              "        <td>Chemnitz</td>\n",
              "        <td>8.05</td>\n",
              "    </tr>\n",
              "    <tr>\n",
              "        <td>Germany</td>\n",
              "        <td>Erfurt</td>\n",
              "        <td>7.4</td>\n",
              "    </tr>\n",
              "    <tr>\n",
              "        <td>Germany</td>\n",
              "        <td>Frankfurt</td>\n",
              "        <td>7.98</td>\n",
              "    </tr>\n",
              "    <tr>\n",
              "        <td>Germany</td>\n",
              "        <td>Freiburg</td>\n",
              "        <td>6.68</td>\n",
              "    </tr>\n",
              "    <tr>\n",
              "        <td>Germany</td>\n",
              "        <td>Heidelberg</td>\n",
              "        <td>8.47</td>\n",
              "    </tr>\n",
              "    <tr>\n",
              "        <td>Germany</td>\n",
              "        <td>Ingolstadt</td>\n",
              "        <td>7.57</td>\n",
              "    </tr>\n",
              "    <tr>\n",
              "        <td>Germany</td>\n",
              "        <td>Karlsruhe</td>\n",
              "        <td>8.88</td>\n",
              "    </tr>\n",
              "    <tr>\n",
              "        <td>Germany</td>\n",
              "        <td>Magdeburg</td>\n",
              "        <td>8.26</td>\n",
              "    </tr>\n",
              "    <tr>\n",
              "        <td>Germany</td>\n",
              "        <td>Rostock</td>\n",
              "        <td>8.07</td>\n",
              "    </tr>\n",
              "    <tr>\n",
              "        <td>Greece</td>\n",
              "        <td>Athens</td>\n",
              "        <td>17.41</td>\n",
              "    </tr>\n",
              "    <tr>\n",
              "        <td>Greece</td>\n",
              "        <td>Kalamata</td>\n",
              "        <td>17.3</td>\n",
              "    </tr>\n",
              "    <tr>\n",
              "        <td>Greece</td>\n",
              "        <td>Patras</td>\n",
              "        <td>16.9</td>\n",
              "    </tr>\n",
              "    <tr>\n",
              "        <td>Greece</td>\n",
              "        <td>Trikala</td>\n",
              "        <td>16.0</td>\n",
              "    </tr>\n",
              "    <tr>\n",
              "        <td>Hungary</td>\n",
              "        <td>Budapest</td>\n",
              "        <td>9.55</td>\n",
              "    </tr>\n",
              "    <tr>\n",
              "        <td>Hungary</td>\n",
              "        <td>Debrecen</td>\n",
              "        <td>8.87</td>\n",
              "    </tr>\n",
              "    <tr>\n",
              "        <td>Hungary</td>\n",
              "        <td>Gyor</td>\n",
              "        <td>9.65</td>\n",
              "    </tr>\n",
              "    <tr>\n",
              "        <td>Hungary</td>\n",
              "        <td>Szeged</td>\n",
              "        <td>10.34</td>\n",
              "    </tr>\n",
              "    <tr>\n",
              "        <td>Ireland</td>\n",
              "        <td>Cork</td>\n",
              "        <td>9.41</td>\n",
              "    </tr>\n",
              "    <tr>\n",
              "        <td>Ireland</td>\n",
              "        <td>Dublin</td>\n",
              "        <td>8.49</td>\n",
              "    </tr>\n",
              "    <tr>\n",
              "        <td>Ireland</td>\n",
              "        <td>Galway</td>\n",
              "        <td>10.0</td>\n",
              "    </tr>\n",
              "    <tr>\n",
              "        <td>Italy</td>\n",
              "        <td>Ancona</td>\n",
              "        <td>13.52</td>\n",
              "    </tr>\n",
              "    <tr>\n",
              "        <td>Italy</td>\n",
              "        <td>Bari</td>\n",
              "        <td>15.15</td>\n",
              "    </tr>\n",
              "    <tr>\n",
              "        <td>Italy</td>\n",
              "        <td>Bergamo</td>\n",
              "        <td>9.12</td>\n",
              "    </tr>\n",
              "    <tr>\n",
              "        <td>Italy</td>\n",
              "        <td>Bologna</td>\n",
              "        <td>11.69</td>\n",
              "    </tr>\n",
              "    <tr>\n",
              "        <td>Italy</td>\n",
              "        <td>Catania</td>\n",
              "        <td>15.04</td>\n",
              "    </tr>\n",
              "    <tr>\n",
              "        <td>Italy</td>\n",
              "        <td>Cosenza</td>\n",
              "        <td>16.6</td>\n",
              "    </tr>\n",
              "    <tr>\n",
              "        <td>Italy</td>\n",
              "        <td>Foggia</td>\n",
              "        <td>13.83</td>\n",
              "    </tr>\n",
              "    <tr>\n",
              "        <td>Italy</td>\n",
              "        <td>Genoa</td>\n",
              "        <td>12.94</td>\n",
              "    </tr>\n",
              "    <tr>\n",
              "        <td>Italy</td>\n",
              "        <td>Messina</td>\n",
              "        <td>16.54</td>\n",
              "    </tr>\n",
              "    <tr>\n",
              "        <td>Italy</td>\n",
              "        <td>Milan</td>\n",
              "        <td>6.65</td>\n",
              "    </tr>\n",
              "    <tr>\n",
              "        <td>Italy</td>\n",
              "        <td>Palermo</td>\n",
              "        <td>17.9</td>\n",
              "    </tr>\n",
              "    <tr>\n",
              "        <td>Italy</td>\n",
              "        <td>Perugia</td>\n",
              "        <td>11.7</td>\n",
              "    </tr>\n",
              "    <tr>\n",
              "        <td>Italy</td>\n",
              "        <td>Pescara</td>\n",
              "        <td>15.13</td>\n",
              "    </tr>\n",
              "    <tr>\n",
              "        <td>Italy</td>\n",
              "        <td>Rome</td>\n",
              "        <td>15.1</td>\n",
              "    </tr>\n",
              "    <tr>\n",
              "        <td>Italy</td>\n",
              "        <td>Trieste</td>\n",
              "        <td>11.21</td>\n",
              "    </tr>\n",
              "    <tr>\n",
              "        <td>Latvia</td>\n",
              "        <td>Daugavpils</td>\n",
              "        <td>5.38</td>\n",
              "    </tr>\n",
              "    <tr>\n",
              "        <td>Latvia</td>\n",
              "        <td>Riga</td>\n",
              "        <td>5.16</td>\n",
              "    </tr>\n",
              "    <tr>\n",
              "        <td>Lithuania</td>\n",
              "        <td>Kaunas</td>\n",
              "        <td>6.05</td>\n",
              "    </tr>\n",
              "    <tr>\n",
              "        <td>Lithuania</td>\n",
              "        <td>Klaipeda</td>\n",
              "        <td>7.0</td>\n",
              "    </tr>\n",
              "    <tr>\n",
              "        <td>Lithuania</td>\n",
              "        <td>Vilnius</td>\n",
              "        <td>5.38</td>\n",
              "    </tr>\n",
              "    <tr>\n",
              "        <td>Macedonia</td>\n",
              "        <td>Skopje</td>\n",
              "        <td>9.36</td>\n",
              "    </tr>\n",
              "    <tr>\n",
              "        <td>Moldova</td>\n",
              "        <td>Balti</td>\n",
              "        <td>8.23</td>\n",
              "    </tr>\n",
              "    <tr>\n",
              "        <td>Moldova</td>\n",
              "        <td>Chisinau</td>\n",
              "        <td>8.6</td>\n",
              "    </tr>\n",
              "    <tr>\n",
              "        <td>Montenegro</td>\n",
              "        <td>Podgorica</td>\n",
              "        <td>9.99</td>\n",
              "    </tr>\n",
              "    <tr>\n",
              "        <td>Netherlands</td>\n",
              "        <td>Amsterdam</td>\n",
              "        <td>8.93</td>\n",
              "    </tr>\n",
              "    <tr>\n",
              "        <td>Netherlands</td>\n",
              "        <td>Groningen</td>\n",
              "        <td>8.71</td>\n",
              "    </tr>\n",
              "    <tr>\n",
              "        <td>Netherlands</td>\n",
              "        <td>Maastricht</td>\n",
              "        <td>8.63</td>\n",
              "    </tr>\n",
              "    <tr>\n",
              "        <td>Norway</td>\n",
              "        <td>Bergen</td>\n",
              "        <td>1.75</td>\n",
              "    </tr>\n",
              "    <tr>\n",
              "        <td>Norway</td>\n",
              "        <td>Bodo</td>\n",
              "        <td>4.5</td>\n",
              "    </tr>\n",
              "    <tr>\n",
              "        <td>Norway</td>\n",
              "        <td>Oslo</td>\n",
              "        <td>2.32</td>\n",
              "    </tr>\n",
              "    <tr>\n",
              "        <td>Norway</td>\n",
              "        <td>Stavanger</td>\n",
              "        <td>5.53</td>\n",
              "    </tr>\n",
              "    <tr>\n",
              "        <td>Norway</td>\n",
              "        <td>Trondheim</td>\n",
              "        <td>4.53</td>\n",
              "    </tr>\n",
              "    <tr>\n",
              "        <td>Poland</td>\n",
              "        <td>Bialystok</td>\n",
              "        <td>6.07</td>\n",
              "    </tr>\n",
              "    <tr>\n",
              "        <td>Poland</td>\n",
              "        <td>Bydgoszcz</td>\n",
              "        <td>7.14</td>\n",
              "    </tr>\n",
              "    <tr>\n",
              "        <td>Poland</td>\n",
              "        <td>Bytom</td>\n",
              "        <td>7.66</td>\n",
              "    </tr>\n",
              "    <tr>\n",
              "        <td>Poland</td>\n",
              "        <td>Elblag</td>\n",
              "        <td>6.68</td>\n",
              "    </tr>\n",
              "    <tr>\n",
              "        <td>Poland</td>\n",
              "        <td>Kielce</td>\n",
              "        <td>7.29</td>\n",
              "    </tr>\n",
              "    <tr>\n",
              "        <td>Poland</td>\n",
              "        <td>Koszalin</td>\n",
              "        <td>7.73</td>\n",
              "    </tr>\n",
              "    <tr>\n",
              "        <td>Poland</td>\n",
              "        <td>Poznan</td>\n",
              "        <td>8.31</td>\n",
              "    </tr>\n",
              "    <tr>\n",
              "        <td>Poland</td>\n",
              "        <td>Warsaw</td>\n",
              "        <td>7.2</td>\n",
              "    </tr>\n",
              "    <tr>\n",
              "        <td>Poland</td>\n",
              "        <td>Wroclaw</td>\n",
              "        <td>7.17</td>\n",
              "    </tr>\n",
              "    <tr>\n",
              "        <td>Portugal</td>\n",
              "        <td>Braga</td>\n",
              "        <td>13.42</td>\n",
              "    </tr>\n",
              "    <tr>\n",
              "        <td>Portugal</td>\n",
              "        <td>Lisbon</td>\n",
              "        <td>15.52</td>\n",
              "    </tr>\n",
              "    <tr>\n",
              "        <td>Romania</td>\n",
              "        <td>Arad</td>\n",
              "        <td>9.32</td>\n",
              "    </tr>\n",
              "    <tr>\n",
              "        <td>Romania</td>\n",
              "        <td>Bacau</td>\n",
              "        <td>7.51</td>\n",
              "    </tr>\n",
              "    <tr>\n",
              "        <td>Romania</td>\n",
              "        <td>Baia Mare</td>\n",
              "        <td>8.87</td>\n",
              "    </tr>\n",
              "    <tr>\n",
              "        <td>Romania</td>\n",
              "        <td>Botosani</td>\n",
              "        <td>8.23</td>\n",
              "    </tr>\n",
              "    <tr>\n",
              "        <td>Romania</td>\n",
              "        <td>Braila</td>\n",
              "        <td>9.78</td>\n",
              "    </tr>\n",
              "    <tr>\n",
              "        <td>Romania</td>\n",
              "        <td>Bucharest</td>\n",
              "        <td>10.59</td>\n",
              "    </tr>\n",
              "    <tr>\n",
              "        <td>Romania</td>\n",
              "        <td>Constanta</td>\n",
              "        <td>11.24</td>\n",
              "    </tr>\n",
              "    <tr>\n",
              "        <td>Romania</td>\n",
              "        <td>Craiova</td>\n",
              "        <td>10.51</td>\n",
              "    </tr>\n",
              "    <tr>\n",
              "        <td>Romania</td>\n",
              "        <td>Sibiu</td>\n",
              "        <td>6.97</td>\n",
              "    </tr>\n",
              "    <tr>\n",
              "        <td>Serbia</td>\n",
              "        <td>Belgrade</td>\n",
              "        <td>9.85</td>\n",
              "    </tr>\n",
              "    <tr>\n",
              "        <td>Serbia</td>\n",
              "        <td>Nis</td>\n",
              "        <td>9.36</td>\n",
              "    </tr>\n",
              "    <tr>\n",
              "        <td>Serbia</td>\n",
              "        <td>Novi Sad</td>\n",
              "        <td>10.34</td>\n",
              "    </tr>\n",
              "    <tr>\n",
              "        <td>Slovakia</td>\n",
              "        <td>Bratislava</td>\n",
              "        <td>9.65</td>\n",
              "    </tr>\n",
              "    <tr>\n",
              "        <td>Slovakia</td>\n",
              "        <td>Kosice</td>\n",
              "        <td>7.31</td>\n",
              "    </tr>\n",
              "    <tr>\n",
              "        <td>Slovenia</td>\n",
              "        <td>Ljubljana</td>\n",
              "        <td>9.27</td>\n",
              "    </tr>\n",
              "    <tr>\n",
              "        <td>Spain</td>\n",
              "        <td>Albacete</td>\n",
              "        <td>12.62</td>\n",
              "    </tr>\n",
              "    <tr>\n",
              "        <td>Spain</td>\n",
              "        <td>Algeciras</td>\n",
              "        <td>17.38</td>\n",
              "    </tr>\n",
              "    <tr>\n",
              "        <td>Spain</td>\n",
              "        <td>Badajoz</td>\n",
              "        <td>15.61</td>\n",
              "    </tr>\n",
              "    <tr>\n",
              "        <td>Spain</td>\n",
              "        <td>Barcelona</td>\n",
              "        <td>15.78</td>\n",
              "    </tr>\n",
              "    <tr>\n",
              "        <td>Spain</td>\n",
              "        <td>Bilbao</td>\n",
              "        <td>11.41</td>\n",
              "    </tr>\n",
              "    <tr>\n",
              "        <td>Spain</td>\n",
              "        <td>Burgos</td>\n",
              "        <td>10.45</td>\n",
              "    </tr>\n",
              "    <tr>\n",
              "        <td>Spain</td>\n",
              "        <td>Cartagena</td>\n",
              "        <td>17.32</td>\n",
              "    </tr>\n",
              "    <tr>\n",
              "        <td>Spain</td>\n",
              "        <td>Granada</td>\n",
              "        <td>16.33</td>\n",
              "    </tr>\n",
              "    <tr>\n",
              "        <td>Spain</td>\n",
              "        <td>Huelva</td>\n",
              "        <td>17.09</td>\n",
              "    </tr>\n",
              "    <tr>\n",
              "        <td>Spain</td>\n",
              "        <td>Madrid</td>\n",
              "        <td>11.19</td>\n",
              "    </tr>\n",
              "    <tr>\n",
              "        <td>Spain</td>\n",
              "        <td>Marbella</td>\n",
              "        <td>17.19</td>\n",
              "    </tr>\n",
              "    <tr>\n",
              "        <td>Spain</td>\n",
              "        <td>Murcia</td>\n",
              "        <td>15.0</td>\n",
              "    </tr>\n",
              "    <tr>\n",
              "        <td>Spain</td>\n",
              "        <td>Oviedo</td>\n",
              "        <td>10.85</td>\n",
              "    </tr>\n",
              "    <tr>\n",
              "        <td>Spain</td>\n",
              "        <td>Salamanca</td>\n",
              "        <td>11.63</td>\n",
              "    </tr>\n",
              "    <tr>\n",
              "        <td>Spain</td>\n",
              "        <td>Santander</td>\n",
              "        <td>13.4</td>\n",
              "    </tr>\n",
              "    <tr>\n",
              "        <td>Spain</td>\n",
              "        <td>Valencia</td>\n",
              "        <td>16.02</td>\n",
              "    </tr>\n",
              "    <tr>\n",
              "        <td>Spain</td>\n",
              "        <td>Vigo</td>\n",
              "        <td>12.85</td>\n",
              "    </tr>\n",
              "    <tr>\n",
              "        <td>Spain</td>\n",
              "        <td>Zaragoza</td>\n",
              "        <td>14.17</td>\n",
              "    </tr>\n",
              "    <tr>\n",
              "        <td>Sweden</td>\n",
              "        <td>Abisko</td>\n",
              "        <td>0.2</td>\n",
              "    </tr>\n",
              "    <tr>\n",
              "        <td>Sweden</td>\n",
              "        <td>Göteborg</td>\n",
              "        <td>5.76</td>\n",
              "    </tr>\n",
              "    <tr>\n",
              "        <td>Sweden</td>\n",
              "        <td>Kiruna</td>\n",
              "        <td>-2.2</td>\n",
              "    </tr>\n",
              "    <tr>\n",
              "        <td>Sweden</td>\n",
              "        <td>Malmö</td>\n",
              "        <td>7.33</td>\n",
              "    </tr>\n",
              "    <tr>\n",
              "        <td>Sweden</td>\n",
              "        <td>Stockholm</td>\n",
              "        <td>6.26</td>\n",
              "    </tr>\n",
              "    <tr>\n",
              "        <td>Sweden</td>\n",
              "        <td>Uppsala</td>\n",
              "        <td>4.17</td>\n",
              "    </tr>\n",
              "    <tr>\n",
              "        <td>Switzerland</td>\n",
              "        <td>Basel</td>\n",
              "        <td>6.68</td>\n",
              "    </tr>\n",
              "    <tr>\n",
              "        <td>Switzerland</td>\n",
              "        <td>Geneva</td>\n",
              "        <td>8.4</td>\n",
              "    </tr>\n",
              "    <tr>\n",
              "        <td>Switzerland</td>\n",
              "        <td>Zurich</td>\n",
              "        <td>6.68</td>\n",
              "    </tr>\n",
              "    <tr>\n",
              "        <td>Turkey</td>\n",
              "        <td>Adana</td>\n",
              "        <td>18.67</td>\n",
              "    </tr>\n",
              "    <tr>\n",
              "        <td>Turkey</td>\n",
              "        <td>Ankara</td>\n",
              "        <td>9.86</td>\n",
              "    </tr>\n",
              "    <tr>\n",
              "        <td>Turkey</td>\n",
              "        <td>Antalya</td>\n",
              "        <td>11.88</td>\n",
              "    </tr>\n",
              "    <tr>\n",
              "        <td>Turkey</td>\n",
              "        <td>Batman</td>\n",
              "        <td>14.16</td>\n",
              "    </tr>\n",
              "    <tr>\n",
              "        <td>Turkey</td>\n",
              "        <td>Bursa</td>\n",
              "        <td>11.16</td>\n",
              "    </tr>\n",
              "    <tr>\n",
              "        <td>Turkey</td>\n",
              "        <td>Denizli</td>\n",
              "        <td>15.02</td>\n",
              "    </tr>\n",
              "    <tr>\n",
              "        <td>Turkey</td>\n",
              "        <td>Edirne</td>\n",
              "        <td>10.9</td>\n",
              "    </tr>\n",
              "    <tr>\n",
              "        <td>Turkey</td>\n",
              "        <td>Erzincan</td>\n",
              "        <td>8.67</td>\n",
              "    </tr>\n",
              "    <tr>\n",
              "        <td>Turkey</td>\n",
              "        <td>Erzurum</td>\n",
              "        <td>5.17</td>\n",
              "    </tr>\n",
              "    <tr>\n",
              "        <td>Turkey</td>\n",
              "        <td>Eskisehir</td>\n",
              "        <td>11.11</td>\n",
              "    </tr>\n",
              "    <tr>\n",
              "        <td>Turkey</td>\n",
              "        <td>Gaziantep</td>\n",
              "        <td>13.46</td>\n",
              "    </tr>\n",
              "    <tr>\n",
              "        <td>Turkey</td>\n",
              "        <td>Istanbul</td>\n",
              "        <td>13.2</td>\n",
              "    </tr>\n",
              "    <tr>\n",
              "        <td>Turkey</td>\n",
              "        <td>Karaman</td>\n",
              "        <td>10.41</td>\n",
              "    </tr>\n",
              "    <tr>\n",
              "        <td>Turkey</td>\n",
              "        <td>Kayseri</td>\n",
              "        <td>8.89</td>\n",
              "    </tr>\n",
              "    <tr>\n",
              "        <td>Turkey</td>\n",
              "        <td>Malatya</td>\n",
              "        <td>14.13</td>\n",
              "    </tr>\n",
              "    <tr>\n",
              "        <td>Turkey</td>\n",
              "        <td>Manisa</td>\n",
              "        <td>15.1</td>\n",
              "    </tr>\n",
              "    <tr>\n",
              "        <td>Turkey</td>\n",
              "        <td>Ordu</td>\n",
              "        <td>11.92</td>\n",
              "    </tr>\n",
              "    <tr>\n",
              "        <td>Turkey</td>\n",
              "        <td>Samsun</td>\n",
              "        <td>12.05</td>\n",
              "    </tr>\n",
              "    <tr>\n",
              "        <td>Turkey</td>\n",
              "        <td>Siirt</td>\n",
              "        <td>12.48</td>\n",
              "    </tr>\n",
              "    <tr>\n",
              "        <td>Turkey</td>\n",
              "        <td>Sivas</td>\n",
              "        <td>8.05</td>\n",
              "    </tr>\n",
              "    <tr>\n",
              "        <td>Turkey</td>\n",
              "        <td>Tarsus</td>\n",
              "        <td>11.21</td>\n",
              "    </tr>\n",
              "    <tr>\n",
              "        <td>Turkey</td>\n",
              "        <td>Tekirdag</td>\n",
              "        <td>13.02</td>\n",
              "    </tr>\n",
              "    <tr>\n",
              "        <td>Turkey</td>\n",
              "        <td>Trabzon</td>\n",
              "        <td>10.28</td>\n",
              "    </tr>\n",
              "    <tr>\n",
              "        <td>Turkey</td>\n",
              "        <td>Zonguldak</td>\n",
              "        <td>10.64</td>\n",
              "    </tr>\n",
              "    <tr>\n",
              "        <td>Ukraine</td>\n",
              "        <td>Bila Tserkva</td>\n",
              "        <td>6.98</td>\n",
              "    </tr>\n",
              "    <tr>\n",
              "        <td>Ukraine</td>\n",
              "        <td>Cherkasy</td>\n",
              "        <td>7.19</td>\n",
              "    </tr>\n",
              "    <tr>\n",
              "        <td>Ukraine</td>\n",
              "        <td>Chernihiv</td>\n",
              "        <td>5.92</td>\n",
              "    </tr>\n",
              "    <tr>\n",
              "        <td>Ukraine</td>\n",
              "        <td>Chernivtsi</td>\n",
              "        <td>7.06</td>\n",
              "    </tr>\n",
              "    <tr>\n",
              "        <td>Ukraine</td>\n",
              "        <td>Horlivka</td>\n",
              "        <td>7.12</td>\n",
              "    </tr>\n",
              "    <tr>\n",
              "        <td>Ukraine</td>\n",
              "        <td>Kherson</td>\n",
              "        <td>8.64</td>\n",
              "    </tr>\n",
              "    <tr>\n",
              "        <td>Ukraine</td>\n",
              "        <td>Kiev</td>\n",
              "        <td>6.88</td>\n",
              "    </tr>\n",
              "    <tr>\n",
              "        <td>Ukraine</td>\n",
              "        <td>Kremenchuk</td>\n",
              "        <td>7.43</td>\n",
              "    </tr>\n",
              "    <tr>\n",
              "        <td>Ukraine</td>\n",
              "        <td>Kryvyy Rih</td>\n",
              "        <td>8.61</td>\n",
              "    </tr>\n",
              "    <tr>\n",
              "        <td>Ukraine</td>\n",
              "        <td>Lvov</td>\n",
              "        <td>7.04</td>\n",
              "    </tr>\n",
              "    <tr>\n",
              "        <td>Ukraine</td>\n",
              "        <td>Makiyivka</td>\n",
              "        <td>8.7</td>\n",
              "    </tr>\n",
              "    <tr>\n",
              "        <td>Ukraine</td>\n",
              "        <td>Rivne</td>\n",
              "        <td>6.76</td>\n",
              "    </tr>\n",
              "    <tr>\n",
              "        <td>Ukraine</td>\n",
              "        <td>Sumy</td>\n",
              "        <td>6.28</td>\n",
              "    </tr>\n",
              "    <tr>\n",
              "        <td>Ukraine</td>\n",
              "        <td>Yevpatoriya</td>\n",
              "        <td>10.02</td>\n",
              "    </tr>\n",
              "    <tr>\n",
              "        <td>Ukraine</td>\n",
              "        <td>Zhytomyr</td>\n",
              "        <td>6.67</td>\n",
              "    </tr>\n",
              "    <tr>\n",
              "        <td>United Kingdom</td>\n",
              "        <td>Aberdeen</td>\n",
              "        <td>8.1</td>\n",
              "    </tr>\n",
              "    <tr>\n",
              "        <td>United Kingdom</td>\n",
              "        <td>Belfast</td>\n",
              "        <td>8.48</td>\n",
              "    </tr>\n",
              "    <tr>\n",
              "        <td>United Kingdom</td>\n",
              "        <td>Birmingham</td>\n",
              "        <td>8.81</td>\n",
              "    </tr>\n",
              "    <tr>\n",
              "        <td>United Kingdom</td>\n",
              "        <td>Blackpool</td>\n",
              "        <td>9.15</td>\n",
              "    </tr>\n",
              "    <tr>\n",
              "        <td>United Kingdom</td>\n",
              "        <td>Bournemouth</td>\n",
              "        <td>9.97</td>\n",
              "    </tr>\n",
              "    <tr>\n",
              "        <td>United Kingdom</td>\n",
              "        <td>Bradford</td>\n",
              "        <td>8.39</td>\n",
              "    </tr>\n",
              "    <tr>\n",
              "        <td>United Kingdom</td>\n",
              "        <td>Cambridge</td>\n",
              "        <td>9.25</td>\n",
              "    </tr>\n",
              "    <tr>\n",
              "        <td>United Kingdom</td>\n",
              "        <td>Dundee</td>\n",
              "        <td>6.4</td>\n",
              "    </tr>\n",
              "    <tr>\n",
              "        <td>United Kingdom</td>\n",
              "        <td>Edinburgh</td>\n",
              "        <td>7.43</td>\n",
              "    </tr>\n",
              "    <tr>\n",
              "        <td>United Kingdom</td>\n",
              "        <td>Exeter</td>\n",
              "        <td>10.14</td>\n",
              "    </tr>\n",
              "    <tr>\n",
              "        <td>United Kingdom</td>\n",
              "        <td>Glasgow</td>\n",
              "        <td>8.6</td>\n",
              "    </tr>\n",
              "    <tr>\n",
              "        <td>United Kingdom</td>\n",
              "        <td>Inverness</td>\n",
              "        <td>8.0</td>\n",
              "    </tr>\n",
              "    <tr>\n",
              "        <td>United Kingdom</td>\n",
              "        <td>Swansea</td>\n",
              "        <td>9.73</td>\n",
              "    </tr>\n",
              "</table>"
            ]
          },
          "metadata": {},
          "execution_count": 187
        }
      ]
    },
    {
      "cell_type": "markdown",
      "source": [
        "*Now focus on Austria and Sweden*"
      ],
      "metadata": {
        "id": "YuZ-mJZ4dkU_"
      }
    },
    {
      "cell_type": "code",
      "source": [
        "%%sql\n",
        "select *\n",
        "from Cities\n",
        "where country = 'Austria' or country = 'Sweden'\n",
        "order by country"
      ],
      "metadata": {
        "id": "ToOwU34SdtME",
        "colab": {
          "base_uri": "https://localhost:8080/",
          "height": 310
        },
        "outputId": "e118ee4d-81f6-4895-e777-7ad39ab42474"
      },
      "execution_count": 188,
      "outputs": [
        {
          "output_type": "stream",
          "name": "stdout",
          "text": [
            " * sqlite://\n",
            "Done.\n"
          ]
        },
        {
          "output_type": "execute_result",
          "data": {
            "text/plain": [
              "[('Graz', 'Austria', 47.08, 15.41, 6.91),\n",
              " ('Innsbruck', 'Austria', 47.28, 11.41, 4.54),\n",
              " ('Linz', 'Austria', 48.32, 14.29, 6.79),\n",
              " ('Salzburg', 'Austria', 47.81, 13.04, 4.62),\n",
              " ('Vienna', 'Austria', 48.2, 16.37, 7.86),\n",
              " ('Abisko', 'Sweden', 63.35, 18.83, 0.2),\n",
              " ('Göteborg', 'Sweden', 57.75, 12.0, 5.76),\n",
              " ('Kiruna', 'Sweden', 67.85, 20.22, -2.2),\n",
              " ('Malmö', 'Sweden', 55.58, 13.03, 7.33),\n",
              " ('Stockholm', 'Sweden', 59.35, 18.1, 6.26),\n",
              " ('Uppsala', 'Sweden', 59.86, 17.64, 4.17)]"
            ],
            "text/html": [
              "<table>\n",
              "    <tr>\n",
              "        <th>city</th>\n",
              "        <th>country</th>\n",
              "        <th>latitude</th>\n",
              "        <th>longitude</th>\n",
              "        <th>temperature</th>\n",
              "    </tr>\n",
              "    <tr>\n",
              "        <td>Graz</td>\n",
              "        <td>Austria</td>\n",
              "        <td>47.08</td>\n",
              "        <td>15.41</td>\n",
              "        <td>6.91</td>\n",
              "    </tr>\n",
              "    <tr>\n",
              "        <td>Innsbruck</td>\n",
              "        <td>Austria</td>\n",
              "        <td>47.28</td>\n",
              "        <td>11.41</td>\n",
              "        <td>4.54</td>\n",
              "    </tr>\n",
              "    <tr>\n",
              "        <td>Linz</td>\n",
              "        <td>Austria</td>\n",
              "        <td>48.32</td>\n",
              "        <td>14.29</td>\n",
              "        <td>6.79</td>\n",
              "    </tr>\n",
              "    <tr>\n",
              "        <td>Salzburg</td>\n",
              "        <td>Austria</td>\n",
              "        <td>47.81</td>\n",
              "        <td>13.04</td>\n",
              "        <td>4.62</td>\n",
              "    </tr>\n",
              "    <tr>\n",
              "        <td>Vienna</td>\n",
              "        <td>Austria</td>\n",
              "        <td>48.2</td>\n",
              "        <td>16.37</td>\n",
              "        <td>7.86</td>\n",
              "    </tr>\n",
              "    <tr>\n",
              "        <td>Abisko</td>\n",
              "        <td>Sweden</td>\n",
              "        <td>63.35</td>\n",
              "        <td>18.83</td>\n",
              "        <td>0.2</td>\n",
              "    </tr>\n",
              "    <tr>\n",
              "        <td>Göteborg</td>\n",
              "        <td>Sweden</td>\n",
              "        <td>57.75</td>\n",
              "        <td>12.0</td>\n",
              "        <td>5.76</td>\n",
              "    </tr>\n",
              "    <tr>\n",
              "        <td>Kiruna</td>\n",
              "        <td>Sweden</td>\n",
              "        <td>67.85</td>\n",
              "        <td>20.22</td>\n",
              "        <td>-2.2</td>\n",
              "    </tr>\n",
              "    <tr>\n",
              "        <td>Malmö</td>\n",
              "        <td>Sweden</td>\n",
              "        <td>55.58</td>\n",
              "        <td>13.03</td>\n",
              "        <td>7.33</td>\n",
              "    </tr>\n",
              "    <tr>\n",
              "        <td>Stockholm</td>\n",
              "        <td>Sweden</td>\n",
              "        <td>59.35</td>\n",
              "        <td>18.1</td>\n",
              "        <td>6.26</td>\n",
              "    </tr>\n",
              "    <tr>\n",
              "        <td>Uppsala</td>\n",
              "        <td>Sweden</td>\n",
              "        <td>59.86</td>\n",
              "        <td>17.64</td>\n",
              "        <td>4.17</td>\n",
              "    </tr>\n",
              "</table>"
            ]
          },
          "metadata": {},
          "execution_count": 188
        }
      ]
    },
    {
      "cell_type": "code",
      "source": [
        "%%sql\n",
        "select country, city, avg(temperature)\n",
        "from Cities\n",
        "where country = 'Austria' or country = 'Sweden'\n",
        "group by country"
      ],
      "metadata": {
        "id": "C5zWyxs9d-Wi",
        "colab": {
          "base_uri": "https://localhost:8080/",
          "height": 118
        },
        "outputId": "30cbc54c-7c9f-4dc8-84b2-d76abac73aa4"
      },
      "execution_count": 189,
      "outputs": [
        {
          "output_type": "stream",
          "name": "stdout",
          "text": [
            " * sqlite://\n",
            "Done.\n"
          ]
        },
        {
          "output_type": "execute_result",
          "data": {
            "text/plain": [
              "[('Austria', 'Graz', 6.144), ('Sweden', 'Abisko', 3.5866666666666673)]"
            ],
            "text/html": [
              "<table>\n",
              "    <tr>\n",
              "        <th>country</th>\n",
              "        <th>city</th>\n",
              "        <th>avg(temperature)</th>\n",
              "    </tr>\n",
              "    <tr>\n",
              "        <td>Austria</td>\n",
              "        <td>Graz</td>\n",
              "        <td>6.144</td>\n",
              "    </tr>\n",
              "    <tr>\n",
              "        <td>Sweden</td>\n",
              "        <td>Abisko</td>\n",
              "        <td>3.5866666666666673</td>\n",
              "    </tr>\n",
              "</table>"
            ]
          },
          "metadata": {},
          "execution_count": 189
        }
      ]
    },
    {
      "cell_type": "markdown",
      "source": [
        "*Modify previous query to min(temperature), max(temperature), then together in both orders*"
      ],
      "metadata": {
        "id": "YJjCYCtsfYIj"
      }
    },
    {
      "cell_type": "code",
      "source": [
        "%%sql\n",
        "SELECT\n",
        "    country,\n",
        "    city,\n",
        "    MIN(temperature) AS min_temperature,\n",
        "    MAX(temperature) AS max_temperature,\n",
        "    'Min: ' || MIN(temperature) || ', Max: ' || MAX(temperature) AS temperature_range\n",
        "FROM Cities\n",
        "WHERE country = 'Austria' OR country = 'Sweden'\n",
        "GROUP BY country, city;\n",
        "\n",
        "\n"
      ],
      "metadata": {
        "colab": {
          "base_uri": "https://localhost:8080/",
          "height": 310
        },
        "id": "_yU5wbhmdZtL",
        "outputId": "ce57f797-0eec-4a19-d220-aa772a7aab8c"
      },
      "execution_count": 190,
      "outputs": [
        {
          "output_type": "stream",
          "name": "stdout",
          "text": [
            " * sqlite://\n",
            "Done.\n"
          ]
        },
        {
          "output_type": "execute_result",
          "data": {
            "text/plain": [
              "[('Austria', 'Graz', 6.91, 6.91, 'Min: 6.91, Max: 6.91'),\n",
              " ('Austria', 'Innsbruck', 4.54, 4.54, 'Min: 4.54, Max: 4.54'),\n",
              " ('Austria', 'Linz', 6.79, 6.79, 'Min: 6.79, Max: 6.79'),\n",
              " ('Austria', 'Salzburg', 4.62, 4.62, 'Min: 4.62, Max: 4.62'),\n",
              " ('Austria', 'Vienna', 7.86, 7.86, 'Min: 7.86, Max: 7.86'),\n",
              " ('Sweden', 'Abisko', 0.2, 0.2, 'Min: 0.2, Max: 0.2'),\n",
              " ('Sweden', 'Göteborg', 5.76, 5.76, 'Min: 5.76, Max: 5.76'),\n",
              " ('Sweden', 'Kiruna', -2.2, -2.2, 'Min: -2.2, Max: -2.2'),\n",
              " ('Sweden', 'Malmö', 7.33, 7.33, 'Min: 7.33, Max: 7.33'),\n",
              " ('Sweden', 'Stockholm', 6.26, 6.26, 'Min: 6.26, Max: 6.26'),\n",
              " ('Sweden', 'Uppsala', 4.17, 4.17, 'Min: 4.17, Max: 4.17')]"
            ],
            "text/html": [
              "<table>\n",
              "    <tr>\n",
              "        <th>country</th>\n",
              "        <th>city</th>\n",
              "        <th>min_temperature</th>\n",
              "        <th>max_temperature</th>\n",
              "        <th>temperature_range</th>\n",
              "    </tr>\n",
              "    <tr>\n",
              "        <td>Austria</td>\n",
              "        <td>Graz</td>\n",
              "        <td>6.91</td>\n",
              "        <td>6.91</td>\n",
              "        <td>Min: 6.91, Max: 6.91</td>\n",
              "    </tr>\n",
              "    <tr>\n",
              "        <td>Austria</td>\n",
              "        <td>Innsbruck</td>\n",
              "        <td>4.54</td>\n",
              "        <td>4.54</td>\n",
              "        <td>Min: 4.54, Max: 4.54</td>\n",
              "    </tr>\n",
              "    <tr>\n",
              "        <td>Austria</td>\n",
              "        <td>Linz</td>\n",
              "        <td>6.79</td>\n",
              "        <td>6.79</td>\n",
              "        <td>Min: 6.79, Max: 6.79</td>\n",
              "    </tr>\n",
              "    <tr>\n",
              "        <td>Austria</td>\n",
              "        <td>Salzburg</td>\n",
              "        <td>4.62</td>\n",
              "        <td>4.62</td>\n",
              "        <td>Min: 4.62, Max: 4.62</td>\n",
              "    </tr>\n",
              "    <tr>\n",
              "        <td>Austria</td>\n",
              "        <td>Vienna</td>\n",
              "        <td>7.86</td>\n",
              "        <td>7.86</td>\n",
              "        <td>Min: 7.86, Max: 7.86</td>\n",
              "    </tr>\n",
              "    <tr>\n",
              "        <td>Sweden</td>\n",
              "        <td>Abisko</td>\n",
              "        <td>0.2</td>\n",
              "        <td>0.2</td>\n",
              "        <td>Min: 0.2, Max: 0.2</td>\n",
              "    </tr>\n",
              "    <tr>\n",
              "        <td>Sweden</td>\n",
              "        <td>Göteborg</td>\n",
              "        <td>5.76</td>\n",
              "        <td>5.76</td>\n",
              "        <td>Min: 5.76, Max: 5.76</td>\n",
              "    </tr>\n",
              "    <tr>\n",
              "        <td>Sweden</td>\n",
              "        <td>Kiruna</td>\n",
              "        <td>-2.2</td>\n",
              "        <td>-2.2</td>\n",
              "        <td>Min: -2.2, Max: -2.2</td>\n",
              "    </tr>\n",
              "    <tr>\n",
              "        <td>Sweden</td>\n",
              "        <td>Malmö</td>\n",
              "        <td>7.33</td>\n",
              "        <td>7.33</td>\n",
              "        <td>Min: 7.33, Max: 7.33</td>\n",
              "    </tr>\n",
              "    <tr>\n",
              "        <td>Sweden</td>\n",
              "        <td>Stockholm</td>\n",
              "        <td>6.26</td>\n",
              "        <td>6.26</td>\n",
              "        <td>Min: 6.26, Max: 6.26</td>\n",
              "    </tr>\n",
              "    <tr>\n",
              "        <td>Sweden</td>\n",
              "        <td>Uppsala</td>\n",
              "        <td>4.17</td>\n",
              "        <td>4.17</td>\n",
              "        <td>Min: 4.17, Max: 4.17</td>\n",
              "    </tr>\n",
              "</table>"
            ]
          },
          "metadata": {},
          "execution_count": 190
        }
      ]
    },
    {
      "cell_type": "markdown",
      "metadata": {
        "id": "3ezVm6SfMZil"
      },
      "source": [
        "### The Limit clause"
      ]
    },
    {
      "cell_type": "markdown",
      "metadata": {
        "id": "pBeU272WMZil"
      },
      "source": [
        "*Return any three countries with population > 20*"
      ]
    },
    {
      "cell_type": "code",
      "execution_count": 191,
      "metadata": {
        "id": "EiTb4RBzMZil",
        "colab": {
          "base_uri": "https://localhost:8080/",
          "height": 139
        },
        "outputId": "76104160-964e-4b02-b054-5246d455ad8c"
      },
      "outputs": [
        {
          "output_type": "stream",
          "name": "stdout",
          "text": [
            " * sqlite://\n",
            "Done.\n"
          ]
        },
        {
          "output_type": "execute_result",
          "data": {
            "text/plain": [
              "[('France',), ('Germany',), ('Italy',)]"
            ],
            "text/html": [
              "<table>\n",
              "    <tr>\n",
              "        <th>country</th>\n",
              "    </tr>\n",
              "    <tr>\n",
              "        <td>France</td>\n",
              "    </tr>\n",
              "    <tr>\n",
              "        <td>Germany</td>\n",
              "    </tr>\n",
              "    <tr>\n",
              "        <td>Italy</td>\n",
              "    </tr>\n",
              "</table>"
            ]
          },
          "metadata": {},
          "execution_count": 191
        }
      ],
      "source": [
        "%%sql\n",
        "select country\n",
        "from Countries\n",
        "where population > 20\n",
        "limit 3"
      ]
    },
    {
      "cell_type": "markdown",
      "metadata": {
        "id": "WWPpu0LbMZim"
      },
      "source": [
        "*Find the ten coldest cities*"
      ]
    },
    {
      "cell_type": "code",
      "execution_count": 192,
      "metadata": {
        "id": "zZWHH1zXMZim",
        "colab": {
          "base_uri": "https://localhost:8080/",
          "height": 289
        },
        "outputId": "724ab678-34c1-46f0-ff78-67b7689f6ee1"
      },
      "outputs": [
        {
          "output_type": "stream",
          "name": "stdout",
          "text": [
            " * sqlite://\n",
            "Done.\n"
          ]
        },
        {
          "output_type": "execute_result",
          "data": {
            "text/plain": [
              "[('Kiruna', -2.2),\n",
              " ('Abisko', 0.2),\n",
              " ('Oulu', 1.45),\n",
              " ('Bergen', 1.75),\n",
              " ('Oslo', 2.32),\n",
              " ('Tampere', 3.59),\n",
              " ('Uppsala', 4.17),\n",
              " ('Helsinki', 4.19),\n",
              " ('Tartu', 4.36),\n",
              " ('Bodo', 4.5)]"
            ],
            "text/html": [
              "<table>\n",
              "    <tr>\n",
              "        <th>city</th>\n",
              "        <th>temperature</th>\n",
              "    </tr>\n",
              "    <tr>\n",
              "        <td>Kiruna</td>\n",
              "        <td>-2.2</td>\n",
              "    </tr>\n",
              "    <tr>\n",
              "        <td>Abisko</td>\n",
              "        <td>0.2</td>\n",
              "    </tr>\n",
              "    <tr>\n",
              "        <td>Oulu</td>\n",
              "        <td>1.45</td>\n",
              "    </tr>\n",
              "    <tr>\n",
              "        <td>Bergen</td>\n",
              "        <td>1.75</td>\n",
              "    </tr>\n",
              "    <tr>\n",
              "        <td>Oslo</td>\n",
              "        <td>2.32</td>\n",
              "    </tr>\n",
              "    <tr>\n",
              "        <td>Tampere</td>\n",
              "        <td>3.59</td>\n",
              "    </tr>\n",
              "    <tr>\n",
              "        <td>Uppsala</td>\n",
              "        <td>4.17</td>\n",
              "    </tr>\n",
              "    <tr>\n",
              "        <td>Helsinki</td>\n",
              "        <td>4.19</td>\n",
              "    </tr>\n",
              "    <tr>\n",
              "        <td>Tartu</td>\n",
              "        <td>4.36</td>\n",
              "    </tr>\n",
              "    <tr>\n",
              "        <td>Bodo</td>\n",
              "        <td>4.5</td>\n",
              "    </tr>\n",
              "</table>"
            ]
          },
          "metadata": {},
          "execution_count": 192
        }
      ],
      "source": [
        "%%sql\n",
        "select city, temperature\n",
        "from Cities\n",
        "order by temperature\n",
        "limit 10"
      ]
    },
    {
      "cell_type": "markdown",
      "metadata": {
        "id": "xgClkx-wMZim"
      },
      "source": [
        "### <font color = 'green'>**Your Turn**</font>"
      ]
    },
    {
      "cell_type": "markdown",
      "metadata": {
        "id": "qzl1doV5MZim"
      },
      "source": [
        "*Find the five easternmost (greatest longitude) cities in countries with no coastline. Return the city and country names.*"
      ]
    },
    {
      "cell_type": "code",
      "execution_count": 193,
      "metadata": {
        "id": "xGbKeIglMZim",
        "colab": {
          "base_uri": "https://localhost:8080/",
          "height": 182
        },
        "outputId": "ed0fe846-25cc-427f-8431-4e1d416dc80d"
      },
      "outputs": [
        {
          "output_type": "stream",
          "name": "stdout",
          "text": [
            " * sqlite://\n",
            "Done.\n"
          ]
        },
        {
          "output_type": "execute_result",
          "data": {
            "text/plain": [
              "[('Orsha', 'Belarus'),\n",
              " ('Mazyr', 'Belarus'),\n",
              " ('Chisinau', 'Moldova'),\n",
              " ('Balti', 'Moldova'),\n",
              " ('Minsk', 'Belarus')]"
            ],
            "text/html": [
              "<table>\n",
              "    <tr>\n",
              "        <th>city</th>\n",
              "        <th>country</th>\n",
              "    </tr>\n",
              "    <tr>\n",
              "        <td>Orsha</td>\n",
              "        <td>Belarus</td>\n",
              "    </tr>\n",
              "    <tr>\n",
              "        <td>Mazyr</td>\n",
              "        <td>Belarus</td>\n",
              "    </tr>\n",
              "    <tr>\n",
              "        <td>Chisinau</td>\n",
              "        <td>Moldova</td>\n",
              "    </tr>\n",
              "    <tr>\n",
              "        <td>Balti</td>\n",
              "        <td>Moldova</td>\n",
              "    </tr>\n",
              "    <tr>\n",
              "        <td>Minsk</td>\n",
              "        <td>Belarus</td>\n",
              "    </tr>\n",
              "</table>"
            ]
          },
          "metadata": {},
          "execution_count": 193
        }
      ],
      "source": [
        "%%sql\n",
        "SELECT\n",
        "    Cities.city,\n",
        "    Countries.country\n",
        "FROM\n",
        "    Cities\n",
        "JOIN\n",
        "    Countries ON Cities.country = Countries.country\n",
        "WHERE\n",
        "    Countries.coastline = 'no'\n",
        "ORDER BY\n",
        "    Cities.longitude DESC\n",
        "LIMIT 5;\n"
      ]
    },
    {
      "cell_type": "markdown",
      "metadata": {
        "id": "BbqhMHqKMZim"
      },
      "source": [
        "### <font color = 'green'>**Your Turn - Basic SQL on World Cup Data**</font>"
      ]
    },
    {
      "cell_type": "code",
      "execution_count": 194,
      "metadata": {
        "id": "i5xAb8GWMZim",
        "colab": {
          "base_uri": "https://localhost:8080/",
          "height": 140
        },
        "outputId": "5d080420-a6a0-4798-b22e-bf61cc1579ea"
      },
      "outputs": [
        {
          "output_type": "stream",
          "name": "stdout",
          "text": [
            " * sqlite://\n",
            "Done.\n",
            " * sqlite://\n",
            " * sqlite://\n",
            "Done.\n",
            " * sqlite://\n"
          ]
        },
        {
          "output_type": "execute_result",
          "data": {
            "text/plain": [
              "'Persisted teams'"
            ],
            "application/vnd.google.colaboratory.intrinsic+json": {
              "type": "string"
            }
          },
          "metadata": {},
          "execution_count": 194
        }
      ],
      "source": [
        "# Create database tables from CSV files\n",
        "with open('Players.csv') as f: Players = pd.read_csv(f, index_col=0)\n",
        "%sql drop table if exists Players;\n",
        "%sql --persist Players\n",
        "with open('Teams.csv') as f: Teams = pd.read_csv(f, index_col=0)\n",
        "%sql drop table if exists Teams;\n",
        "%sql --persist Teams"
      ]
    },
    {
      "cell_type": "markdown",
      "metadata": {
        "id": "3v_Q9VemMZim"
      },
      "source": [
        "#### Look at sample of Players and Teams tables"
      ]
    },
    {
      "cell_type": "code",
      "execution_count": 195,
      "metadata": {
        "id": "7D3cqH4XMZin",
        "colab": {
          "base_uri": "https://localhost:8080/",
          "height": 182
        },
        "outputId": "f7045a83-25d1-444f-df37-543da31d6406"
      },
      "outputs": [
        {
          "output_type": "stream",
          "name": "stdout",
          "text": [
            " * sqlite://\n",
            "Done.\n"
          ]
        },
        {
          "output_type": "execute_result",
          "data": {
            "text/plain": [
              "[('Abdoun', 'Algeria', 'midfielder', 16, 0, 6, 0, 0),\n",
              " ('Belhadj', 'Algeria', 'defender', 270, 1, 146, 8, 0),\n",
              " ('Boudebouz', 'Algeria', 'midfielder', 74, 3, 28, 1, 0),\n",
              " ('Bougherra', 'Algeria', 'defender', 270, 1, 89, 11, 0),\n",
              " ('Chaouchi', 'Algeria', 'goalkeeper', 90, 0, 17, 0, 2)]"
            ],
            "text/html": [
              "<table>\n",
              "    <tr>\n",
              "        <th>surname</th>\n",
              "        <th>team</th>\n",
              "        <th>position</th>\n",
              "        <th>minutes</th>\n",
              "        <th>shots</th>\n",
              "        <th>passes</th>\n",
              "        <th>tackles</th>\n",
              "        <th>saves</th>\n",
              "    </tr>\n",
              "    <tr>\n",
              "        <td>Abdoun</td>\n",
              "        <td>Algeria</td>\n",
              "        <td>midfielder</td>\n",
              "        <td>16</td>\n",
              "        <td>0</td>\n",
              "        <td>6</td>\n",
              "        <td>0</td>\n",
              "        <td>0</td>\n",
              "    </tr>\n",
              "    <tr>\n",
              "        <td>Belhadj</td>\n",
              "        <td>Algeria</td>\n",
              "        <td>defender</td>\n",
              "        <td>270</td>\n",
              "        <td>1</td>\n",
              "        <td>146</td>\n",
              "        <td>8</td>\n",
              "        <td>0</td>\n",
              "    </tr>\n",
              "    <tr>\n",
              "        <td>Boudebouz</td>\n",
              "        <td>Algeria</td>\n",
              "        <td>midfielder</td>\n",
              "        <td>74</td>\n",
              "        <td>3</td>\n",
              "        <td>28</td>\n",
              "        <td>1</td>\n",
              "        <td>0</td>\n",
              "    </tr>\n",
              "    <tr>\n",
              "        <td>Bougherra</td>\n",
              "        <td>Algeria</td>\n",
              "        <td>defender</td>\n",
              "        <td>270</td>\n",
              "        <td>1</td>\n",
              "        <td>89</td>\n",
              "        <td>11</td>\n",
              "        <td>0</td>\n",
              "    </tr>\n",
              "    <tr>\n",
              "        <td>Chaouchi</td>\n",
              "        <td>Algeria</td>\n",
              "        <td>goalkeeper</td>\n",
              "        <td>90</td>\n",
              "        <td>0</td>\n",
              "        <td>17</td>\n",
              "        <td>0</td>\n",
              "        <td>2</td>\n",
              "    </tr>\n",
              "</table>"
            ]
          },
          "metadata": {},
          "execution_count": 195
        }
      ],
      "source": [
        "%%sql\n",
        "select * from Players limit 5"
      ]
    },
    {
      "cell_type": "code",
      "execution_count": 196,
      "metadata": {
        "id": "02CrydrjMZin",
        "colab": {
          "base_uri": "https://localhost:8080/",
          "height": 182
        },
        "outputId": "8d699c8c-4bba-4605-dc5f-76909335f30a"
      },
      "outputs": [
        {
          "output_type": "stream",
          "name": "stdout",
          "text": [
            " * sqlite://\n",
            "Done.\n"
          ]
        },
        {
          "output_type": "execute_result",
          "data": {
            "text/plain": [
              "[('Brazil', 1, 5, 3, 1, 1, 9, 4, 7, 2),\n",
              " ('Spain', 2, 6, 5, 0, 1, 7, 2, 3, 0),\n",
              " ('Portugal', 3, 4, 1, 2, 1, 7, 1, 8, 1),\n",
              " ('Netherlands', 4, 6, 6, 0, 0, 12, 5, 15, 0),\n",
              " ('Italy', 5, 3, 0, 2, 1, 4, 5, 5, 0)]"
            ],
            "text/html": [
              "<table>\n",
              "    <tr>\n",
              "        <th>team</th>\n",
              "        <th>ranking</th>\n",
              "        <th>games</th>\n",
              "        <th>wins</th>\n",
              "        <th>draws</th>\n",
              "        <th>losses</th>\n",
              "        <th>goalsFor</th>\n",
              "        <th>goalsAgainst</th>\n",
              "        <th>yellowCards</th>\n",
              "        <th>redCards</th>\n",
              "    </tr>\n",
              "    <tr>\n",
              "        <td>Brazil</td>\n",
              "        <td>1</td>\n",
              "        <td>5</td>\n",
              "        <td>3</td>\n",
              "        <td>1</td>\n",
              "        <td>1</td>\n",
              "        <td>9</td>\n",
              "        <td>4</td>\n",
              "        <td>7</td>\n",
              "        <td>2</td>\n",
              "    </tr>\n",
              "    <tr>\n",
              "        <td>Spain</td>\n",
              "        <td>2</td>\n",
              "        <td>6</td>\n",
              "        <td>5</td>\n",
              "        <td>0</td>\n",
              "        <td>1</td>\n",
              "        <td>7</td>\n",
              "        <td>2</td>\n",
              "        <td>3</td>\n",
              "        <td>0</td>\n",
              "    </tr>\n",
              "    <tr>\n",
              "        <td>Portugal</td>\n",
              "        <td>3</td>\n",
              "        <td>4</td>\n",
              "        <td>1</td>\n",
              "        <td>2</td>\n",
              "        <td>1</td>\n",
              "        <td>7</td>\n",
              "        <td>1</td>\n",
              "        <td>8</td>\n",
              "        <td>1</td>\n",
              "    </tr>\n",
              "    <tr>\n",
              "        <td>Netherlands</td>\n",
              "        <td>4</td>\n",
              "        <td>6</td>\n",
              "        <td>6</td>\n",
              "        <td>0</td>\n",
              "        <td>0</td>\n",
              "        <td>12</td>\n",
              "        <td>5</td>\n",
              "        <td>15</td>\n",
              "        <td>0</td>\n",
              "    </tr>\n",
              "    <tr>\n",
              "        <td>Italy</td>\n",
              "        <td>5</td>\n",
              "        <td>3</td>\n",
              "        <td>0</td>\n",
              "        <td>2</td>\n",
              "        <td>1</td>\n",
              "        <td>4</td>\n",
              "        <td>5</td>\n",
              "        <td>5</td>\n",
              "        <td>0</td>\n",
              "    </tr>\n",
              "</table>"
            ]
          },
          "metadata": {},
          "execution_count": 196
        }
      ],
      "source": [
        "%%sql\n",
        "select * from Teams limit 5"
      ]
    },
    {
      "cell_type": "markdown",
      "metadata": {
        "id": "3Lg8LM-7MZin"
      },
      "source": [
        "*1)  What player on a team with “ia” in the team name played less than 200 minutes and made more than 100 passes? Return the player surname. Note: To check if attribute A contains string S use \"A like '%S%'\"*"
      ]
    },
    {
      "cell_type": "code",
      "execution_count": 197,
      "metadata": {
        "id": "FD6m9r1vMZin",
        "colab": {
          "base_uri": "https://localhost:8080/",
          "height": 96
        },
        "outputId": "e40dbdf4-f727-4806-ab0a-2c7543dd20e1"
      },
      "outputs": [
        {
          "output_type": "stream",
          "name": "stdout",
          "text": [
            " * sqlite://\n",
            "Done.\n"
          ]
        },
        {
          "output_type": "execute_result",
          "data": {
            "text/plain": [
              "[('Kuzmanovic',)]"
            ],
            "text/html": [
              "<table>\n",
              "    <tr>\n",
              "        <th>surname</th>\n",
              "    </tr>\n",
              "    <tr>\n",
              "        <td>Kuzmanovic</td>\n",
              "    </tr>\n",
              "</table>"
            ]
          },
          "metadata": {},
          "execution_count": 197
        }
      ],
      "source": [
        "%%sql\n",
        "SELECT Players.surname\n",
        "FROM Players\n",
        "JOIN Teams ON Players.team = Teams.team\n",
        "WHERE Teams.team LIKE '%ia%'\n",
        "  AND Players.minutes < 200\n",
        "  AND Players.passes > 100;\n"
      ]
    },
    {
      "cell_type": "markdown",
      "metadata": {
        "id": "4EsXwQ_wMZin"
      },
      "source": [
        "*2) Find all players who took more than 20 shots. Return all player information in descending order of shots taken.*"
      ]
    },
    {
      "cell_type": "code",
      "execution_count": 198,
      "metadata": {
        "id": "VAj3i9owMZin",
        "colab": {
          "base_uri": "https://localhost:8080/",
          "height": 139
        },
        "outputId": "dac0d708-58ba-48ba-9b1f-295ea3f60d7b"
      },
      "outputs": [
        {
          "output_type": "stream",
          "name": "stdout",
          "text": [
            " * sqlite://\n",
            "Done.\n"
          ]
        },
        {
          "output_type": "execute_result",
          "data": {
            "text/plain": [
              "[('Gyan', 'Ghana', 'forward', 501, 27, 151, 1, 0),\n",
              " ('Villa', 'Spain', 'forward', 529, 22, 169, 2, 0),\n",
              " ('Messi', 'Argentina', 'forward', 450, 21, 321, 10, 0)]"
            ],
            "text/html": [
              "<table>\n",
              "    <tr>\n",
              "        <th>surname</th>\n",
              "        <th>team</th>\n",
              "        <th>position</th>\n",
              "        <th>minutes</th>\n",
              "        <th>shots</th>\n",
              "        <th>passes</th>\n",
              "        <th>tackles</th>\n",
              "        <th>saves</th>\n",
              "    </tr>\n",
              "    <tr>\n",
              "        <td>Gyan</td>\n",
              "        <td>Ghana</td>\n",
              "        <td>forward</td>\n",
              "        <td>501</td>\n",
              "        <td>27</td>\n",
              "        <td>151</td>\n",
              "        <td>1</td>\n",
              "        <td>0</td>\n",
              "    </tr>\n",
              "    <tr>\n",
              "        <td>Villa</td>\n",
              "        <td>Spain</td>\n",
              "        <td>forward</td>\n",
              "        <td>529</td>\n",
              "        <td>22</td>\n",
              "        <td>169</td>\n",
              "        <td>2</td>\n",
              "        <td>0</td>\n",
              "    </tr>\n",
              "    <tr>\n",
              "        <td>Messi</td>\n",
              "        <td>Argentina</td>\n",
              "        <td>forward</td>\n",
              "        <td>450</td>\n",
              "        <td>21</td>\n",
              "        <td>321</td>\n",
              "        <td>10</td>\n",
              "        <td>0</td>\n",
              "    </tr>\n",
              "</table>"
            ]
          },
          "metadata": {},
          "execution_count": 198
        }
      ],
      "source": [
        "%%sql\n",
        "SELECT *\n",
        "FROM Players\n",
        "WHERE Players.shots > 20\n",
        "ORDER BY Players.shots DESC;\n"
      ]
    },
    {
      "cell_type": "markdown",
      "metadata": {
        "id": "yP759DNQMZin"
      },
      "source": [
        "*3) Find the goalkeepers of teams that played more than four games. List the surname of the goalkeeper, the team, and the number of minutes the goalkeeper played.*"
      ]
    },
    {
      "cell_type": "code",
      "execution_count": 199,
      "metadata": {
        "id": "NcaWGUcOMZio",
        "colab": {
          "base_uri": "https://localhost:8080/",
          "height": 246
        },
        "outputId": "3caed753-fa01-4ff7-80ea-385b95476b46"
      },
      "outputs": [
        {
          "output_type": "stream",
          "name": "stdout",
          "text": [
            " * sqlite://\n",
            "Done.\n"
          ]
        },
        {
          "output_type": "execute_result",
          "data": {
            "text/plain": [
              "[('Romero', 'Argentina', 450),\n",
              " ('Julio Cesar', 'Brazil', 450),\n",
              " ('Neuer', 'Germany', 540),\n",
              " ('Kingson', 'Ghana', 510),\n",
              " ('Stekelenburg', 'Netherlands', 540),\n",
              " ('Villar', 'Paraguay', 480),\n",
              " ('Casillas', 'Spain', 540),\n",
              " ('Muslera', 'Uruguay', 570)]"
            ],
            "text/html": [
              "<table>\n",
              "    <tr>\n",
              "        <th>surname</th>\n",
              "        <th>team</th>\n",
              "        <th>minutes</th>\n",
              "    </tr>\n",
              "    <tr>\n",
              "        <td>Romero</td>\n",
              "        <td>Argentina</td>\n",
              "        <td>450</td>\n",
              "    </tr>\n",
              "    <tr>\n",
              "        <td>Julio Cesar</td>\n",
              "        <td>Brazil</td>\n",
              "        <td>450</td>\n",
              "    </tr>\n",
              "    <tr>\n",
              "        <td>Neuer</td>\n",
              "        <td>Germany</td>\n",
              "        <td>540</td>\n",
              "    </tr>\n",
              "    <tr>\n",
              "        <td>Kingson</td>\n",
              "        <td>Ghana</td>\n",
              "        <td>510</td>\n",
              "    </tr>\n",
              "    <tr>\n",
              "        <td>Stekelenburg</td>\n",
              "        <td>Netherlands</td>\n",
              "        <td>540</td>\n",
              "    </tr>\n",
              "    <tr>\n",
              "        <td>Villar</td>\n",
              "        <td>Paraguay</td>\n",
              "        <td>480</td>\n",
              "    </tr>\n",
              "    <tr>\n",
              "        <td>Casillas</td>\n",
              "        <td>Spain</td>\n",
              "        <td>540</td>\n",
              "    </tr>\n",
              "    <tr>\n",
              "        <td>Muslera</td>\n",
              "        <td>Uruguay</td>\n",
              "        <td>570</td>\n",
              "    </tr>\n",
              "</table>"
            ]
          },
          "metadata": {},
          "execution_count": 199
        }
      ],
      "source": [
        "%%sql\n",
        "SELECT Players.surname, Teams.team, Players.minutes\n",
        "FROM Players\n",
        "JOIN Teams ON Players.team = Teams.team\n",
        "WHERE Teams.games > 4\n",
        "AND Players.position = 'goalkeeper';\n"
      ]
    },
    {
      "cell_type": "markdown",
      "metadata": {
        "id": "PDeczQ9mMZio"
      },
      "source": [
        "*4) How many players who play on a team with ranking <10 played more than 350 minutes? Return one number in a column named 'superstar'.*"
      ]
    },
    {
      "cell_type": "code",
      "execution_count": 200,
      "metadata": {
        "id": "0G1PWdY9MZio",
        "colab": {
          "base_uri": "https://localhost:8080/",
          "height": 96
        },
        "outputId": "01e1e2cc-befb-4447-f614-121b08342416"
      },
      "outputs": [
        {
          "output_type": "stream",
          "name": "stdout",
          "text": [
            " * sqlite://\n",
            "Done.\n"
          ]
        },
        {
          "output_type": "execute_result",
          "data": {
            "text/plain": [
              "[(54,)]"
            ],
            "text/html": [
              "<table>\n",
              "    <tr>\n",
              "        <th>superstar</th>\n",
              "    </tr>\n",
              "    <tr>\n",
              "        <td>54</td>\n",
              "    </tr>\n",
              "</table>"
            ]
          },
          "metadata": {},
          "execution_count": 200
        }
      ],
      "source": [
        "%%sql\n",
        "SELECT COUNT(*) AS superstar\n",
        "FROM Players p\n",
        "JOIN Teams t ON p.team = t.team  -- Adjust the column name to match\n",
        "WHERE t.ranking < 10\n",
        "AND p.minutes > 350;\n",
        "\n",
        "\n"
      ]
    },
    {
      "cell_type": "markdown",
      "metadata": {
        "id": "SoMiqgeBMZio"
      },
      "source": [
        "*5) What is the average number of passes made by forwards? By midfielders? Write one query that gives both values with the corresponding position.*"
      ]
    },
    {
      "cell_type": "code",
      "execution_count": 201,
      "metadata": {
        "id": "1iN80E7IMZio",
        "colab": {
          "base_uri": "https://localhost:8080/",
          "height": 118
        },
        "outputId": "3e644cbd-df96-489e-b6d0-64c03df0959a"
      },
      "outputs": [
        {
          "output_type": "stream",
          "name": "stdout",
          "text": [
            " * sqlite://\n",
            "Done.\n"
          ]
        },
        {
          "output_type": "execute_result",
          "data": {
            "text/plain": [
              "[('forward', 50.82517482517483), ('midfielder', 95.2719298245614)]"
            ],
            "text/html": [
              "<table>\n",
              "    <tr>\n",
              "        <th>position</th>\n",
              "        <th>average_passes</th>\n",
              "    </tr>\n",
              "    <tr>\n",
              "        <td>forward</td>\n",
              "        <td>50.82517482517483</td>\n",
              "    </tr>\n",
              "    <tr>\n",
              "        <td>midfielder</td>\n",
              "        <td>95.2719298245614</td>\n",
              "    </tr>\n",
              "</table>"
            ]
          },
          "metadata": {},
          "execution_count": 201
        }
      ],
      "source": [
        "%%sql\n",
        "SELECT p.position, AVG(p.passes) AS average_passes\n",
        "FROM Players p\n",
        "WHERE p.position IN ('forward', 'midfielder')\n",
        "GROUP BY p.position;\n"
      ]
    },
    {
      "cell_type": "markdown",
      "metadata": {
        "id": "Eack9A_YMZio"
      },
      "source": [
        "*6) Which team has the highest ratio of goalsFor to goalsAgainst? Return the team and the ratio.*"
      ]
    },
    {
      "cell_type": "code",
      "execution_count": 202,
      "metadata": {
        "id": "Snc2E1y9MZio",
        "colab": {
          "base_uri": "https://localhost:8080/",
          "height": 96
        },
        "outputId": "b544ca83-578b-4200-f643-4c49efb116f5"
      },
      "outputs": [
        {
          "output_type": "stream",
          "name": "stdout",
          "text": [
            " * sqlite://\n",
            "Done.\n"
          ]
        },
        {
          "output_type": "execute_result",
          "data": {
            "text/plain": [
              "[('Portugal', 7.0)]"
            ],
            "text/html": [
              "<table>\n",
              "    <tr>\n",
              "        <th>team</th>\n",
              "        <th>goal_ratio</th>\n",
              "    </tr>\n",
              "    <tr>\n",
              "        <td>Portugal</td>\n",
              "        <td>7.0</td>\n",
              "    </tr>\n",
              "</table>"
            ]
          },
          "metadata": {},
          "execution_count": 202
        }
      ],
      "source": [
        "%%sql\n",
        "SELECT t.team,\n",
        "       (t.goalsFor * 1.0 / t.goalsAgainst) AS goal_ratio\n",
        "FROM Teams t\n",
        "WHERE t.goalsAgainst > 0\n",
        "ORDER BY goal_ratio DESC\n",
        "LIMIT 1;\n"
      ]
    },
    {
      "cell_type": "markdown",
      "metadata": {
        "id": "6YSZkV_aMZio"
      },
      "source": [
        "### <font color = 'green'>**Your Turn Extra - Basic SQL on Titanic Data**</font>"
      ]
    },
    {
      "cell_type": "markdown",
      "source": [
        "<font color=\"red\">File access required:</font> In Colab these extra problems require first uploading **Titanic.csv** using the *Files* feature in the left toolbar. If running the notebook on a local computer, simply ensure this file is in the same workspace as the notebook."
      ],
      "metadata": {
        "id": "qx76VXgSy6ce"
      }
    },
    {
      "cell_type": "code",
      "execution_count": 203,
      "metadata": {
        "id": "9KCdOSBwMZip",
        "colab": {
          "base_uri": "https://localhost:8080/",
          "height": 87
        },
        "outputId": "e4866f70-6673-416c-f5be-028103e91bc5"
      },
      "outputs": [
        {
          "output_type": "stream",
          "name": "stdout",
          "text": [
            " * sqlite://\n",
            "Done.\n",
            " * sqlite://\n"
          ]
        },
        {
          "output_type": "execute_result",
          "data": {
            "text/plain": [
              "'Persisted titanic'"
            ],
            "application/vnd.google.colaboratory.intrinsic+json": {
              "type": "string"
            }
          },
          "metadata": {},
          "execution_count": 203
        }
      ],
      "source": [
        "# Create database table from CSV file\n",
        "with open('Titanic.csv') as f: Titanic = pd.read_csv(f, index_col=0)\n",
        "%sql drop table if exists Titanic;\n",
        "%sql --persist Titanic"
      ]
    },
    {
      "cell_type": "markdown",
      "metadata": {
        "id": "8wGLHtTLMZip"
      },
      "source": [
        "#### Look at sample of Titanic table"
      ]
    },
    {
      "cell_type": "code",
      "execution_count": 204,
      "metadata": {
        "id": "ai-_EAWCMZip",
        "colab": {
          "base_uri": "https://localhost:8080/",
          "height": 182
        },
        "outputId": "dbd544f5-3623-479f-ffc8-07fd897a8788"
      },
      "outputs": [
        {
          "output_type": "stream",
          "name": "stdout",
          "text": [
            " * sqlite://\n",
            "Done.\n"
          ]
        },
        {
          "output_type": "execute_result",
          "data": {
            "text/plain": [
              "[('Abbing', 'Mr. Anthony', 'M', 42.0, 3, 7.55, 'Southampton', 'no'),\n",
              " ('Abbott', 'Mrs. Stanton (Rosa Hunt)', 'F', 35.0, 3, 20.25, 'Southampton', 'yes'),\n",
              " ('Abbott', 'Mr. Rossmore Edward', 'M', 16.0, 3, 20.25, 'Southampton', 'no'),\n",
              " ('Abelson', 'Mr. Samuel', 'M', 30.0, 2, 24.0, 'Cherbourg', 'no'),\n",
              " ('Abelson', 'Mrs. Samuel (Hannah Wizosky)', 'F', 28.0, 2, 24.0, 'Cherbourg', 'yes')]"
            ],
            "text/html": [
              "<table>\n",
              "    <tr>\n",
              "        <th>last</th>\n",
              "        <th>first</th>\n",
              "        <th>gender</th>\n",
              "        <th>age</th>\n",
              "        <th>class</th>\n",
              "        <th>fare</th>\n",
              "        <th>embarked</th>\n",
              "        <th>survived</th>\n",
              "    </tr>\n",
              "    <tr>\n",
              "        <td>Abbing</td>\n",
              "        <td>Mr. Anthony</td>\n",
              "        <td>M</td>\n",
              "        <td>42.0</td>\n",
              "        <td>3</td>\n",
              "        <td>7.55</td>\n",
              "        <td>Southampton</td>\n",
              "        <td>no</td>\n",
              "    </tr>\n",
              "    <tr>\n",
              "        <td>Abbott</td>\n",
              "        <td>Mrs. Stanton (Rosa Hunt)</td>\n",
              "        <td>F</td>\n",
              "        <td>35.0</td>\n",
              "        <td>3</td>\n",
              "        <td>20.25</td>\n",
              "        <td>Southampton</td>\n",
              "        <td>yes</td>\n",
              "    </tr>\n",
              "    <tr>\n",
              "        <td>Abbott</td>\n",
              "        <td>Mr. Rossmore Edward</td>\n",
              "        <td>M</td>\n",
              "        <td>16.0</td>\n",
              "        <td>3</td>\n",
              "        <td>20.25</td>\n",
              "        <td>Southampton</td>\n",
              "        <td>no</td>\n",
              "    </tr>\n",
              "    <tr>\n",
              "        <td>Abelson</td>\n",
              "        <td>Mr. Samuel</td>\n",
              "        <td>M</td>\n",
              "        <td>30.0</td>\n",
              "        <td>2</td>\n",
              "        <td>24.0</td>\n",
              "        <td>Cherbourg</td>\n",
              "        <td>no</td>\n",
              "    </tr>\n",
              "    <tr>\n",
              "        <td>Abelson</td>\n",
              "        <td>Mrs. Samuel (Hannah Wizosky)</td>\n",
              "        <td>F</td>\n",
              "        <td>28.0</td>\n",
              "        <td>2</td>\n",
              "        <td>24.0</td>\n",
              "        <td>Cherbourg</td>\n",
              "        <td>yes</td>\n",
              "    </tr>\n",
              "</table>"
            ]
          },
          "metadata": {},
          "execution_count": 204
        }
      ],
      "source": [
        "%%sql\n",
        "select * from Titanic limit 5"
      ]
    },
    {
      "cell_type": "markdown",
      "metadata": {
        "id": "rm0ZXb2xMZip"
      },
      "source": [
        "*1) How many passengers sailed for free (i.e, fare is zero)?*"
      ]
    },
    {
      "cell_type": "code",
      "execution_count": 205,
      "metadata": {
        "id": "dol81VcIMZip",
        "colab": {
          "base_uri": "https://localhost:8080/",
          "height": 96
        },
        "outputId": "0a7b8535-e77b-4cf5-fbdb-9cdba6e61063"
      },
      "outputs": [
        {
          "output_type": "stream",
          "name": "stdout",
          "text": [
            " * sqlite://\n",
            "Done.\n"
          ]
        },
        {
          "output_type": "execute_result",
          "data": {
            "text/plain": [
              "[(15,)]"
            ],
            "text/html": [
              "<table>\n",
              "    <tr>\n",
              "        <th>free_passengers</th>\n",
              "    </tr>\n",
              "    <tr>\n",
              "        <td>15</td>\n",
              "    </tr>\n",
              "</table>"
            ]
          },
          "metadata": {},
          "execution_count": 205
        }
      ],
      "source": [
        "%%sql\n",
        "SELECT COUNT(*) AS free_passengers\n",
        "FROM Titanic\n",
        "WHERE fare = 0;\n",
        "\n"
      ]
    },
    {
      "cell_type": "markdown",
      "metadata": {
        "id": "eGHSZYUOMZip"
      },
      "source": [
        "*2) How many married women over age 50 embarked in Cherbourg? (Married women’s first names begin with \"Mrs.\"). Note: To check if attribute A begins with string S use \"A like 'S%'\"*"
      ]
    },
    {
      "cell_type": "code",
      "execution_count": 206,
      "metadata": {
        "id": "gytEplqnMZip",
        "colab": {
          "base_uri": "https://localhost:8080/",
          "height": 96
        },
        "outputId": "ea6f1648-0d5d-4f13-b249-d28ba1b323f3"
      },
      "outputs": [
        {
          "output_type": "stream",
          "name": "stdout",
          "text": [
            " * sqlite://\n",
            "Done.\n"
          ]
        },
        {
          "output_type": "execute_result",
          "data": {
            "text/plain": [
              "[(4,)]"
            ],
            "text/html": [
              "<table>\n",
              "    <tr>\n",
              "        <th>married_women_over_50</th>\n",
              "    </tr>\n",
              "    <tr>\n",
              "        <td>4</td>\n",
              "    </tr>\n",
              "</table>"
            ]
          },
          "metadata": {},
          "execution_count": 206
        }
      ],
      "source": [
        "%%sql\n",
        "SELECT COUNT(*) AS married_women_over_50\n",
        "FROM Titanic\n",
        "WHERE gender = 'F'\n",
        "  AND first LIKE 'Mrs.%'\n",
        "  AND age > 50\n",
        "  AND embarked = 'Cherbourg';\n"
      ]
    },
    {
      "cell_type": "markdown",
      "metadata": {
        "id": "wxehxtLVMZip"
      },
      "source": [
        "*3) Write three queries to find: (i) the total number of passengers; (ii) the number of passengers under 18; (iii) the number of passengers 18 or older. Notice that the second and third numbers don't add up to the first.*"
      ]
    },
    {
      "cell_type": "code",
      "execution_count": 207,
      "metadata": {
        "id": "0VeeF_wKMZiq",
        "colab": {
          "base_uri": "https://localhost:8080/",
          "height": 96
        },
        "outputId": "61e45691-3543-4d3d-cc25-46de03d64b1c"
      },
      "outputs": [
        {
          "output_type": "stream",
          "name": "stdout",
          "text": [
            " * sqlite://\n",
            "Done.\n"
          ]
        },
        {
          "output_type": "execute_result",
          "data": {
            "text/plain": [
              "[(891,)]"
            ],
            "text/html": [
              "<table>\n",
              "    <tr>\n",
              "        <th>total_passengers</th>\n",
              "    </tr>\n",
              "    <tr>\n",
              "        <td>891</td>\n",
              "    </tr>\n",
              "</table>"
            ]
          },
          "metadata": {},
          "execution_count": 207
        }
      ],
      "source": [
        "%%sql\n",
        "SELECT COUNT(*) AS total_passengers\n",
        "FROM Titanic;\n"
      ]
    },
    {
      "cell_type": "code",
      "execution_count": 208,
      "metadata": {
        "id": "oConUogHMZiq",
        "colab": {
          "base_uri": "https://localhost:8080/",
          "height": 96
        },
        "outputId": "8d47cefc-da48-4db7-fc9e-6ce44b996dc1"
      },
      "outputs": [
        {
          "output_type": "stream",
          "name": "stdout",
          "text": [
            " * sqlite://\n",
            "Done.\n"
          ]
        },
        {
          "output_type": "execute_result",
          "data": {
            "text/plain": [
              "[(113,)]"
            ],
            "text/html": [
              "<table>\n",
              "    <tr>\n",
              "        <th>passengers_under_18</th>\n",
              "    </tr>\n",
              "    <tr>\n",
              "        <td>113</td>\n",
              "    </tr>\n",
              "</table>"
            ]
          },
          "metadata": {},
          "execution_count": 208
        }
      ],
      "source": [
        "%%sql\n",
        "SELECT COUNT(*) AS passengers_under_18\n",
        "FROM Titanic\n",
        "WHERE age < 18;\n"
      ]
    },
    {
      "cell_type": "code",
      "execution_count": 209,
      "metadata": {
        "id": "Rx-IaNxDMZiq",
        "colab": {
          "base_uri": "https://localhost:8080/",
          "height": 96
        },
        "outputId": "398d4204-cc29-4b78-ec10-195c0db9572f"
      },
      "outputs": [
        {
          "output_type": "stream",
          "name": "stdout",
          "text": [
            " * sqlite://\n",
            "Done.\n"
          ]
        },
        {
          "output_type": "execute_result",
          "data": {
            "text/plain": [
              "[(601,)]"
            ],
            "text/html": [
              "<table>\n",
              "    <tr>\n",
              "        <th>passengers_18_or_older</th>\n",
              "    </tr>\n",
              "    <tr>\n",
              "        <td>601</td>\n",
              "    </tr>\n",
              "</table>"
            ]
          },
          "metadata": {},
          "execution_count": 209
        }
      ],
      "source": [
        "%%sql\n",
        "SELECT COUNT(*) AS passengers_18_or_older\n",
        "FROM Titanic\n",
        "WHERE age >= 18;\n"
      ]
    },
    {
      "cell_type": "markdown",
      "metadata": {
        "id": "lxReQfAlMZiq"
      },
      "source": [
        "*Missing values in SQL tables are given a special value called 'null', and conditions 'A is null' and 'A is not null' can be use in Where clauses to check whether attribute A has the 'null' value. Write a query to find the number of passengers whose age is missing -- now your passenger numbers should add up. Modify the query to also return the average fare paid by those passengers.*"
      ]
    },
    {
      "cell_type": "code",
      "execution_count": 210,
      "metadata": {
        "id": "2H5T3iQ-MZiq",
        "colab": {
          "base_uri": "https://localhost:8080/",
          "height": 96
        },
        "outputId": "10b228f3-d24e-4882-e1e4-a6a5d169bef5"
      },
      "outputs": [
        {
          "output_type": "stream",
          "name": "stdout",
          "text": [
            " * sqlite://\n",
            "Done.\n"
          ]
        },
        {
          "output_type": "execute_result",
          "data": {
            "text/plain": [
              "[(177, 22.159491525423757)]"
            ],
            "text/html": [
              "<table>\n",
              "    <tr>\n",
              "        <th>passengers_with_missing_age</th>\n",
              "        <th>average_fare</th>\n",
              "    </tr>\n",
              "    <tr>\n",
              "        <td>177</td>\n",
              "        <td>22.159491525423757</td>\n",
              "    </tr>\n",
              "</table>"
            ]
          },
          "metadata": {},
          "execution_count": 210
        }
      ],
      "source": [
        "%%sql\n",
        "SELECT COUNT(*) AS passengers_with_missing_age, AVG(fare) AS average_fare\n",
        "FROM Titanic\n",
        "WHERE age IS NULL;\n"
      ]
    },
    {
      "cell_type": "markdown",
      "metadata": {
        "id": "-BnWcsagMZiq"
      },
      "source": [
        "*4) Find all passengers whose age is not an integer; return last name, first name, and age, from youngest to oldest. Note: Consider using the round() function*"
      ]
    },
    {
      "cell_type": "code",
      "execution_count": 211,
      "metadata": {
        "id": "HpGgIdOaMZiq",
        "colab": {
          "base_uri": "https://localhost:8080/",
          "height": 609
        },
        "outputId": "58225501-ddc1-412f-fb77-69a1dc021c2f"
      },
      "outputs": [
        {
          "output_type": "stream",
          "name": "stdout",
          "text": [
            " * sqlite://\n",
            "Done.\n"
          ]
        },
        {
          "output_type": "execute_result",
          "data": {
            "text/plain": [
              "[('Thomas', 'Master Assad Alexander', 0.42),\n",
              " ('Hamalainen', 'Master Viljo', 0.67),\n",
              " ('Baclini', 'Miss Helene Barbara', 0.75),\n",
              " ('Baclini', 'Miss Eugenie', 0.75),\n",
              " ('Caldwell', 'Master Alden Gates', 0.83),\n",
              " ('Richards', 'Master George Sibley', 0.83),\n",
              " ('Allison', 'Master Hudson Trevor', 0.92),\n",
              " ('Zabour', 'Miss Hileni', 14.5),\n",
              " ('Lovell', ' Mr. John Hall (\"Henry\")', 20.5),\n",
              " ('Hanna', 'Mr. Mansour', 23.5),\n",
              " ('Sawyer', 'Mr. Frederick Charles', 24.5),\n",
              " ('Novel', 'Mr. Mansouer', 28.5),\n",
              " ('Williams', 'Mr. Leslie', 28.5),\n",
              " ('Mangan', 'Miss Mary', 30.5),\n",
              " ('Tomlin', 'Mr. Ernest Portage', 30.5),\n",
              " ('Nasser', 'Mr. Nicholas', 32.5),\n",
              " ('Webber', 'Miss Susan', 32.5),\n",
              " ('Lemberopolous', 'Mr. Peter L', 34.5),\n",
              " ('Navratil', ' Mr. Michel (\"Louis M Hoffman\")', 36.5),\n",
              " ('Farrell', 'Mr. James', 40.5),\n",
              " ('van Billiard', 'Mr. Austin Blyler', 40.5),\n",
              " ('Partner', 'Mr. Austen', 45.5),\n",
              " ('Youseff', 'Mr. Gerious', 45.5),\n",
              " ('Meo', 'Mr. Alfonzo', 55.5),\n",
              " ('Connors', 'Mr. Patrick', 70.5)]"
            ],
            "text/html": [
              "<table>\n",
              "    <tr>\n",
              "        <th>last</th>\n",
              "        <th>first</th>\n",
              "        <th>age</th>\n",
              "    </tr>\n",
              "    <tr>\n",
              "        <td>Thomas</td>\n",
              "        <td>Master Assad Alexander</td>\n",
              "        <td>0.42</td>\n",
              "    </tr>\n",
              "    <tr>\n",
              "        <td>Hamalainen</td>\n",
              "        <td>Master Viljo</td>\n",
              "        <td>0.67</td>\n",
              "    </tr>\n",
              "    <tr>\n",
              "        <td>Baclini</td>\n",
              "        <td>Miss Helene Barbara</td>\n",
              "        <td>0.75</td>\n",
              "    </tr>\n",
              "    <tr>\n",
              "        <td>Baclini</td>\n",
              "        <td>Miss Eugenie</td>\n",
              "        <td>0.75</td>\n",
              "    </tr>\n",
              "    <tr>\n",
              "        <td>Caldwell</td>\n",
              "        <td>Master Alden Gates</td>\n",
              "        <td>0.83</td>\n",
              "    </tr>\n",
              "    <tr>\n",
              "        <td>Richards</td>\n",
              "        <td>Master George Sibley</td>\n",
              "        <td>0.83</td>\n",
              "    </tr>\n",
              "    <tr>\n",
              "        <td>Allison</td>\n",
              "        <td>Master Hudson Trevor</td>\n",
              "        <td>0.92</td>\n",
              "    </tr>\n",
              "    <tr>\n",
              "        <td>Zabour</td>\n",
              "        <td>Miss Hileni</td>\n",
              "        <td>14.5</td>\n",
              "    </tr>\n",
              "    <tr>\n",
              "        <td>Lovell</td>\n",
              "        <td> Mr. John Hall (&quot;Henry&quot;)</td>\n",
              "        <td>20.5</td>\n",
              "    </tr>\n",
              "    <tr>\n",
              "        <td>Hanna</td>\n",
              "        <td>Mr. Mansour</td>\n",
              "        <td>23.5</td>\n",
              "    </tr>\n",
              "    <tr>\n",
              "        <td>Sawyer</td>\n",
              "        <td>Mr. Frederick Charles</td>\n",
              "        <td>24.5</td>\n",
              "    </tr>\n",
              "    <tr>\n",
              "        <td>Novel</td>\n",
              "        <td>Mr. Mansouer</td>\n",
              "        <td>28.5</td>\n",
              "    </tr>\n",
              "    <tr>\n",
              "        <td>Williams</td>\n",
              "        <td>Mr. Leslie</td>\n",
              "        <td>28.5</td>\n",
              "    </tr>\n",
              "    <tr>\n",
              "        <td>Mangan</td>\n",
              "        <td>Miss Mary</td>\n",
              "        <td>30.5</td>\n",
              "    </tr>\n",
              "    <tr>\n",
              "        <td>Tomlin</td>\n",
              "        <td>Mr. Ernest Portage</td>\n",
              "        <td>30.5</td>\n",
              "    </tr>\n",
              "    <tr>\n",
              "        <td>Nasser</td>\n",
              "        <td>Mr. Nicholas</td>\n",
              "        <td>32.5</td>\n",
              "    </tr>\n",
              "    <tr>\n",
              "        <td>Webber</td>\n",
              "        <td>Miss Susan</td>\n",
              "        <td>32.5</td>\n",
              "    </tr>\n",
              "    <tr>\n",
              "        <td>Lemberopolous</td>\n",
              "        <td>Mr. Peter L</td>\n",
              "        <td>34.5</td>\n",
              "    </tr>\n",
              "    <tr>\n",
              "        <td>Navratil</td>\n",
              "        <td> Mr. Michel (&quot;Louis M Hoffman&quot;)</td>\n",
              "        <td>36.5</td>\n",
              "    </tr>\n",
              "    <tr>\n",
              "        <td>Farrell</td>\n",
              "        <td>Mr. James</td>\n",
              "        <td>40.5</td>\n",
              "    </tr>\n",
              "    <tr>\n",
              "        <td>van Billiard</td>\n",
              "        <td>Mr. Austin Blyler</td>\n",
              "        <td>40.5</td>\n",
              "    </tr>\n",
              "    <tr>\n",
              "        <td>Partner</td>\n",
              "        <td>Mr. Austen</td>\n",
              "        <td>45.5</td>\n",
              "    </tr>\n",
              "    <tr>\n",
              "        <td>Youseff</td>\n",
              "        <td>Mr. Gerious</td>\n",
              "        <td>45.5</td>\n",
              "    </tr>\n",
              "    <tr>\n",
              "        <td>Meo</td>\n",
              "        <td>Mr. Alfonzo</td>\n",
              "        <td>55.5</td>\n",
              "    </tr>\n",
              "    <tr>\n",
              "        <td>Connors</td>\n",
              "        <td>Mr. Patrick</td>\n",
              "        <td>70.5</td>\n",
              "    </tr>\n",
              "</table>"
            ]
          },
          "metadata": {},
          "execution_count": 211
        }
      ],
      "source": [
        "%%sql\n",
        "SELECT last, first, age\n",
        "FROM Titanic\n",
        "WHERE age IS NOT NULL AND age != round(age)\n",
        "ORDER BY age ASC;\n"
      ]
    },
    {
      "cell_type": "markdown",
      "metadata": {
        "id": "jJvTk0b5MZiq"
      },
      "source": [
        "*5) What is the most common last name among passengers, and how many passengers have that last name?*"
      ]
    },
    {
      "cell_type": "code",
      "execution_count": 212,
      "metadata": {
        "id": "jBWPQ87sMZiq",
        "colab": {
          "base_uri": "https://localhost:8080/",
          "height": 96
        },
        "outputId": "4fa9c189-e1b4-4f2b-c842-2f778b9ea409"
      },
      "outputs": [
        {
          "output_type": "stream",
          "name": "stdout",
          "text": [
            " * sqlite://\n",
            "Done.\n"
          ]
        },
        {
          "output_type": "execute_result",
          "data": {
            "text/plain": [
              "[('Andersson', 9)]"
            ],
            "text/html": [
              "<table>\n",
              "    <tr>\n",
              "        <th>last</th>\n",
              "        <th>num_passengers</th>\n",
              "    </tr>\n",
              "    <tr>\n",
              "        <td>Andersson</td>\n",
              "        <td>9</td>\n",
              "    </tr>\n",
              "</table>"
            ]
          },
          "metadata": {},
          "execution_count": 212
        }
      ],
      "source": [
        "%%sql\n",
        "SELECT last, COUNT(*) AS num_passengers\n",
        "FROM Titanic\n",
        "GROUP BY last\n",
        "ORDER BY num_passengers DESC\n",
        "LIMIT 1;\n"
      ]
    },
    {
      "cell_type": "markdown",
      "metadata": {
        "id": "fPE8VmwIMZir"
      },
      "source": [
        "*6) What is the average fare paid by passengers in the three classes, and the average age of passengers in the three classes?*"
      ]
    },
    {
      "cell_type": "code",
      "execution_count": 213,
      "metadata": {
        "id": "kg0KDbLjMZir",
        "colab": {
          "base_uri": "https://localhost:8080/",
          "height": 139
        },
        "outputId": "aa3b7cd5-799b-4242-c246-e2aa5307406c"
      },
      "outputs": [
        {
          "output_type": "stream",
          "name": "stdout",
          "text": [
            " * sqlite://\n",
            "Done.\n"
          ]
        },
        {
          "output_type": "execute_result",
          "data": {
            "text/plain": [
              "[(1, 84.15499999999999, 38.233440860215055),\n",
              " (2, 20.66222826086957, 29.87763005780347),\n",
              " (3, 13.676863543788176, 25.14061971830986)]"
            ],
            "text/html": [
              "<table>\n",
              "    <tr>\n",
              "        <th>class</th>\n",
              "        <th>avg_fare</th>\n",
              "        <th>avg_age</th>\n",
              "    </tr>\n",
              "    <tr>\n",
              "        <td>1</td>\n",
              "        <td>84.15499999999999</td>\n",
              "        <td>38.233440860215055</td>\n",
              "    </tr>\n",
              "    <tr>\n",
              "        <td>2</td>\n",
              "        <td>20.66222826086957</td>\n",
              "        <td>29.87763005780347</td>\n",
              "    </tr>\n",
              "    <tr>\n",
              "        <td>3</td>\n",
              "        <td>13.676863543788176</td>\n",
              "        <td>25.14061971830986</td>\n",
              "    </tr>\n",
              "</table>"
            ]
          },
          "metadata": {},
          "execution_count": 213
        }
      ],
      "source": [
        "%%sql\n",
        "SELECT class, AVG(fare) AS avg_fare, AVG(age) AS avg_age\n",
        "FROM Titanic\n",
        "GROUP BY class;\n"
      ]
    },
    {
      "cell_type": "markdown",
      "metadata": {
        "id": "IlUSRLQXMZir"
      },
      "source": [
        "*7) For male survivors, female survivors, male non-survivors, and female non-survivors, how many passengers are in each of those four categories and what is their average fare? Return your results from lowest to highest\n",
        "average fare.*"
      ]
    },
    {
      "cell_type": "code",
      "source": [
        "%%sql\n",
        "SELECT\n",
        "    gender,\n",
        "    survived,\n",
        "    COUNT(*) AS passenger_count,\n",
        "    AVG(fare) AS average_fare\n",
        "FROM Titanic\n",
        "GROUP BY gender, survived\n",
        "ORDER BY average_fare;\n"
      ],
      "metadata": {
        "colab": {
          "base_uri": "https://localhost:8080/",
          "height": 161
        },
        "id": "YI0K0F_Hnudx",
        "outputId": "d19a4728-cd9d-4cfd-acaf-fa3144451f2e"
      },
      "execution_count": 214,
      "outputs": [
        {
          "output_type": "stream",
          "name": "stdout",
          "text": [
            " * sqlite://\n",
            "Done.\n"
          ]
        },
        {
          "output_type": "execute_result",
          "data": {
            "text/plain": [
              "[('M', 'no', 468, 21.961923076923),\n",
              " ('F', 'no', 81, 23.02555555555556),\n",
              " ('M', 'yes', 109, 40.82229357798166),\n",
              " ('F', 'yes', 233, 51.93901287553647)]"
            ],
            "text/html": [
              "<table>\n",
              "    <tr>\n",
              "        <th>gender</th>\n",
              "        <th>survived</th>\n",
              "        <th>passenger_count</th>\n",
              "        <th>average_fare</th>\n",
              "    </tr>\n",
              "    <tr>\n",
              "        <td>M</td>\n",
              "        <td>no</td>\n",
              "        <td>468</td>\n",
              "        <td>21.961923076923</td>\n",
              "    </tr>\n",
              "    <tr>\n",
              "        <td>F</td>\n",
              "        <td>no</td>\n",
              "        <td>81</td>\n",
              "        <td>23.02555555555556</td>\n",
              "    </tr>\n",
              "    <tr>\n",
              "        <td>M</td>\n",
              "        <td>yes</td>\n",
              "        <td>109</td>\n",
              "        <td>40.82229357798166</td>\n",
              "    </tr>\n",
              "    <tr>\n",
              "        <td>F</td>\n",
              "        <td>yes</td>\n",
              "        <td>233</td>\n",
              "        <td>51.93901287553647</td>\n",
              "    </tr>\n",
              "</table>"
            ]
          },
          "metadata": {},
          "execution_count": 214
        }
      ]
    }
  ],
  "metadata": {
    "kernelspec": {
      "display_name": "Python 3",
      "language": "python",
      "name": "python3"
    },
    "language_info": {
      "codemirror_mode": {
        "name": "ipython",
        "version": 3
      },
      "file_extension": ".py",
      "mimetype": "text/x-python",
      "name": "python",
      "nbconvert_exporter": "python",
      "pygments_lexer": "ipython3",
      "version": "3.7.6"
    },
    "colab": {
      "provenance": [],
      "include_colab_link": true
    }
  },
  "nbformat": 4,
  "nbformat_minor": 0
}